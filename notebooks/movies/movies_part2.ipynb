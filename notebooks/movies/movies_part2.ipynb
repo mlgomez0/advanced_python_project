{
 "cells": [
  {
   "cell_type": "markdown",
   "metadata": {
    "id": "19HttZxEBXyu"
   },
   "source": [
    "# Project Configuration"
   ]
  },
  {
   "cell_type": "markdown",
   "metadata": {},
   "source": [
    "## Datasets and Reports Downdload\n",
    "\n",
    "Please, download the datasets, pandas profiling report from this link: TBD"
   ]
  },
  {
   "cell_type": "markdown",
   "metadata": {
    "id": "b2pyciOOBXyw"
   },
   "source": [
    "## Libraries Installation:\n",
    "\n",
    "Please, install the libraries below in your development environment.\n",
    "\n",
    "- !pip install seaborn\n",
    "- !pip install numpy\n",
    "- !pip install pandas\n",
    "- !pip install matplotlib\n",
    "- !pip install requests\n",
    "- !pip install nltk\n",
    "- !pip install wordcloud\n",
    "- !pip install -U scikit-learn\n",
    "- !pip install ydata-profiling\n",
    "- !pip install --upgrade gensim"
   ]
  },
  {
   "cell_type": "markdown",
   "metadata": {
    "id": "Q82hIjxyBXyw"
   },
   "source": [
    "## Setting variables and libraries"
   ]
  },
  {
   "cell_type": "markdown",
   "metadata": {
    "id": "TVcHEGcXBXyw"
   },
   "source": [
    "- collect_data: True means to conduct an API call to get the data, and False means to use the already collected data in CSV files. If collect_data equals True, you must get an API key from TMDB using the link provided and set the API_TMDB_TOKEN env var using that key.\n",
    "- create_pandas_profiling: True means create the profile, which takes some time. False means you will inspect the one already generated in Report.html.\n",
    "- run_svm: True meams run the model which takes time, false means don't run the model and user version stored in pickle format"
   ]
  },
  {
   "cell_type": "code",
   "execution_count": 194,
   "metadata": {
    "id": "F1FP_r4SBXyx"
   },
   "outputs": [],
   "source": [
    "# configuration variables\n",
    "collect_data = False\n",
    "create_pandas_profiling = False\n",
    "run_svm = False"
   ]
  },
  {
   "cell_type": "code",
   "execution_count": 176,
   "metadata": {
    "id": "gz8wapLmBXyx"
   },
   "outputs": [],
   "source": [
    "# Import libraries\n",
    "from sklearn.compose import ColumnTransformer\n",
    "from sklearn.pipeline import Pipeline\n",
    "from sklearn.preprocessing import MinMaxScaler, OneHotEncoder\n",
    "from sklearn.feature_extraction.text import TfidfVectorizer\n",
    "import seaborn as sns\n",
    "import numpy as np\n",
    "import ast\n",
    "import csv\n",
    "import os\n",
    "import pandas as pd\n",
    "import requests\n",
    "import warnings\n",
    "import matplotlib.pyplot as plt\n",
    "from ydata_profiling import ProfileReport\n",
    "import gensim\n",
    "import nltk\n",
    "import xgboost as xgb\n",
    "from nltk.corpus import stopwords\n",
    "from nltk.tokenize import word_tokenize\n",
    "from gensim import models\n",
    "from wordcloud import WordCloud\n",
    "from sklearn.linear_model import LinearRegression\n",
    "from sklearn.model_selection import train_test_split\n",
    "from gensim.models import Word2Vec\n",
    "from sklearn.svm import SVC\n",
    "from sklearn.metrics import accuracy_score, precision_score, recall_score, f1_score, accuracy_score, confusion_matrix, make_scorer, average_precision_score\n",
    "from sklearn.ensemble import AdaBoostClassifier\n",
    "from sklearn.tree import DecisionTreeClassifier\n",
    "from sklearn.ensemble import RandomForestClassifier\n",
    "from sklearn.neighbors import KNeighborsClassifier\n",
    "from sklearn.naive_bayes import GaussianNB\n",
    "from sklearn.model_selection import RandomizedSearchCV\n",
    "from sklearn.feature_selection import RFE\n",
    "import string\n",
    "import re\n",
    "import heapq\n",
    "import pickle\n",
    "\n",
    "plt.style.use('seaborn-v0_8')\n",
    "warnings.filterwarnings('ignore')"
   ]
  },
  {
   "cell_type": "markdown",
   "metadata": {
    "id": "yMxmx6bsBXyy"
   },
   "source": [
    "# Step 1"
   ]
  },
  {
   "cell_type": "markdown",
   "metadata": {
    "id": "XZSAwm6dBXyy"
   },
   "source": [
    "## 1.1 Data Collection\n",
    "\n",
    "The data used in this report was pulled from TMDB (https://www.themoviedb.org) using their public API. To be able to use the API, we created a user and sent a GET request to the authentications endpoint (https://api.themoviedb.org/3/authentication). By doing this, we were able to confirm proper client setup. Furthermore, we conducted GET requests to the endpoint (https://api.themoviedb.org/3/discover/movie) to get as many records as possible. We stored those records in CSV format.\n",
    "\n",
    "The data collected has the following features:\n",
    "\n",
    "GenreIds: This is a list of different genres applicable to the movie. The map between genre id and genre is below:\n",
    "\n",
    "- Action          28\n",
    "- Adventure       12\n",
    "- Animation       16\n",
    "- Comedy          35\n",
    "- Crime           80\n",
    "- Documentary     99\n",
    "- Drama           18\n",
    "- Family          10751\n",
    "- Fantasy         14\n",
    "- History         36\n",
    "- Horror          27\n",
    "- Music           10402\n",
    "- Mystery         9648\n",
    "- Romance         10749\n",
    "- Science Fiction 878\n",
    "- TV Movie        10770\n",
    "- Thriller        53\n",
    "- War             10752\n",
    "- Western         37\n",
    "\n",
    "Id: this is the unique identifier for each movie\n",
    "\n",
    "OriginalLanguage: The movie's original language\n",
    "\n",
    "OriginalTitle: The movie's title\n",
    "\n",
    "Overview: short description of the movie content\n",
    "\n",
    "Popularity: it is a metric used to measure how popular the movie is, it takes into account the following aspects\n",
    "\n",
    "Number of votes for the day\n",
    "\n",
    "Number of views for the day\n",
    "\n",
    "Number of users who marked it as a \"favorite\" for the day\n",
    "\n",
    "Number of users who added it to their \"watchlist\" for the day\n",
    "\n",
    "Release date\n",
    "\n",
    "Number of total votes\n",
    "\n",
    "Previous days score\n",
    "\n",
    "ReleaseDate: movie data of release\n",
    "Title: title of the movie\n",
    "VoteAverage: It's the average of all of the TMDb user ratings\n",
    "VoteCount: number of people who voted for the movie"
   ]
  },
  {
   "cell_type": "code",
   "execution_count": 195,
   "metadata": {
    "id": "6nUjoa-KBXyy",
    "outputId": "159b450a-fa7f-4300-f1a5-95434088c8d1"
   },
   "outputs": [],
   "source": [
    "# Checking API Authentication\n",
    "\n",
    "if collect_data:\n",
    "    api_token = os.environ['API_TMDB_TOKEN']\n",
    "\n",
    "    url = \"https://api.themoviedb.org/3/authentication\"\n",
    "\n",
    "    headers = {\n",
    "        \"accept\": \"application/json\",\n",
    "        \"Authorization\": f\"Bearer {api_token}\"\n",
    "    }\n",
    "\n",
    "    response = requests.get(url, headers=headers)\n",
    "\n",
    "    print(response.text)"
   ]
  },
  {
   "cell_type": "code",
   "execution_count": 4,
   "metadata": {
    "id": "8iJlyw-GBXyz"
   },
   "outputs": [],
   "source": [
    "# Funtions to handle the data retrieval\n",
    "\n",
    "def create_dict(data):\n",
    "    '''This funtion creates a list of dictionaries from the request response'''\n",
    "    result = {}\n",
    "    movies = []\n",
    "    for movie in data:\n",
    "        result['GenreIds'] = movie.get('genre_ids', None)\n",
    "        result['Id'] = movie.get('id', None)\n",
    "        result['OriginalLanguage'] = movie.get('original_language', None)\n",
    "        result['OriginalTitle'] = movie.get('original_title', None)\n",
    "        result['Overview'] = movie.get('overview', None)\n",
    "        result['Popularity'] = movie.get('popularity', None)\n",
    "        result['ReleaseDate'] = movie.get('release_date', None)\n",
    "        result['Title'] = movie.get('title', None)\n",
    "        result['VoteAverage'] = movie.get('vote_average', None)\n",
    "        result['VoteCount'] = movie.get('vote_count', None)\n",
    "        movies.append(result)\n",
    "        result = {}\n",
    "    return movies\n",
    "\n",
    "def store_in_CSV(file_name, posts, fields):\n",
    "    '''This function stores a list of dictionaries in CSV format'''\n",
    "    with open(file_name, 'a', newline='') as csvfile:\n",
    "        writer = csv.DictWriter(csvfile, fieldnames=fields)\n",
    "        if csvfile.tell() == 0:\n",
    "            writer.writeheader()\n",
    "        writer.writerows(posts)\n",
    "\n",
    "def retrive_movies_data(headers):\n",
    "    '''This function retrieves data form the /discover endpoint and process it into a CSV file'''\n",
    "    page = 1\n",
    "    url = \"https://api.themoviedb.org/3/discover/movie?include_adult=false&include_video=false&language=en-US&sort_by=popularity.desc\"\n",
    "    fields = ['GenreIds', 'Id', 'OriginalLanguage', 'OriginalTitle', 'Overview', 'Popularity', 'ReleaseDate', 'Title', 'VoteAverage', 'VoteCount']\n",
    "\n",
    "    while True:\n",
    "        final_url = url + f\"&page={page}\"\n",
    "        res = requests.get(final_url, headers=headers)\n",
    "        json_res = res.json()\n",
    "        data = json_res.get(\"results\", [])\n",
    "        if len(data) == 0:\n",
    "            break\n",
    "        dic_data = create_dict(data)\n",
    "        page += 1\n",
    "        store_in_CSV('movies.csv',dic_data, fields)\n",
    "\n",
    "def create_movie_dict(data):\n",
    "    '''This funtion creates a list of dictionaries from the request response'''\n",
    "    result = {}\n",
    "    movies = []\n",
    "    for movie in data:\n",
    "        result['Id'] = movie.get('id', None)\n",
    "        result['Budget'] = movie.get('budget', None)\n",
    "        result['ProductionCompanies'] = movie.get('production_companies', None)\n",
    "        result['ProductionCountries'] = movie.get('production_countries', None)\n",
    "        result['SpokenLanguages'] = movie.get('spoken_languages', None)\n",
    "        result['TagLine'] = movie.get('tagline', None)\n",
    "        result['RunTime'] = movie.get('runtime', None)\n",
    "        result['Revenue'] = movie.get('revenue', None)\n",
    "        movies.append(result)\n",
    "        result = {}\n",
    "    return movies\n",
    "\n",
    "\n",
    "def get_data_by_id(headers, ids):\n",
    "    '''This function retrieves data form the /movie/id endpoint and process it into a CSV file'''\n",
    "    url = 'https://api.themoviedb.org/3/movie/'\n",
    "    fields = ['Id', 'Budget', 'ProductionCompanies', 'ProductionCountries', 'SpokenLanguages', 'TagLine', 'RunTime', 'Revenue']\n",
    "    all_movies = []\n",
    "\n",
    "    for id in ids:\n",
    "        final_url = url + f\"{id}\"\n",
    "        res = requests.get(final_url, headers=headers)\n",
    "        json_res = res.json()\n",
    "        all_movies.append(json_res)\n",
    "    dic_data = create_movie_dict(all_movies)\n",
    "    store_in_CSV('movie_details.csv',dic_data, fields)"
   ]
  },
  {
   "cell_type": "code",
   "execution_count": 5,
   "metadata": {
    "id": "pmdP--HGBXyz"
   },
   "outputs": [],
   "source": [
    "# running this function creates a movies.csv in the same folder\n",
    "if collect_data:\n",
    "    retrive_movies_data(headers)"
   ]
  },
  {
   "cell_type": "code",
   "execution_count": 6,
   "metadata": {
    "id": "RJpMjXT0BXyz",
    "outputId": "f9a3d532-0722-4e0f-ee4b-bcf25f5a8b33"
   },
   "outputs": [
    {
     "name": "stdout",
     "output_type": "stream",
     "text": [
      "(10000, 10)\n"
     ]
    },
    {
     "data": {
      "text/html": [
       "<div>\n",
       "<style scoped>\n",
       "    .dataframe tbody tr th:only-of-type {\n",
       "        vertical-align: middle;\n",
       "    }\n",
       "\n",
       "    .dataframe tbody tr th {\n",
       "        vertical-align: top;\n",
       "    }\n",
       "\n",
       "    .dataframe thead th {\n",
       "        text-align: right;\n",
       "    }\n",
       "</style>\n",
       "<table border=\"1\" class=\"dataframe\">\n",
       "  <thead>\n",
       "    <tr style=\"text-align: right;\">\n",
       "      <th></th>\n",
       "      <th>GenreIds</th>\n",
       "      <th>Id</th>\n",
       "      <th>OriginalLanguage</th>\n",
       "      <th>OriginalTitle</th>\n",
       "      <th>Overview</th>\n",
       "      <th>Popularity</th>\n",
       "      <th>ReleaseDate</th>\n",
       "      <th>Title</th>\n",
       "      <th>VoteAverage</th>\n",
       "      <th>VoteCount</th>\n",
       "    </tr>\n",
       "  </thead>\n",
       "  <tbody>\n",
       "    <tr>\n",
       "      <th>0</th>\n",
       "      <td>[28, 12, 53]</td>\n",
       "      <td>299054</td>\n",
       "      <td>en</td>\n",
       "      <td>Expend4bles</td>\n",
       "      <td>Armed with every weapon they can get their han...</td>\n",
       "      <td>3741.062</td>\n",
       "      <td>2023-09-15</td>\n",
       "      <td>Expend4bles</td>\n",
       "      <td>6.4</td>\n",
       "      <td>364</td>\n",
       "    </tr>\n",
       "    <tr>\n",
       "      <th>1</th>\n",
       "      <td>[28, 53, 80]</td>\n",
       "      <td>926393</td>\n",
       "      <td>en</td>\n",
       "      <td>The Equalizer 3</td>\n",
       "      <td>Robert McCall finds himself at home in Souther...</td>\n",
       "      <td>2471.515</td>\n",
       "      <td>2023-08-30</td>\n",
       "      <td>The Equalizer 3</td>\n",
       "      <td>7.3</td>\n",
       "      <td>1027</td>\n",
       "    </tr>\n",
       "    <tr>\n",
       "      <th>2</th>\n",
       "      <td>[16, 28, 14]</td>\n",
       "      <td>1034062</td>\n",
       "      <td>en</td>\n",
       "      <td>Mortal Kombat Legends: Cage Match</td>\n",
       "      <td>In 1980s Hollywood, action star Johnny Cage is...</td>\n",
       "      <td>2223.430</td>\n",
       "      <td>2023-10-17</td>\n",
       "      <td>Mortal Kombat Legends: Cage Match</td>\n",
       "      <td>7.8</td>\n",
       "      <td>27</td>\n",
       "    </tr>\n",
       "    <tr>\n",
       "      <th>3</th>\n",
       "      <td>[28, 53]</td>\n",
       "      <td>575264</td>\n",
       "      <td>en</td>\n",
       "      <td>Mission: Impossible - Dead Reckoning Part One</td>\n",
       "      <td>Ethan Hunt and his IMF team embark on their mo...</td>\n",
       "      <td>2032.927</td>\n",
       "      <td>2023-07-08</td>\n",
       "      <td>Mission: Impossible - Dead Reckoning Part One</td>\n",
       "      <td>7.7</td>\n",
       "      <td>1799</td>\n",
       "    </tr>\n",
       "    <tr>\n",
       "      <th>4</th>\n",
       "      <td>[53, 18]</td>\n",
       "      <td>1151534</td>\n",
       "      <td>es</td>\n",
       "      <td>Nowhere</td>\n",
       "      <td>A young pregnant woman named Mia escapes from ...</td>\n",
       "      <td>1627.678</td>\n",
       "      <td>2023-09-29</td>\n",
       "      <td>Nowhere</td>\n",
       "      <td>7.6</td>\n",
       "      <td>686</td>\n",
       "    </tr>\n",
       "  </tbody>\n",
       "</table>\n",
       "</div>"
      ],
      "text/plain": [
       "       GenreIds       Id OriginalLanguage  \\\n",
       "0  [28, 12, 53]   299054               en   \n",
       "1  [28, 53, 80]   926393               en   \n",
       "2  [16, 28, 14]  1034062               en   \n",
       "3      [28, 53]   575264               en   \n",
       "4      [53, 18]  1151534               es   \n",
       "\n",
       "                                   OriginalTitle  \\\n",
       "0                                    Expend4bles   \n",
       "1                                The Equalizer 3   \n",
       "2              Mortal Kombat Legends: Cage Match   \n",
       "3  Mission: Impossible - Dead Reckoning Part One   \n",
       "4                                        Nowhere   \n",
       "\n",
       "                                            Overview  Popularity ReleaseDate  \\\n",
       "0  Armed with every weapon they can get their han...    3741.062  2023-09-15   \n",
       "1  Robert McCall finds himself at home in Souther...    2471.515  2023-08-30   \n",
       "2  In 1980s Hollywood, action star Johnny Cage is...    2223.430  2023-10-17   \n",
       "3  Ethan Hunt and his IMF team embark on their mo...    2032.927  2023-07-08   \n",
       "4  A young pregnant woman named Mia escapes from ...    1627.678  2023-09-29   \n",
       "\n",
       "                                           Title  VoteAverage  VoteCount  \n",
       "0                                    Expend4bles          6.4        364  \n",
       "1                                The Equalizer 3          7.3       1027  \n",
       "2              Mortal Kombat Legends: Cage Match          7.8         27  \n",
       "3  Mission: Impossible - Dead Reckoning Part One          7.7       1799  \n",
       "4                                        Nowhere          7.6        686  "
      ]
     },
     "execution_count": 6,
     "metadata": {},
     "output_type": "execute_result"
    }
   ],
   "source": [
    "# Initial Dataset review\n",
    "df_init = pd.read_csv('movies.csv')\n",
    "print(df_init.shape)\n",
    "df_init.head()"
   ]
  },
  {
   "cell_type": "code",
   "execution_count": 7,
   "metadata": {
    "id": "ksa4LJJdBXyz"
   },
   "outputs": [],
   "source": [
    "# getting second dataset with movie details\n",
    "if collect_data:\n",
    "    get_data_by_id(headers, ids)"
   ]
  },
  {
   "cell_type": "code",
   "execution_count": 8,
   "metadata": {
    "id": "qAfHz_N4BXy0",
    "outputId": "1af21b4e-77b3-4aca-82d3-0b337198b63d"
   },
   "outputs": [
    {
     "name": "stdout",
     "output_type": "stream",
     "text": [
      "(10000, 8)\n"
     ]
    },
    {
     "data": {
      "text/html": [
       "<div>\n",
       "<style scoped>\n",
       "    .dataframe tbody tr th:only-of-type {\n",
       "        vertical-align: middle;\n",
       "    }\n",
       "\n",
       "    .dataframe tbody tr th {\n",
       "        vertical-align: top;\n",
       "    }\n",
       "\n",
       "    .dataframe thead th {\n",
       "        text-align: right;\n",
       "    }\n",
       "</style>\n",
       "<table border=\"1\" class=\"dataframe\">\n",
       "  <thead>\n",
       "    <tr style=\"text-align: right;\">\n",
       "      <th></th>\n",
       "      <th>Id</th>\n",
       "      <th>Budget</th>\n",
       "      <th>ProductionCompanies</th>\n",
       "      <th>ProductionCountries</th>\n",
       "      <th>SpokenLanguages</th>\n",
       "      <th>TagLine</th>\n",
       "      <th>RunTime</th>\n",
       "      <th>Revenue</th>\n",
       "    </tr>\n",
       "  </thead>\n",
       "  <tbody>\n",
       "    <tr>\n",
       "      <th>0</th>\n",
       "      <td>299054</td>\n",
       "      <td>100000000</td>\n",
       "      <td>[{'id': 1020, 'logo_path': '/kuUIHNwMec4dwOLgh...</td>\n",
       "      <td>[{'iso_3166_1': 'US', 'name': 'United States o...</td>\n",
       "      <td>[{'english_name': 'English', 'iso_639_1': 'en'...</td>\n",
       "      <td>They'll die when they're dead.</td>\n",
       "      <td>103</td>\n",
       "      <td>30000000</td>\n",
       "    </tr>\n",
       "    <tr>\n",
       "      <th>1</th>\n",
       "      <td>926393</td>\n",
       "      <td>70000000</td>\n",
       "      <td>[{'id': 1423, 'logo_path': '/1rbAwGQzrNvXDICD6...</td>\n",
       "      <td>[{'iso_3166_1': 'IT', 'name': 'Italy'}, {'iso_...</td>\n",
       "      <td>[{'english_name': 'English', 'iso_639_1': 'en'...</td>\n",
       "      <td>Justice knows no borders.</td>\n",
       "      <td>109</td>\n",
       "      <td>176933602</td>\n",
       "    </tr>\n",
       "    <tr>\n",
       "      <th>2</th>\n",
       "      <td>1034062</td>\n",
       "      <td>0</td>\n",
       "      <td>[{'id': 2785, 'logo_path': '/l5zW8jjmQOCx2dFmv...</td>\n",
       "      <td>[{'iso_3166_1': 'US', 'name': 'United States o...</td>\n",
       "      <td>[{'english_name': 'English', 'iso_639_1': 'en'...</td>\n",
       "      <td>Neon lights... Suits with shoulder pads... Jum...</td>\n",
       "      <td>80</td>\n",
       "      <td>0</td>\n",
       "    </tr>\n",
       "    <tr>\n",
       "      <th>3</th>\n",
       "      <td>575264</td>\n",
       "      <td>291000000</td>\n",
       "      <td>[{'id': 4, 'logo_path': '/gz66EfNoYPqHTYI4q9UE...</td>\n",
       "      <td>[{'iso_3166_1': 'US', 'name': 'United States o...</td>\n",
       "      <td>[{'english_name': 'French', 'iso_639_1': 'fr',...</td>\n",
       "      <td>We all share the same fate.</td>\n",
       "      <td>164</td>\n",
       "      <td>567148955</td>\n",
       "    </tr>\n",
       "    <tr>\n",
       "      <th>4</th>\n",
       "      <td>1151534</td>\n",
       "      <td>0</td>\n",
       "      <td>[{'id': 204005, 'logo_path': None, 'name': 'Ro...</td>\n",
       "      <td>[{'iso_3166_1': 'ES', 'name': 'Spain'}]</td>\n",
       "      <td>[{'english_name': 'Spanish', 'iso_639_1': 'es'...</td>\n",
       "      <td>Attempting to survive in the middle of nowhere...</td>\n",
       "      <td>109</td>\n",
       "      <td>0</td>\n",
       "    </tr>\n",
       "  </tbody>\n",
       "</table>\n",
       "</div>"
      ],
      "text/plain": [
       "        Id     Budget                                ProductionCompanies  \\\n",
       "0   299054  100000000  [{'id': 1020, 'logo_path': '/kuUIHNwMec4dwOLgh...   \n",
       "1   926393   70000000  [{'id': 1423, 'logo_path': '/1rbAwGQzrNvXDICD6...   \n",
       "2  1034062          0  [{'id': 2785, 'logo_path': '/l5zW8jjmQOCx2dFmv...   \n",
       "3   575264  291000000  [{'id': 4, 'logo_path': '/gz66EfNoYPqHTYI4q9UE...   \n",
       "4  1151534          0  [{'id': 204005, 'logo_path': None, 'name': 'Ro...   \n",
       "\n",
       "                                 ProductionCountries  \\\n",
       "0  [{'iso_3166_1': 'US', 'name': 'United States o...   \n",
       "1  [{'iso_3166_1': 'IT', 'name': 'Italy'}, {'iso_...   \n",
       "2  [{'iso_3166_1': 'US', 'name': 'United States o...   \n",
       "3  [{'iso_3166_1': 'US', 'name': 'United States o...   \n",
       "4            [{'iso_3166_1': 'ES', 'name': 'Spain'}]   \n",
       "\n",
       "                                     SpokenLanguages  \\\n",
       "0  [{'english_name': 'English', 'iso_639_1': 'en'...   \n",
       "1  [{'english_name': 'English', 'iso_639_1': 'en'...   \n",
       "2  [{'english_name': 'English', 'iso_639_1': 'en'...   \n",
       "3  [{'english_name': 'French', 'iso_639_1': 'fr',...   \n",
       "4  [{'english_name': 'Spanish', 'iso_639_1': 'es'...   \n",
       "\n",
       "                                             TagLine  RunTime    Revenue  \n",
       "0                     They'll die when they're dead.      103   30000000  \n",
       "1                          Justice knows no borders.      109  176933602  \n",
       "2  Neon lights... Suits with shoulder pads... Jum...       80          0  \n",
       "3                        We all share the same fate.      164  567148955  \n",
       "4  Attempting to survive in the middle of nowhere...      109          0  "
      ]
     },
     "execution_count": 8,
     "metadata": {},
     "output_type": "execute_result"
    }
   ],
   "source": [
    "# Checking movie details data\n",
    "\n",
    "df_movies = pd.read_csv('movie_details.csv')\n",
    "print(df_movies.shape)\n",
    "df_movies.head()"
   ]
  },
  {
   "cell_type": "markdown",
   "metadata": {
    "id": "cfLZdgV4BXy0"
   },
   "source": [
    "## 1.2 Merge Datasets"
   ]
  },
  {
   "cell_type": "code",
   "execution_count": 9,
   "metadata": {
    "id": "iMs3_L_wBXy0"
   },
   "outputs": [],
   "source": [
    "def inner_join(df1, df2, pk):\n",
    "    '''This methods performs inner joint, based on given primery key'''\n",
    "    return pd.merge(df1, df2, on=pk)"
   ]
  },
  {
   "cell_type": "code",
   "execution_count": 10,
   "metadata": {
    "id": "sxlywmeZBXy0",
    "outputId": "77440cf3-e7b6-4d51-94d7-010ba85566f4"
   },
   "outputs": [
    {
     "name": "stdout",
     "output_type": "stream",
     "text": [
      "(10000, 17)\n"
     ]
    },
    {
     "data": {
      "text/html": [
       "<div>\n",
       "<style scoped>\n",
       "    .dataframe tbody tr th:only-of-type {\n",
       "        vertical-align: middle;\n",
       "    }\n",
       "\n",
       "    .dataframe tbody tr th {\n",
       "        vertical-align: top;\n",
       "    }\n",
       "\n",
       "    .dataframe thead th {\n",
       "        text-align: right;\n",
       "    }\n",
       "</style>\n",
       "<table border=\"1\" class=\"dataframe\">\n",
       "  <thead>\n",
       "    <tr style=\"text-align: right;\">\n",
       "      <th></th>\n",
       "      <th>GenreIds</th>\n",
       "      <th>Id</th>\n",
       "      <th>OriginalLanguage</th>\n",
       "      <th>OriginalTitle</th>\n",
       "      <th>Overview</th>\n",
       "      <th>Popularity</th>\n",
       "      <th>ReleaseDate</th>\n",
       "      <th>Title</th>\n",
       "      <th>VoteAverage</th>\n",
       "      <th>VoteCount</th>\n",
       "      <th>Budget</th>\n",
       "      <th>ProductionCompanies</th>\n",
       "      <th>ProductionCountries</th>\n",
       "      <th>SpokenLanguages</th>\n",
       "      <th>TagLine</th>\n",
       "      <th>RunTime</th>\n",
       "      <th>Revenue</th>\n",
       "    </tr>\n",
       "  </thead>\n",
       "  <tbody>\n",
       "    <tr>\n",
       "      <th>0</th>\n",
       "      <td>[28, 12, 53]</td>\n",
       "      <td>299054</td>\n",
       "      <td>en</td>\n",
       "      <td>Expend4bles</td>\n",
       "      <td>Armed with every weapon they can get their han...</td>\n",
       "      <td>3741.062</td>\n",
       "      <td>2023-09-15</td>\n",
       "      <td>Expend4bles</td>\n",
       "      <td>6.4</td>\n",
       "      <td>364</td>\n",
       "      <td>100000000</td>\n",
       "      <td>[{'id': 1020, 'logo_path': '/kuUIHNwMec4dwOLgh...</td>\n",
       "      <td>[{'iso_3166_1': 'US', 'name': 'United States o...</td>\n",
       "      <td>[{'english_name': 'English', 'iso_639_1': 'en'...</td>\n",
       "      <td>They'll die when they're dead.</td>\n",
       "      <td>103</td>\n",
       "      <td>30000000</td>\n",
       "    </tr>\n",
       "  </tbody>\n",
       "</table>\n",
       "</div>"
      ],
      "text/plain": [
       "       GenreIds      Id OriginalLanguage OriginalTitle  \\\n",
       "0  [28, 12, 53]  299054               en   Expend4bles   \n",
       "\n",
       "                                            Overview  Popularity ReleaseDate  \\\n",
       "0  Armed with every weapon they can get their han...    3741.062  2023-09-15   \n",
       "\n",
       "         Title  VoteAverage  VoteCount     Budget  \\\n",
       "0  Expend4bles          6.4        364  100000000   \n",
       "\n",
       "                                 ProductionCompanies  \\\n",
       "0  [{'id': 1020, 'logo_path': '/kuUIHNwMec4dwOLgh...   \n",
       "\n",
       "                                 ProductionCountries  \\\n",
       "0  [{'iso_3166_1': 'US', 'name': 'United States o...   \n",
       "\n",
       "                                     SpokenLanguages  \\\n",
       "0  [{'english_name': 'English', 'iso_639_1': 'en'...   \n",
       "\n",
       "                          TagLine  RunTime   Revenue  \n",
       "0  They'll die when they're dead.      103  30000000  "
      ]
     },
     "execution_count": 10,
     "metadata": {},
     "output_type": "execute_result"
    }
   ],
   "source": [
    "# Perform inner join to consolidate one single dataset\n",
    "df = inner_join(df_init, df_movies, 'Id')\n",
    "print(df.shape)\n",
    "df.head(1)"
   ]
  },
  {
   "cell_type": "markdown",
   "metadata": {},
   "source": [
    "## 1.3 Pandas Profiling"
   ]
  },
  {
   "cell_type": "code",
   "execution_count": 11,
   "metadata": {},
   "outputs": [],
   "source": [
    "if create_pandas_profiling:\n",
    "    profile = ProfileReport(df, title=\"Profiling Report\")\n",
    "    profile.to_file(\"pandas_profiling_movies2.html\")"
   ]
  },
  {
   "cell_type": "markdown",
   "metadata": {
    "id": "mj7rCgYwBXy0"
   },
   "source": [
    "# Step 2"
   ]
  },
  {
   "cell_type": "markdown",
   "metadata": {
    "id": "j5FDVAZ3BXy0"
   },
   "source": [
    "## Data Wrangling\n",
    "\n",
    "In this section, we conducted several steps to clean up and prepare the data for analysis. The steps we followed are listed below:\n",
    "\n",
    "1. Features and datatypes: In this steps we will process features into the proper data type, inspecting and correcting invalid values\n",
    "2. Inspect and impute nulls\n",
    "3. Inspect and correct duplicated rows\n",
    "4. Text Wrangling\n",
    "\n"
   ]
  },
  {
   "cell_type": "code",
   "execution_count": 12,
   "metadata": {
    "id": "rn_q6VrbBXy1"
   },
   "outputs": [],
   "source": [
    "# create a list with the columns of the Dataframe\n",
    "columns = df.columns"
   ]
  },
  {
   "cell_type": "code",
   "execution_count": 13,
   "metadata": {
    "id": "9TM2DWCvBXy1",
    "outputId": "abb76c44-0d42-418a-e9e4-f805eba505c3"
   },
   "outputs": [
    {
     "data": {
      "text/plain": [
       "GenreIds                object\n",
       "Id                       int64\n",
       "OriginalLanguage        object\n",
       "OriginalTitle           object\n",
       "Overview                object\n",
       "Popularity             float64\n",
       "ReleaseDate             object\n",
       "Title                   object\n",
       "VoteAverage            float64\n",
       "VoteCount                int64\n",
       "Budget                   int64\n",
       "ProductionCompanies     object\n",
       "ProductionCountries     object\n",
       "SpokenLanguages         object\n",
       "TagLine                 object\n",
       "RunTime                  int64\n",
       "Revenue                  int64\n",
       "dtype: object"
      ]
     },
     "execution_count": 13,
     "metadata": {},
     "output_type": "execute_result"
    }
   ],
   "source": [
    "# Review the dataframe datatypes\n",
    "\n",
    "df.dtypes"
   ]
  },
  {
   "cell_type": "code",
   "execution_count": 14,
   "metadata": {},
   "outputs": [
    {
     "data": {
      "text/plain": [
       "0"
      ]
     },
     "execution_count": 14,
     "metadata": {},
     "output_type": "execute_result"
    }
   ],
   "source": [
    "#checking duplicated columns\n",
    "df.duplicated().sum()"
   ]
  },
  {
   "cell_type": "markdown",
   "metadata": {},
   "source": [
    "### 2.1 Categorical Columns"
   ]
  },
  {
   "cell_type": "code",
   "execution_count": 15,
   "metadata": {
    "id": "gNbTUMd2BXy1",
    "outputId": "6bc55dc5-6fc8-4633-a345-fbcd74acbbc7"
   },
   "outputs": [
    {
     "data": {
      "text/html": [
       "<div>\n",
       "<style scoped>\n",
       "    .dataframe tbody tr th:only-of-type {\n",
       "        vertical-align: middle;\n",
       "    }\n",
       "\n",
       "    .dataframe tbody tr th {\n",
       "        vertical-align: top;\n",
       "    }\n",
       "\n",
       "    .dataframe thead th {\n",
       "        text-align: right;\n",
       "    }\n",
       "</style>\n",
       "<table border=\"1\" class=\"dataframe\">\n",
       "  <thead>\n",
       "    <tr style=\"text-align: right;\">\n",
       "      <th></th>\n",
       "      <th>GenreIds</th>\n",
       "      <th>OriginalLanguage</th>\n",
       "      <th>OriginalTitle</th>\n",
       "      <th>Overview</th>\n",
       "      <th>ReleaseDate</th>\n",
       "      <th>Title</th>\n",
       "      <th>ProductionCompanies</th>\n",
       "      <th>ProductionCountries</th>\n",
       "      <th>SpokenLanguages</th>\n",
       "      <th>TagLine</th>\n",
       "    </tr>\n",
       "  </thead>\n",
       "  <tbody>\n",
       "    <tr>\n",
       "      <th>0</th>\n",
       "      <td>[28, 12, 53]</td>\n",
       "      <td>en</td>\n",
       "      <td>Expend4bles</td>\n",
       "      <td>Armed with every weapon they can get their han...</td>\n",
       "      <td>2023-09-15</td>\n",
       "      <td>Expend4bles</td>\n",
       "      <td>[{'id': 1020, 'logo_path': '/kuUIHNwMec4dwOLgh...</td>\n",
       "      <td>[{'iso_3166_1': 'US', 'name': 'United States o...</td>\n",
       "      <td>[{'english_name': 'English', 'iso_639_1': 'en'...</td>\n",
       "      <td>They'll die when they're dead.</td>\n",
       "    </tr>\n",
       "  </tbody>\n",
       "</table>\n",
       "</div>"
      ],
      "text/plain": [
       "       GenreIds OriginalLanguage OriginalTitle  \\\n",
       "0  [28, 12, 53]               en   Expend4bles   \n",
       "\n",
       "                                            Overview ReleaseDate        Title  \\\n",
       "0  Armed with every weapon they can get their han...  2023-09-15  Expend4bles   \n",
       "\n",
       "                                 ProductionCompanies  \\\n",
       "0  [{'id': 1020, 'logo_path': '/kuUIHNwMec4dwOLgh...   \n",
       "\n",
       "                                 ProductionCountries  \\\n",
       "0  [{'iso_3166_1': 'US', 'name': 'United States o...   \n",
       "\n",
       "                                     SpokenLanguages  \\\n",
       "0  [{'english_name': 'English', 'iso_639_1': 'en'...   \n",
       "\n",
       "                          TagLine  \n",
       "0  They'll die when they're dead.  "
      ]
     },
     "execution_count": 15,
     "metadata": {},
     "output_type": "execute_result"
    }
   ],
   "source": [
    "# categorical columns inspection\n",
    "\n",
    "categorical_df = df.select_dtypes(include='object')\n",
    "categorical_df.head(1)"
   ]
  },
  {
   "cell_type": "code",
   "execution_count": 16,
   "metadata": {
    "id": "ZL-lpDj2BXy1",
    "outputId": "2097a96b-36dc-46e3-fc71-4020f4e8a077"
   },
   "outputs": [
    {
     "name": "stdout",
     "output_type": "stream",
     "text": [
      "----Unique values for column GenreIds -----\n",
      "['[28, 12, 53]' '[28, 53, 80]' '[16, 28, 14]' '[28, 53]' '[53, 18]']\n",
      "----Unique values for column OriginalLanguage -----\n",
      "['en' 'es' 'ko' 'hi' 'de']\n",
      "----Unique values for column ReleaseDate -----\n",
      "['2023-09-15' '2023-08-30' '2023-10-17' '2023-07-08' '2023-09-29']\n",
      "----Unique values for column ProductionCompanies -----\n",
      "[\"[{'id': 1020, 'logo_path': '/kuUIHNwMec4dwOLghDhhZJzHZTd.png', 'name': 'Millennium Media', 'origin_country': 'US'}, {'id': 48738, 'logo_path': None, 'name': 'Campbell Grobman Films', 'origin_country': 'US'}, {'id': 1632, 'logo_path': '/cisLn1YAUuptXVBa0xjq7ST9cH0.png', 'name': 'Lionsgate', 'origin_country': 'US'}]\"\n",
      " \"[{'id': 1423, 'logo_path': '/1rbAwGQzrNvXDICD6HWEn1YqfAV.png', 'name': 'Escape Artists', 'origin_country': 'US'}, {'id': 5, 'logo_path': '/wrweLpBqRYcAM7kCSaHDJRxKGOP.png', 'name': 'Columbia Pictures', 'origin_country': 'US'}, {'id': 10400, 'logo_path': '/9LlB2YAwXTkUAhx0pItSo6pDlkB.png', 'name': 'Eagle Pictures', 'origin_country': 'IT'}, {'id': 44967, 'logo_path': None, 'name': 'ZHIV Productions', 'origin_country': ''}]\"\n",
      " \"[{'id': 2785, 'logo_path': '/l5zW8jjmQOCx2dFmvnmbYmqoBmL.png', 'name': 'Warner Bros. Animation', 'origin_country': 'US'}]\"\n",
      " \"[{'id': 4, 'logo_path': '/gz66EfNoYPqHTYI4q9UEN4CbHRc.png', 'name': 'Paramount', 'origin_country': 'US'}, {'id': 82819, 'logo_path': '/gXfFl9pRPaoaq14jybEn1pHeldr.png', 'name': 'Skydance', 'origin_country': 'US'}, {'id': 21777, 'logo_path': None, 'name': 'TC Productions', 'origin_country': 'US'}]\"\n",
      " \"[{'id': 204005, 'logo_path': None, 'name': 'Rock & Ruz', 'origin_country': 'ES'}]\"]\n",
      "----Unique values for column ProductionCountries -----\n",
      "[\"[{'iso_3166_1': 'US', 'name': 'United States of America'}]\"\n",
      " \"[{'iso_3166_1': 'IT', 'name': 'Italy'}, {'iso_3166_1': 'US', 'name': 'United States of America'}]\"\n",
      " \"[{'iso_3166_1': 'ES', 'name': 'Spain'}]\"\n",
      " \"[{'iso_3166_1': 'KR', 'name': 'South Korea'}]\"\n",
      " \"[{'iso_3166_1': 'CN', 'name': 'China'}, {'iso_3166_1': 'US', 'name': 'United States of America'}]\"]\n",
      "----Unique values for column SpokenLanguages -----\n",
      "[\"[{'english_name': 'English', 'iso_639_1': 'en', 'name': 'English'}]\"\n",
      " \"[{'english_name': 'English', 'iso_639_1': 'en', 'name': 'English'}, {'english_name': 'Italian', 'iso_639_1': 'it', 'name': 'Italiano'}]\"\n",
      " \"[{'english_name': 'French', 'iso_639_1': 'fr', 'name': 'Français'}, {'english_name': 'English', 'iso_639_1': 'en', 'name': 'English'}, {'english_name': 'Italian', 'iso_639_1': 'it', 'name': 'Italiano'}, {'english_name': 'Russian', 'iso_639_1': 'ru', 'name': 'Pусский'}]\"\n",
      " \"[{'english_name': 'Spanish', 'iso_639_1': 'es', 'name': 'Español'}]\"\n",
      " \"[{'english_name': 'English', 'iso_639_1': 'en', 'name': 'English'}, {'english_name': 'French', 'iso_639_1': 'fr', 'name': 'Français'}]\"]\n"
     ]
    }
   ],
   "source": [
    "# reviewing unique values in each category to stablish category relevancy, text columns excluded to process in further steps\n",
    "\n",
    "categorical_columns = categorical_df.columns\n",
    "text_columns = ['Overview', 'Title', 'OriginalTitle', 'TagLine']\n",
    "\n",
    "for column in categorical_columns:\n",
    "    if column not in text_columns:\n",
    "        print(f\"----Unique values for column {column} -----\")\n",
    "        print(categorical_df[column].unique()[:5])"
   ]
  },
  {
   "cell_type": "code",
   "execution_count": 17,
   "metadata": {
    "id": "xIISKcBABXy1"
   },
   "outputs": [],
   "source": [
    "# eliminate SpokenLanguages as there is already a column for original language and we believe the translations may not be predictive to the model\n",
    "df.drop('SpokenLanguages', axis=1, inplace=True)"
   ]
  },
  {
   "cell_type": "code",
   "execution_count": 18,
   "metadata": {
    "id": "ArWJYxwwBXy1"
   },
   "outputs": [
    {
     "data": {
      "text/html": [
       "<div>\n",
       "<style scoped>\n",
       "    .dataframe tbody tr th:only-of-type {\n",
       "        vertical-align: middle;\n",
       "    }\n",
       "\n",
       "    .dataframe tbody tr th {\n",
       "        vertical-align: top;\n",
       "    }\n",
       "\n",
       "    .dataframe thead th {\n",
       "        text-align: right;\n",
       "    }\n",
       "</style>\n",
       "<table border=\"1\" class=\"dataframe\">\n",
       "  <thead>\n",
       "    <tr style=\"text-align: right;\">\n",
       "      <th></th>\n",
       "      <th>GenreIds</th>\n",
       "      <th>Id</th>\n",
       "      <th>OriginalLanguage</th>\n",
       "      <th>OriginalTitle</th>\n",
       "      <th>Overview</th>\n",
       "      <th>Popularity</th>\n",
       "      <th>ReleaseDate</th>\n",
       "      <th>Title</th>\n",
       "      <th>VoteAverage</th>\n",
       "      <th>VoteCount</th>\n",
       "      <th>...</th>\n",
       "      <th>History</th>\n",
       "      <th>Horror</th>\n",
       "      <th>Music</th>\n",
       "      <th>Mystery</th>\n",
       "      <th>Romance</th>\n",
       "      <th>ScienceFiction</th>\n",
       "      <th>TvMovie</th>\n",
       "      <th>Thriller</th>\n",
       "      <th>War</th>\n",
       "      <th>Western</th>\n",
       "    </tr>\n",
       "  </thead>\n",
       "  <tbody>\n",
       "    <tr>\n",
       "      <th>0</th>\n",
       "      <td>[28, 12, 53]</td>\n",
       "      <td>299054</td>\n",
       "      <td>en</td>\n",
       "      <td>Expend4bles</td>\n",
       "      <td>Armed with every weapon they can get their han...</td>\n",
       "      <td>3741.062</td>\n",
       "      <td>2023-09-15</td>\n",
       "      <td>Expend4bles</td>\n",
       "      <td>6.4</td>\n",
       "      <td>364</td>\n",
       "      <td>...</td>\n",
       "      <td>0</td>\n",
       "      <td>0</td>\n",
       "      <td>0</td>\n",
       "      <td>0</td>\n",
       "      <td>0</td>\n",
       "      <td>0</td>\n",
       "      <td>0</td>\n",
       "      <td>0</td>\n",
       "      <td>0</td>\n",
       "      <td>0</td>\n",
       "    </tr>\n",
       "    <tr>\n",
       "      <th>1</th>\n",
       "      <td>[28, 53, 80]</td>\n",
       "      <td>926393</td>\n",
       "      <td>en</td>\n",
       "      <td>The Equalizer 3</td>\n",
       "      <td>Robert McCall finds himself at home in Souther...</td>\n",
       "      <td>2471.515</td>\n",
       "      <td>2023-08-30</td>\n",
       "      <td>The Equalizer 3</td>\n",
       "      <td>7.3</td>\n",
       "      <td>1027</td>\n",
       "      <td>...</td>\n",
       "      <td>0</td>\n",
       "      <td>0</td>\n",
       "      <td>0</td>\n",
       "      <td>0</td>\n",
       "      <td>0</td>\n",
       "      <td>0</td>\n",
       "      <td>0</td>\n",
       "      <td>0</td>\n",
       "      <td>0</td>\n",
       "      <td>0</td>\n",
       "    </tr>\n",
       "    <tr>\n",
       "      <th>2</th>\n",
       "      <td>[16, 28, 14]</td>\n",
       "      <td>1034062</td>\n",
       "      <td>en</td>\n",
       "      <td>Mortal Kombat Legends: Cage Match</td>\n",
       "      <td>In 1980s Hollywood, action star Johnny Cage is...</td>\n",
       "      <td>2223.430</td>\n",
       "      <td>2023-10-17</td>\n",
       "      <td>Mortal Kombat Legends: Cage Match</td>\n",
       "      <td>7.8</td>\n",
       "      <td>27</td>\n",
       "      <td>...</td>\n",
       "      <td>0</td>\n",
       "      <td>0</td>\n",
       "      <td>0</td>\n",
       "      <td>0</td>\n",
       "      <td>0</td>\n",
       "      <td>0</td>\n",
       "      <td>0</td>\n",
       "      <td>0</td>\n",
       "      <td>0</td>\n",
       "      <td>0</td>\n",
       "    </tr>\n",
       "    <tr>\n",
       "      <th>3</th>\n",
       "      <td>[28, 53]</td>\n",
       "      <td>575264</td>\n",
       "      <td>en</td>\n",
       "      <td>Mission: Impossible - Dead Reckoning Part One</td>\n",
       "      <td>Ethan Hunt and his IMF team embark on their mo...</td>\n",
       "      <td>2032.927</td>\n",
       "      <td>2023-07-08</td>\n",
       "      <td>Mission: Impossible - Dead Reckoning Part One</td>\n",
       "      <td>7.7</td>\n",
       "      <td>1799</td>\n",
       "      <td>...</td>\n",
       "      <td>0</td>\n",
       "      <td>0</td>\n",
       "      <td>0</td>\n",
       "      <td>0</td>\n",
       "      <td>0</td>\n",
       "      <td>0</td>\n",
       "      <td>0</td>\n",
       "      <td>0</td>\n",
       "      <td>0</td>\n",
       "      <td>0</td>\n",
       "    </tr>\n",
       "    <tr>\n",
       "      <th>4</th>\n",
       "      <td>[53, 18]</td>\n",
       "      <td>1151534</td>\n",
       "      <td>es</td>\n",
       "      <td>Nowhere</td>\n",
       "      <td>A young pregnant woman named Mia escapes from ...</td>\n",
       "      <td>1627.678</td>\n",
       "      <td>2023-09-29</td>\n",
       "      <td>Nowhere</td>\n",
       "      <td>7.6</td>\n",
       "      <td>686</td>\n",
       "      <td>...</td>\n",
       "      <td>0</td>\n",
       "      <td>0</td>\n",
       "      <td>0</td>\n",
       "      <td>0</td>\n",
       "      <td>0</td>\n",
       "      <td>0</td>\n",
       "      <td>0</td>\n",
       "      <td>0</td>\n",
       "      <td>0</td>\n",
       "      <td>0</td>\n",
       "    </tr>\n",
       "  </tbody>\n",
       "</table>\n",
       "<p>5 rows × 35 columns</p>\n",
       "</div>"
      ],
      "text/plain": [
       "       GenreIds       Id OriginalLanguage  \\\n",
       "0  [28, 12, 53]   299054               en   \n",
       "1  [28, 53, 80]   926393               en   \n",
       "2  [16, 28, 14]  1034062               en   \n",
       "3      [28, 53]   575264               en   \n",
       "4      [53, 18]  1151534               es   \n",
       "\n",
       "                                   OriginalTitle  \\\n",
       "0                                    Expend4bles   \n",
       "1                                The Equalizer 3   \n",
       "2              Mortal Kombat Legends: Cage Match   \n",
       "3  Mission: Impossible - Dead Reckoning Part One   \n",
       "4                                        Nowhere   \n",
       "\n",
       "                                            Overview  Popularity ReleaseDate  \\\n",
       "0  Armed with every weapon they can get their han...    3741.062  2023-09-15   \n",
       "1  Robert McCall finds himself at home in Souther...    2471.515  2023-08-30   \n",
       "2  In 1980s Hollywood, action star Johnny Cage is...    2223.430  2023-10-17   \n",
       "3  Ethan Hunt and his IMF team embark on their mo...    2032.927  2023-07-08   \n",
       "4  A young pregnant woman named Mia escapes from ...    1627.678  2023-09-29   \n",
       "\n",
       "                                           Title  VoteAverage  VoteCount  ...  \\\n",
       "0                                    Expend4bles          6.4        364  ...   \n",
       "1                                The Equalizer 3          7.3       1027  ...   \n",
       "2              Mortal Kombat Legends: Cage Match          7.8         27  ...   \n",
       "3  Mission: Impossible - Dead Reckoning Part One          7.7       1799  ...   \n",
       "4                                        Nowhere          7.6        686  ...   \n",
       "\n",
       "   History  Horror Music Mystery  Romance  ScienceFiction  TvMovie  Thriller  \\\n",
       "0         0      0     0       0        0               0        0         0   \n",
       "1         0      0     0       0        0               0        0         0   \n",
       "2         0      0     0       0        0               0        0         0   \n",
       "3         0      0     0       0        0               0        0         0   \n",
       "4         0      0     0       0        0               0        0         0   \n",
       "\n",
       "   War  Western  \n",
       "0    0        0  \n",
       "1    0        0  \n",
       "2    0        0  \n",
       "3    0        0  \n",
       "4    0        0  \n",
       "\n",
       "[5 rows x 35 columns]"
      ]
     },
     "execution_count": 18,
     "metadata": {},
     "output_type": "execute_result"
    }
   ],
   "source": [
    "# preprocessing of column 'GenreIds'\n",
    "\n",
    "# We created the new columns in the DataFrame, one column per genre (one-hot encoding)\n",
    "\n",
    "genre_map = {\n",
    "    28: 'Action',\n",
    "    12: 'Adventure',\n",
    "    16: 'Animation',\n",
    "    35: 'Comedy',\n",
    "    80: 'Crime',\n",
    "    99: 'Documentary',\n",
    "    18: 'Drama',\n",
    "    10751: 'Family',\n",
    "    14: 'Fantasy',\n",
    "    36: 'History ',\n",
    "    27: 'Horror',\n",
    "    10402: 'Music',\n",
    "    9648: 'Mystery',\n",
    "    10749: 'Romance',\n",
    "    878: 'ScienceFiction',\n",
    "    10770: 'TvMovie',\n",
    "    53: 'Thriller',\n",
    "    10752: 'War',\n",
    "    37: 'Western'\n",
    "}\n",
    "\n",
    "genres = list(genre_map.values())\n",
    "\n",
    "# add new columns with initial value of zero\n",
    "df[list(genre_map.values())] = 0\n",
    "df.head()"
   ]
  },
  {
   "cell_type": "code",
   "execution_count": 19,
   "metadata": {
    "id": "xAWvyM6yBXy1"
   },
   "outputs": [],
   "source": [
    "# function to iterate over the genres and do the one-hot encoding\n",
    "\n",
    "def set_genre_values(df):\n",
    "    for i in range(len(df)):\n",
    "        genres = ast.literal_eval(df.iloc[i]['GenreIds'])\n",
    "        for genre in genres:\n",
    "            df.loc[i, genre_map[genre]] = 1"
   ]
  },
  {
   "cell_type": "code",
   "execution_count": 20,
   "metadata": {},
   "outputs": [],
   "source": [
    "# preprocessing of column 'GenreIds' to add 1 where the genre is applicable\n",
    "set_genre_values(df)"
   ]
  },
  {
   "cell_type": "code",
   "execution_count": 21,
   "metadata": {},
   "outputs": [
    {
     "data": {
      "text/html": [
       "<div>\n",
       "<style scoped>\n",
       "    .dataframe tbody tr th:only-of-type {\n",
       "        vertical-align: middle;\n",
       "    }\n",
       "\n",
       "    .dataframe tbody tr th {\n",
       "        vertical-align: top;\n",
       "    }\n",
       "\n",
       "    .dataframe thead th {\n",
       "        text-align: right;\n",
       "    }\n",
       "</style>\n",
       "<table border=\"1\" class=\"dataframe\">\n",
       "  <thead>\n",
       "    <tr style=\"text-align: right;\">\n",
       "      <th></th>\n",
       "      <th>Action</th>\n",
       "      <th>Adventure</th>\n",
       "      <th>Animation</th>\n",
       "      <th>Comedy</th>\n",
       "      <th>Crime</th>\n",
       "      <th>Documentary</th>\n",
       "      <th>Drama</th>\n",
       "      <th>Family</th>\n",
       "      <th>Fantasy</th>\n",
       "      <th>History</th>\n",
       "      <th>Horror</th>\n",
       "      <th>Music</th>\n",
       "      <th>Mystery</th>\n",
       "      <th>Romance</th>\n",
       "      <th>ScienceFiction</th>\n",
       "      <th>TvMovie</th>\n",
       "      <th>Thriller</th>\n",
       "      <th>War</th>\n",
       "      <th>Western</th>\n",
       "    </tr>\n",
       "  </thead>\n",
       "  <tbody>\n",
       "    <tr>\n",
       "      <th>0</th>\n",
       "      <td>1</td>\n",
       "      <td>1</td>\n",
       "      <td>0</td>\n",
       "      <td>0</td>\n",
       "      <td>0</td>\n",
       "      <td>0</td>\n",
       "      <td>0</td>\n",
       "      <td>0</td>\n",
       "      <td>0</td>\n",
       "      <td>0</td>\n",
       "      <td>0</td>\n",
       "      <td>0</td>\n",
       "      <td>0</td>\n",
       "      <td>0</td>\n",
       "      <td>0</td>\n",
       "      <td>0</td>\n",
       "      <td>1</td>\n",
       "      <td>0</td>\n",
       "      <td>0</td>\n",
       "    </tr>\n",
       "    <tr>\n",
       "      <th>1</th>\n",
       "      <td>1</td>\n",
       "      <td>0</td>\n",
       "      <td>0</td>\n",
       "      <td>0</td>\n",
       "      <td>1</td>\n",
       "      <td>0</td>\n",
       "      <td>0</td>\n",
       "      <td>0</td>\n",
       "      <td>0</td>\n",
       "      <td>0</td>\n",
       "      <td>0</td>\n",
       "      <td>0</td>\n",
       "      <td>0</td>\n",
       "      <td>0</td>\n",
       "      <td>0</td>\n",
       "      <td>0</td>\n",
       "      <td>1</td>\n",
       "      <td>0</td>\n",
       "      <td>0</td>\n",
       "    </tr>\n",
       "    <tr>\n",
       "      <th>2</th>\n",
       "      <td>1</td>\n",
       "      <td>0</td>\n",
       "      <td>1</td>\n",
       "      <td>0</td>\n",
       "      <td>0</td>\n",
       "      <td>0</td>\n",
       "      <td>0</td>\n",
       "      <td>0</td>\n",
       "      <td>1</td>\n",
       "      <td>0</td>\n",
       "      <td>0</td>\n",
       "      <td>0</td>\n",
       "      <td>0</td>\n",
       "      <td>0</td>\n",
       "      <td>0</td>\n",
       "      <td>0</td>\n",
       "      <td>0</td>\n",
       "      <td>0</td>\n",
       "      <td>0</td>\n",
       "    </tr>\n",
       "    <tr>\n",
       "      <th>3</th>\n",
       "      <td>1</td>\n",
       "      <td>0</td>\n",
       "      <td>0</td>\n",
       "      <td>0</td>\n",
       "      <td>0</td>\n",
       "      <td>0</td>\n",
       "      <td>0</td>\n",
       "      <td>0</td>\n",
       "      <td>0</td>\n",
       "      <td>0</td>\n",
       "      <td>0</td>\n",
       "      <td>0</td>\n",
       "      <td>0</td>\n",
       "      <td>0</td>\n",
       "      <td>0</td>\n",
       "      <td>0</td>\n",
       "      <td>1</td>\n",
       "      <td>0</td>\n",
       "      <td>0</td>\n",
       "    </tr>\n",
       "    <tr>\n",
       "      <th>4</th>\n",
       "      <td>0</td>\n",
       "      <td>0</td>\n",
       "      <td>0</td>\n",
       "      <td>0</td>\n",
       "      <td>0</td>\n",
       "      <td>0</td>\n",
       "      <td>1</td>\n",
       "      <td>0</td>\n",
       "      <td>0</td>\n",
       "      <td>0</td>\n",
       "      <td>0</td>\n",
       "      <td>0</td>\n",
       "      <td>0</td>\n",
       "      <td>0</td>\n",
       "      <td>0</td>\n",
       "      <td>0</td>\n",
       "      <td>1</td>\n",
       "      <td>0</td>\n",
       "      <td>0</td>\n",
       "    </tr>\n",
       "  </tbody>\n",
       "</table>\n",
       "</div>"
      ],
      "text/plain": [
       "   Action  Adventure  Animation  Comedy  Crime  Documentary  Drama  Family  \\\n",
       "0       1          1          0       0      0            0      0       0   \n",
       "1       1          0          0       0      1            0      0       0   \n",
       "2       1          0          1       0      0            0      0       0   \n",
       "3       1          0          0       0      0            0      0       0   \n",
       "4       0          0          0       0      0            0      1       0   \n",
       "\n",
       "   Fantasy  History   Horror  Music  Mystery  Romance  ScienceFiction  \\\n",
       "0        0         0       0      0        0        0               0   \n",
       "1        0         0       0      0        0        0               0   \n",
       "2        1         0       0      0        0        0               0   \n",
       "3        0         0       0      0        0        0               0   \n",
       "4        0         0       0      0        0        0               0   \n",
       "\n",
       "   TvMovie  Thriller  War  Western  \n",
       "0        0         1    0        0  \n",
       "1        0         1    0        0  \n",
       "2        0         0    0        0  \n",
       "3        0         1    0        0  \n",
       "4        0         1    0        0  "
      ]
     },
     "execution_count": 21,
     "metadata": {},
     "output_type": "execute_result"
    }
   ],
   "source": [
    "#checking the results\n",
    "df[genres].head()"
   ]
  },
  {
   "cell_type": "code",
   "execution_count": 22,
   "metadata": {
    "id": "UB5Sph-HBXy2"
   },
   "outputs": [],
   "source": [
    "# dropping the GenreIds\n",
    "df.drop('GenreIds', axis=1, inplace=True)"
   ]
  },
  {
   "cell_type": "code",
   "execution_count": 23,
   "metadata": {},
   "outputs": [],
   "source": [
    "df.drop('Id', axis=1, inplace=True)"
   ]
  },
  {
   "cell_type": "markdown",
   "metadata": {
    "id": "uCHiFbKCBXy2"
   },
   "source": [
    "Processing of ProductionCompanies and ProductionCountries"
   ]
  },
  {
   "cell_type": "code",
   "execution_count": 24,
   "metadata": {
    "id": "ctxiJMxGBXy2"
   },
   "outputs": [],
   "source": [
    "# Function create a mapping object\n",
    "def get_feature_mapper(df, column):\n",
    "    '''This functions creates an object to map the categorical name to the rows'''\n",
    "    result = {}\n",
    "    for i in range(len(df)):\n",
    "        try:\n",
    "            items = ast.literal_eval(df.loc[i, column])\n",
    "            for item in items:\n",
    "                name = item['name']\n",
    "                if name in result.keys():\n",
    "                    result[name].append(i)\n",
    "                else:\n",
    "                    result[name] = []\n",
    "        except Exception as e:\n",
    "            print(f\"There was an error: {e}\")\n",
    "    return result\n",
    "\n"
   ]
  },
  {
   "cell_type": "code",
   "execution_count": 25,
   "metadata": {
    "id": "qCK8vykpBXy2",
    "outputId": "5d28965f-ac49-44e8-b0e6-8c4241b6a74d"
   },
   "outputs": [
    {
     "data": {
      "text/plain": [
       "9980"
      ]
     },
     "execution_count": 25,
     "metadata": {},
     "output_type": "execute_result"
    }
   ],
   "source": [
    "# checking the cardinality for the column ProductionCompanies\n",
    "prod_comp_map = get_feature_mapper(df, 'ProductionCompanies')\n",
    "len(prod_comp_map.keys())"
   ]
  },
  {
   "cell_type": "markdown",
   "metadata": {
    "id": "Lxqs4dvDBXy2"
   },
   "source": [
    "The cardinality for the column ProductionCompanies is high, with 9980 different production companies. Therefore, we won't consider this column as it might not be discriminative enough."
   ]
  },
  {
   "cell_type": "code",
   "execution_count": 26,
   "metadata": {
    "id": "_2Lr1AACBXy2"
   },
   "outputs": [],
   "source": [
    "# eliminating the column ProductionCompanies\n",
    "df.drop('ProductionCompanies', axis=1, inplace=True)"
   ]
  },
  {
   "cell_type": "code",
   "execution_count": 27,
   "metadata": {
    "id": "P1MxwbdhBXy2",
    "outputId": "8700af40-051d-43ea-d083-b3aaacea2152"
   },
   "outputs": [
    {
     "data": {
      "text/plain": [
       "107"
      ]
     },
     "execution_count": 27,
     "metadata": {},
     "output_type": "execute_result"
    }
   ],
   "source": [
    "# checking the cardinality for the column ProductionCountries\n",
    "prod_contries_map = get_feature_mapper(df, 'ProductionCountries')\n",
    "len(prod_contries_map.keys())"
   ]
  },
  {
   "cell_type": "code",
   "execution_count": 28,
   "metadata": {
    "id": "fO1u8X_-BXy3",
    "outputId": "2010711f-fac5-4f1a-a769-e684b6d64c03"
   },
   "outputs": [
    {
     "data": {
      "text/plain": [
       "dict_keys(['United States of America', 'Italy', 'Spain', 'South Korea', 'China', 'India', 'Canada', 'France', 'Australia', 'United Kingdom', 'Germany', 'Brazil', 'Mexico', 'Japan', 'Russia', 'Sweden', 'United Arab Emirates', 'Nigeria', 'Poland', 'Serbia', 'Ukraine', 'Thailand', 'Finland', 'Norway', 'Switzerland', 'Bangladesh', 'Austria', 'Kazakhstan', 'Belgium', 'Hong Kong', 'Cyprus', 'Greece', 'Denmark', 'Ireland', 'New Zealand', 'Chile', 'Philippines', 'Singapore', 'Taiwan', 'Puerto Rico', 'Iceland', 'Argentina', 'Czech Republic', 'Colombia', 'Peru', 'Bulgaria', 'Netherlands', 'Hungary', 'South Africa', 'Latvia', 'Dominican Republic', 'Uruguay', 'Venezuela', 'Malta', 'Turkey', 'Saudi Arabia', 'Portugal', 'Morocco', 'Slovenia', 'Israel', 'Luxembourg', 'Indonesia', 'Panama', 'Bolivia', 'Romania', 'Guadaloupe', 'Iran', 'Costa Rica', 'Honduras', 'Albania', 'Jordan', 'Pakistan', 'Lithuania', 'Vietnam', 'Malawi', 'Soviet Union', 'Estonia', 'Botswana', 'Paraguay', 'Yugoslavia', 'Georgia', 'Slovakia', 'Malaysia', 'Mauritius', 'Guatemala', 'Macao', 'Jamaica', 'Lebanon', 'Qatar', 'Zimbabwe', 'Egypt', 'Senegal', 'Czechoslovakia', 'East Germany', 'Kenya', 'Solomon Islands', 'Cambodia', 'Iraq', 'Tunisia', 'Ecuador', 'Croatia', 'Liechtenstein', 'Namibia', 'Ghana', 'Bahamas', 'Aruba', 'Moldova'])"
      ]
     },
     "execution_count": 28,
     "metadata": {},
     "output_type": "execute_result"
    }
   ],
   "source": [
    "prod_contries_map.keys()"
   ]
  },
  {
   "cell_type": "markdown",
   "metadata": {
    "id": "iUbF2wCDBXy6"
   },
   "source": [
    "The column ProductionCountries had high cardinality (107). On the other hand, we considered this column to be meaningful to the model. Therefore, we decided to reduce the number of columns by creating groups of production countries based on continents."
   ]
  },
  {
   "cell_type": "code",
   "execution_count": 29,
   "metadata": {
    "id": "j8n7HyApBXy7"
   },
   "outputs": [],
   "source": [
    "country_region = {\n",
    "    'United States of America': 'North America',\n",
    "    'Italy': 'Europe',\n",
    "    'Spain': 'Europe',\n",
    "    'South Korea': 'Asia',\n",
    "    'China': 'Asia',\n",
    "    'India': 'Asia',\n",
    "    'Canada': 'North America',\n",
    "    'France': 'Europe',\n",
    "    'Australia': 'Oceania',\n",
    "    'United Kingdom': 'Europe',\n",
    "    'Germany': 'Europe',\n",
    "    'Brazil': 'South America',\n",
    "    'Mexico': 'North America',\n",
    "    'Japan': 'Asia',\n",
    "    'Russia': 'Europe',\n",
    "    'Sweden': 'Europe',\n",
    "    'United Arab Emirates': 'Asia',\n",
    "    'Nigeria': 'Africa',\n",
    "    'Poland': 'Europe',\n",
    "    'Serbia': 'Europe',\n",
    "    'Ukraine': 'Europe',\n",
    "    'Thailand': 'Asia',\n",
    "    'Finland': 'Europe',\n",
    "    'Norway': 'Europe',\n",
    "    'Switzerland': 'Europe',\n",
    "    'Bangladesh': 'Asia',\n",
    "    'Austria': 'Europe',\n",
    "    'Kazakhstan': 'Asia',\n",
    "    'Belgium': 'Europe',\n",
    "    'Hong Kong': 'Asia',\n",
    "    'Cyprus': 'Europe',\n",
    "    'Greece': 'Europe',\n",
    "    'Denmark': 'Europe',\n",
    "    'Ireland': 'Europe',\n",
    "    'New Zealand': 'Oceania',\n",
    "    'Chile': 'South America',\n",
    "    'Philippines': 'Asia',\n",
    "    'Singapore': 'Asia',\n",
    "    'Taiwan': 'Asia',\n",
    "    'Puerto Rico': 'North America',\n",
    "    'Iceland': 'Europe',\n",
    "    'Argentina': 'South America',\n",
    "    'Czech Republic': 'Europe',\n",
    "    'Colombia': 'South America',\n",
    "    'Peru': 'South America',\n",
    "    'Bulgaria': 'Europe',\n",
    "    'Netherlands': 'Europe',\n",
    "    'Hungary': 'Europe',\n",
    "    'South Africa': 'Africa',\n",
    "    'Latvia': 'Europe',\n",
    "    'Dominican Republic': 'North America',\n",
    "    'Uruguay': 'South America',\n",
    "    'Venezuela': 'South America',\n",
    "    'Malta': 'Europe',\n",
    "    'Turkey': 'Asia',\n",
    "    'Saudi Arabia': 'Asia',\n",
    "    'Portugal': 'Europe',\n",
    "    'Morocco': 'Africa',\n",
    "    'Slovenia': 'Europe',\n",
    "    'Israel': 'Asia',\n",
    "    'Luxembourg': 'Europe',\n",
    "    'Indonesia': 'Asia',\n",
    "    'Panama': 'North America',\n",
    "    'Bolivia': 'South America',\n",
    "    'Romania': 'Europe',\n",
    "    'Guadaloupe': 'North America',\n",
    "    'Iran': 'Asia',\n",
    "    'Costa Rica': 'North America',\n",
    "    'Honduras': 'North America',\n",
    "    'Albania': 'Europe',\n",
    "    'Jordan': 'Asia',\n",
    "    'Pakistan': 'Asia',\n",
    "    'Lithuania': 'Europe',\n",
    "    'Vietnam': 'Asia',\n",
    "    'Malawi': 'Africa',\n",
    "    'Soviet Union': 'Europe',\n",
    "    'Estonia': 'Europe',\n",
    "    'Botswana': 'Africa',\n",
    "    'Paraguay': 'South America',\n",
    "    'Yugoslavia': 'Europe',\n",
    "    'Georgia': 'Asia',\n",
    "    'Slovakia': 'Europe',\n",
    "    'Malaysia': 'Asia',\n",
    "    'Mauritius': 'Africa',\n",
    "    'Guatemala': 'North America',\n",
    "    'Macao': 'Asia',\n",
    "    'Jamaica': 'North America',\n",
    "    'Lebanon': 'Asia',\n",
    "    'Qatar': 'Asia',\n",
    "    'Zimbabwe': 'Africa',\n",
    "    'Egypt': 'Africa',\n",
    "    'Senegal': 'Africa',\n",
    "    'Czechoslovakia': 'Europe',\n",
    "    'East Germany': 'Europe',\n",
    "    'Kenya': 'Africa',\n",
    "    'Solomon Islands': 'Oceania',\n",
    "    'Cambodia': 'Asia',\n",
    "    'Iraq': 'Asia',\n",
    "    'Tunisia': 'Africa',\n",
    "    'Ecuador': 'South America',\n",
    "    'Croatia': 'Europe',\n",
    "    'Liechtenstein': 'Europe',\n",
    "    'Namibia': 'Africa',\n",
    "    'Ghana': 'Africa',\n",
    "    'Bahamas': 'North America',\n",
    "    'Aruba': 'North America',\n",
    "    'Moldova': 'Europe'\n",
    "}"
   ]
  },
  {
   "cell_type": "code",
   "execution_count": 30,
   "metadata": {
    "id": "W3UDeUh1BXy7"
   },
   "outputs": [
    {
     "name": "stdout",
     "output_type": "stream",
     "text": [
      "                                    ProductionCountries  \\\n",
      "0     [{'iso_3166_1': 'US', 'name': 'United States o...   \n",
      "1     [{'iso_3166_1': 'IT', 'name': 'Italy'}, {'iso_...   \n",
      "2     [{'iso_3166_1': 'US', 'name': 'United States o...   \n",
      "3     [{'iso_3166_1': 'US', 'name': 'United States o...   \n",
      "4               [{'iso_3166_1': 'ES', 'name': 'Spain'}]   \n",
      "...                                                 ...   \n",
      "9995  [{'iso_3166_1': 'DE', 'name': 'Germany'}, {'is...   \n",
      "9996  [{'iso_3166_1': 'US', 'name': 'United States o...   \n",
      "9997  [{'iso_3166_1': 'BE', 'name': 'Belgium'}, {'is...   \n",
      "9998  [{'iso_3166_1': 'IS', 'name': 'Iceland'}, {'is...   \n",
      "9999  [{'iso_3166_1': 'US', 'name': 'United States o...   \n",
      "\n",
      "                       Country         Region  \n",
      "0     United States of America  North America  \n",
      "1                        Italy         Europe  \n",
      "2     United States of America  North America  \n",
      "3     United States of America  North America  \n",
      "4                        Spain         Europe  \n",
      "...                        ...            ...  \n",
      "9995                   Germany         Europe  \n",
      "9996  United States of America  North America  \n",
      "9997                   Belgium         Europe  \n",
      "9998                   Iceland         Europe  \n",
      "9999  United States of America  North America  \n",
      "\n",
      "[10000 rows x 3 columns]\n"
     ]
    }
   ],
   "source": [
    "df['Country'] = df['ProductionCountries'].apply(lambda x: ast.literal_eval(x)[0]['name'] if x and ast.literal_eval(x) else None)\n",
    "df['Region'] = df['Country'].map(country_region)\n",
    "print(df[['ProductionCountries', 'Country', 'Region']])"
   ]
  },
  {
   "cell_type": "code",
   "execution_count": 31,
   "metadata": {},
   "outputs": [
    {
     "data": {
      "text/plain": [
       "North America    5549\n",
       "Europe           2325\n",
       "Asia             1578\n",
       "Oceania           201\n",
       "South America     118\n",
       "Africa             50\n",
       "Name: Region, dtype: int64"
      ]
     },
     "execution_count": 31,
     "metadata": {},
     "output_type": "execute_result"
    }
   ],
   "source": [
    "df['Region'].value_counts()"
   ]
  },
  {
   "cell_type": "markdown",
   "metadata": {
    "id": "7xhxEeoUBXy7"
   },
   "source": [
    "Using this strategy, we were able to reduce the cardinality for ProductionCountries from 107 to 6"
   ]
  },
  {
   "cell_type": "code",
   "execution_count": 32,
   "metadata": {},
   "outputs": [
    {
     "data": {
      "text/plain": [
       "179"
      ]
     },
     "execution_count": 32,
     "metadata": {},
     "output_type": "execute_result"
    }
   ],
   "source": [
    "df['Region'].isna().sum()"
   ]
  },
  {
   "cell_type": "markdown",
   "metadata": {},
   "source": [
    "Still we have nan values in country column so we want to replace NaN values in the 'Region' column with the mode of 'Region' for rows with the same 'OriginalLanguage'"
   ]
  },
  {
   "cell_type": "code",
   "execution_count": 33,
   "metadata": {},
   "outputs": [
    {
     "name": "stdout",
     "output_type": "stream",
     "text": [
      "                       Country         Region\n",
      "0     United States of America  North America\n",
      "1                        Italy         Europe\n",
      "2     United States of America  North America\n",
      "3     United States of America  North America\n",
      "4                        Spain         Europe\n",
      "...                        ...            ...\n",
      "9995                   Germany         Europe\n",
      "9996  United States of America  North America\n",
      "9997                   Belgium         Europe\n",
      "9998                   Iceland         Europe\n",
      "9999  United States of America  North America\n",
      "\n",
      "[10000 rows x 2 columns]\n"
     ]
    }
   ],
   "source": [
    "df['Region'].fillna(df['Region'].mode().iloc[0], inplace=True)\n",
    "\n",
    "# Display the updated DataFrame\n",
    "print(df[['Country', 'Region']])"
   ]
  },
  {
   "cell_type": "code",
   "execution_count": 34,
   "metadata": {},
   "outputs": [
    {
     "data": {
      "text/plain": [
       "0"
      ]
     },
     "execution_count": 34,
     "metadata": {},
     "output_type": "execute_result"
    }
   ],
   "source": [
    "# Checking presence of nulls\n",
    "df['Region'].isna().sum()"
   ]
  },
  {
   "cell_type": "code",
   "execution_count": 35,
   "metadata": {},
   "outputs": [],
   "source": [
    "df.drop(['ProductionCountries', 'Country'], axis=1, inplace=True)"
   ]
  },
  {
   "cell_type": "code",
   "execution_count": 36,
   "metadata": {},
   "outputs": [
    {
     "data": {
      "text/plain": [
       "OriginalLanguage       0\n",
       "OriginalTitle          0\n",
       "Overview              51\n",
       "Popularity             0\n",
       "ReleaseDate           21\n",
       "Title                  0\n",
       "VoteAverage            0\n",
       "VoteCount              0\n",
       "Budget                 0\n",
       "TagLine             2413\n",
       "RunTime                0\n",
       "Revenue                0\n",
       "Action                 0\n",
       "Adventure              0\n",
       "Animation              0\n",
       "Comedy                 0\n",
       "Crime                  0\n",
       "Documentary            0\n",
       "Drama                  0\n",
       "Family                 0\n",
       "Fantasy                0\n",
       "History                0\n",
       "Horror                 0\n",
       "Music                  0\n",
       "Mystery                0\n",
       "Romance                0\n",
       "ScienceFiction         0\n",
       "TvMovie                0\n",
       "Thriller               0\n",
       "War                    0\n",
       "Western                0\n",
       "Region                 0\n",
       "dtype: int64"
      ]
     },
     "execution_count": 36,
     "metadata": {},
     "output_type": "execute_result"
    }
   ],
   "source": [
    "df.isna().sum()"
   ]
  },
  {
   "cell_type": "markdown",
   "metadata": {},
   "source": [
    "Now, we can can see that we have null values in three columns so firstly, we will look on that"
   ]
  },
  {
   "cell_type": "markdown",
   "metadata": {},
   "source": [
    "Overview, ReleaseDate: We can not impute any random values in this column so simply we will drop those raws, which has null values"
   ]
  },
  {
   "cell_type": "code",
   "execution_count": 37,
   "metadata": {},
   "outputs": [],
   "source": [
    "df.dropna(subset=['Overview'], inplace=True)\n",
    "df.dropna(subset=['ReleaseDate'], inplace=True)"
   ]
  },
  {
   "cell_type": "markdown",
   "metadata": {},
   "source": [
    "OriginalLanguage: It has string values so we will convert into vector space so we can use in our machine learning model"
   ]
  },
  {
   "cell_type": "code",
   "execution_count": 38,
   "metadata": {},
   "outputs": [
    {
     "name": "stdout",
     "output_type": "stream",
     "text": [
      "   Language  Occurrences\n",
      "0        en         7477\n",
      "1        ja          593\n",
      "2        ko          317\n",
      "3        fr          304\n",
      "4        es          280\n",
      "5        zh          156\n",
      "6        it          147\n",
      "7        cn          135\n",
      "8        de           78\n",
      "9        ru           63\n",
      "10       hi           52\n",
      "11       tl           47\n",
      "12       pt           30\n",
      "13       no           30\n",
      "14       da           28\n",
      "15       sv           27\n",
      "16       th           24\n",
      "17       nl           24\n",
      "18       pl           22\n",
      "19       tr           12\n",
      "20       id           12\n",
      "21       te           11\n",
      "22       fi            8\n",
      "23       ta            5\n",
      "24       ar            5\n",
      "25       cs            4\n",
      "26       el            4\n",
      "27       uk            4\n",
      "28       is            3\n",
      "29       fa            3\n",
      "30       bn            2\n",
      "31       kn            2\n",
      "32       xx            2\n",
      "33       yo            2\n",
      "34       he            2\n",
      "35       km            1\n",
      "36       gl            1\n",
      "37       ro            1\n",
      "38       la            1\n",
      "39       nb            1\n",
      "40       ml            1\n",
      "41       mk            1\n",
      "42       ms            1\n",
      "43       sh            1\n",
      "44       vi            1\n",
      "45       ca            1\n",
      "46       eu            1\n",
      "47       sr            1\n",
      "48       lt            1\n",
      "49       pa            1\n"
     ]
    }
   ],
   "source": [
    "language_counts = df['OriginalLanguage'].value_counts()\n",
    "\n",
    "# Display the results\n",
    "language_occurrence_df = pd.DataFrame({\n",
    "    'Language': language_counts.index,\n",
    "    'Occurrences': language_counts.values\n",
    "})\n",
    "\n",
    "print(language_occurrence_df)"
   ]
  },
  {
   "cell_type": "code",
   "execution_count": 39,
   "metadata": {},
   "outputs": [],
   "source": [
    "df['OriginalLanguage'] = df['OriginalLanguage'].map(language_counts)"
   ]
  },
  {
   "cell_type": "markdown",
   "metadata": {},
   "source": [
    "As can be seen, the OriginalLanguage can be ordered based on frequency. Therefore, we will use TargetEncoding in this case replacing the language by its frequency."
   ]
  },
  {
   "cell_type": "markdown",
   "metadata": {},
   "source": [
    "### 2.2 Time Column"
   ]
  },
  {
   "cell_type": "code",
   "execution_count": 40,
   "metadata": {},
   "outputs": [
    {
     "name": "stdout",
     "output_type": "stream",
     "text": [
      "0      2023-09-15\n",
      "1      2023-08-30\n",
      "2      2023-10-17\n",
      "3      2023-07-08\n",
      "4      2023-09-29\n",
      "          ...    \n",
      "9995   2001-03-01\n",
      "9996   2004-10-01\n",
      "9997   2018-10-24\n",
      "9998   2018-11-21\n",
      "9999   2011-02-11\n",
      "Name: ReleaseDate, Length: 9930, dtype: datetime64[ns]\n"
     ]
    }
   ],
   "source": [
    "# Releasedate to datetime\n",
    "df['ReleaseDate'] = pd.to_datetime(df['ReleaseDate'])\n",
    "\n",
    "print(df['ReleaseDate'])"
   ]
  },
  {
   "cell_type": "code",
   "execution_count": 41,
   "metadata": {},
   "outputs": [],
   "source": [
    "# Feature Engineer columns from ReleaseDate\n",
    "df['ReleaseYear'] = df['ReleaseDate'].dt.year\n",
    "df['ReleaseMonth'] = df['ReleaseDate'].dt.month\n"
   ]
  },
  {
   "cell_type": "code",
   "execution_count": 42,
   "metadata": {},
   "outputs": [
    {
     "data": {
      "text/html": [
       "<div>\n",
       "<style scoped>\n",
       "    .dataframe tbody tr th:only-of-type {\n",
       "        vertical-align: middle;\n",
       "    }\n",
       "\n",
       "    .dataframe tbody tr th {\n",
       "        vertical-align: top;\n",
       "    }\n",
       "\n",
       "    .dataframe thead th {\n",
       "        text-align: right;\n",
       "    }\n",
       "</style>\n",
       "<table border=\"1\" class=\"dataframe\">\n",
       "  <thead>\n",
       "    <tr style=\"text-align: right;\">\n",
       "      <th></th>\n",
       "      <th>ReleaseYear</th>\n",
       "      <th>ReleaseMonth</th>\n",
       "    </tr>\n",
       "  </thead>\n",
       "  <tbody>\n",
       "    <tr>\n",
       "      <th>0</th>\n",
       "      <td>2023</td>\n",
       "      <td>9</td>\n",
       "    </tr>\n",
       "    <tr>\n",
       "      <th>1</th>\n",
       "      <td>2023</td>\n",
       "      <td>8</td>\n",
       "    </tr>\n",
       "    <tr>\n",
       "      <th>2</th>\n",
       "      <td>2023</td>\n",
       "      <td>10</td>\n",
       "    </tr>\n",
       "    <tr>\n",
       "      <th>3</th>\n",
       "      <td>2023</td>\n",
       "      <td>7</td>\n",
       "    </tr>\n",
       "    <tr>\n",
       "      <th>4</th>\n",
       "      <td>2023</td>\n",
       "      <td>9</td>\n",
       "    </tr>\n",
       "    <tr>\n",
       "      <th>...</th>\n",
       "      <td>...</td>\n",
       "      <td>...</td>\n",
       "    </tr>\n",
       "    <tr>\n",
       "      <th>9995</th>\n",
       "      <td>2001</td>\n",
       "      <td>3</td>\n",
       "    </tr>\n",
       "    <tr>\n",
       "      <th>9996</th>\n",
       "      <td>2004</td>\n",
       "      <td>10</td>\n",
       "    </tr>\n",
       "    <tr>\n",
       "      <th>9997</th>\n",
       "      <td>2018</td>\n",
       "      <td>10</td>\n",
       "    </tr>\n",
       "    <tr>\n",
       "      <th>9998</th>\n",
       "      <td>2018</td>\n",
       "      <td>11</td>\n",
       "    </tr>\n",
       "    <tr>\n",
       "      <th>9999</th>\n",
       "      <td>2011</td>\n",
       "      <td>2</td>\n",
       "    </tr>\n",
       "  </tbody>\n",
       "</table>\n",
       "<p>9930 rows × 2 columns</p>\n",
       "</div>"
      ],
      "text/plain": [
       "      ReleaseYear  ReleaseMonth\n",
       "0            2023             9\n",
       "1            2023             8\n",
       "2            2023            10\n",
       "3            2023             7\n",
       "4            2023             9\n",
       "...           ...           ...\n",
       "9995         2001             3\n",
       "9996         2004            10\n",
       "9997         2018            10\n",
       "9998         2018            11\n",
       "9999         2011             2\n",
       "\n",
       "[9930 rows x 2 columns]"
      ]
     },
     "execution_count": 42,
     "metadata": {},
     "output_type": "execute_result"
    }
   ],
   "source": [
    "df[['ReleaseYear', 'ReleaseMonth']]"
   ]
  },
  {
   "cell_type": "code",
   "execution_count": 43,
   "metadata": {},
   "outputs": [],
   "source": [
    "df.drop('ReleaseDate', axis=1, inplace=True)"
   ]
  },
  {
   "cell_type": "markdown",
   "metadata": {},
   "source": [
    "### 2.3 Numerical Columns"
   ]
  },
  {
   "cell_type": "code",
   "execution_count": 44,
   "metadata": {},
   "outputs": [
    {
     "data": {
      "image/png": "[encoded data removed]",
      "text/plain": [
       "<Figure size 800x550 with 2 Axes>"
      ]
     },
     "metadata": {},
     "output_type": "display_data"
    }
   ],
   "source": [
    "# Reviewing correlations between numerical columns\n",
    "\n",
    "numerical_columns = ['Popularity', 'VoteAverage', 'VoteCount', 'Budget', 'RunTime', 'Revenue', 'ReleaseYear', 'ReleaseMonth']\n",
    "\n",
    "df_numericals = df[numerical_columns]\n",
    "\n",
    "correlation_matrix = df_numericals.corr()\n",
    "sns.heatmap(correlation_matrix, annot=True, cmap='coolwarm', linewidths=0.5)\n",
    "plt.title(\"Correlation matrix, numerical features\")\n",
    "plt.show()"
   ]
  },
  {
   "cell_type": "markdown",
   "metadata": {},
   "source": [
    "There is a strong correlation between VoteCount, Budget and Revenue."
   ]
  },
  {
   "cell_type": "code",
   "execution_count": 45,
   "metadata": {
    "id": "eyeKH3t9BXy8",
    "outputId": "0fc5583a-d520-4aad-805a-f859b5296de8"
   },
   "outputs": [
    {
     "data": {
      "text/plain": [
       "Index(['OriginalLanguage', 'OriginalTitle', 'Overview', 'Popularity', 'Title',\n",
       "       'VoteAverage', 'VoteCount', 'Budget', 'TagLine', 'RunTime', 'Revenue',\n",
       "       'Action', 'Adventure', 'Animation', 'Comedy', 'Crime', 'Documentary',\n",
       "       'Drama', 'Family', 'Fantasy', 'History ', 'Horror', 'Music', 'Mystery',\n",
       "       'Romance', 'ScienceFiction', 'TvMovie', 'Thriller', 'War', 'Western',\n",
       "       'Region', 'ReleaseYear', 'ReleaseMonth'],\n",
       "      dtype='object')"
      ]
     },
     "execution_count": 45,
     "metadata": {},
     "output_type": "execute_result"
    }
   ],
   "source": [
    "df.columns"
   ]
  },
  {
   "cell_type": "code",
   "execution_count": 46,
   "metadata": {},
   "outputs": [
    {
     "name": "stdout",
     "output_type": "stream",
     "text": [
      "Number of values with 0 in the 'Budget' column: 4403\n"
     ]
    }
   ],
   "source": [
    "zero_budget_count = (df['Budget'] == 0).sum()\n",
    "\n",
    "print(\"Number of values with 0 in the 'Budget' column:\", zero_budget_count)"
   ]
  },
  {
   "cell_type": "markdown",
   "metadata": {},
   "source": [
    "Budget:\n",
    "\n",
    "We have 4403 columns with 0 values; its similar to have null values because budget cannot be 0. Additionally, this column presents a strong correlation with VoteCount. Therefore, we will use this last column to generate predictions on Movie Budget."
   ]
  },
  {
   "cell_type": "code",
   "execution_count": 47,
   "metadata": {},
   "outputs": [],
   "source": [
    "# Simple linear regression to impute the rows with 0 Budget using VoteCount\n",
    "\n",
    "df_with_zeros = df[df['Budget'] == 0]\n",
    "df_without_zeros = df[df['Budget'] > 0]\n",
    "\n",
    "X_train = df_without_zeros[['VoteCount']]\n",
    "y_train = df_without_zeros['Budget']\n",
    "\n",
    "X_train, X_test, y_train, y_test = train_test_split(X_train, y_train, test_size=0.2, random_state=42)\n",
    "\n",
    "model = LinearRegression()\n",
    "\n",
    "model.fit(X_train, y_train)\n",
    "\n",
    "predicted_budget = model.predict(df_with_zeros[['VoteCount']])\n",
    "\n",
    "df.loc[df_with_zeros.index, 'Budget'] = predicted_budget\n"
   ]
  },
  {
   "cell_type": "markdown",
   "metadata": {},
   "source": [
    "We can remove then VoteCount and Revenue as reduntant features"
   ]
  },
  {
   "cell_type": "code",
   "execution_count": 48,
   "metadata": {},
   "outputs": [],
   "source": [
    "df.drop(columns=['Revenue', 'VoteCount'], axis=1, inplace=True)"
   ]
  },
  {
   "cell_type": "markdown",
   "metadata": {},
   "source": [
    "VoteAverage: As the objective is to build a predictive model for popularity, we consider that VoteAverage can not be an input to the model considering that the features represent the info users can have available before launching a movie. "
   ]
  },
  {
   "cell_type": "code",
   "execution_count": 49,
   "metadata": {},
   "outputs": [],
   "source": [
    "df.drop('VoteAverage', axis=1, inplace=True)"
   ]
  },
  {
   "cell_type": "code",
   "execution_count": 50,
   "metadata": {},
   "outputs": [],
   "source": [
    "numerical_columns = ['Popularity', 'Budget', 'RunTime']"
   ]
  },
  {
   "cell_type": "code",
   "execution_count": 51,
   "metadata": {},
   "outputs": [
    {
     "data": {
      "image/png": "[encoded data removed]",
      "text/plain": [
       "<Figure size 1900x1000 with 3 Axes>"
      ]
     },
     "metadata": {},
     "output_type": "display_data"
    }
   ],
   "source": [
    "# Inspecting outliers using boxplots\n",
    "\n",
    "fig, ax = plt.subplots(ncols = 3, figsize=(19,10))\n",
    "plt.subplots_adjust(wspace = 1)\n",
    "sns.set_palette(\"PRGn\")\n",
    "for i in range(len(numerical_columns)):\n",
    "    s = sns.boxplot(ax = ax[i], data = df[numerical_columns[i]])\n",
    "\n",
    "    ax[i].set_xlabel(numerical_columns[i])\n",
    "\n",
    "plt.show()"
   ]
  },
  {
   "cell_type": "markdown",
   "metadata": {},
   "source": [
    "As can be seen, all the numerical columns have a high outliers presence.\n",
    "\n",
    "Strategy:\n",
    "\n",
    "1. Popularity: This is our target column; we consider the outliers legitimate. We believe that it makes more sense for this project to work on a classification task as we dont need to know exact popularity value but rather, have an idea on how well the movies is going to perform. Therefore, we will discretize the column and train a classification model; we will add the outliers as a group that indicates outstanding popularity.\n",
    "\n",
    "2. Budget: We will apply log transformation. This is the best strategy for this column data distribution (based on learnings in movies part 1)\n",
    "\n",
    "3. RunTime: We will use Trimming. Best strategy for this data distribution (based on learnings in movies part 1)."
   ]
  },
  {
   "cell_type": "code",
   "execution_count": 52,
   "metadata": {},
   "outputs": [
    {
     "data": {
      "text/html": [
       "<div>\n",
       "<style scoped>\n",
       "    .dataframe tbody tr th:only-of-type {\n",
       "        vertical-align: middle;\n",
       "    }\n",
       "\n",
       "    .dataframe tbody tr th {\n",
       "        vertical-align: top;\n",
       "    }\n",
       "\n",
       "    .dataframe thead th {\n",
       "        text-align: right;\n",
       "    }\n",
       "</style>\n",
       "<table border=\"1\" class=\"dataframe\">\n",
       "  <thead>\n",
       "    <tr style=\"text-align: right;\">\n",
       "      <th></th>\n",
       "      <th>Popularity</th>\n",
       "      <th>Budget</th>\n",
       "      <th>RunTime</th>\n",
       "    </tr>\n",
       "  </thead>\n",
       "  <tbody>\n",
       "    <tr>\n",
       "      <th>count</th>\n",
       "      <td>9930.000000</td>\n",
       "      <td>9.930000e+03</td>\n",
       "      <td>9930.000000</td>\n",
       "    </tr>\n",
       "    <tr>\n",
       "      <th>mean</th>\n",
       "      <td>34.311619</td>\n",
       "      <td>3.011147e+07</td>\n",
       "      <td>102.287915</td>\n",
       "    </tr>\n",
       "    <tr>\n",
       "      <th>std</th>\n",
       "      <td>84.601478</td>\n",
       "      <td>3.521380e+07</td>\n",
       "      <td>26.778256</td>\n",
       "    </tr>\n",
       "    <tr>\n",
       "      <th>min</th>\n",
       "      <td>13.049000</td>\n",
       "      <td>1.000000e+00</td>\n",
       "      <td>0.000000</td>\n",
       "    </tr>\n",
       "    <tr>\n",
       "      <th>25%</th>\n",
       "      <td>15.589250</td>\n",
       "      <td>1.800000e+07</td>\n",
       "      <td>91.000000</td>\n",
       "    </tr>\n",
       "    <tr>\n",
       "      <th>50%</th>\n",
       "      <td>20.098500</td>\n",
       "      <td>2.025706e+07</td>\n",
       "      <td>101.000000</td>\n",
       "    </tr>\n",
       "    <tr>\n",
       "      <th>75%</th>\n",
       "      <td>30.433000</td>\n",
       "      <td>2.800000e+07</td>\n",
       "      <td>115.000000</td>\n",
       "    </tr>\n",
       "    <tr>\n",
       "      <th>max</th>\n",
       "      <td>3741.062000</td>\n",
       "      <td>4.600000e+08</td>\n",
       "      <td>400.000000</td>\n",
       "    </tr>\n",
       "  </tbody>\n",
       "</table>\n",
       "</div>"
      ],
      "text/plain": [
       "        Popularity        Budget      RunTime\n",
       "count  9930.000000  9.930000e+03  9930.000000\n",
       "mean     34.311619  3.011147e+07   102.287915\n",
       "std      84.601478  3.521380e+07    26.778256\n",
       "min      13.049000  1.000000e+00     0.000000\n",
       "25%      15.589250  1.800000e+07    91.000000\n",
       "50%      20.098500  2.025706e+07   101.000000\n",
       "75%      30.433000  2.800000e+07   115.000000\n",
       "max    3741.062000  4.600000e+08   400.000000"
      ]
     },
     "execution_count": 52,
     "metadata": {},
     "output_type": "execute_result"
    }
   ],
   "source": [
    "numerical_df = df[numerical_columns]\n",
    "numerical_df.describe()"
   ]
  },
  {
   "cell_type": "code",
   "execution_count": 53,
   "metadata": {},
   "outputs": [
    {
     "data": {
      "text/plain": [
       "52.698625"
      ]
     },
     "execution_count": 53,
     "metadata": {},
     "output_type": "execute_result"
    }
   ],
   "source": [
    "# Getting upper whisker to determine user as a bin to discretize Popularity\n",
    "Q1_p = df['Popularity'].quantile(0.25)\n",
    "Q3_p = df['Popularity'].quantile(0.75)\n",
    "IQR_p = Q3_p - Q1_p\n",
    "upper_whisker_p = Q3_p + (1.5 * IQR_p)\n",
    "upper_whisker_p"
   ]
  },
  {
   "cell_type": "code",
   "execution_count": 54,
   "metadata": {},
   "outputs": [],
   "source": [
    "# Discretization Popularity (Target Column).\n",
    "\n",
    "df['Popularity_cat'] = np.digitize(df['Popularity'], bins=[16, 30, 53])"
   ]
  },
  {
   "cell_type": "code",
   "execution_count": 55,
   "metadata": {},
   "outputs": [
    {
     "data": {
      "text/plain": [
       "1    4597\n",
       "0    2798\n",
       "2    1522\n",
       "3    1013\n",
       "Name: Popularity_cat, dtype: int64"
      ]
     },
     "execution_count": 55,
     "metadata": {},
     "output_type": "execute_result"
    }
   ],
   "source": [
    "df['Popularity_cat'].value_counts()"
   ]
  },
  {
   "cell_type": "markdown",
   "metadata": {},
   "source": [
    "Note: Classes are imbalanced, this will be considered during model results analyis"
   ]
  },
  {
   "cell_type": "code",
   "execution_count": 56,
   "metadata": {},
   "outputs": [],
   "source": [
    "# method to return a copy of a data frame after trimming the numerical valiables\n",
    "\n",
    "def get_trimmed_data(data, numerical_columns):\n",
    "    result = data.copy()\n",
    "    for col in numerical_columns:\n",
    "        upper_q = np.quantile(data[col], 0.75)\n",
    "        lower_q = np.quantile(data[col], 0.25)\n",
    "        IQR = upper_q - lower_q\n",
    "        upper_whisker = upper_q + (1.5 * IQR)\n",
    "        lower_whisker = lower_q - (1.5 * IQR)\n",
    "        indexes = result[(result[col] > upper_whisker) | (result[col] < lower_whisker)].index\n",
    "        print(f'Droping {indexes.shape[0]} indexes for {col}')\n",
    "        result.drop(indexes, inplace=True)\n",
    "        print(f'Data final shape {result.shape}')\n",
    "    return result\n",
    "\n",
    "# Function to apply log tranformation to data, returns a copy with transformed columns\n",
    "def get_log_transformed_data(data, numerical_columns):\n",
    "    result = data.copy()\n",
    "    for col in numerical_columns:\n",
    "        result[col] = result[col].map(lambda x: np.log(x) if x > 0 else 0)\n",
    "    return result\n",
    "\n"
   ]
  },
  {
   "cell_type": "code",
   "execution_count": 57,
   "metadata": {},
   "outputs": [
    {
     "name": "stdout",
     "output_type": "stream",
     "text": [
      "Droping 676 indexes for RunTime\n",
      "Data final shape (9254, 31)\n"
     ]
    }
   ],
   "source": [
    "# Handling Outliers other columns\n",
    "\n",
    "# 1 Trimming column 'RunTime'\n",
    "movies_data_trimmed = get_trimmed_data(df, ['RunTime'])\n",
    "\n",
    "# Log tranformation for 'Budget'\n",
    "df = get_log_transformed_data(movies_data_trimmed, ['Budget'])\n"
   ]
  },
  {
   "cell_type": "code",
   "execution_count": 58,
   "metadata": {},
   "outputs": [
    {
     "data": {
      "image/png": "[encoded data removed]",
      "text/plain": [
       "<Figure size 1900x1000 with 2 Axes>"
      ]
     },
     "metadata": {},
     "output_type": "display_data"
    }
   ],
   "source": [
    "# checking final result for numerical columns\n",
    "numerical_columns = ['RunTime', 'Budget']\n",
    "\n",
    "fig, ax = plt.subplots(ncols = 2, figsize=(19,10))\n",
    "plt.subplots_adjust(wspace = 1)\n",
    "sns.set_palette(\"PRGn\")\n",
    "for i in range(len(numerical_columns)):\n",
    "    s = sns.boxplot(ax = ax[i], data = df[numerical_columns[i]])\n",
    "\n",
    "    ax[i].set_xlabel(numerical_columns[i])\n",
    "\n",
    "plt.show()"
   ]
  },
  {
   "cell_type": "code",
   "execution_count": 59,
   "metadata": {},
   "outputs": [],
   "source": [
    "df.drop('Popularity', axis=1, inplace=True)"
   ]
  },
  {
   "cell_type": "markdown",
   "metadata": {},
   "source": [
    "### 2.4 Textual Data"
   ]
  },
  {
   "cell_type": "code",
   "execution_count": 60,
   "metadata": {},
   "outputs": [
    {
     "data": {
      "text/plain": [
       "2000"
      ]
     },
     "execution_count": 60,
     "metadata": {},
     "output_type": "execute_result"
    }
   ],
   "source": [
    "# TagLine\n",
    "df['TagLine'].isna().sum()"
   ]
  },
  {
   "cell_type": "markdown",
   "metadata": {},
   "source": [
    "We will replace all the null in TagLine with the associative summerised value of Overview column"
   ]
  },
  {
   "cell_type": "code",
   "execution_count": 61,
   "metadata": {},
   "outputs": [
    {
     "name": "stdout",
     "output_type": "stream",
     "text": [
      "                                               Overview  \\\n",
      "0     Armed with every weapon they can get their han...   \n",
      "1     Robert McCall finds himself at home in Souther...   \n",
      "2     In 1980s Hollywood, action star Johnny Cage is...   \n",
      "4     A young pregnant woman named Mia escapes from ...   \n",
      "5     In 1956 France, a priest is violently murdered...   \n",
      "...                                                 ...   \n",
      "9995  When Eastern European criminals Oleg and Emil ...   \n",
      "9996  Under the watchful eye of his mentor, Captain ...   \n",
      "9997  40-year-old Bertrand has been suffering from d...   \n",
      "9998  A man stranded in the Arctic is finally about ...   \n",
      "9999  Tells the story of Justin Bieber, the kid from...   \n",
      "\n",
      "                                                TagLine  \n",
      "0                        They'll die when they're dead.  \n",
      "1                             Justice knows no borders.  \n",
      "2     Neon lights... Suits with shoulder pads... Jum...  \n",
      "4     Attempting to survive in the middle of nowhere...  \n",
      "5                                    Confess your sins.  \n",
      "...                                                 ...  \n",
      "9995                             America Likes to Watch  \n",
      "9996  Their greatest challenge lies in rescuing one ...  \n",
      "9997   year old bertrand has been suffering from dep...  \n",
      "9998                        Survival is the only option  \n",
      "9999     Find out what's possible if you never give up.  \n",
      "\n",
      "[9254 rows x 2 columns]\n"
     ]
    }
   ],
   "source": [
    "# Method to summarize the overview column\n",
    "def summarize_overview(overview_text):\n",
    "    # Check if the overview_text is a valid string\n",
    "    if isinstance(overview_text, str):\n",
    "        # Preprocessing the data\n",
    "        clean_text = re.sub(r'\\W', ' ', overview_text.lower())\n",
    "        clean_text = re.sub(r'\\d', ' ', clean_text)\n",
    "        clean_text = re.sub(r'\\s+', ' ', clean_text)\n",
    "\n",
    "        # Tokenize sentences\n",
    "        sentences = nltk.sent_tokenize(clean_text)\n",
    "\n",
    "        # Stopword list\n",
    "        stop_words = nltk.corpus.stopwords.words('english')\n",
    "\n",
    "        # Word counts\n",
    "        word2count = {}\n",
    "        for word in nltk.word_tokenize(clean_text):\n",
    "            if word not in stop_words:\n",
    "                if word not in word2count.keys():\n",
    "                    word2count[word] = 1\n",
    "                else:\n",
    "                    word2count[word] += 1\n",
    "\n",
    "        # Converting counts to weights\n",
    "        max_count = max(word2count.values())\n",
    "        for key in word2count.keys():\n",
    "            word2count[key] = word2count[key] / max_count\n",
    "\n",
    "        # Product sentence scores\n",
    "        sent2score = {}\n",
    "        for sentence in sentences:\n",
    "            for word in nltk.word_tokenize(sentence.lower()):\n",
    "                if word in word2count.keys():\n",
    "                    if len(sentence.split(' ')) < 25:\n",
    "                        if sentence not in sent2score.keys():\n",
    "                            sent2score[sentence] = word2count[word]\n",
    "                        else:\n",
    "                            sent2score[sentence] += word2count[word]\n",
    "\n",
    "        # Find the top sentence to use as a summary\n",
    "        if sent2score:\n",
    "            summary_sentence = heapq.nlargest(1, sent2score, key=sent2score.get)[0]\n",
    "            return summary_sentence\n",
    "        else:\n",
    "            return clean_text  # Use the entire cleaned text as the summary\n",
    "\n",
    "    else:\n",
    "        return overview_text  # If not a string, return the original value\n",
    "\n",
    "# Apply the summarization function to rows with null 'TagLine'\n",
    "null_tagline_rows = df[df['TagLine'].isnull()]\n",
    "\n",
    "# Apply the summarize_overview function to 'Overview'\n",
    "summaries = df.loc[null_tagline_rows.index, 'Overview'].apply(summarize_overview)\n",
    "\n",
    "# Replace null values in 'TagLine' with the summarized values\n",
    "df.loc[null_tagline_rows.index, 'TagLine'] = summaries\n",
    "\n",
    "# Display the updated DataFrame\n",
    "print(df[['Overview', 'TagLine']])"
   ]
  },
  {
   "cell_type": "code",
   "execution_count": 62,
   "metadata": {},
   "outputs": [],
   "source": [
    "# Removing OriginalTitle as it is same as Title but in original language\n",
    "df.drop('OriginalTitle', axis=1, inplace=True)"
   ]
  },
  {
   "cell_type": "markdown",
   "metadata": {},
   "source": [
    "### 2.5 Columns Transformation"
   ]
  },
  {
   "cell_type": "markdown",
   "metadata": {},
   "source": [
    "#### 2.5.1 Categoricals and Numericals"
   ]
  },
  {
   "cell_type": "code",
   "execution_count": 63,
   "metadata": {},
   "outputs": [],
   "source": [
    "# spliting data before doing transformations\n",
    "\n",
    "Y_df = df['Popularity_cat']\n",
    "X_df = df.drop('Popularity_cat', axis=1)\n",
    "# Stratify is set to true as the classes are imbalanced\n",
    "\n",
    "X_train, X_test, y_train, y_test = train_test_split(X_df, Y_df, test_size=0.2, stratify=Y_df, random_state=42)"
   ]
  },
  {
   "cell_type": "code",
   "execution_count": 64,
   "metadata": {},
   "outputs": [
    {
     "data": {
      "text/plain": [
       "(9254, 29)"
      ]
     },
     "execution_count": 64,
     "metadata": {},
     "output_type": "execute_result"
    }
   ],
   "source": [
    "df.shape"
   ]
  },
  {
   "cell_type": "code",
   "execution_count": 65,
   "metadata": {},
   "outputs": [
    {
     "data": {
      "text/html": [
       "<div>\n",
       "<style scoped>\n",
       "    .dataframe tbody tr th:only-of-type {\n",
       "        vertical-align: middle;\n",
       "    }\n",
       "\n",
       "    .dataframe tbody tr th {\n",
       "        vertical-align: top;\n",
       "    }\n",
       "\n",
       "    .dataframe thead th {\n",
       "        text-align: right;\n",
       "    }\n",
       "</style>\n",
       "<table border=\"1\" class=\"dataframe\">\n",
       "  <thead>\n",
       "    <tr style=\"text-align: right;\">\n",
       "      <th></th>\n",
       "      <th>OriginalLanguage</th>\n",
       "      <th>Budget</th>\n",
       "      <th>RunTime</th>\n",
       "      <th>Action</th>\n",
       "      <th>Adventure</th>\n",
       "      <th>Animation</th>\n",
       "      <th>Comedy</th>\n",
       "      <th>Crime</th>\n",
       "      <th>Documentary</th>\n",
       "      <th>Drama</th>\n",
       "      <th>...</th>\n",
       "      <th>Mystery</th>\n",
       "      <th>Romance</th>\n",
       "      <th>ScienceFiction</th>\n",
       "      <th>TvMovie</th>\n",
       "      <th>Thriller</th>\n",
       "      <th>War</th>\n",
       "      <th>Western</th>\n",
       "      <th>ReleaseYear</th>\n",
       "      <th>ReleaseMonth</th>\n",
       "      <th>Popularity_cat</th>\n",
       "    </tr>\n",
       "  </thead>\n",
       "  <tbody>\n",
       "    <tr>\n",
       "      <th>count</th>\n",
       "      <td>9254.000000</td>\n",
       "      <td>9254.000000</td>\n",
       "      <td>9254.000000</td>\n",
       "      <td>9254.000000</td>\n",
       "      <td>9254.000000</td>\n",
       "      <td>9254.000000</td>\n",
       "      <td>9254.000000</td>\n",
       "      <td>9254.000000</td>\n",
       "      <td>9254.000000</td>\n",
       "      <td>9254.000000</td>\n",
       "      <td>...</td>\n",
       "      <td>9254.000000</td>\n",
       "      <td>9254.000000</td>\n",
       "      <td>9254.000000</td>\n",
       "      <td>9254.000000</td>\n",
       "      <td>9254.000000</td>\n",
       "      <td>9254.000000</td>\n",
       "      <td>9254.000000</td>\n",
       "      <td>9254.000000</td>\n",
       "      <td>9254.000000</td>\n",
       "      <td>9254.000000</td>\n",
       "    </tr>\n",
       "    <tr>\n",
       "      <th>mean</th>\n",
       "      <td>5744.105360</td>\n",
       "      <td>16.708664</td>\n",
       "      <td>103.469527</td>\n",
       "      <td>0.279987</td>\n",
       "      <td>0.188675</td>\n",
       "      <td>0.120596</td>\n",
       "      <td>0.306678</td>\n",
       "      <td>0.136157</td>\n",
       "      <td>0.012319</td>\n",
       "      <td>0.378539</td>\n",
       "      <td>...</td>\n",
       "      <td>0.092392</td>\n",
       "      <td>0.160903</td>\n",
       "      <td>0.124163</td>\n",
       "      <td>0.019127</td>\n",
       "      <td>0.279014</td>\n",
       "      <td>0.027772</td>\n",
       "      <td>0.015345</td>\n",
       "      <td>2007.090015</td>\n",
       "      <td>6.857899</td>\n",
       "      <td>1.064945</td>\n",
       "    </tr>\n",
       "    <tr>\n",
       "      <th>std</th>\n",
       "      <td>3076.228407</td>\n",
       "      <td>1.293350</td>\n",
       "      <td>16.855970</td>\n",
       "      <td>0.449017</td>\n",
       "      <td>0.391272</td>\n",
       "      <td>0.325675</td>\n",
       "      <td>0.461140</td>\n",
       "      <td>0.342974</td>\n",
       "      <td>0.110311</td>\n",
       "      <td>0.485049</td>\n",
       "      <td>...</td>\n",
       "      <td>0.289595</td>\n",
       "      <td>0.367462</td>\n",
       "      <td>0.329785</td>\n",
       "      <td>0.136978</td>\n",
       "      <td>0.448539</td>\n",
       "      <td>0.164327</td>\n",
       "      <td>0.122926</td>\n",
       "      <td>15.949010</td>\n",
       "      <td>3.369916</td>\n",
       "      <td>0.909380</td>\n",
       "    </tr>\n",
       "    <tr>\n",
       "      <th>min</th>\n",
       "      <td>1.000000</td>\n",
       "      <td>0.000000</td>\n",
       "      <td>55.000000</td>\n",
       "      <td>0.000000</td>\n",
       "      <td>0.000000</td>\n",
       "      <td>0.000000</td>\n",
       "      <td>0.000000</td>\n",
       "      <td>0.000000</td>\n",
       "      <td>0.000000</td>\n",
       "      <td>0.000000</td>\n",
       "      <td>...</td>\n",
       "      <td>0.000000</td>\n",
       "      <td>0.000000</td>\n",
       "      <td>0.000000</td>\n",
       "      <td>0.000000</td>\n",
       "      <td>0.000000</td>\n",
       "      <td>0.000000</td>\n",
       "      <td>0.000000</td>\n",
       "      <td>1920.000000</td>\n",
       "      <td>1.000000</td>\n",
       "      <td>0.000000</td>\n",
       "    </tr>\n",
       "    <tr>\n",
       "      <th>25%</th>\n",
       "      <td>7477.000000</td>\n",
       "      <td>16.648724</td>\n",
       "      <td>92.000000</td>\n",
       "      <td>0.000000</td>\n",
       "      <td>0.000000</td>\n",
       "      <td>0.000000</td>\n",
       "      <td>0.000000</td>\n",
       "      <td>0.000000</td>\n",
       "      <td>0.000000</td>\n",
       "      <td>0.000000</td>\n",
       "      <td>...</td>\n",
       "      <td>0.000000</td>\n",
       "      <td>0.000000</td>\n",
       "      <td>0.000000</td>\n",
       "      <td>0.000000</td>\n",
       "      <td>0.000000</td>\n",
       "      <td>0.000000</td>\n",
       "      <td>0.000000</td>\n",
       "      <td>2000.000000</td>\n",
       "      <td>4.000000</td>\n",
       "      <td>0.000000</td>\n",
       "    </tr>\n",
       "    <tr>\n",
       "      <th>50%</th>\n",
       "      <td>7477.000000</td>\n",
       "      <td>16.827926</td>\n",
       "      <td>101.000000</td>\n",
       "      <td>0.000000</td>\n",
       "      <td>0.000000</td>\n",
       "      <td>0.000000</td>\n",
       "      <td>0.000000</td>\n",
       "      <td>0.000000</td>\n",
       "      <td>0.000000</td>\n",
       "      <td>0.000000</td>\n",
       "      <td>...</td>\n",
       "      <td>0.000000</td>\n",
       "      <td>0.000000</td>\n",
       "      <td>0.000000</td>\n",
       "      <td>0.000000</td>\n",
       "      <td>0.000000</td>\n",
       "      <td>0.000000</td>\n",
       "      <td>0.000000</td>\n",
       "      <td>2012.000000</td>\n",
       "      <td>7.000000</td>\n",
       "      <td>1.000000</td>\n",
       "    </tr>\n",
       "    <tr>\n",
       "      <th>75%</th>\n",
       "      <td>7477.000000</td>\n",
       "      <td>17.152293</td>\n",
       "      <td>115.000000</td>\n",
       "      <td>1.000000</td>\n",
       "      <td>0.000000</td>\n",
       "      <td>0.000000</td>\n",
       "      <td>1.000000</td>\n",
       "      <td>0.000000</td>\n",
       "      <td>0.000000</td>\n",
       "      <td>1.000000</td>\n",
       "      <td>...</td>\n",
       "      <td>0.000000</td>\n",
       "      <td>0.000000</td>\n",
       "      <td>0.000000</td>\n",
       "      <td>0.000000</td>\n",
       "      <td>1.000000</td>\n",
       "      <td>0.000000</td>\n",
       "      <td>0.000000</td>\n",
       "      <td>2019.000000</td>\n",
       "      <td>10.000000</td>\n",
       "      <td>2.000000</td>\n",
       "    </tr>\n",
       "    <tr>\n",
       "      <th>max</th>\n",
       "      <td>7477.000000</td>\n",
       "      <td>19.753047</td>\n",
       "      <td>151.000000</td>\n",
       "      <td>1.000000</td>\n",
       "      <td>1.000000</td>\n",
       "      <td>1.000000</td>\n",
       "      <td>1.000000</td>\n",
       "      <td>1.000000</td>\n",
       "      <td>1.000000</td>\n",
       "      <td>1.000000</td>\n",
       "      <td>...</td>\n",
       "      <td>1.000000</td>\n",
       "      <td>1.000000</td>\n",
       "      <td>1.000000</td>\n",
       "      <td>1.000000</td>\n",
       "      <td>1.000000</td>\n",
       "      <td>1.000000</td>\n",
       "      <td>1.000000</td>\n",
       "      <td>2024.000000</td>\n",
       "      <td>12.000000</td>\n",
       "      <td>3.000000</td>\n",
       "    </tr>\n",
       "  </tbody>\n",
       "</table>\n",
       "<p>8 rows × 25 columns</p>\n",
       "</div>"
      ],
      "text/plain": [
       "       OriginalLanguage       Budget      RunTime       Action    Adventure  \\\n",
       "count       9254.000000  9254.000000  9254.000000  9254.000000  9254.000000   \n",
       "mean        5744.105360    16.708664   103.469527     0.279987     0.188675   \n",
       "std         3076.228407     1.293350    16.855970     0.449017     0.391272   \n",
       "min            1.000000     0.000000    55.000000     0.000000     0.000000   \n",
       "25%         7477.000000    16.648724    92.000000     0.000000     0.000000   \n",
       "50%         7477.000000    16.827926   101.000000     0.000000     0.000000   \n",
       "75%         7477.000000    17.152293   115.000000     1.000000     0.000000   \n",
       "max         7477.000000    19.753047   151.000000     1.000000     1.000000   \n",
       "\n",
       "         Animation       Comedy        Crime  Documentary        Drama  ...  \\\n",
       "count  9254.000000  9254.000000  9254.000000  9254.000000  9254.000000  ...   \n",
       "mean      0.120596     0.306678     0.136157     0.012319     0.378539  ...   \n",
       "std       0.325675     0.461140     0.342974     0.110311     0.485049  ...   \n",
       "min       0.000000     0.000000     0.000000     0.000000     0.000000  ...   \n",
       "25%       0.000000     0.000000     0.000000     0.000000     0.000000  ...   \n",
       "50%       0.000000     0.000000     0.000000     0.000000     0.000000  ...   \n",
       "75%       0.000000     1.000000     0.000000     0.000000     1.000000  ...   \n",
       "max       1.000000     1.000000     1.000000     1.000000     1.000000  ...   \n",
       "\n",
       "           Mystery      Romance  ScienceFiction      TvMovie     Thriller  \\\n",
       "count  9254.000000  9254.000000     9254.000000  9254.000000  9254.000000   \n",
       "mean      0.092392     0.160903        0.124163     0.019127     0.279014   \n",
       "std       0.289595     0.367462        0.329785     0.136978     0.448539   \n",
       "min       0.000000     0.000000        0.000000     0.000000     0.000000   \n",
       "25%       0.000000     0.000000        0.000000     0.000000     0.000000   \n",
       "50%       0.000000     0.000000        0.000000     0.000000     0.000000   \n",
       "75%       0.000000     0.000000        0.000000     0.000000     1.000000   \n",
       "max       1.000000     1.000000        1.000000     1.000000     1.000000   \n",
       "\n",
       "               War      Western  ReleaseYear  ReleaseMonth  Popularity_cat  \n",
       "count  9254.000000  9254.000000  9254.000000   9254.000000     9254.000000  \n",
       "mean      0.027772     0.015345  2007.090015      6.857899        1.064945  \n",
       "std       0.164327     0.122926    15.949010      3.369916        0.909380  \n",
       "min       0.000000     0.000000  1920.000000      1.000000        0.000000  \n",
       "25%       0.000000     0.000000  2000.000000      4.000000        0.000000  \n",
       "50%       0.000000     0.000000  2012.000000      7.000000        1.000000  \n",
       "75%       0.000000     0.000000  2019.000000     10.000000        2.000000  \n",
       "max       1.000000     1.000000  2024.000000     12.000000        3.000000  \n",
       "\n",
       "[8 rows x 25 columns]"
      ]
     },
     "execution_count": 65,
     "metadata": {},
     "output_type": "execute_result"
    }
   ],
   "source": [
    "df.describe()"
   ]
  },
  {
   "cell_type": "code",
   "execution_count": 66,
   "metadata": {},
   "outputs": [
    {
     "data": {
      "text/plain": [
       "Index(['OriginalLanguage', 'Overview', 'Title', 'Budget', 'TagLine', 'RunTime',\n",
       "       'Action', 'Adventure', 'Animation', 'Comedy', 'Crime', 'Documentary',\n",
       "       'Drama', 'Family', 'Fantasy', 'History ', 'Horror', 'Music', 'Mystery',\n",
       "       'Romance', 'ScienceFiction', 'TvMovie', 'Thriller', 'War', 'Western',\n",
       "       'Region', 'ReleaseYear', 'ReleaseMonth', 'Popularity_cat'],\n",
       "      dtype='object')"
      ]
     },
     "execution_count": 66,
     "metadata": {},
     "output_type": "execute_result"
    }
   ],
   "source": [
    "df.columns"
   ]
  },
  {
   "cell_type": "code",
   "execution_count": 67,
   "metadata": {},
   "outputs": [],
   "source": [
    "# Transforming no textual data\n",
    "numeric_cols = ['Budget', 'RunTime', 'OriginalLanguage', 'ReleaseYear', 'ReleaseMonth']\n",
    "cat_data = ['Region']\n",
    "\n",
    "numeric_transformer = Pipeline(steps=[\n",
    "    ('scaler', MinMaxScaler()),\n",
    "])\n",
    "\n",
    "cat_transformer = Pipeline(steps=[\n",
    "    ('one-hot', OneHotEncoder())\n",
    "])\n",
    "\n",
    "preprocessor = ColumnTransformer(\n",
    "    transformers=[\n",
    "        ('num', numeric_transformer, numeric_cols),\n",
    "        ('cat', cat_transformer, cat_data)\n",
    "    ])\n",
    "\n",
    "# Transformed no textual columns\n",
    "X_transformed_train = preprocessor.fit_transform(X_train)\n",
    "X_transformed_test = preprocessor.transform(X_test)"
   ]
  },
  {
   "cell_type": "code",
   "execution_count": 68,
   "metadata": {},
   "outputs": [],
   "source": [
    "# create a data frame with not textual columns\n",
    "\n",
    "features = preprocessor.get_feature_names_out()"
   ]
  },
  {
   "cell_type": "code",
   "execution_count": 69,
   "metadata": {},
   "outputs": [
    {
     "name": "stdout",
     "output_type": "stream",
     "text": [
      "No textual df.shape: (7403, 11)\n",
      "No textual df.shape: (1851, 11)\n"
     ]
    }
   ],
   "source": [
    "# create data frames without textual data\n",
    "df_train = pd.DataFrame(X_transformed_train, columns=features)\n",
    "df_test = pd.DataFrame(X_transformed_test, columns=features)\n",
    "\n",
    "print(f\"No textual df.shape: {df_train.shape}\")\n",
    "print(f\"No textual df.shape: {df_test.shape}\")"
   ]
  },
  {
   "cell_type": "code",
   "execution_count": 70,
   "metadata": {},
   "outputs": [
    {
     "data": {
      "text/html": [
       "<div>\n",
       "<style scoped>\n",
       "    .dataframe tbody tr th:only-of-type {\n",
       "        vertical-align: middle;\n",
       "    }\n",
       "\n",
       "    .dataframe tbody tr th {\n",
       "        vertical-align: top;\n",
       "    }\n",
       "\n",
       "    .dataframe thead th {\n",
       "        text-align: right;\n",
       "    }\n",
       "</style>\n",
       "<table border=\"1\" class=\"dataframe\">\n",
       "  <thead>\n",
       "    <tr style=\"text-align: right;\">\n",
       "      <th></th>\n",
       "      <th>num__Budget</th>\n",
       "      <th>num__RunTime</th>\n",
       "      <th>num__OriginalLanguage</th>\n",
       "      <th>num__ReleaseYear</th>\n",
       "      <th>num__ReleaseMonth</th>\n",
       "      <th>cat__Region_Africa</th>\n",
       "      <th>cat__Region_Asia</th>\n",
       "      <th>cat__Region_Europe</th>\n",
       "      <th>cat__Region_North America</th>\n",
       "      <th>cat__Region_Oceania</th>\n",
       "      <th>cat__Region_South America</th>\n",
       "    </tr>\n",
       "  </thead>\n",
       "  <tbody>\n",
       "    <tr>\n",
       "      <th>0</th>\n",
       "      <td>0.886162</td>\n",
       "      <td>1.000000</td>\n",
       "      <td>1.0</td>\n",
       "      <td>0.990291</td>\n",
       "      <td>0.909091</td>\n",
       "      <td>0.0</td>\n",
       "      <td>0.0</td>\n",
       "      <td>0.0</td>\n",
       "      <td>1.0</td>\n",
       "      <td>0.0</td>\n",
       "      <td>0.0</td>\n",
       "    </tr>\n",
       "    <tr>\n",
       "      <th>1</th>\n",
       "      <td>0.910741</td>\n",
       "      <td>0.520833</td>\n",
       "      <td>1.0</td>\n",
       "      <td>0.951456</td>\n",
       "      <td>0.363636</td>\n",
       "      <td>0.0</td>\n",
       "      <td>0.0</td>\n",
       "      <td>1.0</td>\n",
       "      <td>0.0</td>\n",
       "      <td>0.0</td>\n",
       "      <td>0.0</td>\n",
       "    </tr>\n",
       "    <tr>\n",
       "      <th>2</th>\n",
       "      <td>0.852716</td>\n",
       "      <td>0.739583</td>\n",
       "      <td>1.0</td>\n",
       "      <td>0.990291</td>\n",
       "      <td>0.727273</td>\n",
       "      <td>0.0</td>\n",
       "      <td>0.0</td>\n",
       "      <td>0.0</td>\n",
       "      <td>1.0</td>\n",
       "      <td>0.0</td>\n",
       "      <td>0.0</td>\n",
       "    </tr>\n",
       "    <tr>\n",
       "      <th>3</th>\n",
       "      <td>0.921252</td>\n",
       "      <td>0.822917</td>\n",
       "      <td>1.0</td>\n",
       "      <td>0.757282</td>\n",
       "      <td>0.090909</td>\n",
       "      <td>0.0</td>\n",
       "      <td>0.0</td>\n",
       "      <td>0.0</td>\n",
       "      <td>1.0</td>\n",
       "      <td>0.0</td>\n",
       "      <td>0.0</td>\n",
       "    </tr>\n",
       "    <tr>\n",
       "      <th>4</th>\n",
       "      <td>0.851202</td>\n",
       "      <td>0.322917</td>\n",
       "      <td>1.0</td>\n",
       "      <td>0.990291</td>\n",
       "      <td>0.636364</td>\n",
       "      <td>0.0</td>\n",
       "      <td>0.0</td>\n",
       "      <td>0.0</td>\n",
       "      <td>1.0</td>\n",
       "      <td>0.0</td>\n",
       "      <td>0.0</td>\n",
       "    </tr>\n",
       "  </tbody>\n",
       "</table>\n",
       "</div>"
      ],
      "text/plain": [
       "   num__Budget  num__RunTime  num__OriginalLanguage  num__ReleaseYear  \\\n",
       "0     0.886162      1.000000                    1.0          0.990291   \n",
       "1     0.910741      0.520833                    1.0          0.951456   \n",
       "2     0.852716      0.739583                    1.0          0.990291   \n",
       "3     0.921252      0.822917                    1.0          0.757282   \n",
       "4     0.851202      0.322917                    1.0          0.990291   \n",
       "\n",
       "   num__ReleaseMonth  cat__Region_Africa  cat__Region_Asia  \\\n",
       "0           0.909091                 0.0               0.0   \n",
       "1           0.363636                 0.0               0.0   \n",
       "2           0.727273                 0.0               0.0   \n",
       "3           0.090909                 0.0               0.0   \n",
       "4           0.636364                 0.0               0.0   \n",
       "\n",
       "   cat__Region_Europe  cat__Region_North America  cat__Region_Oceania  \\\n",
       "0                 0.0                        1.0                  0.0   \n",
       "1                 1.0                        0.0                  0.0   \n",
       "2                 0.0                        1.0                  0.0   \n",
       "3                 0.0                        1.0                  0.0   \n",
       "4                 0.0                        1.0                  0.0   \n",
       "\n",
       "   cat__Region_South America  \n",
       "0                        0.0  \n",
       "1                        0.0  \n",
       "2                        0.0  \n",
       "3                        0.0  \n",
       "4                        0.0  "
      ]
     },
     "execution_count": 70,
     "metadata": {},
     "output_type": "execute_result"
    }
   ],
   "source": [
    "df_train.head()"
   ]
  },
  {
   "cell_type": "markdown",
   "metadata": {},
   "source": [
    "#### 2.5.2 Textual Data Vectorizing"
   ]
  },
  {
   "cell_type": "code",
   "execution_count": null,
   "metadata": {},
   "outputs": [],
   "source": [
    "total_text_train = X_train['Title'] + \" \" + X_train['TagLine'] + \" \" + X_train['Overview']\n",
    "total_text_test = X_test['Title'] + \" \" + X_test['TagLine'] + \" \" + X_test['Overview']"
   ]
  },
  {
   "cell_type": "markdown",
   "metadata": {},
   "source": [
    "##### Doc2Vec"
   ]
  },
  {
   "cell_type": "code",
   "execution_count": 71,
   "metadata": {},
   "outputs": [],
   "source": [
    "# Creating Embeddings using Doc2Vec for TagLine Column\n",
    "\n",
    "def create_embeddings(train_data, test_data):\n",
    "    sentences = [text.split() for text in train_data]\n",
    "    model = Word2Vec(sentences, vector_size=100, window=5, min_count=1, workers=4)\n",
    "\n",
    "    def get_embedding(text):\n",
    "        words_in_vocab = [model.wv[word] for word in text.split() if word in model.wv]\n",
    "        return np.mean(words_in_vocab, axis=0) if words_in_vocab else np.zeros(model.vector_size)\n",
    "\n",
    "    embeddings_train = np.array([get_embedding(text) for text in train_data])\n",
    "    embeddings_test = np.array([get_embedding(text) for text in test_data])\n",
    "    \n",
    "    return embeddings_train, embeddings_test"
   ]
  },
  {
   "cell_type": "code",
   "execution_count": 196,
   "metadata": {},
   "outputs": [],
   "source": [
    "embeddings_train, embeddings_test = create_embeddings(total_text_train, total_text_test)"
   ]
  },
  {
   "cell_type": "code",
   "execution_count": 197,
   "metadata": {},
   "outputs": [
    {
     "data": {
      "text/plain": [
       "(7403, 100)"
      ]
     },
     "execution_count": 197,
     "metadata": {},
     "output_type": "execute_result"
    }
   ],
   "source": [
    "embeddings_train.shape"
   ]
  },
  {
   "cell_type": "code",
   "execution_count": 198,
   "metadata": {},
   "outputs": [
    {
     "data": {
      "text/plain": [
       "(1851, 100)"
      ]
     },
     "execution_count": 198,
     "metadata": {},
     "output_type": "execute_result"
    }
   ],
   "source": [
    "embeddings_test.shape"
   ]
  },
  {
   "cell_type": "code",
   "execution_count": 199,
   "metadata": {},
   "outputs": [
    {
     "data": {
      "text/html": [
       "<div>\n",
       "<style scoped>\n",
       "    .dataframe tbody tr th:only-of-type {\n",
       "        vertical-align: middle;\n",
       "    }\n",
       "\n",
       "    .dataframe tbody tr th {\n",
       "        vertical-align: top;\n",
       "    }\n",
       "\n",
       "    .dataframe thead th {\n",
       "        text-align: right;\n",
       "    }\n",
       "</style>\n",
       "<table border=\"1\" class=\"dataframe\">\n",
       "  <thead>\n",
       "    <tr style=\"text-align: right;\">\n",
       "      <th></th>\n",
       "      <th>0</th>\n",
       "      <th>1</th>\n",
       "      <th>2</th>\n",
       "      <th>3</th>\n",
       "      <th>4</th>\n",
       "      <th>5</th>\n",
       "      <th>6</th>\n",
       "      <th>7</th>\n",
       "      <th>8</th>\n",
       "      <th>9</th>\n",
       "      <th>...</th>\n",
       "      <th>90</th>\n",
       "      <th>91</th>\n",
       "      <th>92</th>\n",
       "      <th>93</th>\n",
       "      <th>94</th>\n",
       "      <th>95</th>\n",
       "      <th>96</th>\n",
       "      <th>97</th>\n",
       "      <th>98</th>\n",
       "      <th>99</th>\n",
       "    </tr>\n",
       "  </thead>\n",
       "  <tbody>\n",
       "    <tr>\n",
       "      <th>0</th>\n",
       "      <td>-0.535561</td>\n",
       "      <td>0.599032</td>\n",
       "      <td>0.173885</td>\n",
       "      <td>0.787323</td>\n",
       "      <td>0.325266</td>\n",
       "      <td>-0.863383</td>\n",
       "      <td>0.777936</td>\n",
       "      <td>1.354529</td>\n",
       "      <td>-0.863789</td>\n",
       "      <td>-0.792303</td>\n",
       "      <td>...</td>\n",
       "      <td>0.813967</td>\n",
       "      <td>0.257221</td>\n",
       "      <td>0.320657</td>\n",
       "      <td>-0.311857</td>\n",
       "      <td>1.321870</td>\n",
       "      <td>0.633968</td>\n",
       "      <td>0.487476</td>\n",
       "      <td>-0.454670</td>\n",
       "      <td>0.162631</td>\n",
       "      <td>0.377413</td>\n",
       "    </tr>\n",
       "    <tr>\n",
       "      <th>1</th>\n",
       "      <td>-0.652740</td>\n",
       "      <td>0.585045</td>\n",
       "      <td>0.311062</td>\n",
       "      <td>0.861401</td>\n",
       "      <td>0.389248</td>\n",
       "      <td>-0.935660</td>\n",
       "      <td>0.929470</td>\n",
       "      <td>1.330163</td>\n",
       "      <td>-0.930746</td>\n",
       "      <td>-0.901951</td>\n",
       "      <td>...</td>\n",
       "      <td>0.944966</td>\n",
       "      <td>0.324387</td>\n",
       "      <td>0.319039</td>\n",
       "      <td>-0.408707</td>\n",
       "      <td>1.493004</td>\n",
       "      <td>0.842682</td>\n",
       "      <td>0.461415</td>\n",
       "      <td>-0.475741</td>\n",
       "      <td>0.192132</td>\n",
       "      <td>0.398623</td>\n",
       "    </tr>\n",
       "    <tr>\n",
       "      <th>2</th>\n",
       "      <td>-0.466821</td>\n",
       "      <td>0.569162</td>\n",
       "      <td>0.200386</td>\n",
       "      <td>0.715743</td>\n",
       "      <td>0.299330</td>\n",
       "      <td>-0.773888</td>\n",
       "      <td>0.667537</td>\n",
       "      <td>1.209420</td>\n",
       "      <td>-0.755465</td>\n",
       "      <td>-0.663481</td>\n",
       "      <td>...</td>\n",
       "      <td>0.926301</td>\n",
       "      <td>0.264952</td>\n",
       "      <td>0.308866</td>\n",
       "      <td>-0.330263</td>\n",
       "      <td>1.088862</td>\n",
       "      <td>0.565426</td>\n",
       "      <td>0.345035</td>\n",
       "      <td>-0.492250</td>\n",
       "      <td>-0.003372</td>\n",
       "      <td>0.267152</td>\n",
       "    </tr>\n",
       "    <tr>\n",
       "      <th>3</th>\n",
       "      <td>-0.417895</td>\n",
       "      <td>0.535597</td>\n",
       "      <td>0.153383</td>\n",
       "      <td>0.654729</td>\n",
       "      <td>0.264654</td>\n",
       "      <td>-0.825646</td>\n",
       "      <td>0.707296</td>\n",
       "      <td>1.354231</td>\n",
       "      <td>-0.860005</td>\n",
       "      <td>-0.687759</td>\n",
       "      <td>...</td>\n",
       "      <td>0.822179</td>\n",
       "      <td>0.285176</td>\n",
       "      <td>0.332714</td>\n",
       "      <td>-0.245267</td>\n",
       "      <td>1.240775</td>\n",
       "      <td>0.579977</td>\n",
       "      <td>0.426749</td>\n",
       "      <td>-0.480256</td>\n",
       "      <td>0.126094</td>\n",
       "      <td>0.256486</td>\n",
       "    </tr>\n",
       "    <tr>\n",
       "      <th>4</th>\n",
       "      <td>-0.605728</td>\n",
       "      <td>0.704422</td>\n",
       "      <td>0.206547</td>\n",
       "      <td>0.939331</td>\n",
       "      <td>0.424457</td>\n",
       "      <td>-0.894589</td>\n",
       "      <td>0.866200</td>\n",
       "      <td>1.481723</td>\n",
       "      <td>-0.911881</td>\n",
       "      <td>-0.811484</td>\n",
       "      <td>...</td>\n",
       "      <td>0.971669</td>\n",
       "      <td>0.351817</td>\n",
       "      <td>0.402332</td>\n",
       "      <td>-0.429992</td>\n",
       "      <td>1.466660</td>\n",
       "      <td>0.760804</td>\n",
       "      <td>0.453262</td>\n",
       "      <td>-0.559997</td>\n",
       "      <td>0.011038</td>\n",
       "      <td>0.289288</td>\n",
       "    </tr>\n",
       "  </tbody>\n",
       "</table>\n",
       "<p>5 rows × 100 columns</p>\n",
       "</div>"
      ],
      "text/plain": [
       "         0         1         2         3         4         5         6   \\\n",
       "0 -0.535561  0.599032  0.173885  0.787323  0.325266 -0.863383  0.777936   \n",
       "1 -0.652740  0.585045  0.311062  0.861401  0.389248 -0.935660  0.929470   \n",
       "2 -0.466821  0.569162  0.200386  0.715743  0.299330 -0.773888  0.667537   \n",
       "3 -0.417895  0.535597  0.153383  0.654729  0.264654 -0.825646  0.707296   \n",
       "4 -0.605728  0.704422  0.206547  0.939331  0.424457 -0.894589  0.866200   \n",
       "\n",
       "         7         8         9   ...        90        91        92        93  \\\n",
       "0  1.354529 -0.863789 -0.792303  ...  0.813967  0.257221  0.320657 -0.311857   \n",
       "1  1.330163 -0.930746 -0.901951  ...  0.944966  0.324387  0.319039 -0.408707   \n",
       "2  1.209420 -0.755465 -0.663481  ...  0.926301  0.264952  0.308866 -0.330263   \n",
       "3  1.354231 -0.860005 -0.687759  ...  0.822179  0.285176  0.332714 -0.245267   \n",
       "4  1.481723 -0.911881 -0.811484  ...  0.971669  0.351817  0.402332 -0.429992   \n",
       "\n",
       "         94        95        96        97        98        99  \n",
       "0  1.321870  0.633968  0.487476 -0.454670  0.162631  0.377413  \n",
       "1  1.493004  0.842682  0.461415 -0.475741  0.192132  0.398623  \n",
       "2  1.088862  0.565426  0.345035 -0.492250 -0.003372  0.267152  \n",
       "3  1.240775  0.579977  0.426749 -0.480256  0.126094  0.256486  \n",
       "4  1.466660  0.760804  0.453262 -0.559997  0.011038  0.289288  \n",
       "\n",
       "[5 rows x 100 columns]"
      ]
     },
     "execution_count": 199,
     "metadata": {},
     "output_type": "execute_result"
    }
   ],
   "source": [
    "df_text_embedding_train = pd.DataFrame(embeddings_train)\n",
    "df_text_embedding_train.head()"
   ]
  },
  {
   "cell_type": "code",
   "execution_count": 200,
   "metadata": {},
   "outputs": [
    {
     "data": {
      "text/html": [
       "<div>\n",
       "<style scoped>\n",
       "    .dataframe tbody tr th:only-of-type {\n",
       "        vertical-align: middle;\n",
       "    }\n",
       "\n",
       "    .dataframe tbody tr th {\n",
       "        vertical-align: top;\n",
       "    }\n",
       "\n",
       "    .dataframe thead th {\n",
       "        text-align: right;\n",
       "    }\n",
       "</style>\n",
       "<table border=\"1\" class=\"dataframe\">\n",
       "  <thead>\n",
       "    <tr style=\"text-align: right;\">\n",
       "      <th></th>\n",
       "      <th>0</th>\n",
       "      <th>1</th>\n",
       "      <th>2</th>\n",
       "      <th>3</th>\n",
       "      <th>4</th>\n",
       "      <th>5</th>\n",
       "      <th>6</th>\n",
       "      <th>7</th>\n",
       "      <th>8</th>\n",
       "      <th>9</th>\n",
       "      <th>...</th>\n",
       "      <th>90</th>\n",
       "      <th>91</th>\n",
       "      <th>92</th>\n",
       "      <th>93</th>\n",
       "      <th>94</th>\n",
       "      <th>95</th>\n",
       "      <th>96</th>\n",
       "      <th>97</th>\n",
       "      <th>98</th>\n",
       "      <th>99</th>\n",
       "    </tr>\n",
       "  </thead>\n",
       "  <tbody>\n",
       "    <tr>\n",
       "      <th>0</th>\n",
       "      <td>-0.733076</td>\n",
       "      <td>0.581230</td>\n",
       "      <td>0.435705</td>\n",
       "      <td>0.971909</td>\n",
       "      <td>0.377431</td>\n",
       "      <td>-1.047347</td>\n",
       "      <td>1.038006</td>\n",
       "      <td>1.394392</td>\n",
       "      <td>-0.976105</td>\n",
       "      <td>-0.980503</td>\n",
       "      <td>...</td>\n",
       "      <td>1.029728</td>\n",
       "      <td>0.271317</td>\n",
       "      <td>0.326449</td>\n",
       "      <td>-0.489367</td>\n",
       "      <td>1.607594</td>\n",
       "      <td>0.863178</td>\n",
       "      <td>0.531597</td>\n",
       "      <td>-0.512086</td>\n",
       "      <td>0.199598</td>\n",
       "      <td>0.447950</td>\n",
       "    </tr>\n",
       "    <tr>\n",
       "      <th>1</th>\n",
       "      <td>-0.556663</td>\n",
       "      <td>0.573607</td>\n",
       "      <td>0.244269</td>\n",
       "      <td>0.837886</td>\n",
       "      <td>0.318719</td>\n",
       "      <td>-0.896177</td>\n",
       "      <td>0.839757</td>\n",
       "      <td>1.327515</td>\n",
       "      <td>-0.935436</td>\n",
       "      <td>-0.801523</td>\n",
       "      <td>...</td>\n",
       "      <td>0.928661</td>\n",
       "      <td>0.292257</td>\n",
       "      <td>0.331470</td>\n",
       "      <td>-0.358462</td>\n",
       "      <td>1.352734</td>\n",
       "      <td>0.626888</td>\n",
       "      <td>0.447287</td>\n",
       "      <td>-0.492912</td>\n",
       "      <td>0.122511</td>\n",
       "      <td>0.355303</td>\n",
       "    </tr>\n",
       "    <tr>\n",
       "      <th>2</th>\n",
       "      <td>-0.388960</td>\n",
       "      <td>0.536356</td>\n",
       "      <td>0.119166</td>\n",
       "      <td>0.578622</td>\n",
       "      <td>0.347460</td>\n",
       "      <td>-0.744096</td>\n",
       "      <td>0.581201</td>\n",
       "      <td>1.280137</td>\n",
       "      <td>-0.704612</td>\n",
       "      <td>-0.715909</td>\n",
       "      <td>...</td>\n",
       "      <td>0.840872</td>\n",
       "      <td>0.304712</td>\n",
       "      <td>0.293733</td>\n",
       "      <td>-0.197364</td>\n",
       "      <td>1.065099</td>\n",
       "      <td>0.535589</td>\n",
       "      <td>0.313369</td>\n",
       "      <td>-0.501315</td>\n",
       "      <td>0.093422</td>\n",
       "      <td>0.252541</td>\n",
       "    </tr>\n",
       "    <tr>\n",
       "      <th>3</th>\n",
       "      <td>-0.443459</td>\n",
       "      <td>0.619844</td>\n",
       "      <td>0.165939</td>\n",
       "      <td>0.752070</td>\n",
       "      <td>0.255436</td>\n",
       "      <td>-0.883199</td>\n",
       "      <td>0.764462</td>\n",
       "      <td>1.509960</td>\n",
       "      <td>-0.835411</td>\n",
       "      <td>-0.714749</td>\n",
       "      <td>...</td>\n",
       "      <td>0.985867</td>\n",
       "      <td>0.294762</td>\n",
       "      <td>0.384273</td>\n",
       "      <td>-0.243263</td>\n",
       "      <td>1.245456</td>\n",
       "      <td>0.633044</td>\n",
       "      <td>0.451736</td>\n",
       "      <td>-0.564463</td>\n",
       "      <td>0.029727</td>\n",
       "      <td>0.279732</td>\n",
       "    </tr>\n",
       "    <tr>\n",
       "      <th>4</th>\n",
       "      <td>-0.499235</td>\n",
       "      <td>0.649101</td>\n",
       "      <td>0.147536</td>\n",
       "      <td>0.786253</td>\n",
       "      <td>0.386596</td>\n",
       "      <td>-0.861621</td>\n",
       "      <td>0.784024</td>\n",
       "      <td>1.444219</td>\n",
       "      <td>-0.852536</td>\n",
       "      <td>-0.838928</td>\n",
       "      <td>...</td>\n",
       "      <td>0.843114</td>\n",
       "      <td>0.315586</td>\n",
       "      <td>0.322640</td>\n",
       "      <td>-0.284492</td>\n",
       "      <td>1.331786</td>\n",
       "      <td>0.677130</td>\n",
       "      <td>0.391857</td>\n",
       "      <td>-0.541595</td>\n",
       "      <td>0.093671</td>\n",
       "      <td>0.320923</td>\n",
       "    </tr>\n",
       "  </tbody>\n",
       "</table>\n",
       "<p>5 rows × 100 columns</p>\n",
       "</div>"
      ],
      "text/plain": [
       "         0         1         2         3         4         5         6   \\\n",
       "0 -0.733076  0.581230  0.435705  0.971909  0.377431 -1.047347  1.038006   \n",
       "1 -0.556663  0.573607  0.244269  0.837886  0.318719 -0.896177  0.839757   \n",
       "2 -0.388960  0.536356  0.119166  0.578622  0.347460 -0.744096  0.581201   \n",
       "3 -0.443459  0.619844  0.165939  0.752070  0.255436 -0.883199  0.764462   \n",
       "4 -0.499235  0.649101  0.147536  0.786253  0.386596 -0.861621  0.784024   \n",
       "\n",
       "         7         8         9   ...        90        91        92        93  \\\n",
       "0  1.394392 -0.976105 -0.980503  ...  1.029728  0.271317  0.326449 -0.489367   \n",
       "1  1.327515 -0.935436 -0.801523  ...  0.928661  0.292257  0.331470 -0.358462   \n",
       "2  1.280137 -0.704612 -0.715909  ...  0.840872  0.304712  0.293733 -0.197364   \n",
       "3  1.509960 -0.835411 -0.714749  ...  0.985867  0.294762  0.384273 -0.243263   \n",
       "4  1.444219 -0.852536 -0.838928  ...  0.843114  0.315586  0.322640 -0.284492   \n",
       "\n",
       "         94        95        96        97        98        99  \n",
       "0  1.607594  0.863178  0.531597 -0.512086  0.199598  0.447950  \n",
       "1  1.352734  0.626888  0.447287 -0.492912  0.122511  0.355303  \n",
       "2  1.065099  0.535589  0.313369 -0.501315  0.093422  0.252541  \n",
       "3  1.245456  0.633044  0.451736 -0.564463  0.029727  0.279732  \n",
       "4  1.331786  0.677130  0.391857 -0.541595  0.093671  0.320923  \n",
       "\n",
       "[5 rows x 100 columns]"
      ]
     },
     "execution_count": 200,
     "metadata": {},
     "output_type": "execute_result"
    }
   ],
   "source": [
    "df_text_embedding_test = pd.DataFrame(embeddings_test)\n",
    "df_text_embedding_test.head()"
   ]
  },
  {
   "cell_type": "markdown",
   "metadata": {},
   "source": [
    "##### TFIDF"
   ]
  },
  {
   "cell_type": "code",
   "execution_count": 77,
   "metadata": {},
   "outputs": [],
   "source": [
    "def clean_text_data(data):\n",
    "    corpus = []\n",
    "    for i in range(0, len(data)):\n",
    "        title = re.sub(r'\\W', ' ', str(data.iloc[i]))\n",
    "        title = title.lower()\n",
    "        title = re.sub(r'^br$', ' ', title)\n",
    "        title = re.sub(r'\\s+br\\s+',' ', title)\n",
    "        title = re.sub(r'\\s+[a-z]\\s+', ' ', title)\n",
    "        title = re.sub(r'^b\\s+', '', title)\n",
    "        title = re.sub(r'\\s+', ' ', title)\n",
    "        corpus.append(title)\n",
    "    return corpus"
   ]
  },
  {
   "cell_type": "code",
   "execution_count": 201,
   "metadata": {},
   "outputs": [],
   "source": [
    "# vectorizing textual data (Title) with TF-IDF\n",
    "clean_x_train = clean_text_data(total_text_train)\n",
    "clean_x_test = clean_text_data(total_text_test)\n",
    "vectorizer = TfidfVectorizer(max_features=100, min_df=3, max_df=0.6, stop_words=stopwords.words('english'))\n",
    "tfidf = vectorizer.fit(clean_x_train)\n",
    "tfidf_X_train = tfidf.transform(clean_x_train).toarray()\n",
    "tfidf_X_test = tfidf.transform(clean_x_test).toarray()"
   ]
  },
  {
   "cell_type": "code",
   "execution_count": 202,
   "metadata": {},
   "outputs": [],
   "source": [
    "# Creating a DataFrame with the vectorized text\n",
    "df_text_tfidf_train = pd.DataFrame(tfidf_X_train, columns=tfidf.get_feature_names_out())\n",
    "df_text_tfidf_test = pd.DataFrame(tfidf_X_test, columns=tfidf.get_feature_names_out())"
   ]
  },
  {
   "cell_type": "markdown",
   "metadata": {},
   "source": [
    "# Step 4"
   ]
  },
  {
   "cell_type": "markdown",
   "metadata": {},
   "source": [
    "## Models Exploration"
   ]
  },
  {
   "cell_type": "markdown",
   "metadata": {},
   "source": [
    "To conduct the models exploration, we will use only the tfidf vectorization and once we select the best model, we will compated vs embeddings"
   ]
  },
  {
   "cell_type": "code",
   "execution_count": 80,
   "metadata": {},
   "outputs": [
    {
     "data": {
      "text/html": [
       "<div>\n",
       "<style scoped>\n",
       "    .dataframe tbody tr th:only-of-type {\n",
       "        vertical-align: middle;\n",
       "    }\n",
       "\n",
       "    .dataframe tbody tr th {\n",
       "        vertical-align: top;\n",
       "    }\n",
       "\n",
       "    .dataframe thead th {\n",
       "        text-align: right;\n",
       "    }\n",
       "</style>\n",
       "<table border=\"1\" class=\"dataframe\">\n",
       "  <thead>\n",
       "    <tr style=\"text-align: right;\">\n",
       "      <th></th>\n",
       "      <th>accuracy_test</th>\n",
       "      <th>accuracy_train</th>\n",
       "      <th>precision_test</th>\n",
       "      <th>precision_train</th>\n",
       "      <th>recall_test</th>\n",
       "      <th>recall_train</th>\n",
       "      <th>F1_test</th>\n",
       "    </tr>\n",
       "    <tr>\n",
       "      <th>model</th>\n",
       "      <th></th>\n",
       "      <th></th>\n",
       "      <th></th>\n",
       "      <th></th>\n",
       "      <th></th>\n",
       "      <th></th>\n",
       "      <th></th>\n",
       "    </tr>\n",
       "  </thead>\n",
       "  <tbody>\n",
       "    <tr>\n",
       "      <th>KNN</th>\n",
       "      <td>0</td>\n",
       "      <td>0</td>\n",
       "      <td>0</td>\n",
       "      <td>0</td>\n",
       "      <td>0</td>\n",
       "      <td>0</td>\n",
       "      <td>0</td>\n",
       "    </tr>\n",
       "    <tr>\n",
       "      <th>SVM</th>\n",
       "      <td>0</td>\n",
       "      <td>0</td>\n",
       "      <td>0</td>\n",
       "      <td>0</td>\n",
       "      <td>0</td>\n",
       "      <td>0</td>\n",
       "      <td>0</td>\n",
       "    </tr>\n",
       "    <tr>\n",
       "      <th>GNB</th>\n",
       "      <td>0</td>\n",
       "      <td>0</td>\n",
       "      <td>0</td>\n",
       "      <td>0</td>\n",
       "      <td>0</td>\n",
       "      <td>0</td>\n",
       "      <td>0</td>\n",
       "    </tr>\n",
       "    <tr>\n",
       "      <th>XGBoost</th>\n",
       "      <td>0</td>\n",
       "      <td>0</td>\n",
       "      <td>0</td>\n",
       "      <td>0</td>\n",
       "      <td>0</td>\n",
       "      <td>0</td>\n",
       "      <td>0</td>\n",
       "    </tr>\n",
       "    <tr>\n",
       "      <th>AdaBoost</th>\n",
       "      <td>0</td>\n",
       "      <td>0</td>\n",
       "      <td>0</td>\n",
       "      <td>0</td>\n",
       "      <td>0</td>\n",
       "      <td>0</td>\n",
       "      <td>0</td>\n",
       "    </tr>\n",
       "    <tr>\n",
       "      <th>Decision Tree</th>\n",
       "      <td>0</td>\n",
       "      <td>0</td>\n",
       "      <td>0</td>\n",
       "      <td>0</td>\n",
       "      <td>0</td>\n",
       "      <td>0</td>\n",
       "      <td>0</td>\n",
       "    </tr>\n",
       "    <tr>\n",
       "      <th>Random Forest</th>\n",
       "      <td>0</td>\n",
       "      <td>0</td>\n",
       "      <td>0</td>\n",
       "      <td>0</td>\n",
       "      <td>0</td>\n",
       "      <td>0</td>\n",
       "      <td>0</td>\n",
       "    </tr>\n",
       "  </tbody>\n",
       "</table>\n",
       "</div>"
      ],
      "text/plain": [
       "               accuracy_test  accuracy_train  precision_test  precision_train  \\\n",
       "model                                                                           \n",
       "KNN                        0               0               0                0   \n",
       "SVM                        0               0               0                0   \n",
       "GNB                        0               0               0                0   \n",
       "XGBoost                    0               0               0                0   \n",
       "AdaBoost                   0               0               0                0   \n",
       "Decision Tree              0               0               0                0   \n",
       "Random Forest              0               0               0                0   \n",
       "\n",
       "               recall_test  recall_train  F1_test  \n",
       "model                                              \n",
       "KNN                      0             0        0  \n",
       "SVM                      0             0        0  \n",
       "GNB                      0             0        0  \n",
       "XGBoost                  0             0        0  \n",
       "AdaBoost                 0             0        0  \n",
       "Decision Tree            0             0        0  \n",
       "Random Forest            0             0        0  "
      ]
     },
     "execution_count": 80,
     "metadata": {},
     "output_type": "execute_result"
    }
   ],
   "source": [
    "# Setting up a dataframe to store the results\n",
    "df_models_explorations = pd.DataFrame({\n",
    "    \"model\": [\"KNN\", \"SVM\", \"GNB\", \"XGBoost\", \"AdaBoost\", \"Decision Tree\", \"Random Forest\"],\n",
    "    \"accuracy_test\": [0, 0, 0, 0, 0, 0, 0],\n",
    "    \"accuracy_train\": [0, 0, 0, 0, 0, 0, 0],\n",
    "    \"precision_test\": [0, 0, 0, 0, 0, 0, 0],\n",
    "    \"precision_train\": [0, 0, 0, 0, 0, 0, 0],\n",
    "    \"recall_test\": [0, 0, 0, 0, 0, 0, 0],\n",
    "    \"recall_train\": [0, 0, 0, 0, 0, 0, 0],\n",
    "    \"F1_test\": [0, 0, 0, 0, 0, 0, 0],\n",
    "    \"F1_test\": [0, 0, 0, 0, 0, 0, 0]\n",
    "})\n",
    "df_models_explorations.set_index('model', inplace=True)\n",
    "df_models_explorations"
   ]
  },
  {
   "cell_type": "code",
   "execution_count": 203,
   "metadata": {},
   "outputs": [
    {
     "name": "stdout",
     "output_type": "stream",
     "text": [
      "The shape of the final training set is: (7403, 130)\n",
      "The shape of the final testing set is: (1851, 130)\n"
     ]
    }
   ],
   "source": [
    "genres = ['Action', 'Adventure', 'Animation', 'Comedy', 'Crime',\n",
    "                             'Documentary', 'Drama', 'Family', 'Fantasy', 'History ',\n",
    "                             'Horror', 'Music', 'Mystery', 'Romance', 'ScienceFiction',\n",
    "                             'TvMovie', 'Thriller', 'War', 'Western']\n",
    "# Training set\n",
    "df_genre_train = X_train[genres]\n",
    "# reset indexes\n",
    "\n",
    "df_genre_train.reset_index(drop=True, inplace=True)\n",
    "df_train.reset_index(drop=True, inplace=True)\n",
    "df_text_tfidf_train.reset_index(drop=True, inplace=True)\n",
    "\n",
    "#Concat all features\n",
    "\n",
    "X_final_train = pd.concat([df_genre_train, df_train, df_text_tfidf_train], axis=1)\n",
    "print(f\"The shape of the final training set is: {X_final_train.shape}\")\n",
    "\n",
    "# Testing set\n",
    "df_genre_test = X_test[genres]\n",
    "\n",
    "# Reset variables\n",
    "df_genre_test.reset_index(drop=True, inplace=True)\n",
    "df_test.reset_index(drop=True, inplace=True)\n",
    "df_text_tfidf_test.reset_index(drop=True, inplace=True)\n",
    "\n",
    "#concat all features\n",
    "X_final_test = pd.concat([df_genre_test, df_test, df_text_tfidf_test], axis=1)\n",
    "print(f\"The shape of the final testing set is: {X_final_test.shape}\")\n"
   ]
  },
  {
   "cell_type": "code",
   "execution_count": 82,
   "metadata": {},
   "outputs": [],
   "source": [
    "# Funtion to plot confusion matrix\n",
    "def confusion_matrix_graph(y, y_pred, label):\n",
    "    cm_decision_tree_classifier = confusion_matrix(y, y_pred)\n",
    "    cm_df = pd.DataFrame(cm_decision_tree_classifier, index=['Actual 0', 'Actual 1', 'Actual 2', 'Actual 3'], columns=['Predicted 0', 'Predicted 1', 'Predicted 2', 'Predicted 3'])\n",
    "    sns.heatmap(cm_df, annot=True, cmap='Blues', cbar=False)\n",
    "    plt.title(f\"Confusion matrix for {label}\")\n",
    "    plt.show()\n",
    "    \n",
    "#Function to save the trained model\n",
    "def save_model_pickle(file_name, model):\n",
    "    file_name = file_name + '.pkl'\n",
    "    with open(file_name, 'wb') as file:\n",
    "        pickle.dump(model, file)\n",
    "\n",
    "#Function to retrieve the trained model\n",
    "def retrieve_model_pickle(file_name):\n",
    "    file_name = file_name + '.pkl'\n",
    "    with open(file_name, 'rb') as file:\n",
    "        model = pickle.load(file)\n",
    "        return model\n",
    "    \n",
    "# Function to extract feature importance\n",
    "\n",
    "def get_top_features(model, df, num): \n",
    "    important_features = model.feature_importances_\n",
    "    top_indices = np.argsort(important_features)[-num:][::-1]\n",
    "    top_features = df.columns[top_indices]\n",
    "    print(f'The {num} most important features are: {list(top_features)}')\n",
    "    \n",
    "# function to print metrics\n",
    "def print_metrics(y_test, y_pred, label):\n",
    "    accuracy = accuracy_score(y_test, y_pred)\n",
    "    precision = precision_score(y_test, y_pred, average='weighted')\n",
    "    recall = recall_score(y_test, y_pred, average='weighted')\n",
    "    f1 = f1_score(y_test, y_pred, average='weighted')\n",
    "\n",
    "    # Print evaluation metrics\n",
    "    print(f\"Accuracy for {label}: {accuracy}\")\n",
    "    print(f\"Precision for {label}: {precision}\")\n",
    "    print(f\"Recall for {label}: {recall}\")\n",
    "    print(f\"F1-score for {label}: {f1}\")\n",
    "    return accuracy, precision, recall, f1"
   ]
  },
  {
   "cell_type": "markdown",
   "metadata": {},
   "source": [
    "## 4.1 KNN"
   ]
  },
  {
   "cell_type": "code",
   "execution_count": 204,
   "metadata": {},
   "outputs": [
    {
     "data": {
      "text/html": [
       "<style>#sk-container-id-6 {color: black;background-color: white;}#sk-container-id-6 pre{padding: 0;}#sk-container-id-6 div.sk-toggleable {background-color: white;}#sk-container-id-6 label.sk-toggleable__label {cursor: pointer;display: block;width: 100%;margin-bottom: 0;padding: 0.3em;box-sizing: border-box;text-align: center;}#sk-container-id-6 label.sk-toggleable__label-arrow:before {content: \"▸\";float: left;margin-right: 0.25em;color: #696969;}#sk-container-id-6 label.sk-toggleable__label-arrow:hover:before {color: black;}#sk-container-id-6 div.sk-estimator:hover label.sk-toggleable__label-arrow:before {color: black;}#sk-container-id-6 div.sk-toggleable__content {max-height: 0;max-width: 0;overflow: hidden;text-align: left;background-color: #f0f8ff;}#sk-container-id-6 div.sk-toggleable__content pre {margin: 0.2em;color: black;border-radius: 0.25em;background-color: #f0f8ff;}#sk-container-id-6 input.sk-toggleable__control:checked~div.sk-toggleable__content {max-height: 200px;max-width: 100%;overflow: auto;}#sk-container-id-6 input.sk-toggleable__control:checked~label.sk-toggleable__label-arrow:before {content: \"▾\";}#sk-container-id-6 div.sk-estimator input.sk-toggleable__control:checked~label.sk-toggleable__label {background-color: #d4ebff;}#sk-container-id-6 div.sk-label input.sk-toggleable__control:checked~label.sk-toggleable__label {background-color: #d4ebff;}#sk-container-id-6 input.sk-hidden--visually {border: 0;clip: rect(1px 1px 1px 1px);clip: rect(1px, 1px, 1px, 1px);height: 1px;margin: -1px;overflow: hidden;padding: 0;position: absolute;width: 1px;}#sk-container-id-6 div.sk-estimator {font-family: monospace;background-color: #f0f8ff;border: 1px dotted black;border-radius: 0.25em;box-sizing: border-box;margin-bottom: 0.5em;}#sk-container-id-6 div.sk-estimator:hover {background-color: #d4ebff;}#sk-container-id-6 div.sk-parallel-item::after {content: \"\";width: 100%;border-bottom: 1px solid gray;flex-grow: 1;}#sk-container-id-6 div.sk-label:hover label.sk-toggleable__label {background-color: #d4ebff;}#sk-container-id-6 div.sk-serial::before {content: \"\";position: absolute;border-left: 1px solid gray;box-sizing: border-box;top: 0;bottom: 0;left: 50%;z-index: 0;}#sk-container-id-6 div.sk-serial {display: flex;flex-direction: column;align-items: center;background-color: white;padding-right: 0.2em;padding-left: 0.2em;position: relative;}#sk-container-id-6 div.sk-item {position: relative;z-index: 1;}#sk-container-id-6 div.sk-parallel {display: flex;align-items: stretch;justify-content: center;background-color: white;position: relative;}#sk-container-id-6 div.sk-item::before, #sk-container-id-6 div.sk-parallel-item::before {content: \"\";position: absolute;border-left: 1px solid gray;box-sizing: border-box;top: 0;bottom: 0;left: 50%;z-index: -1;}#sk-container-id-6 div.sk-parallel-item {display: flex;flex-direction: column;z-index: 1;position: relative;background-color: white;}#sk-container-id-6 div.sk-parallel-item:first-child::after {align-self: flex-end;width: 50%;}#sk-container-id-6 div.sk-parallel-item:last-child::after {align-self: flex-start;width: 50%;}#sk-container-id-6 div.sk-parallel-item:only-child::after {width: 0;}#sk-container-id-6 div.sk-dashed-wrapped {border: 1px dashed gray;margin: 0 0.4em 0.5em 0.4em;box-sizing: border-box;padding-bottom: 0.4em;background-color: white;}#sk-container-id-6 div.sk-label label {font-family: monospace;font-weight: bold;display: inline-block;line-height: 1.2em;}#sk-container-id-6 div.sk-label-container {text-align: center;}#sk-container-id-6 div.sk-container {/* jupyter's `normalize.less` sets `[hidden] { display: none; }` but bootstrap.min.css set `[hidden] { display: none !important; }` so we also need the `!important` here to be able to override the default hidden behavior on the sphinx rendered scikit-learn.org. See: https://github.com/scikit-learn/scikit-learn/issues/21755 */display: inline-block !important;position: relative;}#sk-container-id-6 div.sk-text-repr-fallback {display: none;}</style><div id=\"sk-container-id-6\" class=\"sk-top-container\"><div class=\"sk-text-repr-fallback\"><pre>KNeighborsClassifier(n_neighbors=4)</pre><b>In a Jupyter environment, please rerun this cell to show the HTML representation or trust the notebook. <br />On GitHub, the HTML representation is unable to render, please try loading this page with nbviewer.org.</b></div><div class=\"sk-container\" hidden><div class=\"sk-item\"><div class=\"sk-estimator sk-toggleable\"><input class=\"sk-toggleable__control sk-hidden--visually\" id=\"sk-estimator-id-6\" type=\"checkbox\" checked><label for=\"sk-estimator-id-6\" class=\"sk-toggleable__label sk-toggleable__label-arrow\">KNeighborsClassifier</label><div class=\"sk-toggleable__content\"><pre>KNeighborsClassifier(n_neighbors=4)</pre></div></div></div></div></div>"
      ],
      "text/plain": [
       "KNeighborsClassifier(n_neighbors=4)"
      ]
     },
     "execution_count": 204,
     "metadata": {},
     "output_type": "execute_result"
    }
   ],
   "source": [
    "knn = KNeighborsClassifier(n_neighbors=4)\n",
    "knn.fit(X_final_train, y_train)"
   ]
  },
  {
   "cell_type": "code",
   "execution_count": 205,
   "metadata": {},
   "outputs": [
    {
     "name": "stdout",
     "output_type": "stream",
     "text": [
      "Accuracy for Test: 0.38519719070772557\n",
      "Precision for Test: 0.36608103179719503\n",
      "Recall for Test: 0.38519719070772557\n",
      "F1-score for Test: 0.36917339193767773\n",
      "---------------------------------\n",
      "Accuracy for Train: 0.6096177225449142\n",
      "Precision for Train: 0.6081127538806566\n",
      "Recall for Train: 0.6096177225449142\n",
      "F1-score for Train: 0.5942889902154506\n"
     ]
    }
   ],
   "source": [
    "y_test_pred = knn.predict(X_final_test)\n",
    "y_train_pred = knn.predict(X_final_train)\n",
    "\n",
    "# metrics test set\n",
    "accuracy_te, precision_te, recall_te, f1_te = print_metrics(y_test, y_test_pred, \"Test\")\n",
    "df_models_explorations.loc['KNN', 'accuracy_test'] = accuracy_te\n",
    "df_models_explorations.loc['KNN', 'precision_test'] = precision_te\n",
    "df_models_explorations.loc['KNN', 'recall_test'] = recall_te\n",
    "df_models_explorations.loc['KNN', 'F1_test'] = f1_te\n",
    "\n",
    "print(\"---------------------------------\")\n",
    "\n",
    "# metrics train set\n",
    "accuracy_tr, precision_tr, recall_tr, f1_tr = print_metrics(y_train, y_train_pred, \"Train\")\n",
    "df_models_explorations.loc['KNN', 'accuracy_train'] = accuracy_tr\n",
    "df_models_explorations.loc['KNN', 'precision_train'] = precision_tr\n",
    "df_models_explorations.loc['KNN', 'recall_train'] = recall_tr\n",
    "df_models_explorations.loc['KNN', 'F1_train'] = f1_tr"
   ]
  },
  {
   "cell_type": "markdown",
   "metadata": {},
   "source": [
    "## 4.2 Support Vector Machine"
   ]
  },
  {
   "cell_type": "code",
   "execution_count": 208,
   "metadata": {},
   "outputs": [],
   "source": [
    "# train multiclass SVM\n",
    "if run_svm:\n",
    "    svc_clf = SVC(probability=True, random_state=42, decision_function_shape='ovo')\n",
    "    svc_clf.fit(X_final_train, y_train)\n",
    "    save_model_pickle('SVM1', svc_clf)\n",
    "else:\n",
    "    svc_clf = retrieve_model_pickle('SVM1')"
   ]
  },
  {
   "cell_type": "code",
   "execution_count": 209,
   "metadata": {},
   "outputs": [
    {
     "name": "stdout",
     "output_type": "stream",
     "text": [
      "Accuracy for Test: 0.46677471636953\n",
      "Precision for Test: 0.3699213297385375\n",
      "Recall for Test: 0.46677471636953\n",
      "F1-score for Test: 0.31780606008529666\n",
      "---------------------------------\n",
      "Accuracy for Train: 0.4947994056463596\n",
      "Precision for Train: 0.7016592979607436\n",
      "Recall for Train: 0.4947994056463596\n",
      "F1-score for Train: 0.35892148094739684\n"
     ]
    }
   ],
   "source": [
    "y_test_pred = svc_clf.predict(X_final_test)\n",
    "y_train_pred = svc_clf.predict(X_final_train)\n",
    "\n",
    "# metrics test set\n",
    "accuracy_te, precision_te, recall_te, f1_te = print_metrics(y_test, y_test_pred, \"Test\")\n",
    "df_models_explorations.loc['SVM', 'accuracy_test'] = accuracy_te\n",
    "df_models_explorations.loc['SVM', 'precision_test'] = precision_te\n",
    "df_models_explorations.loc['SVM', 'recall_test'] = recall_te\n",
    "df_models_explorations.loc['SVM', 'F1_test'] = f1_te\n",
    "\n",
    "print(\"---------------------------------\")\n",
    "\n",
    "# metrics train set\n",
    "accuracy_tr, precision_tr, recall_tr, f1_tr = print_metrics(y_train, y_train_pred, \"Train\")\n",
    "df_models_explorations.loc['SVM', 'accuracy_train'] = accuracy_tr\n",
    "df_models_explorations.loc['SVM', 'precision_train'] = precision_tr\n",
    "df_models_explorations.loc['SVM', 'recall_train'] = recall_tr\n",
    "df_models_explorations.loc['SVM', 'F1_train'] = f1_tr"
   ]
  },
  {
   "cell_type": "markdown",
   "metadata": {},
   "source": [
    "## 4.3 GaussianNB"
   ]
  },
  {
   "cell_type": "code",
   "execution_count": 210,
   "metadata": {},
   "outputs": [
    {
     "data": {
      "text/html": [
       "<style>#sk-container-id-7 {color: black;background-color: white;}#sk-container-id-7 pre{padding: 0;}#sk-container-id-7 div.sk-toggleable {background-color: white;}#sk-container-id-7 label.sk-toggleable__label {cursor: pointer;display: block;width: 100%;margin-bottom: 0;padding: 0.3em;box-sizing: border-box;text-align: center;}#sk-container-id-7 label.sk-toggleable__label-arrow:before {content: \"▸\";float: left;margin-right: 0.25em;color: #696969;}#sk-container-id-7 label.sk-toggleable__label-arrow:hover:before {color: black;}#sk-container-id-7 div.sk-estimator:hover label.sk-toggleable__label-arrow:before {color: black;}#sk-container-id-7 div.sk-toggleable__content {max-height: 0;max-width: 0;overflow: hidden;text-align: left;background-color: #f0f8ff;}#sk-container-id-7 div.sk-toggleable__content pre {margin: 0.2em;color: black;border-radius: 0.25em;background-color: #f0f8ff;}#sk-container-id-7 input.sk-toggleable__control:checked~div.sk-toggleable__content {max-height: 200px;max-width: 100%;overflow: auto;}#sk-container-id-7 input.sk-toggleable__control:checked~label.sk-toggleable__label-arrow:before {content: \"▾\";}#sk-container-id-7 div.sk-estimator input.sk-toggleable__control:checked~label.sk-toggleable__label {background-color: #d4ebff;}#sk-container-id-7 div.sk-label input.sk-toggleable__control:checked~label.sk-toggleable__label {background-color: #d4ebff;}#sk-container-id-7 input.sk-hidden--visually {border: 0;clip: rect(1px 1px 1px 1px);clip: rect(1px, 1px, 1px, 1px);height: 1px;margin: -1px;overflow: hidden;padding: 0;position: absolute;width: 1px;}#sk-container-id-7 div.sk-estimator {font-family: monospace;background-color: #f0f8ff;border: 1px dotted black;border-radius: 0.25em;box-sizing: border-box;margin-bottom: 0.5em;}#sk-container-id-7 div.sk-estimator:hover {background-color: #d4ebff;}#sk-container-id-7 div.sk-parallel-item::after {content: \"\";width: 100%;border-bottom: 1px solid gray;flex-grow: 1;}#sk-container-id-7 div.sk-label:hover label.sk-toggleable__label {background-color: #d4ebff;}#sk-container-id-7 div.sk-serial::before {content: \"\";position: absolute;border-left: 1px solid gray;box-sizing: border-box;top: 0;bottom: 0;left: 50%;z-index: 0;}#sk-container-id-7 div.sk-serial {display: flex;flex-direction: column;align-items: center;background-color: white;padding-right: 0.2em;padding-left: 0.2em;position: relative;}#sk-container-id-7 div.sk-item {position: relative;z-index: 1;}#sk-container-id-7 div.sk-parallel {display: flex;align-items: stretch;justify-content: center;background-color: white;position: relative;}#sk-container-id-7 div.sk-item::before, #sk-container-id-7 div.sk-parallel-item::before {content: \"\";position: absolute;border-left: 1px solid gray;box-sizing: border-box;top: 0;bottom: 0;left: 50%;z-index: -1;}#sk-container-id-7 div.sk-parallel-item {display: flex;flex-direction: column;z-index: 1;position: relative;background-color: white;}#sk-container-id-7 div.sk-parallel-item:first-child::after {align-self: flex-end;width: 50%;}#sk-container-id-7 div.sk-parallel-item:last-child::after {align-self: flex-start;width: 50%;}#sk-container-id-7 div.sk-parallel-item:only-child::after {width: 0;}#sk-container-id-7 div.sk-dashed-wrapped {border: 1px dashed gray;margin: 0 0.4em 0.5em 0.4em;box-sizing: border-box;padding-bottom: 0.4em;background-color: white;}#sk-container-id-7 div.sk-label label {font-family: monospace;font-weight: bold;display: inline-block;line-height: 1.2em;}#sk-container-id-7 div.sk-label-container {text-align: center;}#sk-container-id-7 div.sk-container {/* jupyter's `normalize.less` sets `[hidden] { display: none; }` but bootstrap.min.css set `[hidden] { display: none !important; }` so we also need the `!important` here to be able to override the default hidden behavior on the sphinx rendered scikit-learn.org. See: https://github.com/scikit-learn/scikit-learn/issues/21755 */display: inline-block !important;position: relative;}#sk-container-id-7 div.sk-text-repr-fallback {display: none;}</style><div id=\"sk-container-id-7\" class=\"sk-top-container\"><div class=\"sk-text-repr-fallback\"><pre>GaussianNB()</pre><b>In a Jupyter environment, please rerun this cell to show the HTML representation or trust the notebook. <br />On GitHub, the HTML representation is unable to render, please try loading this page with nbviewer.org.</b></div><div class=\"sk-container\" hidden><div class=\"sk-item\"><div class=\"sk-estimator sk-toggleable\"><input class=\"sk-toggleable__control sk-hidden--visually\" id=\"sk-estimator-id-7\" type=\"checkbox\" checked><label for=\"sk-estimator-id-7\" class=\"sk-toggleable__label sk-toggleable__label-arrow\">GaussianNB</label><div class=\"sk-toggleable__content\"><pre>GaussianNB()</pre></div></div></div></div></div>"
      ],
      "text/plain": [
       "GaussianNB()"
      ]
     },
     "execution_count": 210,
     "metadata": {},
     "output_type": "execute_result"
    }
   ],
   "source": [
    "nb_classifier = GaussianNB()\n",
    "nb_classifier.fit(X_final_train, y_train)"
   ]
  },
  {
   "cell_type": "code",
   "execution_count": 211,
   "metadata": {},
   "outputs": [
    {
     "name": "stdout",
     "output_type": "stream",
     "text": [
      "Accuracy for Test: 0.26580226904376014\n",
      "Precision for Test: 0.36239787767886283\n",
      "Recall for Test: 0.26580226904376014\n",
      "F1-score for Test: 0.27085841000094363\n",
      "---------------------------------\n",
      "Accuracy for Train: 0.31257598270971226\n",
      "Precision for Train: 0.41593792845829136\n",
      "Recall for Train: 0.31257598270971226\n",
      "F1-score for Train: 0.3154800466635601\n"
     ]
    }
   ],
   "source": [
    "y_test_pred = nb_classifier.predict(X_final_test)\n",
    "y_train_pred = nb_classifier.predict(X_final_train)\n",
    "\n",
    "accuracy_te, precision_te, recall_te, f1_te = print_metrics(y_test, y_test_pred, \"Test\")\n",
    "df_models_explorations.loc['GNB', 'accuracy_test'] = accuracy_te\n",
    "df_models_explorations.loc['GNB', 'precision_test'] = precision_te\n",
    "df_models_explorations.loc['GNB', 'recall_test'] = recall_te\n",
    "df_models_explorations.loc['GNB', 'F1_test'] = f1_te\n",
    "\n",
    "print(\"---------------------------------\")\n",
    "\n",
    "# metrics train set\n",
    "accuracy_tr, precision_tr, recall_tr, f1_tr = print_metrics(y_train, y_train_pred, \"Train\")\n",
    "df_models_explorations.loc['GNB', 'accuracy_train'] = accuracy_tr\n",
    "df_models_explorations.loc['GNB', 'precision_train'] = precision_tr\n",
    "df_models_explorations.loc['GNB', 'recall_train'] = recall_tr\n",
    "df_models_explorations.loc['GNB', 'F1_train'] = f1_tr"
   ]
  },
  {
   "cell_type": "markdown",
   "metadata": {},
   "source": [
    "## 4.2 XG-boost"
   ]
  },
  {
   "cell_type": "code",
   "execution_count": 214,
   "metadata": {},
   "outputs": [],
   "source": [
    "xgb_clf = xgb.XGBClassifier(\n",
    "    learning_rate=0.1,\n",
    "    n_estimators=50,\n",
    "    max_depth=3,\n",
    "    subsample=1.0,\n",
    "    colsample_bytree=1.0,\n",
    "    random_state=42\n",
    ")\n",
    "\n",
    "xgb_clf.fit(X_final_train, y_train)\n",
    "\n",
    "y_test_pred = xgb_clf.predict(X_final_test)\n",
    "y_train_pred = xgb_clf.predict(X_final_train)\n"
   ]
  },
  {
   "cell_type": "code",
   "execution_count": 215,
   "metadata": {},
   "outputs": [
    {
     "name": "stdout",
     "output_type": "stream",
     "text": [
      "Accuracy for Test: 0.5002701242571583\n",
      "Precision for Test: 0.5066673875177677\n",
      "Recall for Test: 0.5002701242571583\n",
      "F1-score for Test: 0.4238248154122223\n",
      "---------------------------------\n",
      "Accuracy for Train: 0.5301904633256788\n",
      "Precision for Train: 0.5770523727648978\n",
      "Recall for Train: 0.5301904633256788\n",
      "F1-score for Train: 0.4559450987029783\n"
     ]
    }
   ],
   "source": [
    "accuracy_te, precision_te, recall_te, f1_te = print_metrics(y_test, y_test_pred, \"Test\")\n",
    "df_models_explorations.loc['XGBoost', 'accuracy_test'] = accuracy_te\n",
    "df_models_explorations.loc['XGBoost', 'precision_test'] = precision_te\n",
    "df_models_explorations.loc['XGBoost', 'recall_test'] = recall_te\n",
    "df_models_explorations.loc['XGBoost', 'F1_test'] = f1_te\n",
    "\n",
    "print(\"---------------------------------\")\n",
    "\n",
    "# metrics train set\n",
    "accuracy_tr, precision_tr, recall_tr, f1_tr = print_metrics(y_train, y_train_pred, \"Train\")\n",
    "df_models_explorations.loc['XGBoost', 'accuracy_train'] = accuracy_tr\n",
    "df_models_explorations.loc['XGBoost', 'precision_train'] = precision_tr\n",
    "df_models_explorations.loc['XGBoost', 'recall_train'] = recall_tr\n",
    "df_models_explorations.loc['XGBoost', 'F1_train'] = f1_tr"
   ]
  },
  {
   "cell_type": "code",
   "execution_count": 216,
   "metadata": {},
   "outputs": [],
   "source": [
    "save_model_pickle('xgb_clf', xgb_clf)"
   ]
  },
  {
   "cell_type": "markdown",
   "metadata": {},
   "source": [
    "## 4.3 Adaboost Classififier"
   ]
  },
  {
   "cell_type": "code",
   "execution_count": 217,
   "metadata": {},
   "outputs": [
    {
     "data": {
      "text/html": [
       "<style>#sk-container-id-8 {color: black;background-color: white;}#sk-container-id-8 pre{padding: 0;}#sk-container-id-8 div.sk-toggleable {background-color: white;}#sk-container-id-8 label.sk-toggleable__label {cursor: pointer;display: block;width: 100%;margin-bottom: 0;padding: 0.3em;box-sizing: border-box;text-align: center;}#sk-container-id-8 label.sk-toggleable__label-arrow:before {content: \"▸\";float: left;margin-right: 0.25em;color: #696969;}#sk-container-id-8 label.sk-toggleable__label-arrow:hover:before {color: black;}#sk-container-id-8 div.sk-estimator:hover label.sk-toggleable__label-arrow:before {color: black;}#sk-container-id-8 div.sk-toggleable__content {max-height: 0;max-width: 0;overflow: hidden;text-align: left;background-color: #f0f8ff;}#sk-container-id-8 div.sk-toggleable__content pre {margin: 0.2em;color: black;border-radius: 0.25em;background-color: #f0f8ff;}#sk-container-id-8 input.sk-toggleable__control:checked~div.sk-toggleable__content {max-height: 200px;max-width: 100%;overflow: auto;}#sk-container-id-8 input.sk-toggleable__control:checked~label.sk-toggleable__label-arrow:before {content: \"▾\";}#sk-container-id-8 div.sk-estimator input.sk-toggleable__control:checked~label.sk-toggleable__label {background-color: #d4ebff;}#sk-container-id-8 div.sk-label input.sk-toggleable__control:checked~label.sk-toggleable__label {background-color: #d4ebff;}#sk-container-id-8 input.sk-hidden--visually {border: 0;clip: rect(1px 1px 1px 1px);clip: rect(1px, 1px, 1px, 1px);height: 1px;margin: -1px;overflow: hidden;padding: 0;position: absolute;width: 1px;}#sk-container-id-8 div.sk-estimator {font-family: monospace;background-color: #f0f8ff;border: 1px dotted black;border-radius: 0.25em;box-sizing: border-box;margin-bottom: 0.5em;}#sk-container-id-8 div.sk-estimator:hover {background-color: #d4ebff;}#sk-container-id-8 div.sk-parallel-item::after {content: \"\";width: 100%;border-bottom: 1px solid gray;flex-grow: 1;}#sk-container-id-8 div.sk-label:hover label.sk-toggleable__label {background-color: #d4ebff;}#sk-container-id-8 div.sk-serial::before {content: \"\";position: absolute;border-left: 1px solid gray;box-sizing: border-box;top: 0;bottom: 0;left: 50%;z-index: 0;}#sk-container-id-8 div.sk-serial {display: flex;flex-direction: column;align-items: center;background-color: white;padding-right: 0.2em;padding-left: 0.2em;position: relative;}#sk-container-id-8 div.sk-item {position: relative;z-index: 1;}#sk-container-id-8 div.sk-parallel {display: flex;align-items: stretch;justify-content: center;background-color: white;position: relative;}#sk-container-id-8 div.sk-item::before, #sk-container-id-8 div.sk-parallel-item::before {content: \"\";position: absolute;border-left: 1px solid gray;box-sizing: border-box;top: 0;bottom: 0;left: 50%;z-index: -1;}#sk-container-id-8 div.sk-parallel-item {display: flex;flex-direction: column;z-index: 1;position: relative;background-color: white;}#sk-container-id-8 div.sk-parallel-item:first-child::after {align-self: flex-end;width: 50%;}#sk-container-id-8 div.sk-parallel-item:last-child::after {align-self: flex-start;width: 50%;}#sk-container-id-8 div.sk-parallel-item:only-child::after {width: 0;}#sk-container-id-8 div.sk-dashed-wrapped {border: 1px dashed gray;margin: 0 0.4em 0.5em 0.4em;box-sizing: border-box;padding-bottom: 0.4em;background-color: white;}#sk-container-id-8 div.sk-label label {font-family: monospace;font-weight: bold;display: inline-block;line-height: 1.2em;}#sk-container-id-8 div.sk-label-container {text-align: center;}#sk-container-id-8 div.sk-container {/* jupyter's `normalize.less` sets `[hidden] { display: none; }` but bootstrap.min.css set `[hidden] { display: none !important; }` so we also need the `!important` here to be able to override the default hidden behavior on the sphinx rendered scikit-learn.org. See: https://github.com/scikit-learn/scikit-learn/issues/21755 */display: inline-block !important;position: relative;}#sk-container-id-8 div.sk-text-repr-fallback {display: none;}</style><div id=\"sk-container-id-8\" class=\"sk-top-container\"><div class=\"sk-text-repr-fallback\"><pre>AdaBoostClassifier(n_estimators=100, random_state=42)</pre><b>In a Jupyter environment, please rerun this cell to show the HTML representation or trust the notebook. <br />On GitHub, the HTML representation is unable to render, please try loading this page with nbviewer.org.</b></div><div class=\"sk-container\" hidden><div class=\"sk-item\"><div class=\"sk-estimator sk-toggleable\"><input class=\"sk-toggleable__control sk-hidden--visually\" id=\"sk-estimator-id-8\" type=\"checkbox\" checked><label for=\"sk-estimator-id-8\" class=\"sk-toggleable__label sk-toggleable__label-arrow\">AdaBoostClassifier</label><div class=\"sk-toggleable__content\"><pre>AdaBoostClassifier(n_estimators=100, random_state=42)</pre></div></div></div></div></div>"
      ],
      "text/plain": [
       "AdaBoostClassifier(n_estimators=100, random_state=42)"
      ]
     },
     "execution_count": 217,
     "metadata": {},
     "output_type": "execute_result"
    }
   ],
   "source": [
    "ada_clf = AdaBoostClassifier(\n",
    "    n_estimators=100,\n",
    "    learning_rate=1.0,\n",
    "    random_state=42\n",
    ")\n",
    "\n",
    "# Fit the AdaBoostClassifier on the training data\n",
    "ada_clf.fit(X_final_train, y_train)"
   ]
  },
  {
   "cell_type": "code",
   "execution_count": 218,
   "metadata": {},
   "outputs": [
    {
     "name": "stdout",
     "output_type": "stream",
     "text": [
      "Accuracy for Test: 0.47866018368449487\n",
      "Precision for Test: 0.45860178277023\n",
      "Recall for Test: 0.47866018368449487\n",
      "F1-score for Test: 0.428243232549648\n",
      "---------------------------------\n",
      "Accuracy for Train: 0.49088207483452656\n",
      "Precision for Train: 0.4734875807857808\n",
      "Recall for Train: 0.49088207483452656\n",
      "F1-score for Train: 0.4449751527739111\n"
     ]
    }
   ],
   "source": [
    "y_test_pred = ada_clf.predict(X_final_test)\n",
    "y_train_pred = ada_clf.predict(X_final_train)\n",
    "\n",
    "accuracy_te, precision_te, recall_te, f1_te = print_metrics(y_test, y_test_pred, \"Test\")\n",
    "df_models_explorations.loc['AdaBoost', 'accuracy_test'] = accuracy_te\n",
    "df_models_explorations.loc['AdaBoost', 'precision_test'] = precision_te\n",
    "df_models_explorations.loc['AdaBoost', 'recall_test'] = recall_te\n",
    "df_models_explorations.loc['AdaBoost', 'F1_test'] = f1_te\n",
    "\n",
    "print(\"---------------------------------\")\n",
    "\n",
    "# metrics train set\n",
    "accuracy_tr, precision_tr, recall_tr, f1_tr = print_metrics(y_train, y_train_pred, \"Train\")\n",
    "df_models_explorations.loc['AdaBoost', 'accuracy_train'] = accuracy_tr\n",
    "df_models_explorations.loc['AdaBoost', 'precision_train'] = precision_tr\n",
    "df_models_explorations.loc['AdaBoost', 'recall_train'] = recall_tr\n",
    "df_models_explorations.loc['AdaBoost', 'F1_train'] = f1_tr"
   ]
  },
  {
   "cell_type": "markdown",
   "metadata": {},
   "source": [
    "## 4.4 Decision Tree Classifier"
   ]
  },
  {
   "cell_type": "code",
   "execution_count": 219,
   "metadata": {},
   "outputs": [
    {
     "data": {
      "text/html": [
       "<style>#sk-container-id-9 {color: black;background-color: white;}#sk-container-id-9 pre{padding: 0;}#sk-container-id-9 div.sk-toggleable {background-color: white;}#sk-container-id-9 label.sk-toggleable__label {cursor: pointer;display: block;width: 100%;margin-bottom: 0;padding: 0.3em;box-sizing: border-box;text-align: center;}#sk-container-id-9 label.sk-toggleable__label-arrow:before {content: \"▸\";float: left;margin-right: 0.25em;color: #696969;}#sk-container-id-9 label.sk-toggleable__label-arrow:hover:before {color: black;}#sk-container-id-9 div.sk-estimator:hover label.sk-toggleable__label-arrow:before {color: black;}#sk-container-id-9 div.sk-toggleable__content {max-height: 0;max-width: 0;overflow: hidden;text-align: left;background-color: #f0f8ff;}#sk-container-id-9 div.sk-toggleable__content pre {margin: 0.2em;color: black;border-radius: 0.25em;background-color: #f0f8ff;}#sk-container-id-9 input.sk-toggleable__control:checked~div.sk-toggleable__content {max-height: 200px;max-width: 100%;overflow: auto;}#sk-container-id-9 input.sk-toggleable__control:checked~label.sk-toggleable__label-arrow:before {content: \"▾\";}#sk-container-id-9 div.sk-estimator input.sk-toggleable__control:checked~label.sk-toggleable__label {background-color: #d4ebff;}#sk-container-id-9 div.sk-label input.sk-toggleable__control:checked~label.sk-toggleable__label {background-color: #d4ebff;}#sk-container-id-9 input.sk-hidden--visually {border: 0;clip: rect(1px 1px 1px 1px);clip: rect(1px, 1px, 1px, 1px);height: 1px;margin: -1px;overflow: hidden;padding: 0;position: absolute;width: 1px;}#sk-container-id-9 div.sk-estimator {font-family: monospace;background-color: #f0f8ff;border: 1px dotted black;border-radius: 0.25em;box-sizing: border-box;margin-bottom: 0.5em;}#sk-container-id-9 div.sk-estimator:hover {background-color: #d4ebff;}#sk-container-id-9 div.sk-parallel-item::after {content: \"\";width: 100%;border-bottom: 1px solid gray;flex-grow: 1;}#sk-container-id-9 div.sk-label:hover label.sk-toggleable__label {background-color: #d4ebff;}#sk-container-id-9 div.sk-serial::before {content: \"\";position: absolute;border-left: 1px solid gray;box-sizing: border-box;top: 0;bottom: 0;left: 50%;z-index: 0;}#sk-container-id-9 div.sk-serial {display: flex;flex-direction: column;align-items: center;background-color: white;padding-right: 0.2em;padding-left: 0.2em;position: relative;}#sk-container-id-9 div.sk-item {position: relative;z-index: 1;}#sk-container-id-9 div.sk-parallel {display: flex;align-items: stretch;justify-content: center;background-color: white;position: relative;}#sk-container-id-9 div.sk-item::before, #sk-container-id-9 div.sk-parallel-item::before {content: \"\";position: absolute;border-left: 1px solid gray;box-sizing: border-box;top: 0;bottom: 0;left: 50%;z-index: -1;}#sk-container-id-9 div.sk-parallel-item {display: flex;flex-direction: column;z-index: 1;position: relative;background-color: white;}#sk-container-id-9 div.sk-parallel-item:first-child::after {align-self: flex-end;width: 50%;}#sk-container-id-9 div.sk-parallel-item:last-child::after {align-self: flex-start;width: 50%;}#sk-container-id-9 div.sk-parallel-item:only-child::after {width: 0;}#sk-container-id-9 div.sk-dashed-wrapped {border: 1px dashed gray;margin: 0 0.4em 0.5em 0.4em;box-sizing: border-box;padding-bottom: 0.4em;background-color: white;}#sk-container-id-9 div.sk-label label {font-family: monospace;font-weight: bold;display: inline-block;line-height: 1.2em;}#sk-container-id-9 div.sk-label-container {text-align: center;}#sk-container-id-9 div.sk-container {/* jupyter's `normalize.less` sets `[hidden] { display: none; }` but bootstrap.min.css set `[hidden] { display: none !important; }` so we also need the `!important` here to be able to override the default hidden behavior on the sphinx rendered scikit-learn.org. See: https://github.com/scikit-learn/scikit-learn/issues/21755 */display: inline-block !important;position: relative;}#sk-container-id-9 div.sk-text-repr-fallback {display: none;}</style><div id=\"sk-container-id-9\" class=\"sk-top-container\"><div class=\"sk-text-repr-fallback\"><pre>DecisionTreeClassifier(random_state=42)</pre><b>In a Jupyter environment, please rerun this cell to show the HTML representation or trust the notebook. <br />On GitHub, the HTML representation is unable to render, please try loading this page with nbviewer.org.</b></div><div class=\"sk-container\" hidden><div class=\"sk-item\"><div class=\"sk-estimator sk-toggleable\"><input class=\"sk-toggleable__control sk-hidden--visually\" id=\"sk-estimator-id-9\" type=\"checkbox\" checked><label for=\"sk-estimator-id-9\" class=\"sk-toggleable__label sk-toggleable__label-arrow\">DecisionTreeClassifier</label><div class=\"sk-toggleable__content\"><pre>DecisionTreeClassifier(random_state=42)</pre></div></div></div></div></div>"
      ],
      "text/plain": [
       "DecisionTreeClassifier(random_state=42)"
      ]
     },
     "execution_count": 219,
     "metadata": {},
     "output_type": "execute_result"
    }
   ],
   "source": [
    "dt_clf = DecisionTreeClassifier(random_state=42)\n",
    "\n",
    "# Fit the Decision Tree classifier on the training data\n",
    "dt_clf.fit(X_final_train, y_train)"
   ]
  },
  {
   "cell_type": "code",
   "execution_count": 220,
   "metadata": {},
   "outputs": [
    {
     "name": "stdout",
     "output_type": "stream",
     "text": [
      "Accuracy for Test: 0.42247433819556995\n",
      "Precision for Test: 0.418155148774449\n",
      "Recall for Test: 0.42247433819556995\n",
      "F1-score for Test: 0.4199330022871506\n",
      "---------------------------------\n",
      "Accuracy for Train: 1.0\n",
      "Precision for Train: 1.0\n",
      "Recall for Train: 1.0\n",
      "F1-score for Train: 1.0\n"
     ]
    }
   ],
   "source": [
    "y_test_pred = dt_clf.predict(X_final_test)\n",
    "y_train_pred = dt_clf.predict(X_final_train)\n",
    "\n",
    "accuracy_te, precision_te, recall_te, f1_te = print_metrics(y_test, y_test_pred, \"Test\")\n",
    "df_models_explorations.loc['Decision Tree', 'accuracy_test'] = accuracy_te\n",
    "df_models_explorations.loc['Decision Tree', 'precision_test'] = precision_te\n",
    "df_models_explorations.loc['Decision Tree', 'recall_test'] = recall_te\n",
    "df_models_explorations.loc['Decision Tree', 'F1_test'] = f1_te\n",
    "\n",
    "print(\"---------------------------------\")\n",
    "\n",
    "# metrics train set\n",
    "accuracy_tr, precision_tr, recall_tr, f1_tr = print_metrics(y_train, y_train_pred, \"Train\")\n",
    "df_models_explorations.loc['Decision Tree', 'accuracy_train'] = accuracy_tr\n",
    "df_models_explorations.loc['Decision Tree', 'precision_train'] = precision_tr\n",
    "df_models_explorations.loc['Decision Tree', 'recall_train'] = recall_tr\n",
    "df_models_explorations.loc['Decision Tree', 'F1_train'] = f1_tr"
   ]
  },
  {
   "cell_type": "markdown",
   "metadata": {},
   "source": [
    "## 4.5 Random Forest Classifier"
   ]
  },
  {
   "cell_type": "code",
   "execution_count": 221,
   "metadata": {},
   "outputs": [
    {
     "data": {
      "text/html": [
       "<style>#sk-container-id-10 {color: black;background-color: white;}#sk-container-id-10 pre{padding: 0;}#sk-container-id-10 div.sk-toggleable {background-color: white;}#sk-container-id-10 label.sk-toggleable__label {cursor: pointer;display: block;width: 100%;margin-bottom: 0;padding: 0.3em;box-sizing: border-box;text-align: center;}#sk-container-id-10 label.sk-toggleable__label-arrow:before {content: \"▸\";float: left;margin-right: 0.25em;color: #696969;}#sk-container-id-10 label.sk-toggleable__label-arrow:hover:before {color: black;}#sk-container-id-10 div.sk-estimator:hover label.sk-toggleable__label-arrow:before {color: black;}#sk-container-id-10 div.sk-toggleable__content {max-height: 0;max-width: 0;overflow: hidden;text-align: left;background-color: #f0f8ff;}#sk-container-id-10 div.sk-toggleable__content pre {margin: 0.2em;color: black;border-radius: 0.25em;background-color: #f0f8ff;}#sk-container-id-10 input.sk-toggleable__control:checked~div.sk-toggleable__content {max-height: 200px;max-width: 100%;overflow: auto;}#sk-container-id-10 input.sk-toggleable__control:checked~label.sk-toggleable__label-arrow:before {content: \"▾\";}#sk-container-id-10 div.sk-estimator input.sk-toggleable__control:checked~label.sk-toggleable__label {background-color: #d4ebff;}#sk-container-id-10 div.sk-label input.sk-toggleable__control:checked~label.sk-toggleable__label {background-color: #d4ebff;}#sk-container-id-10 input.sk-hidden--visually {border: 0;clip: rect(1px 1px 1px 1px);clip: rect(1px, 1px, 1px, 1px);height: 1px;margin: -1px;overflow: hidden;padding: 0;position: absolute;width: 1px;}#sk-container-id-10 div.sk-estimator {font-family: monospace;background-color: #f0f8ff;border: 1px dotted black;border-radius: 0.25em;box-sizing: border-box;margin-bottom: 0.5em;}#sk-container-id-10 div.sk-estimator:hover {background-color: #d4ebff;}#sk-container-id-10 div.sk-parallel-item::after {content: \"\";width: 100%;border-bottom: 1px solid gray;flex-grow: 1;}#sk-container-id-10 div.sk-label:hover label.sk-toggleable__label {background-color: #d4ebff;}#sk-container-id-10 div.sk-serial::before {content: \"\";position: absolute;border-left: 1px solid gray;box-sizing: border-box;top: 0;bottom: 0;left: 50%;z-index: 0;}#sk-container-id-10 div.sk-serial {display: flex;flex-direction: column;align-items: center;background-color: white;padding-right: 0.2em;padding-left: 0.2em;position: relative;}#sk-container-id-10 div.sk-item {position: relative;z-index: 1;}#sk-container-id-10 div.sk-parallel {display: flex;align-items: stretch;justify-content: center;background-color: white;position: relative;}#sk-container-id-10 div.sk-item::before, #sk-container-id-10 div.sk-parallel-item::before {content: \"\";position: absolute;border-left: 1px solid gray;box-sizing: border-box;top: 0;bottom: 0;left: 50%;z-index: -1;}#sk-container-id-10 div.sk-parallel-item {display: flex;flex-direction: column;z-index: 1;position: relative;background-color: white;}#sk-container-id-10 div.sk-parallel-item:first-child::after {align-self: flex-end;width: 50%;}#sk-container-id-10 div.sk-parallel-item:last-child::after {align-self: flex-start;width: 50%;}#sk-container-id-10 div.sk-parallel-item:only-child::after {width: 0;}#sk-container-id-10 div.sk-dashed-wrapped {border: 1px dashed gray;margin: 0 0.4em 0.5em 0.4em;box-sizing: border-box;padding-bottom: 0.4em;background-color: white;}#sk-container-id-10 div.sk-label label {font-family: monospace;font-weight: bold;display: inline-block;line-height: 1.2em;}#sk-container-id-10 div.sk-label-container {text-align: center;}#sk-container-id-10 div.sk-container {/* jupyter's `normalize.less` sets `[hidden] { display: none; }` but bootstrap.min.css set `[hidden] { display: none !important; }` so we also need the `!important` here to be able to override the default hidden behavior on the sphinx rendered scikit-learn.org. See: https://github.com/scikit-learn/scikit-learn/issues/21755 */display: inline-block !important;position: relative;}#sk-container-id-10 div.sk-text-repr-fallback {display: none;}</style><div id=\"sk-container-id-10\" class=\"sk-top-container\"><div class=\"sk-text-repr-fallback\"><pre>RandomForestClassifier(random_state=42)</pre><b>In a Jupyter environment, please rerun this cell to show the HTML representation or trust the notebook. <br />On GitHub, the HTML representation is unable to render, please try loading this page with nbviewer.org.</b></div><div class=\"sk-container\" hidden><div class=\"sk-item\"><div class=\"sk-estimator sk-toggleable\"><input class=\"sk-toggleable__control sk-hidden--visually\" id=\"sk-estimator-id-10\" type=\"checkbox\" checked><label for=\"sk-estimator-id-10\" class=\"sk-toggleable__label sk-toggleable__label-arrow\">RandomForestClassifier</label><div class=\"sk-toggleable__content\"><pre>RandomForestClassifier(random_state=42)</pre></div></div></div></div></div>"
      ],
      "text/plain": [
       "RandomForestClassifier(random_state=42)"
      ]
     },
     "execution_count": 221,
     "metadata": {},
     "output_type": "execute_result"
    }
   ],
   "source": [
    "rf_clf = RandomForestClassifier(random_state=42)\n",
    "rf_clf.fit(X_final_train, y_train)"
   ]
  },
  {
   "cell_type": "code",
   "execution_count": 222,
   "metadata": {},
   "outputs": [
    {
     "name": "stdout",
     "output_type": "stream",
     "text": [
      "Accuracy for Test: 0.4883846569421934\n",
      "Precision for Test: 0.47029735472280243\n",
      "Recall for Test: 0.4883846569421934\n",
      "F1-score for Test: 0.42460226154769753\n",
      "---------------------------------\n",
      "Accuracy for Train: 1.0\n",
      "Precision for Train: 1.0\n",
      "Recall for Train: 1.0\n",
      "F1-score for Train: 1.0\n"
     ]
    }
   ],
   "source": [
    "y_test_pred = rf_clf.predict(X_final_test)\n",
    "y_train_pred = rf_clf.predict(X_final_train)\n",
    "\n",
    "accuracy_te, precision_te, recall_te, f1_te = print_metrics(y_test, y_test_pred, \"Test\")\n",
    "df_models_explorations.loc['Random Forest', 'accuracy_test'] = accuracy_te\n",
    "df_models_explorations.loc['Random Forest', 'precision_test'] = precision_te\n",
    "df_models_explorations.loc['Random Forest', 'recall_test'] = recall_te\n",
    "df_models_explorations.loc['Random Forest', 'F1_test'] = f1_te\n",
    "\n",
    "print(\"---------------------------------\")\n",
    "\n",
    "# metrics train set\n",
    "accuracy_tr, precision_tr, recall_tr, f1_tr = print_metrics(y_train, y_train_pred, \"Train\")\n",
    "df_models_explorations.loc['Random Forest', 'accuracy_train'] = accuracy_tr\n",
    "df_models_explorations.loc['Random Forest', 'precision_train'] = precision_tr\n",
    "df_models_explorations.loc['Random Forest', 'recall_train'] = recall_tr\n",
    "df_models_explorations.loc['Random Forest', 'F1_train'] = f1_tr"
   ]
  },
  {
   "cell_type": "markdown",
   "metadata": {},
   "source": [
    "## 4.6 Results Model Exploration"
   ]
  },
  {
   "cell_type": "code",
   "execution_count": 223,
   "metadata": {},
   "outputs": [
    {
     "data": {
      "text/html": [
       "<div>\n",
       "<style scoped>\n",
       "    .dataframe tbody tr th:only-of-type {\n",
       "        vertical-align: middle;\n",
       "    }\n",
       "\n",
       "    .dataframe tbody tr th {\n",
       "        vertical-align: top;\n",
       "    }\n",
       "\n",
       "    .dataframe thead th {\n",
       "        text-align: right;\n",
       "    }\n",
       "</style>\n",
       "<table border=\"1\" class=\"dataframe\">\n",
       "  <thead>\n",
       "    <tr style=\"text-align: right;\">\n",
       "      <th></th>\n",
       "      <th>accuracy_test</th>\n",
       "      <th>accuracy_train</th>\n",
       "      <th>precision_test</th>\n",
       "      <th>precision_train</th>\n",
       "      <th>recall_test</th>\n",
       "      <th>recall_train</th>\n",
       "      <th>F1_test</th>\n",
       "      <th>F1_train</th>\n",
       "    </tr>\n",
       "    <tr>\n",
       "      <th>model</th>\n",
       "      <th></th>\n",
       "      <th></th>\n",
       "      <th></th>\n",
       "      <th></th>\n",
       "      <th></th>\n",
       "      <th></th>\n",
       "      <th></th>\n",
       "      <th></th>\n",
       "    </tr>\n",
       "  </thead>\n",
       "  <tbody>\n",
       "    <tr>\n",
       "      <th>KNN</th>\n",
       "      <td>0.385197</td>\n",
       "      <td>0.609618</td>\n",
       "      <td>0.366081</td>\n",
       "      <td>0.608113</td>\n",
       "      <td>0.385197</td>\n",
       "      <td>0.609618</td>\n",
       "      <td>0.369173</td>\n",
       "      <td>0.594289</td>\n",
       "    </tr>\n",
       "    <tr>\n",
       "      <th>SVM</th>\n",
       "      <td>0.466775</td>\n",
       "      <td>0.494799</td>\n",
       "      <td>0.369921</td>\n",
       "      <td>0.701659</td>\n",
       "      <td>0.466775</td>\n",
       "      <td>0.494799</td>\n",
       "      <td>0.317806</td>\n",
       "      <td>0.358921</td>\n",
       "    </tr>\n",
       "    <tr>\n",
       "      <th>GNB</th>\n",
       "      <td>0.265802</td>\n",
       "      <td>0.312576</td>\n",
       "      <td>0.362398</td>\n",
       "      <td>0.415938</td>\n",
       "      <td>0.265802</td>\n",
       "      <td>0.312576</td>\n",
       "      <td>0.270858</td>\n",
       "      <td>0.315480</td>\n",
       "    </tr>\n",
       "    <tr>\n",
       "      <th>XGBoost</th>\n",
       "      <td>0.500270</td>\n",
       "      <td>0.530190</td>\n",
       "      <td>0.506667</td>\n",
       "      <td>0.577052</td>\n",
       "      <td>0.500270</td>\n",
       "      <td>0.530190</td>\n",
       "      <td>0.423825</td>\n",
       "      <td>0.455945</td>\n",
       "    </tr>\n",
       "    <tr>\n",
       "      <th>AdaBoost</th>\n",
       "      <td>0.478660</td>\n",
       "      <td>0.490882</td>\n",
       "      <td>0.458602</td>\n",
       "      <td>0.473488</td>\n",
       "      <td>0.478660</td>\n",
       "      <td>0.490882</td>\n",
       "      <td>0.428243</td>\n",
       "      <td>0.444975</td>\n",
       "    </tr>\n",
       "    <tr>\n",
       "      <th>Decision Tree</th>\n",
       "      <td>0.422474</td>\n",
       "      <td>1.000000</td>\n",
       "      <td>0.418155</td>\n",
       "      <td>1.000000</td>\n",
       "      <td>0.422474</td>\n",
       "      <td>1.000000</td>\n",
       "      <td>0.419933</td>\n",
       "      <td>1.000000</td>\n",
       "    </tr>\n",
       "    <tr>\n",
       "      <th>Random Forest</th>\n",
       "      <td>0.488385</td>\n",
       "      <td>1.000000</td>\n",
       "      <td>0.470297</td>\n",
       "      <td>1.000000</td>\n",
       "      <td>0.488385</td>\n",
       "      <td>1.000000</td>\n",
       "      <td>0.424602</td>\n",
       "      <td>1.000000</td>\n",
       "    </tr>\n",
       "  </tbody>\n",
       "</table>\n",
       "</div>"
      ],
      "text/plain": [
       "               accuracy_test  accuracy_train  precision_test  precision_train  \\\n",
       "model                                                                           \n",
       "KNN                 0.385197        0.609618        0.366081         0.608113   \n",
       "SVM                 0.466775        0.494799        0.369921         0.701659   \n",
       "GNB                 0.265802        0.312576        0.362398         0.415938   \n",
       "XGBoost             0.500270        0.530190        0.506667         0.577052   \n",
       "AdaBoost            0.478660        0.490882        0.458602         0.473488   \n",
       "Decision Tree       0.422474        1.000000        0.418155         1.000000   \n",
       "Random Forest       0.488385        1.000000        0.470297         1.000000   \n",
       "\n",
       "               recall_test  recall_train   F1_test  F1_train  \n",
       "model                                                         \n",
       "KNN               0.385197      0.609618  0.369173  0.594289  \n",
       "SVM               0.466775      0.494799  0.317806  0.358921  \n",
       "GNB               0.265802      0.312576  0.270858  0.315480  \n",
       "XGBoost           0.500270      0.530190  0.423825  0.455945  \n",
       "AdaBoost          0.478660      0.490882  0.428243  0.444975  \n",
       "Decision Tree     0.422474      1.000000  0.419933  1.000000  \n",
       "Random Forest     0.488385      1.000000  0.424602  1.000000  "
      ]
     },
     "execution_count": 223,
     "metadata": {},
     "output_type": "execute_result"
    }
   ],
   "source": [
    "df_models_explorations"
   ]
  },
  {
   "cell_type": "markdown",
   "metadata": {},
   "source": [
    "Best Performer:\n",
    "\n",
    "The target column \"Popularity_cat\" is imbalance. Therefore, our focus in terms of metric is Precision, because we want to reduce the False Positives in the classifications. Considering this, the best model was XGBoost.\n",
    "Additionally, we can see that the model is underfitting. Therefore, optimization will be needed to improve the results.\n"
   ]
  },
  {
   "cell_type": "code",
   "execution_count": 224,
   "metadata": {},
   "outputs": [],
   "source": [
    "y_test_pred = xgb_clf.predict(X_final_test)"
   ]
  },
  {
   "cell_type": "code",
   "execution_count": 225,
   "metadata": {},
   "outputs": [
    {
     "data": {
      "image/png": "[encoded data removed]",
      "text/plain": [
       "<Figure size 800x550 with 1 Axes>"
      ]
     },
     "metadata": {},
     "output_type": "display_data"
    }
   ],
   "source": [
    "# Confusion Matrix\n",
    "\n",
    "confusion_matrix_graph(y_test, y_test_pred, \"XGBoost\")"
   ]
  },
  {
   "cell_type": "markdown",
   "metadata": {},
   "source": [
    "As can be seen in the confusion matrix above, the model did better at predicting the class 1; This can be explain due to the imbalace in the classes. "
   ]
  },
  {
   "cell_type": "markdown",
   "metadata": {},
   "source": [
    "## 4.7 Best Model Using Embeddings"
   ]
  },
  {
   "cell_type": "code",
   "execution_count": 226,
   "metadata": {},
   "outputs": [
    {
     "name": "stdout",
     "output_type": "stream",
     "text": [
      "The shape of the final training set is: (7403, 130)\n",
      "The shape of the final testing set is: (1851, 130)\n"
     ]
    }
   ],
   "source": [
    "# Training set\n",
    "df_genre_train = X_train[genres]\n",
    "# reset indexes\n",
    "\n",
    "df_genre_train.reset_index(drop=True, inplace=True)\n",
    "df_train.reset_index(drop=True, inplace=True)\n",
    "df_text_embedding_train.reset_index(drop=True, inplace=True)\n",
    "\n",
    "#Concat all features\n",
    "\n",
    "X_final_train = pd.concat([df_genre_train, df_train, df_text_embedding_train], axis=1)\n",
    "print(f\"The shape of the final training set is: {X_final_train.shape}\")\n",
    "\n",
    "# Testing set\n",
    "df_genre_test = X_test[genres]\n",
    "\n",
    "# Reset variables\n",
    "df_genre_test.reset_index(drop=True, inplace=True)\n",
    "df_test.reset_index(drop=True, inplace=True)\n",
    "df_text_embedding_test.reset_index(drop=True, inplace=True)\n",
    "\n",
    "#concat all features\n",
    "X_final_test = pd.concat([df_genre_test, df_test, df_text_embedding_test], axis=1)\n",
    "print(f\"The shape of the final testing set is: {X_final_test.shape}\")"
   ]
  },
  {
   "cell_type": "code",
   "execution_count": 227,
   "metadata": {},
   "outputs": [],
   "source": [
    "xgb_clf_e = xgb.XGBClassifier(\n",
    "    learning_rate=0.1,\n",
    "    n_estimators=50,\n",
    "    max_depth=3,\n",
    "    subsample=1.0,\n",
    "    colsample_bytree=1.0,\n",
    "    random_state=42\n",
    ")\n",
    "\n",
    "xgb_clf_e.fit(X_final_train, y_train)\n",
    "\n",
    "y_test_pred = xgb_clf_e.predict(X_final_test)\n",
    "y_train_pred = xgb_clf_e.predict(X_final_train)"
   ]
  },
  {
   "cell_type": "code",
   "execution_count": 228,
   "metadata": {},
   "outputs": [
    {
     "name": "stdout",
     "output_type": "stream",
     "text": [
      "Accuracy for Test: 0.4932468935710427\n",
      "Precision for Test: 0.48728930585135366\n",
      "Recall for Test: 0.4932468935710427\n",
      "F1-score for Test: 0.40996039304461357\n",
      "---------------------------------\n",
      "Accuracy for Train: 0.5316763474267189\n",
      "Precision for Train: 0.5826732834565631\n",
      "Recall for Train: 0.5316763474267189\n",
      "F1-score for Train: 0.46095610336670323\n"
     ]
    }
   ],
   "source": [
    "#metrics test set\n",
    "_, _, _, _ = print_metrics(y_test, y_test_pred, \"Test\")\n",
    "\n",
    "print(\"---------------------------------\")\n",
    "\n",
    "# metrics train set\n",
    "_, _, _, _ = print_metrics(y_train, y_train_pred, \"Train\")"
   ]
  },
  {
   "cell_type": "markdown",
   "metadata": {},
   "source": [
    "Using Doc2Vec did not represent any improvement over TFIDF"
   ]
  },
  {
   "cell_type": "markdown",
   "metadata": {},
   "source": [
    "# Step 5"
   ]
  },
  {
   "cell_type": "markdown",
   "metadata": {},
   "source": [
    "## Model Optimization"
   ]
  },
  {
   "cell_type": "code",
   "execution_count": 229,
   "metadata": {},
   "outputs": [
    {
     "name": "stdout",
     "output_type": "stream",
     "text": [
      "The shape of the final training set is: (7403, 130)\n",
      "The shape of the final testing set is: (1851, 130)\n"
     ]
    }
   ],
   "source": [
    "# Training set\n",
    "df_genre_train = X_train[genres]\n",
    "# reset indexes\n",
    "\n",
    "df_genre_train.reset_index(drop=True, inplace=True)\n",
    "df_train.reset_index(drop=True, inplace=True)\n",
    "df_text_tfidf_train.reset_index(drop=True, inplace=True)\n",
    "\n",
    "#Concat all features\n",
    "\n",
    "X_final_train = pd.concat([df_genre_train, df_train, df_text_tfidf_train], axis=1)\n",
    "print(f\"The shape of the final training set is: {X_final_train.shape}\")\n",
    "\n",
    "# Testing set\n",
    "df_genre_test = X_test[genres]\n",
    "\n",
    "# Reset variables\n",
    "df_genre_test.reset_index(drop=True, inplace=True)\n",
    "df_test.reset_index(drop=True, inplace=True)\n",
    "df_text_tfidf_test.reset_index(drop=True, inplace=True)\n",
    "\n",
    "#concat all features\n",
    "X_final_test = pd.concat([df_genre_test, df_test, df_text_tfidf_test], axis=1)\n",
    "print(f\"The shape of the final testing set is: {X_final_test.shape}\")"
   ]
  },
  {
   "cell_type": "code",
   "execution_count": 238,
   "metadata": {},
   "outputs": [],
   "source": [
    "# Recursive Feature Elimination\n",
    "xgb_clf_rfe = xgb.XGBClassifier(\n",
    "    learning_rate=0.1,\n",
    "    n_estimators=50,\n",
    "    max_depth=3,\n",
    "    subsample=1.0,\n",
    "    colsample_bytree=1.0,\n",
    "    random_state=42\n",
    ")\n",
    "\n",
    "\n",
    "# Features to select\n",
    "num_features_to_select = 7\n",
    "\n",
    "# Create RFE model\n",
    "rfe = RFE(xgb_clf_rfe, n_features_to_select=num_features_to_select)\n",
    "\n",
    "# Fit the RFE model and transform the data\n",
    "X_train_rfe = rfe.fit_transform(X_final_train, y_train)\n",
    "X_test_rfe = rfe.transform(X_final_test)\n",
    "\n",
    "# Fit XGBoost on the selected features\n",
    "xgb_clf_rfe.fit(X_train_rfe, y_train)\n",
    "\n",
    "# Make predictions on the test set\n",
    "y_pred_test_rfe = xgb_clf_rfe.predict(X_test_rfe)\n",
    "y_pred_train_rfe = xgb_clf_rfe.predict(X_train_rfe)"
   ]
  },
  {
   "cell_type": "code",
   "execution_count": 239,
   "metadata": {},
   "outputs": [
    {
     "name": "stdout",
     "output_type": "stream",
     "text": [
      "Accuracy for Test: 0.4991896272285251\n",
      "Precision for Test: 0.4929094532622798\n",
      "Recall for Test: 0.4991896272285251\n",
      "F1-score for Test: 0.437077093573598\n",
      "---------------------------------\n",
      "Accuracy for Train: 0.513440497095772\n",
      "Precision for Train: 0.5206387881094588\n",
      "Recall for Train: 0.513440497095772\n",
      "F1-score for Train: 0.4545189012532657\n"
     ]
    }
   ],
   "source": [
    "accuracy_te, precision_te, recall_te, f1_te = print_metrics(y_test, y_pred_test_rfe, \"Test\")\n",
    "df_models_explorations.loc['Random Forest', 'accuracy_test'] = accuracy_te\n",
    "df_models_explorations.loc['Random Forest', 'precision_test'] = precision_te\n",
    "df_models_explorations.loc['Random Forest', 'recall_test'] = recall_te\n",
    "df_models_explorations.loc['Random Forest', 'F1_test'] = f1_te\n",
    "\n",
    "print(\"---------------------------------\")\n",
    "\n",
    "# metrics train set\n",
    "accuracy_tr, precision_tr, recall_tr, f1_tr = print_metrics(y_train, y_pred_train_rfe, \"Train\")\n",
    "df_models_explorations.loc['Random Forest', 'accuracy_train'] = accuracy_tr\n",
    "df_models_explorations.loc['Random Forest', 'precision_train'] = precision_tr\n",
    "df_models_explorations.loc['Random Forest', 'recall_train'] = recall_tr\n",
    "df_models_explorations.loc['Random Forest', 'F1_train'] = f1_tr"
   ]
  },
  {
   "cell_type": "markdown",
   "metadata": {},
   "source": [
    "After a number of iterations on this code, we concluded that 7 features was the best performer. However, the model has a very poor performance."
   ]
  },
  {
   "cell_type": "markdown",
   "metadata": {},
   "source": [
    "#### Randomized Search"
   ]
  },
  {
   "cell_type": "code",
   "execution_count": 240,
   "metadata": {},
   "outputs": [
    {
     "name": "stdout",
     "output_type": "stream",
     "text": [
      "Best Parameters: {'subsample': 0.9, 'n_estimators': 40, 'max_depth': 5, 'learning_rate': 0.1, 'colsample_bytree': 0.9}\n"
     ]
    }
   ],
   "source": [
    "# Randomized Search\n",
    "\n",
    "param_dist = {\n",
    "        'max_depth': [1,2, 3, 5, 7],\n",
    "        'learning_rate': [0.15, 0.1, 0.01, 0.001],\n",
    "        'n_estimators': [30, 40, 50, 100],\n",
    "        'subsample': [0.8, 0.9, 1.0],\n",
    "        'colsample_bytree': [0.8, 0.9, 1.0]\n",
    "}\n",
    "\n",
    "\n",
    "xgb_model = xgb.XGBClassifier(random_state=42)\n",
    "\n",
    "# Create RandomizedSearchCV\n",
    "random_search = RandomizedSearchCV(xgb_model, param_distributions=param_dist, n_iter=20,\n",
    "                                   scoring='average_precision', cv=5, random_state=42)\n",
    "\n",
    "# Fit the model\n",
    "random_search.fit(X_final_train, y_train)\n",
    "\n",
    "# Get the best parameters\n",
    "best_params = random_search.best_params_\n",
    "\n",
    "# Print the best parameters\n",
    "print(\"Best Parameters:\", best_params)"
   ]
  },
  {
   "cell_type": "code",
   "execution_count": 241,
   "metadata": {},
   "outputs": [],
   "source": [
    "best_estimator = random_search.best_estimator_"
   ]
  },
  {
   "cell_type": "code",
   "execution_count": 242,
   "metadata": {},
   "outputs": [],
   "source": [
    "# Evaluate the model\n",
    "y_pred_test = best_estimator.predict(X_final_test)\n",
    "y_pred_train = best_estimator.predict(X_final_train)"
   ]
  },
  {
   "cell_type": "code",
   "execution_count": 243,
   "metadata": {},
   "outputs": [
    {
     "name": "stdout",
     "output_type": "stream",
     "text": [
      "Accuracy for Test: 0.5002701242571583\n",
      "Precision for Test: 0.4898396829670184\n",
      "Recall for Test: 0.5002701242571583\n",
      "F1-score for Test: 0.4316143753174753\n",
      "---------------------------------\n",
      "Accuracy for Train: 0.5820613264892611\n",
      "Precision for Train: 0.6575408674719035\n",
      "Recall for Train: 0.5820613264892611\n",
      "F1-score for Train: 0.5337879968990923\n"
     ]
    }
   ],
   "source": [
    "accuracy_te, precision_te, recall_te, f1_te = print_metrics(y_test, y_pred_test, \"Test\")\n",
    "df_models_explorations.loc['Random Forest', 'accuracy_test'] = accuracy_te\n",
    "df_models_explorations.loc['Random Forest', 'precision_test'] = precision_te\n",
    "df_models_explorations.loc['Random Forest', 'recall_test'] = recall_te\n",
    "df_models_explorations.loc['Random Forest', 'F1_test'] = f1_te\n",
    "\n",
    "print(\"---------------------------------\")\n",
    "\n",
    "# metrics train set\n",
    "accuracy_tr, precision_tr, recall_tr, f1_tr = print_metrics(y_train, y_pred_train, \"Train\")\n",
    "df_models_explorations.loc['Random Forest', 'accuracy_train'] = accuracy_tr\n",
    "df_models_explorations.loc['Random Forest', 'precision_train'] = precision_tr\n",
    "df_models_explorations.loc['Random Forest', 'recall_train'] = recall_tr\n",
    "df_models_explorations.loc['Random Forest', 'F1_train'] = f1_tr"
   ]
  },
  {
   "cell_type": "markdown",
   "metadata": {},
   "source": [
    "#### Randomized Search with Feature Elimination"
   ]
  },
  {
   "cell_type": "code",
   "execution_count": 244,
   "metadata": {},
   "outputs": [
    {
     "name": "stdout",
     "output_type": "stream",
     "text": [
      "Best Parameters: {'subsample': 0.9, 'n_estimators': 40, 'max_depth': 5, 'learning_rate': 0.1, 'colsample_bytree': 0.9}\n"
     ]
    }
   ],
   "source": [
    "xgb_model_rfe = xgb.XGBClassifier(random_state=42)\n",
    "\n",
    "# Create RandomizedSearchCV\n",
    "random_search_rfe = RandomizedSearchCV(xgb_model, param_distributions=param_dist, n_iter=20,\n",
    "                                   scoring='average_precision', cv=5, random_state=42)\n",
    "\n",
    "# Fit the model\n",
    "random_search_rfe.fit(X_train_rfe, y_train)\n",
    "\n",
    "# Get the best parameters\n",
    "best_params = random_search_rfe.best_params_\n",
    "\n",
    "# Print the best parameters\n",
    "print(\"Best Parameters:\", best_params)"
   ]
  },
  {
   "cell_type": "code",
   "execution_count": 245,
   "metadata": {},
   "outputs": [],
   "source": [
    "best_estimator = random_search_rfe.best_estimator_\n",
    "\n",
    "# Evaluate the model\n",
    "y_pred_test = best_estimator.predict(X_test_rfe)\n",
    "y_pred_train = best_estimator.predict(X_train_rfe)\n"
   ]
  },
  {
   "cell_type": "code",
   "execution_count": 246,
   "metadata": {},
   "outputs": [
    {
     "name": "stdout",
     "output_type": "stream",
     "text": [
      "Accuracy for Test: 0.501890869800108\n",
      "Precision for Test: 0.48903561977920784\n",
      "Recall for Test: 0.501890869800108\n",
      "F1-score for Test: 0.44336509958652043\n",
      "---------------------------------\n",
      "Accuracy for Train: 0.5334323922734027\n",
      "Precision for Train: 0.5548760412640924\n",
      "Recall for Train: 0.5334323922734027\n",
      "F1-score for Train: 0.4818778553172377\n"
     ]
    }
   ],
   "source": [
    "accuracy_te, precision_te, recall_te, f1_te = print_metrics(y_test, y_pred_test, \"Test\")\n",
    "df_models_explorations.loc['Random Forest', 'accuracy_test'] = accuracy_te\n",
    "df_models_explorations.loc['Random Forest', 'precision_test'] = precision_te\n",
    "df_models_explorations.loc['Random Forest', 'recall_test'] = recall_te\n",
    "df_models_explorations.loc['Random Forest', 'F1_test'] = f1_te\n",
    "\n",
    "print(\"---------------------------------\")\n",
    "\n",
    "# metrics train set\n",
    "accuracy_tr, precision_tr, recall_tr, f1_tr = print_metrics(y_train, y_pred_train, \"Train\")\n",
    "df_models_explorations.loc['Random Forest', 'accuracy_train'] = accuracy_tr\n",
    "df_models_explorations.loc['Random Forest', 'precision_train'] = precision_tr\n",
    "df_models_explorations.loc['Random Forest', 'recall_train'] = recall_tr\n",
    "df_models_explorations.loc['Random Forest', 'F1_train'] = f1_tr"
   ]
  },
  {
   "cell_type": "markdown",
   "metadata": {},
   "source": [
    "# Conclusions"
   ]
  },
  {
   "cell_type": "markdown",
   "metadata": {},
   "source": [
    "\n"
   ]
  },
  {
   "cell_type": "markdown",
   "metadata": {},
   "source": [
    "# Future Work"
   ]
  },
  {
   "cell_type": "markdown",
   "metadata": {},
   "source": []
  }
 ],
 "metadata": {
  "colab": {
   "collapsed_sections": [
    "19HttZxEBXyu",
    "yMxmx6bsBXyy",
    "mj7rCgYwBXy0",
    "b3-nSwMlBXzK",
    "3idQF92SBXzM",
    "P9nfDr95BXzQ",
    "c_Jbz6b1BXy-",
    "VnL2ADxYBXzA",
    "q_fkX5-LBXzQ"
   ],
   "provenance": []
  },
  "kernelspec": {
   "display_name": "Python 3 (ipykernel)",
   "language": "python",
   "name": "python3"
  },
  "language_info": {
   "codemirror_mode": {
    "name": "ipython",
    "version": 3
   },
   "file_extension": ".py",
   "mimetype": "text/x-python",
   "name": "python",
   "nbconvert_exporter": "python",
   "pygments_lexer": "ipython3",
   "version": "3.10.9"
  }
 },
 "nbformat": 4,
 "nbformat_minor": 1
}
