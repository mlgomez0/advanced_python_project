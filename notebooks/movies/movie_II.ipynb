{
 "cells": [
  {
   "cell_type": "code",
   "execution_count": 61,
   "metadata": {},
   "outputs": [],
   "source": [
    "import seaborn as sns\n",
    "import numpy as np\n",
    "import ast\n",
    "import csv\n",
    "import os\n",
    "import pandas as pd\n",
    "import requests\n",
    "import warnings\n",
    "import matplotlib.pyplot as plt\n",
    "from ydata_profiling import ProfileReport\n",
    "import gensim\n",
    "import nltk\n",
    "from sklearn.cluster import KMeans\n",
    "from sklearn.preprocessing import StandardScaler\n",
    "import pyLDAvis.gensim_models\n",
    "from nltk.corpus import stopwords\n",
    "from nltk.stem import WordNetLemmatizer\n",
    "from nltk.tokenize import word_tokenize\n",
    "from pyLDAvis import gensim\n",
    "from gensim import corpora\n",
    "from gensim import models\n",
    "from IPython.display import display, HTML\n",
    "from wordcloud import WordCloud\n",
    "import string\n",
    "import nltk\n",
    "import re\n",
    "import heapq\n",
    "from sklearn.preprocessing import MultiLabelBinarizer\n",
    "from sklearn.compose import ColumnTransformer\n",
    "from sklearn.pipeline import Pipeline\n",
    "from sklearn.preprocessing import StandardScaler\n",
    "from sklearn.impute import SimpleImputer\n",
    "from sklearn.ensemble import IsolationForest\n",
    "\n",
    "plt.style.use('seaborn-v0_8')\n",
    "warnings.filterwarnings('ignore')"
   ]
  },
  {
   "cell_type": "code",
   "execution_count": 2,
   "metadata": {},
   "outputs": [
    {
     "name": "stdout",
     "output_type": "stream",
     "text": [
      "(10000, 10)\n"
     ]
    },
    {
     "data": {
      "text/html": [
       "<div>\n",
       "<style scoped>\n",
       "    .dataframe tbody tr th:only-of-type {\n",
       "        vertical-align: middle;\n",
       "    }\n",
       "\n",
       "    .dataframe tbody tr th {\n",
       "        vertical-align: top;\n",
       "    }\n",
       "\n",
       "    .dataframe thead th {\n",
       "        text-align: right;\n",
       "    }\n",
       "</style>\n",
       "<table border=\"1\" class=\"dataframe\">\n",
       "  <thead>\n",
       "    <tr style=\"text-align: right;\">\n",
       "      <th></th>\n",
       "      <th>GenreIds</th>\n",
       "      <th>Id</th>\n",
       "      <th>OriginalLanguage</th>\n",
       "      <th>OriginalTitle</th>\n",
       "      <th>Overview</th>\n",
       "      <th>Popularity</th>\n",
       "      <th>ReleaseDate</th>\n",
       "      <th>Title</th>\n",
       "      <th>VoteAverage</th>\n",
       "      <th>VoteCount</th>\n",
       "    </tr>\n",
       "  </thead>\n",
       "  <tbody>\n",
       "    <tr>\n",
       "      <th>0</th>\n",
       "      <td>[28, 12, 53]</td>\n",
       "      <td>299054</td>\n",
       "      <td>en</td>\n",
       "      <td>Expend4bles</td>\n",
       "      <td>Armed with every weapon they can get their han...</td>\n",
       "      <td>3741.062</td>\n",
       "      <td>2023-09-15</td>\n",
       "      <td>Expend4bles</td>\n",
       "      <td>6.4</td>\n",
       "      <td>364</td>\n",
       "    </tr>\n",
       "    <tr>\n",
       "      <th>1</th>\n",
       "      <td>[28, 53, 80]</td>\n",
       "      <td>926393</td>\n",
       "      <td>en</td>\n",
       "      <td>The Equalizer 3</td>\n",
       "      <td>Robert McCall finds himself at home in Souther...</td>\n",
       "      <td>2471.515</td>\n",
       "      <td>2023-08-30</td>\n",
       "      <td>The Equalizer 3</td>\n",
       "      <td>7.3</td>\n",
       "      <td>1027</td>\n",
       "    </tr>\n",
       "    <tr>\n",
       "      <th>2</th>\n",
       "      <td>[16, 28, 14]</td>\n",
       "      <td>1034062</td>\n",
       "      <td>en</td>\n",
       "      <td>Mortal Kombat Legends: Cage Match</td>\n",
       "      <td>In 1980s Hollywood, action star Johnny Cage is...</td>\n",
       "      <td>2223.430</td>\n",
       "      <td>2023-10-17</td>\n",
       "      <td>Mortal Kombat Legends: Cage Match</td>\n",
       "      <td>7.8</td>\n",
       "      <td>27</td>\n",
       "    </tr>\n",
       "    <tr>\n",
       "      <th>3</th>\n",
       "      <td>[28, 53]</td>\n",
       "      <td>575264</td>\n",
       "      <td>en</td>\n",
       "      <td>Mission: Impossible - Dead Reckoning Part One</td>\n",
       "      <td>Ethan Hunt and his IMF team embark on their mo...</td>\n",
       "      <td>2032.927</td>\n",
       "      <td>2023-07-08</td>\n",
       "      <td>Mission: Impossible - Dead Reckoning Part One</td>\n",
       "      <td>7.7</td>\n",
       "      <td>1799</td>\n",
       "    </tr>\n",
       "    <tr>\n",
       "      <th>4</th>\n",
       "      <td>[53, 18]</td>\n",
       "      <td>1151534</td>\n",
       "      <td>es</td>\n",
       "      <td>Nowhere</td>\n",
       "      <td>A young pregnant woman named Mia escapes from ...</td>\n",
       "      <td>1627.678</td>\n",
       "      <td>2023-09-29</td>\n",
       "      <td>Nowhere</td>\n",
       "      <td>7.6</td>\n",
       "      <td>686</td>\n",
       "    </tr>\n",
       "    <tr>\n",
       "      <th>5</th>\n",
       "      <td>[27, 9648, 53]</td>\n",
       "      <td>968051</td>\n",
       "      <td>en</td>\n",
       "      <td>The Nun II</td>\n",
       "      <td>In 1956 France, a priest is violently murdered...</td>\n",
       "      <td>1594.559</td>\n",
       "      <td>2023-09-06</td>\n",
       "      <td>The Nun II</td>\n",
       "      <td>7.0</td>\n",
       "      <td>1086</td>\n",
       "    </tr>\n",
       "    <tr>\n",
       "      <th>6</th>\n",
       "      <td>[28, 80, 53]</td>\n",
       "      <td>961268</td>\n",
       "      <td>ko</td>\n",
       "      <td>발레리나</td>\n",
       "      <td>Grieving the loss of a best friend she couldn'...</td>\n",
       "      <td>1521.075</td>\n",
       "      <td>2023-10-05</td>\n",
       "      <td>Ballerina</td>\n",
       "      <td>7.0</td>\n",
       "      <td>200</td>\n",
       "    </tr>\n",
       "    <tr>\n",
       "      <th>7</th>\n",
       "      <td>[27, 53]</td>\n",
       "      <td>951491</td>\n",
       "      <td>en</td>\n",
       "      <td>Saw X</td>\n",
       "      <td>Between the events of 'Saw' and 'Saw II', a si...</td>\n",
       "      <td>1469.177</td>\n",
       "      <td>2023-09-26</td>\n",
       "      <td>Saw X</td>\n",
       "      <td>7.3</td>\n",
       "      <td>287</td>\n",
       "    </tr>\n",
       "    <tr>\n",
       "      <th>8</th>\n",
       "      <td>[12, 28, 18]</td>\n",
       "      <td>980489</td>\n",
       "      <td>en</td>\n",
       "      <td>Gran Turismo</td>\n",
       "      <td>The ultimate wish-fulfillment tale of a teenag...</td>\n",
       "      <td>1315.518</td>\n",
       "      <td>2023-08-09</td>\n",
       "      <td>Gran Turismo</td>\n",
       "      <td>8.1</td>\n",
       "      <td>1127</td>\n",
       "    </tr>\n",
       "    <tr>\n",
       "      <th>9</th>\n",
       "      <td>[53, 878, 28]</td>\n",
       "      <td>937249</td>\n",
       "      <td>en</td>\n",
       "      <td>57 Seconds</td>\n",
       "      <td>When a tech blogger lands an interview with a ...</td>\n",
       "      <td>1304.978</td>\n",
       "      <td>2023-09-29</td>\n",
       "      <td>57 Seconds</td>\n",
       "      <td>5.4</td>\n",
       "      <td>111</td>\n",
       "    </tr>\n",
       "  </tbody>\n",
       "</table>\n",
       "</div>"
      ],
      "text/plain": [
       "         GenreIds       Id OriginalLanguage  \\\n",
       "0    [28, 12, 53]   299054               en   \n",
       "1    [28, 53, 80]   926393               en   \n",
       "2    [16, 28, 14]  1034062               en   \n",
       "3        [28, 53]   575264               en   \n",
       "4        [53, 18]  1151534               es   \n",
       "5  [27, 9648, 53]   968051               en   \n",
       "6    [28, 80, 53]   961268               ko   \n",
       "7        [27, 53]   951491               en   \n",
       "8    [12, 28, 18]   980489               en   \n",
       "9   [53, 878, 28]   937249               en   \n",
       "\n",
       "                                   OriginalTitle  \\\n",
       "0                                    Expend4bles   \n",
       "1                                The Equalizer 3   \n",
       "2              Mortal Kombat Legends: Cage Match   \n",
       "3  Mission: Impossible - Dead Reckoning Part One   \n",
       "4                                        Nowhere   \n",
       "5                                     The Nun II   \n",
       "6                                           발레리나   \n",
       "7                                          Saw X   \n",
       "8                                   Gran Turismo   \n",
       "9                                     57 Seconds   \n",
       "\n",
       "                                            Overview  Popularity ReleaseDate  \\\n",
       "0  Armed with every weapon they can get their han...    3741.062  2023-09-15   \n",
       "1  Robert McCall finds himself at home in Souther...    2471.515  2023-08-30   \n",
       "2  In 1980s Hollywood, action star Johnny Cage is...    2223.430  2023-10-17   \n",
       "3  Ethan Hunt and his IMF team embark on their mo...    2032.927  2023-07-08   \n",
       "4  A young pregnant woman named Mia escapes from ...    1627.678  2023-09-29   \n",
       "5  In 1956 France, a priest is violently murdered...    1594.559  2023-09-06   \n",
       "6  Grieving the loss of a best friend she couldn'...    1521.075  2023-10-05   \n",
       "7  Between the events of 'Saw' and 'Saw II', a si...    1469.177  2023-09-26   \n",
       "8  The ultimate wish-fulfillment tale of a teenag...    1315.518  2023-08-09   \n",
       "9  When a tech blogger lands an interview with a ...    1304.978  2023-09-29   \n",
       "\n",
       "                                           Title  VoteAverage  VoteCount  \n",
       "0                                    Expend4bles          6.4        364  \n",
       "1                                The Equalizer 3          7.3       1027  \n",
       "2              Mortal Kombat Legends: Cage Match          7.8         27  \n",
       "3  Mission: Impossible - Dead Reckoning Part One          7.7       1799  \n",
       "4                                        Nowhere          7.6        686  \n",
       "5                                     The Nun II          7.0       1086  \n",
       "6                                      Ballerina          7.0        200  \n",
       "7                                          Saw X          7.3        287  \n",
       "8                                   Gran Turismo          8.1       1127  \n",
       "9                                     57 Seconds          5.4        111  "
      ]
     },
     "execution_count": 2,
     "metadata": {},
     "output_type": "execute_result"
    }
   ],
   "source": [
    "# Initial Dataset review\n",
    "df = pd.read_csv('movies.csv')\n",
    "print(df.shape)\n",
    "df.head(10)"
   ]
  },
  {
   "cell_type": "code",
   "execution_count": 3,
   "metadata": {},
   "outputs": [
    {
     "name": "stdout",
     "output_type": "stream",
     "text": [
      "(10000, 8)\n"
     ]
    },
    {
     "data": {
      "text/html": [
       "<div>\n",
       "<style scoped>\n",
       "    .dataframe tbody tr th:only-of-type {\n",
       "        vertical-align: middle;\n",
       "    }\n",
       "\n",
       "    .dataframe tbody tr th {\n",
       "        vertical-align: top;\n",
       "    }\n",
       "\n",
       "    .dataframe thead th {\n",
       "        text-align: right;\n",
       "    }\n",
       "</style>\n",
       "<table border=\"1\" class=\"dataframe\">\n",
       "  <thead>\n",
       "    <tr style=\"text-align: right;\">\n",
       "      <th></th>\n",
       "      <th>Id</th>\n",
       "      <th>Budget</th>\n",
       "      <th>ProductionCompanies</th>\n",
       "      <th>ProductionCountries</th>\n",
       "      <th>SpokenLanguages</th>\n",
       "      <th>TagLine</th>\n",
       "      <th>RunTime</th>\n",
       "      <th>Revenue</th>\n",
       "    </tr>\n",
       "  </thead>\n",
       "  <tbody>\n",
       "    <tr>\n",
       "      <th>0</th>\n",
       "      <td>299054</td>\n",
       "      <td>100000000</td>\n",
       "      <td>[{'id': 1020, 'logo_path': '/kuUIHNwMec4dwOLgh...</td>\n",
       "      <td>[{'iso_3166_1': 'US', 'name': 'United States o...</td>\n",
       "      <td>[{'english_name': 'English', 'iso_639_1': 'en'...</td>\n",
       "      <td>They'll die when they're dead.</td>\n",
       "      <td>103</td>\n",
       "      <td>30000000</td>\n",
       "    </tr>\n",
       "    <tr>\n",
       "      <th>1</th>\n",
       "      <td>926393</td>\n",
       "      <td>70000000</td>\n",
       "      <td>[{'id': 1423, 'logo_path': '/1rbAwGQzrNvXDICD6...</td>\n",
       "      <td>[{'iso_3166_1': 'IT', 'name': 'Italy'}, {'iso_...</td>\n",
       "      <td>[{'english_name': 'English', 'iso_639_1': 'en'...</td>\n",
       "      <td>Justice knows no borders.</td>\n",
       "      <td>109</td>\n",
       "      <td>176933602</td>\n",
       "    </tr>\n",
       "    <tr>\n",
       "      <th>2</th>\n",
       "      <td>1034062</td>\n",
       "      <td>0</td>\n",
       "      <td>[{'id': 2785, 'logo_path': '/l5zW8jjmQOCx2dFmv...</td>\n",
       "      <td>[{'iso_3166_1': 'US', 'name': 'United States o...</td>\n",
       "      <td>[{'english_name': 'English', 'iso_639_1': 'en'...</td>\n",
       "      <td>Neon lights... Suits with shoulder pads... Jum...</td>\n",
       "      <td>80</td>\n",
       "      <td>0</td>\n",
       "    </tr>\n",
       "    <tr>\n",
       "      <th>3</th>\n",
       "      <td>575264</td>\n",
       "      <td>291000000</td>\n",
       "      <td>[{'id': 4, 'logo_path': '/gz66EfNoYPqHTYI4q9UE...</td>\n",
       "      <td>[{'iso_3166_1': 'US', 'name': 'United States o...</td>\n",
       "      <td>[{'english_name': 'French', 'iso_639_1': 'fr',...</td>\n",
       "      <td>We all share the same fate.</td>\n",
       "      <td>164</td>\n",
       "      <td>567148955</td>\n",
       "    </tr>\n",
       "    <tr>\n",
       "      <th>4</th>\n",
       "      <td>1151534</td>\n",
       "      <td>0</td>\n",
       "      <td>[{'id': 204005, 'logo_path': None, 'name': 'Ro...</td>\n",
       "      <td>[{'iso_3166_1': 'ES', 'name': 'Spain'}]</td>\n",
       "      <td>[{'english_name': 'Spanish', 'iso_639_1': 'es'...</td>\n",
       "      <td>Attempting to survive in the middle of nowhere...</td>\n",
       "      <td>109</td>\n",
       "      <td>0</td>\n",
       "    </tr>\n",
       "  </tbody>\n",
       "</table>\n",
       "</div>"
      ],
      "text/plain": [
       "        Id     Budget                                ProductionCompanies  \\\n",
       "0   299054  100000000  [{'id': 1020, 'logo_path': '/kuUIHNwMec4dwOLgh...   \n",
       "1   926393   70000000  [{'id': 1423, 'logo_path': '/1rbAwGQzrNvXDICD6...   \n",
       "2  1034062          0  [{'id': 2785, 'logo_path': '/l5zW8jjmQOCx2dFmv...   \n",
       "3   575264  291000000  [{'id': 4, 'logo_path': '/gz66EfNoYPqHTYI4q9UE...   \n",
       "4  1151534          0  [{'id': 204005, 'logo_path': None, 'name': 'Ro...   \n",
       "\n",
       "                                 ProductionCountries  \\\n",
       "0  [{'iso_3166_1': 'US', 'name': 'United States o...   \n",
       "1  [{'iso_3166_1': 'IT', 'name': 'Italy'}, {'iso_...   \n",
       "2  [{'iso_3166_1': 'US', 'name': 'United States o...   \n",
       "3  [{'iso_3166_1': 'US', 'name': 'United States o...   \n",
       "4            [{'iso_3166_1': 'ES', 'name': 'Spain'}]   \n",
       "\n",
       "                                     SpokenLanguages  \\\n",
       "0  [{'english_name': 'English', 'iso_639_1': 'en'...   \n",
       "1  [{'english_name': 'English', 'iso_639_1': 'en'...   \n",
       "2  [{'english_name': 'English', 'iso_639_1': 'en'...   \n",
       "3  [{'english_name': 'French', 'iso_639_1': 'fr',...   \n",
       "4  [{'english_name': 'Spanish', 'iso_639_1': 'es'...   \n",
       "\n",
       "                                             TagLine  RunTime    Revenue  \n",
       "0                     They'll die when they're dead.      103   30000000  \n",
       "1                          Justice knows no borders.      109  176933602  \n",
       "2  Neon lights... Suits with shoulder pads... Jum...       80          0  \n",
       "3                        We all share the same fate.      164  567148955  \n",
       "4  Attempting to survive in the middle of nowhere...      109          0  "
      ]
     },
     "execution_count": 3,
     "metadata": {},
     "output_type": "execute_result"
    }
   ],
   "source": [
    "# Checking movie details data\n",
    "\n",
    "df2 = pd.read_csv('movie_details.csv')\n",
    "print(df2.shape)\n",
    "df2.head()"
   ]
  },
  {
   "cell_type": "code",
   "execution_count": 4,
   "metadata": {},
   "outputs": [],
   "source": [
    "def inner_join(df1, df2, pk):\n",
    "    '''This methods performs inner joint, based on given primery key'''\n",
    "    return pd.merge(df1, df2, on=pk)"
   ]
  },
  {
   "cell_type": "code",
   "execution_count": 5,
   "metadata": {},
   "outputs": [
    {
     "name": "stdout",
     "output_type": "stream",
     "text": [
      "(10000, 17)\n"
     ]
    },
    {
     "data": {
      "text/html": [
       "<div>\n",
       "<style scoped>\n",
       "    .dataframe tbody tr th:only-of-type {\n",
       "        vertical-align: middle;\n",
       "    }\n",
       "\n",
       "    .dataframe tbody tr th {\n",
       "        vertical-align: top;\n",
       "    }\n",
       "\n",
       "    .dataframe thead th {\n",
       "        text-align: right;\n",
       "    }\n",
       "</style>\n",
       "<table border=\"1\" class=\"dataframe\">\n",
       "  <thead>\n",
       "    <tr style=\"text-align: right;\">\n",
       "      <th></th>\n",
       "      <th>GenreIds</th>\n",
       "      <th>Id</th>\n",
       "      <th>OriginalLanguage</th>\n",
       "      <th>OriginalTitle</th>\n",
       "      <th>Overview</th>\n",
       "      <th>Popularity</th>\n",
       "      <th>ReleaseDate</th>\n",
       "      <th>Title</th>\n",
       "      <th>VoteAverage</th>\n",
       "      <th>VoteCount</th>\n",
       "      <th>Budget</th>\n",
       "      <th>ProductionCompanies</th>\n",
       "      <th>ProductionCountries</th>\n",
       "      <th>SpokenLanguages</th>\n",
       "      <th>TagLine</th>\n",
       "      <th>RunTime</th>\n",
       "      <th>Revenue</th>\n",
       "    </tr>\n",
       "  </thead>\n",
       "  <tbody>\n",
       "    <tr>\n",
       "      <th>0</th>\n",
       "      <td>[28, 12, 53]</td>\n",
       "      <td>299054</td>\n",
       "      <td>en</td>\n",
       "      <td>Expend4bles</td>\n",
       "      <td>Armed with every weapon they can get their han...</td>\n",
       "      <td>3741.062</td>\n",
       "      <td>2023-09-15</td>\n",
       "      <td>Expend4bles</td>\n",
       "      <td>6.4</td>\n",
       "      <td>364</td>\n",
       "      <td>100000000</td>\n",
       "      <td>[{'id': 1020, 'logo_path': '/kuUIHNwMec4dwOLgh...</td>\n",
       "      <td>[{'iso_3166_1': 'US', 'name': 'United States o...</td>\n",
       "      <td>[{'english_name': 'English', 'iso_639_1': 'en'...</td>\n",
       "      <td>They'll die when they're dead.</td>\n",
       "      <td>103</td>\n",
       "      <td>30000000</td>\n",
       "    </tr>\n",
       "    <tr>\n",
       "      <th>1</th>\n",
       "      <td>[28, 53, 80]</td>\n",
       "      <td>926393</td>\n",
       "      <td>en</td>\n",
       "      <td>The Equalizer 3</td>\n",
       "      <td>Robert McCall finds himself at home in Souther...</td>\n",
       "      <td>2471.515</td>\n",
       "      <td>2023-08-30</td>\n",
       "      <td>The Equalizer 3</td>\n",
       "      <td>7.3</td>\n",
       "      <td>1027</td>\n",
       "      <td>70000000</td>\n",
       "      <td>[{'id': 1423, 'logo_path': '/1rbAwGQzrNvXDICD6...</td>\n",
       "      <td>[{'iso_3166_1': 'IT', 'name': 'Italy'}, {'iso_...</td>\n",
       "      <td>[{'english_name': 'English', 'iso_639_1': 'en'...</td>\n",
       "      <td>Justice knows no borders.</td>\n",
       "      <td>109</td>\n",
       "      <td>176933602</td>\n",
       "    </tr>\n",
       "    <tr>\n",
       "      <th>2</th>\n",
       "      <td>[16, 28, 14]</td>\n",
       "      <td>1034062</td>\n",
       "      <td>en</td>\n",
       "      <td>Mortal Kombat Legends: Cage Match</td>\n",
       "      <td>In 1980s Hollywood, action star Johnny Cage is...</td>\n",
       "      <td>2223.430</td>\n",
       "      <td>2023-10-17</td>\n",
       "      <td>Mortal Kombat Legends: Cage Match</td>\n",
       "      <td>7.8</td>\n",
       "      <td>27</td>\n",
       "      <td>0</td>\n",
       "      <td>[{'id': 2785, 'logo_path': '/l5zW8jjmQOCx2dFmv...</td>\n",
       "      <td>[{'iso_3166_1': 'US', 'name': 'United States o...</td>\n",
       "      <td>[{'english_name': 'English', 'iso_639_1': 'en'...</td>\n",
       "      <td>Neon lights... Suits with shoulder pads... Jum...</td>\n",
       "      <td>80</td>\n",
       "      <td>0</td>\n",
       "    </tr>\n",
       "    <tr>\n",
       "      <th>3</th>\n",
       "      <td>[28, 53]</td>\n",
       "      <td>575264</td>\n",
       "      <td>en</td>\n",
       "      <td>Mission: Impossible - Dead Reckoning Part One</td>\n",
       "      <td>Ethan Hunt and his IMF team embark on their mo...</td>\n",
       "      <td>2032.927</td>\n",
       "      <td>2023-07-08</td>\n",
       "      <td>Mission: Impossible - Dead Reckoning Part One</td>\n",
       "      <td>7.7</td>\n",
       "      <td>1799</td>\n",
       "      <td>291000000</td>\n",
       "      <td>[{'id': 4, 'logo_path': '/gz66EfNoYPqHTYI4q9UE...</td>\n",
       "      <td>[{'iso_3166_1': 'US', 'name': 'United States o...</td>\n",
       "      <td>[{'english_name': 'French', 'iso_639_1': 'fr',...</td>\n",
       "      <td>We all share the same fate.</td>\n",
       "      <td>164</td>\n",
       "      <td>567148955</td>\n",
       "    </tr>\n",
       "    <tr>\n",
       "      <th>4</th>\n",
       "      <td>[53, 18]</td>\n",
       "      <td>1151534</td>\n",
       "      <td>es</td>\n",
       "      <td>Nowhere</td>\n",
       "      <td>A young pregnant woman named Mia escapes from ...</td>\n",
       "      <td>1627.678</td>\n",
       "      <td>2023-09-29</td>\n",
       "      <td>Nowhere</td>\n",
       "      <td>7.6</td>\n",
       "      <td>686</td>\n",
       "      <td>0</td>\n",
       "      <td>[{'id': 204005, 'logo_path': None, 'name': 'Ro...</td>\n",
       "      <td>[{'iso_3166_1': 'ES', 'name': 'Spain'}]</td>\n",
       "      <td>[{'english_name': 'Spanish', 'iso_639_1': 'es'...</td>\n",
       "      <td>Attempting to survive in the middle of nowhere...</td>\n",
       "      <td>109</td>\n",
       "      <td>0</td>\n",
       "    </tr>\n",
       "  </tbody>\n",
       "</table>\n",
       "</div>"
      ],
      "text/plain": [
       "       GenreIds       Id OriginalLanguage  \\\n",
       "0  [28, 12, 53]   299054               en   \n",
       "1  [28, 53, 80]   926393               en   \n",
       "2  [16, 28, 14]  1034062               en   \n",
       "3      [28, 53]   575264               en   \n",
       "4      [53, 18]  1151534               es   \n",
       "\n",
       "                                   OriginalTitle  \\\n",
       "0                                    Expend4bles   \n",
       "1                                The Equalizer 3   \n",
       "2              Mortal Kombat Legends: Cage Match   \n",
       "3  Mission: Impossible - Dead Reckoning Part One   \n",
       "4                                        Nowhere   \n",
       "\n",
       "                                            Overview  Popularity ReleaseDate  \\\n",
       "0  Armed with every weapon they can get their han...    3741.062  2023-09-15   \n",
       "1  Robert McCall finds himself at home in Souther...    2471.515  2023-08-30   \n",
       "2  In 1980s Hollywood, action star Johnny Cage is...    2223.430  2023-10-17   \n",
       "3  Ethan Hunt and his IMF team embark on their mo...    2032.927  2023-07-08   \n",
       "4  A young pregnant woman named Mia escapes from ...    1627.678  2023-09-29   \n",
       "\n",
       "                                           Title  VoteAverage  VoteCount  \\\n",
       "0                                    Expend4bles          6.4        364   \n",
       "1                                The Equalizer 3          7.3       1027   \n",
       "2              Mortal Kombat Legends: Cage Match          7.8         27   \n",
       "3  Mission: Impossible - Dead Reckoning Part One          7.7       1799   \n",
       "4                                        Nowhere          7.6        686   \n",
       "\n",
       "      Budget                                ProductionCompanies  \\\n",
       "0  100000000  [{'id': 1020, 'logo_path': '/kuUIHNwMec4dwOLgh...   \n",
       "1   70000000  [{'id': 1423, 'logo_path': '/1rbAwGQzrNvXDICD6...   \n",
       "2          0  [{'id': 2785, 'logo_path': '/l5zW8jjmQOCx2dFmv...   \n",
       "3  291000000  [{'id': 4, 'logo_path': '/gz66EfNoYPqHTYI4q9UE...   \n",
       "4          0  [{'id': 204005, 'logo_path': None, 'name': 'Ro...   \n",
       "\n",
       "                                 ProductionCountries  \\\n",
       "0  [{'iso_3166_1': 'US', 'name': 'United States o...   \n",
       "1  [{'iso_3166_1': 'IT', 'name': 'Italy'}, {'iso_...   \n",
       "2  [{'iso_3166_1': 'US', 'name': 'United States o...   \n",
       "3  [{'iso_3166_1': 'US', 'name': 'United States o...   \n",
       "4            [{'iso_3166_1': 'ES', 'name': 'Spain'}]   \n",
       "\n",
       "                                     SpokenLanguages  \\\n",
       "0  [{'english_name': 'English', 'iso_639_1': 'en'...   \n",
       "1  [{'english_name': 'English', 'iso_639_1': 'en'...   \n",
       "2  [{'english_name': 'English', 'iso_639_1': 'en'...   \n",
       "3  [{'english_name': 'French', 'iso_639_1': 'fr',...   \n",
       "4  [{'english_name': 'Spanish', 'iso_639_1': 'es'...   \n",
       "\n",
       "                                             TagLine  RunTime    Revenue  \n",
       "0                     They'll die when they're dead.      103   30000000  \n",
       "1                          Justice knows no borders.      109  176933602  \n",
       "2  Neon lights... Suits with shoulder pads... Jum...       80          0  \n",
       "3                        We all share the same fate.      164  567148955  \n",
       "4  Attempting to survive in the middle of nowhere...      109          0  "
      ]
     },
     "execution_count": 5,
     "metadata": {},
     "output_type": "execute_result"
    }
   ],
   "source": [
    "# Perform inner join to consolidate one single dataset\n",
    "df = inner_join(df, df2, 'Id')\n",
    "print(df.shape)\n",
    "df.head()"
   ]
  },
  {
   "cell_type": "code",
   "execution_count": 6,
   "metadata": {},
   "outputs": [
    {
     "data": {
      "text/plain": [
       "GenreIds                object\n",
       "Id                       int64\n",
       "OriginalLanguage        object\n",
       "OriginalTitle           object\n",
       "Overview                object\n",
       "Popularity             float64\n",
       "ReleaseDate             object\n",
       "Title                   object\n",
       "VoteAverage            float64\n",
       "VoteCount                int64\n",
       "Budget                   int64\n",
       "ProductionCompanies     object\n",
       "ProductionCountries     object\n",
       "SpokenLanguages         object\n",
       "TagLine                 object\n",
       "RunTime                  int64\n",
       "Revenue                  int64\n",
       "dtype: object"
      ]
     },
     "execution_count": 6,
     "metadata": {},
     "output_type": "execute_result"
    }
   ],
   "source": [
    "# Review the dataframe datatypes\n",
    "\n",
    "df.dtypes"
   ]
  },
  {
   "cell_type": "code",
   "execution_count": 7,
   "metadata": {},
   "outputs": [
    {
     "data": {
      "text/html": [
       "<div>\n",
       "<style scoped>\n",
       "    .dataframe tbody tr th:only-of-type {\n",
       "        vertical-align: middle;\n",
       "    }\n",
       "\n",
       "    .dataframe tbody tr th {\n",
       "        vertical-align: top;\n",
       "    }\n",
       "\n",
       "    .dataframe thead th {\n",
       "        text-align: right;\n",
       "    }\n",
       "</style>\n",
       "<table border=\"1\" class=\"dataframe\">\n",
       "  <thead>\n",
       "    <tr style=\"text-align: right;\">\n",
       "      <th></th>\n",
       "      <th>GenreIds</th>\n",
       "      <th>OriginalLanguage</th>\n",
       "      <th>OriginalTitle</th>\n",
       "      <th>Overview</th>\n",
       "      <th>ReleaseDate</th>\n",
       "      <th>Title</th>\n",
       "      <th>ProductionCompanies</th>\n",
       "      <th>ProductionCountries</th>\n",
       "      <th>SpokenLanguages</th>\n",
       "      <th>TagLine</th>\n",
       "    </tr>\n",
       "  </thead>\n",
       "  <tbody>\n",
       "    <tr>\n",
       "      <th>0</th>\n",
       "      <td>[28, 12, 53]</td>\n",
       "      <td>en</td>\n",
       "      <td>Expend4bles</td>\n",
       "      <td>Armed with every weapon they can get their han...</td>\n",
       "      <td>2023-09-15</td>\n",
       "      <td>Expend4bles</td>\n",
       "      <td>[{'id': 1020, 'logo_path': '/kuUIHNwMec4dwOLgh...</td>\n",
       "      <td>[{'iso_3166_1': 'US', 'name': 'United States o...</td>\n",
       "      <td>[{'english_name': 'English', 'iso_639_1': 'en'...</td>\n",
       "      <td>They'll die when they're dead.</td>\n",
       "    </tr>\n",
       "  </tbody>\n",
       "</table>\n",
       "</div>"
      ],
      "text/plain": [
       "       GenreIds OriginalLanguage OriginalTitle  \\\n",
       "0  [28, 12, 53]               en   Expend4bles   \n",
       "\n",
       "                                            Overview ReleaseDate        Title  \\\n",
       "0  Armed with every weapon they can get their han...  2023-09-15  Expend4bles   \n",
       "\n",
       "                                 ProductionCompanies  \\\n",
       "0  [{'id': 1020, 'logo_path': '/kuUIHNwMec4dwOLgh...   \n",
       "\n",
       "                                 ProductionCountries  \\\n",
       "0  [{'iso_3166_1': 'US', 'name': 'United States o...   \n",
       "\n",
       "                                     SpokenLanguages  \\\n",
       "0  [{'english_name': 'English', 'iso_639_1': 'en'...   \n",
       "\n",
       "                          TagLine  \n",
       "0  They'll die when they're dead.  "
      ]
     },
     "execution_count": 7,
     "metadata": {},
     "output_type": "execute_result"
    }
   ],
   "source": [
    "# categorical columns inspection\n",
    "\n",
    "categorical_df = df.select_dtypes(include='object')\n",
    "categorical_df.head(1)"
   ]
  },
  {
   "cell_type": "code",
   "execution_count": 8,
   "metadata": {},
   "outputs": [
    {
     "name": "stdout",
     "output_type": "stream",
     "text": [
      "----Unique values for column GenreIds -----\n",
      "['[28, 12, 53]' '[28, 53, 80]' '[16, 28, 14]' '[28, 53]' '[53, 18]']\n",
      "----Unique values for column OriginalLanguage -----\n",
      "['en' 'es' 'ko' 'hi' 'de']\n",
      "----Unique values for column ReleaseDate -----\n",
      "['2023-09-15' '2023-08-30' '2023-10-17' '2023-07-08' '2023-09-29']\n",
      "----Unique values for column ProductionCompanies -----\n",
      "[\"[{'id': 1020, 'logo_path': '/kuUIHNwMec4dwOLghDhhZJzHZTd.png', 'name': 'Millennium Media', 'origin_country': 'US'}, {'id': 48738, 'logo_path': None, 'name': 'Campbell Grobman Films', 'origin_country': 'US'}, {'id': 1632, 'logo_path': '/cisLn1YAUuptXVBa0xjq7ST9cH0.png', 'name': 'Lionsgate', 'origin_country': 'US'}]\"\n",
      " \"[{'id': 1423, 'logo_path': '/1rbAwGQzrNvXDICD6HWEn1YqfAV.png', 'name': 'Escape Artists', 'origin_country': 'US'}, {'id': 5, 'logo_path': '/wrweLpBqRYcAM7kCSaHDJRxKGOP.png', 'name': 'Columbia Pictures', 'origin_country': 'US'}, {'id': 10400, 'logo_path': '/9LlB2YAwXTkUAhx0pItSo6pDlkB.png', 'name': 'Eagle Pictures', 'origin_country': 'IT'}, {'id': 44967, 'logo_path': None, 'name': 'ZHIV Productions', 'origin_country': ''}]\"\n",
      " \"[{'id': 2785, 'logo_path': '/l5zW8jjmQOCx2dFmvnmbYmqoBmL.png', 'name': 'Warner Bros. Animation', 'origin_country': 'US'}]\"\n",
      " \"[{'id': 4, 'logo_path': '/gz66EfNoYPqHTYI4q9UEN4CbHRc.png', 'name': 'Paramount', 'origin_country': 'US'}, {'id': 82819, 'logo_path': '/gXfFl9pRPaoaq14jybEn1pHeldr.png', 'name': 'Skydance', 'origin_country': 'US'}, {'id': 21777, 'logo_path': None, 'name': 'TC Productions', 'origin_country': 'US'}]\"\n",
      " \"[{'id': 204005, 'logo_path': None, 'name': 'Rock & Ruz', 'origin_country': 'ES'}]\"]\n",
      "----Unique values for column ProductionCountries -----\n",
      "[\"[{'iso_3166_1': 'US', 'name': 'United States of America'}]\"\n",
      " \"[{'iso_3166_1': 'IT', 'name': 'Italy'}, {'iso_3166_1': 'US', 'name': 'United States of America'}]\"\n",
      " \"[{'iso_3166_1': 'ES', 'name': 'Spain'}]\"\n",
      " \"[{'iso_3166_1': 'KR', 'name': 'South Korea'}]\"\n",
      " \"[{'iso_3166_1': 'CN', 'name': 'China'}, {'iso_3166_1': 'US', 'name': 'United States of America'}]\"]\n",
      "----Unique values for column SpokenLanguages -----\n",
      "[\"[{'english_name': 'English', 'iso_639_1': 'en', 'name': 'English'}]\"\n",
      " \"[{'english_name': 'English', 'iso_639_1': 'en', 'name': 'English'}, {'english_name': 'Italian', 'iso_639_1': 'it', 'name': 'Italiano'}]\"\n",
      " \"[{'english_name': 'French', 'iso_639_1': 'fr', 'name': 'Français'}, {'english_name': 'English', 'iso_639_1': 'en', 'name': 'English'}, {'english_name': 'Italian', 'iso_639_1': 'it', 'name': 'Italiano'}, {'english_name': 'Russian', 'iso_639_1': 'ru', 'name': 'Pусский'}]\"\n",
      " \"[{'english_name': 'Spanish', 'iso_639_1': 'es', 'name': 'Español'}]\"\n",
      " \"[{'english_name': 'English', 'iso_639_1': 'en', 'name': 'English'}, {'english_name': 'French', 'iso_639_1': 'fr', 'name': 'Français'}]\"]\n"
     ]
    }
   ],
   "source": [
    "# reviewing unique values in each category to stablish category relevancy, text columns excluded to process in further steps\n",
    "\n",
    "categorical_columns = categorical_df.columns\n",
    "text_columns = ['Overview', 'Title', 'OriginalTitle', 'TagLine']\n",
    "\n",
    "for column in categorical_columns:\n",
    "    if column not in text_columns:\n",
    "        print(f\"----Unique values for column {column} -----\")\n",
    "        print(categorical_df[column].unique()[:5])"
   ]
  },
  {
   "cell_type": "code",
   "execution_count": 9,
   "metadata": {},
   "outputs": [],
   "source": [
    "# eliminate SpokenLanguages as there is already a column for original language and we believe the translations may not be predictive to the model\n",
    "df.drop('SpokenLanguages', axis=1, inplace=True)"
   ]
  },
  {
   "cell_type": "code",
   "execution_count": 10,
   "metadata": {},
   "outputs": [],
   "source": [
    "\n",
    "# dictionaty to map genre ids to genre names\n",
    "genre_map = {\n",
    "    28: 'Action',\n",
    "    12: 'Adventure',\n",
    "    16: 'Animation',\n",
    "    35: 'Comedy',\n",
    "    80: 'Crime',\n",
    "    99: 'Documentary',\n",
    "    18: 'Drama',\n",
    "    10751: 'Family',\n",
    "    14: 'Fantasy',\n",
    "    36: 'History ',\n",
    "    27: 'Horror',\n",
    "    10402: 'Music',\n",
    "    9648: 'Mystery',\n",
    "    10749: 'Romance',\n",
    "    878: 'ScienceFiction',\n",
    "    10770: 'TvMovie',\n",
    "    53: 'Thriller',\n",
    "    10752: 'War',\n",
    "    37: 'Western'\n",
    "}"
   ]
  },
  {
   "cell_type": "code",
   "execution_count": 11,
   "metadata": {},
   "outputs": [],
   "source": [
    "# GenreIds Column, will be tranformed to a textual column to be used later\n",
    "\n",
    "df['GenreIds'] = df['GenreIds'].apply(ast.literal_eval)\n",
    "\n",
    "# Function to map genre IDs to genre names\n",
    "def map_genre_ids_to_names(genre_ids):\n",
    "    return [genre_map[genre_id] for genre_id in genre_ids]\n",
    "\n",
    "# Apply the mapping function to the 'GenreIds' column\n",
    "df['Genres'] = df['GenreIds'].apply(map_genre_ids_to_names)"
   ]
  },
  {
   "cell_type": "code",
   "execution_count": 12,
   "metadata": {},
   "outputs": [
    {
     "data": {
      "text/plain": [
       "0    Action, Adventure, Thriller\n",
       "1        Action, Thriller, Crime\n",
       "Name: Genres, dtype: object"
      ]
     },
     "execution_count": 12,
     "metadata": {},
     "output_type": "execute_result"
    }
   ],
   "source": [
    "df['Genres'] = df['Genres'].apply(lambda x: ', '.join(x))\n",
    "df['Genres'].head(2)"
   ]
  },
  {
   "cell_type": "code",
   "execution_count": 13,
   "metadata": {},
   "outputs": [],
   "source": [
    "# dropping the GenreIds\n",
    "df.drop('GenreIds', axis=1, inplace=True)"
   ]
  },
  {
   "cell_type": "code",
   "execution_count": 14,
   "metadata": {},
   "outputs": [],
   "source": [
    "df.drop('Id', axis=1, inplace=True)"
   ]
  },
  {
   "cell_type": "code",
   "execution_count": 15,
   "metadata": {},
   "outputs": [
    {
     "name": "stdout",
     "output_type": "stream",
     "text": [
      "<class 'pandas.core.frame.DataFrame'>\n",
      "RangeIndex: 10000 entries, 0 to 9999\n",
      "Data columns (total 15 columns):\n",
      " #   Column               Non-Null Count  Dtype  \n",
      "---  ------               --------------  -----  \n",
      " 0   OriginalLanguage     10000 non-null  object \n",
      " 1   OriginalTitle        10000 non-null  object \n",
      " 2   Overview             9949 non-null   object \n",
      " 3   Popularity           10000 non-null  float64\n",
      " 4   ReleaseDate          9979 non-null   object \n",
      " 5   Title                10000 non-null  object \n",
      " 6   VoteAverage          10000 non-null  float64\n",
      " 7   VoteCount            10000 non-null  int64  \n",
      " 8   Budget               10000 non-null  int64  \n",
      " 9   ProductionCompanies  10000 non-null  object \n",
      " 10  ProductionCountries  10000 non-null  object \n",
      " 11  TagLine              7587 non-null   object \n",
      " 12  RunTime              10000 non-null  int64  \n",
      " 13  Revenue              10000 non-null  int64  \n",
      " 14  Genres               10000 non-null  object \n",
      "dtypes: float64(2), int64(4), object(9)\n",
      "memory usage: 1.1+ MB\n"
     ]
    }
   ],
   "source": [
    "df.info()"
   ]
  },
  {
   "cell_type": "markdown",
   "metadata": {},
   "source": [
    "Now, we can can see that we have null values in three columns so firstly, we will look on that\n"
   ]
  },
  {
   "cell_type": "markdown",
   "metadata": {},
   "source": [
    "We can not imput any random values in this column so simply we will drop those raws, which has null values\n"
   ]
  },
  {
   "cell_type": "code",
   "execution_count": 16,
   "metadata": {},
   "outputs": [],
   "source": [
    "df.dropna(subset=['Overview'], inplace=True)"
   ]
  },
  {
   "cell_type": "markdown",
   "metadata": {},
   "source": [
    "It has string values so we will convert into vector space so we can use in our machine learning model\n"
   ]
  },
  {
   "cell_type": "code",
   "execution_count": 17,
   "metadata": {},
   "outputs": [
    {
     "name": "stdout",
     "output_type": "stream",
     "text": [
      "   Language  Occurrences\n",
      "0        en         7495\n",
      "1        ja          593\n",
      "2        ko          317\n",
      "3        fr          304\n",
      "4        es          280\n",
      "5        zh          156\n",
      "6        it          147\n",
      "7        cn          135\n",
      "8        de           78\n",
      "9        ru           64\n",
      "10       hi           52\n",
      "11       tl           47\n",
      "12       pt           30\n",
      "13       no           30\n",
      "14       da           28\n",
      "15       sv           27\n",
      "16       th           24\n",
      "17       nl           24\n",
      "18       pl           22\n",
      "19       tr           12\n",
      "20       id           12\n",
      "21       te           11\n",
      "22       fi            8\n",
      "23       ta            5\n",
      "24       ar            5\n",
      "25       cs            4\n",
      "26       el            4\n",
      "27       uk            4\n",
      "28       is            3\n",
      "29       fa            3\n",
      "30       bn            2\n",
      "31       kn            2\n",
      "32       xx            2\n",
      "33       yo            2\n",
      "34       he            2\n",
      "35       km            1\n",
      "36       gl            1\n",
      "37       ro            1\n",
      "38       la            1\n",
      "39       nb            1\n",
      "40       ml            1\n",
      "41       mk            1\n",
      "42       ms            1\n",
      "43       sh            1\n",
      "44       vi            1\n",
      "45       ca            1\n",
      "46       eu            1\n",
      "47       sr            1\n",
      "48       lt            1\n",
      "49       pa            1\n"
     ]
    }
   ],
   "source": [
    "language_counts = df['OriginalLanguage'].value_counts()\n",
    "\n",
    "# Display the results\n",
    "language_occurrence_df = pd.DataFrame({\n",
    "    'Language': language_counts.index,\n",
    "    'Occurrences': language_counts.values\n",
    "})\n",
    "\n",
    "print(language_occurrence_df)\n"
   ]
  },
  {
   "cell_type": "markdown",
   "metadata": {},
   "source": [
    "It has categorical column so we will apply label encoding on this column\n"
   ]
  },
  {
   "cell_type": "code",
   "execution_count": 18,
   "metadata": {},
   "outputs": [
    {
     "data": {
      "text/plain": [
       "0                                         Expend4bles\n",
       "1                                     The Equalizer 3\n",
       "2                   Mortal Kombat Legends: Cage Match\n",
       "3       Mission: Impossible - Dead Reckoning Part One\n",
       "4                                             Nowhere\n",
       "                            ...                      \n",
       "9995                                       15 Minutes\n",
       "9996                                        Ladder 49\n",
       "9997                                    Le Grand Bain\n",
       "9998                                           Arctic\n",
       "9999                   Justin Bieber: Never Say Never\n",
       "Name: OriginalTitle, Length: 9949, dtype: object"
      ]
     },
     "execution_count": 18,
     "metadata": {},
     "output_type": "execute_result"
    }
   ],
   "source": [
    "df['OriginalTitle']"
   ]
  },
  {
   "cell_type": "markdown",
   "metadata": {},
   "source": [
    "We will not use this column in our machine learning model insted we will use this columns as a unique id "
   ]
  },
  {
   "cell_type": "code",
   "execution_count": 19,
   "metadata": {},
   "outputs": [
    {
     "data": {
      "text/plain": [
       "0       3741.062\n",
       "1       2471.515\n",
       "2       2223.430\n",
       "3       2032.927\n",
       "4       1627.678\n",
       "          ...   \n",
       "9995      13.051\n",
       "9996      13.050\n",
       "9997      13.049\n",
       "9998      13.049\n",
       "9999      13.049\n",
       "Name: Popularity, Length: 9949, dtype: float64"
      ]
     },
     "execution_count": 19,
     "metadata": {},
     "output_type": "execute_result"
    }
   ],
   "source": [
    "df['Popularity']"
   ]
  },
  {
   "cell_type": "code",
   "execution_count": 20,
   "metadata": {},
   "outputs": [
    {
     "name": "stdout",
     "output_type": "stream",
     "text": [
      "[3741.062, 2471.515, 2223.43, 2032.927, 1627.678, 1594.559, 1521.075, 1469.177, 1315.518, 1304.978, 1296.147, 1228.1, 1219.338, 1149.639, 1146.931, 1120.681, 918.477, 892.917, 881.636, 877.922, 824.351, 799.046, 735.865, 731.166, 718.948, 677.968, 676.294, 647.486, 617.418, 600.375, 590.704, 581.966, 580.689, 573.486, 570.169, 570.112, 567.217, 553.211, 548.829, 548.206, 501.049, 493.268, 485.337, 457.086, 449.467, 432.662, 422.125, 419.704, 413.718, 403.373, 399.196, 398.422, 396.048, 384.892, 369.895, 368.142, 363.573, 361.14, 359.792, 356.681, 355.064, 354.284, 353.479, 347.013, 342.084, 330.248, 323.721, 314.227, 309.92, 309.382, 305.499, 304.269, 302.238, 300.097, 300.058, 296.272, 293.328, 293.229, 290.349, 289.87, 289.708, 282.472, 273.865, 270.806, 269.523, 263.544, 261.626, 258.269, 257.421, 255.232, 254.693, 253.014, 252.262, 251.506, 247.744, 239.91, 239.782, 236.817, 236.58, 235.558, 234.522, 233.741, 232.857, 231.878, 225.891, 225.108, 225.086, 224.05, 222.679, 221.914, 221.368, 219.778, 219.674, 219.402, 216.94, 214.942, 214.731, 212.699, 212.277, 208.082, 208.008, 207.404, 206.833, 206.212, 204.719, 200.917, 198.425, 196.219, 191.68, 190.041, 189.213, 188.513, 185.26, 185.098, 183.731, 183.311, 183.152, 182.472, 182.416, 182.369, 181.435, 179.922, 179.455, 179.114, 179.021, 178.46, 178.255, 175.385, 175.208, 172.855, 172.042, 171.604, 170.68, 169.245, 168.781, 168.699, 167.562, 165.291, 164.149, 163.549, 162.229, 161.476, 160.35, 159.924, 159.909, 159.513, 159.35, 158.948, 158.174, 157.164, 157.114, 156.557, 155.109, 155.102, 154.685, 154.09, 153.865, 153.517, 152.823, 152.525, 150.26, 149.755, 148.236, 147.914, 147.379, 147.29, 146.225, 145.997, 145.809, 145.619, 145.457, 144.931, 144.873, 144.717, 144.693, 144.332, 143.948, 143.62, 143.056, 142.825, 141.985, 141.21, 140.864, 140.628, 140.24, 139.792, 139.075, 138.761, 137.848, 137.812, 137.75, 137.227, 136.684, 136.653, 135.378, 135.363, 135.246, 135.033, 134.824, 134.528, 134.437, 134.009, 133.844, 132.909, 131.182, 131.06, 130.733, 129.509, 129.269, 129.226, 128.971, 128.484, 128.325, 128.242, 127.434, 127.261, 126.299, 124.608, 124.594, 124.033, 123.792, 123.773, 123.766, 123.299, 123.283, 123.183, 123.034, 123.007, 122.863, 122.842, 122.079, 122.051, 121.895, 121.866, 121.394, 120.675, 119.956, 119.776, 118.652, 118.482, 118.442, 118.262, 118.128, 117.909, 117.564, 117.359, 117.033, 116.972, 116.933, 116.718, 116.257, 116.242, 116.138, 116.134, 116.026, 115.835, 115.515, 115.397, 115.167, 114.712, 114.68, 114.15, 114.083, 113.645, 113.575, 113.376, 112.512, 112.116, 112.097, 111.726, 111.185, 110.77, 110.758, 110.499, 110.218, 109.643, 109.252, 109.191, 109.141, 109.108, 109.092, 108.815, 108.412, 108.407, 108.132, 108.105, 107.944, 107.773, 107.731, 107.712, 107.522, 107.146, 106.933, 106.868, 106.829, 106.473, 106.337, 106.151, 106.058, 105.895, 105.874, 105.594, 105.405, 105.303, 104.983, 104.726, 104.607, 104.098, 104.041, 103.986, 103.143, 102.876, 102.771, 102.532, 102.439, 102.396, 102.377, 102.375, 102.329, 102.237, 101.979, 101.631, 101.451, 101.233, 101.01, 100.236, 100.181, 100.027, 99.609, 99.559, 99.558, 99.228, 99.12, 98.941, 98.855, 98.85, 98.426, 98.371, 98.322, 98.219, 98.039, 97.981, 97.98, 97.812, 97.779, 97.709, 97.388, 97.088, 96.681, 96.651, 96.612, 96.524, 96.246, 96.152, 96.068, 95.822, 95.72, 95.704, 95.609, 95.465, 95.418, 94.992, 94.952, 94.896, 94.806, 94.629, 94.626, 94.542, 94.487, 94.473, 94.191, 94.128, 93.398, 93.162, 92.749, 92.274, 92.27, 92.259, 92.156, 92.081, 92.016, 91.69, 91.359, 91.333, 91.26, 91.004, 90.963, 90.735, 90.682, 90.647, 90.608, 90.464, 90.276, 89.975, 89.954, 89.75, 89.549, 89.377, 89.262, 89.216, 88.872, 88.719, 88.612, 88.433, 88.36, 88.344, 88.326, 87.992, 87.905, 87.491, 87.214, 87.138, 86.966, 86.749, 86.707, 86.379, 86.283, 86.119, 85.886, 85.766, 85.744, 85.73, 85.705, 85.674, 85.616, 85.516, 85.485, 85.31, 85.298, 85.25, 85.239, 85.202, 85.161, 85.102, 85.079, 84.931, 84.928, 84.785, 84.78, 84.641, 84.552, 84.388, 84.286, 84.217, 84.14, 84.089, 84.063, 83.843, 83.762, 83.689, 83.685, 83.357, 83.355, 83.192, 82.954, 82.907, 82.741, 82.72, 82.579, 82.527, 82.416, 81.977, 81.963, 81.805, 81.791, 81.55, 81.418, 80.962, 80.949, 80.918, 80.71, 80.556, 80.311, 80.236, 80.233, 80.124, 80.022, 80.016, 79.98, 79.887, 79.769, 79.678, 79.529, 79.526, 79.322, 79.316, 79.269, 79.234, 79.152, 79.017, 78.782, 78.732, 78.703, 78.653, 78.546, 78.525, 78.513, 78.483, 78.323, 78.072, 77.868, 77.861, 77.849, 77.835, 77.743, 77.741, 77.629, 77.567, 77.316, 77.127, 77.119, 77.077, 77.035, 76.927, 76.818, 76.764, 76.716, 76.707, 76.644, 76.422, 76.397, 76.313, 76.267, 76.135, 76.097, 76.029, 76.004, 75.985, 75.962, 75.938, 75.907, 75.633, 75.613, 75.586, 75.571, 75.456, 75.408, 75.397, 75.356, 75.301, 75.197, 75.175, 75.169, 75.129, 75.067, 75.061, 75.047, 75.021, 74.96, 74.939, 74.791, 74.659, 74.617, 74.264, 74.227, 74.224, 74.221, 74.138, 74.102, 74.039, 74.011, 73.86, 73.822, 73.615, 73.588, 73.587, 73.529, 73.503, 73.492, 73.41, 73.408, 73.388, 73.292, 73.156, 72.926, 72.915, 72.886, 72.884, 72.866, 72.778, 72.72, 72.673, 72.612, 72.469, 72.37, 72.306, 72.232, 72.009, 71.951, 71.867, 71.807, 71.796, 71.725, 71.707, 71.632, 71.627, 71.617, 71.607, 71.582, 71.375, 71.369, 71.256, 71.174, 71.14, 71.085, 71.038, 70.94, 70.913, 70.769, 70.735, 70.551, 70.527, 70.447, 70.438, 70.203, 70.177, 70.137, 70.046, 69.994, 69.803, 69.621, 69.479, 69.413, 69.349, 69.296, 69.281, 69.265, 69.154, 69.098, 69.08, 68.89, 68.719, 68.674, 68.665, 68.549, 68.537, 68.204, 68.01, 67.871, 67.803, 67.727, 67.7, 67.692, 67.666, 67.593, 67.533, 67.47, 67.445, 67.403, 67.37, 67.298, 67.249, 67.232, 67.186, 67.169, 67.137, 67.024, 67.021, 67.008, 66.928, 66.919, 66.885, 66.872, 66.863, 66.85, 66.836, 66.625, 66.604, 66.597, 66.59, 66.587, 66.574, 66.468, 66.424, 66.42, 66.414, 66.396, 66.357, 66.335, 66.277, 66.193, 66.175, 66.156, 66.144, 66.086, 65.905, 65.904, 65.876, 65.853, 65.823, 65.678, 65.668, 65.661, 65.596, 65.572, 65.485, 65.412, 65.393, 65.327, 65.231, 65.228, 65.201, 65.183, 65.165, 65.142, 65.123, 65.104, 65.074, 65.069, 65.045, 65.012, 64.989, 64.849, 64.84, 64.826, 64.789, 64.778, 64.77, 64.746, 64.63, 64.536, 64.485, 64.483, 64.458, 64.392, 64.285, 64.269, 64.175, 64.113, 64.099, 64.083, 63.999, 63.978, 63.968, 63.955, 63.931, 63.923, 63.916, 63.797, 63.757, 63.722, 63.583, 63.51, 63.509, 63.495, 63.435, 63.419, 63.358, 63.332, 63.293, 63.093, 62.997, 62.963, 62.897, 62.844, 62.774, 62.727, 62.698, 62.677, 62.627, 62.59, 62.578, 62.572, 62.529, 62.462, 62.418, 62.407, 62.381, 62.254, 62.252, 62.155, 62.091, 62.09, 62.049, 62.035, 61.992, 61.971, 61.963, 61.918, 61.91, 61.895, 61.887, 61.862, 61.837, 61.813, 61.779, 61.671, 61.57, 61.551, 61.503, 61.48, 61.454, 61.344, 61.316, 61.228, 61.188, 61.174, 61.166, 61.143, 61.117, 61.111, 61.077, 61.059, 61.006, 60.973, 60.902, 60.879, 60.869, 60.866, 60.828, 60.825, 60.786, 60.773, 60.735, 60.718, 60.708, 60.586, 60.584, 60.494, 60.423, 60.42, 60.384, 60.325, 60.279, 60.278, 60.255, 60.253, 60.236, 60.182, 60.15, 60.114, 60.056, 59.82, 59.801, 59.639, 59.624, 59.408, 59.248, 59.244, 59.214, 58.949, 58.861, 58.847, 58.782, 58.771, 58.724, 58.702, 58.668, 58.63, 58.591, 58.569, 58.554, 58.516, 58.489, 58.428, 58.421, 58.39, 58.384, 58.309, 58.305, 58.297, 58.295, 58.206, 58.154, 58.075, 58.037, 58.031, 57.998, 57.885, 57.818, 57.774, 57.737, 57.736, 57.718, 57.671, 57.651, 57.65, 57.554, 57.512, 57.406, 57.377, 57.299, 57.139, 57.095, 57.093, 57.007, 56.934, 56.892, 56.885, 56.863, 56.845, 56.799, 56.77, 56.769, 56.759, 56.745, 56.742, 56.734, 56.728, 56.726, 56.702, 56.615, 56.559, 56.541, 56.44, 56.416, 56.386, 56.379, 56.376, 56.367, 56.364, 56.359, 56.286, 56.232, 56.202, 56.134, 56.053, 55.893, 55.834, 55.785, 55.701, 55.699, 55.618, 55.614, 55.584, 55.547, 55.504, 55.423, 55.324, 55.317, 55.285, 55.271, 55.23, 55.184, 55.173, 55.107, 55.076, 55.069, 55.062, 54.983, 54.97, 54.928, 54.87, 54.779, 54.765, 54.752, 54.751, 54.651, 54.617, 54.557, 54.509, 54.483, 54.473, 54.468, 54.436, 54.407, 54.35, 54.285, 54.242, 54.239, 54.157, 54.063, 54.006, 53.947, 53.884, 53.875, 53.862, 53.849, 53.785, 53.779, 53.777, 53.758, 53.667, 53.623, 53.602, 53.495, 53.457, 53.418, 53.411, 53.371, 53.275, 53.272, 53.234, 53.225, 53.215, 53.207, 53.196, 53.056, 53.004, 52.998, 52.987, 52.982, 52.969, 52.933, 52.921, 52.912, 52.905, 52.892, 52.864, 52.822, 52.767, 52.751, 52.664, 52.644, 52.597, 52.566, 52.538, 52.462, 52.458, 52.34, 52.259, 52.242, 52.176, 52.102, 52.089, 52.076, 51.987, 51.976, 51.891, 51.881, 51.786, 51.746, 51.722, 51.712, 51.655, 51.634, 51.625, 51.623, 51.609, 51.607, 51.592, 51.558, 51.552, 51.518, 51.517, 51.514, 51.461, 51.439, 51.433, 51.417, 51.39, 51.339, 51.303, 51.251, 51.153, 51.146, 51.127, 51.123, 51.087, 51.067, 50.963, 50.949, 50.912, 50.848, 50.834, 50.824, 50.81, 50.803, 50.774, 50.625, 50.615, 50.614, 50.58, 50.571, 50.548, 50.504, 50.471, 50.469, 50.426, 50.424, 50.386, 50.362, 50.357, 50.296, 50.272, 50.253, 50.249, 50.218, 50.19, 50.189, 50.149, 50.142, 50.113, 50.11, 50.107, 50.081, 50.06, 50.012, 50.005, 49.966, 49.927, 49.925, 49.907, 49.899, 49.884, 49.864, 49.861, 49.851, 49.843, 49.799, 49.765, 49.757, 49.754, 49.728, 49.709, 49.692, 49.631, 49.598, 49.585, 49.578, 49.525, 49.472, 49.433, 49.42, 49.382, 49.378, 49.37, 49.325, 49.285, 49.284, 49.265, 49.223, 49.222, 49.213, 49.169, 49.156, 49.15, 49.111, 49.078, 49.01, 49.002, 48.968, 48.934, 48.881, 48.79, 48.754, 48.745, 48.719, 48.712, 48.698, 48.686, 48.654, 48.642, 48.616, 48.6, 48.555, 48.55, 48.548, 48.545, 48.53, 48.444, 48.441, 48.438, 48.387, 48.384, 48.345, 48.306, 48.271, 48.253, 48.209, 48.182, 48.101, 48.091, 48.004, 47.966, 47.904, 47.901, 47.899, 47.853, 47.838, 47.837, 47.766, 47.759, 47.718, 47.677, 47.642, 47.633, 47.604, 47.509, 47.505, 47.489, 47.485, 47.429, 47.428, 47.379, 47.358, 47.351, 47.34, 47.335, 47.319, 47.29, 47.28, 47.258, 47.2, 47.163, 47.138, 47.114, 47.106, 47.104, 47.1, 47.06, 47.037, 47.02, 47.01, 46.964, 46.953, 46.951, 46.938, 46.927, 46.9, 46.883, 46.856, 46.839, 46.829, 46.802, 46.797, 46.768, 46.745, 46.741, 46.734, 46.719, 46.717, 46.698, 46.683, 46.667, 46.655, 46.648, 46.63, 46.628, 46.593, 46.536, 46.53, 46.522, 46.502, 46.501, 46.5, 46.493, 46.47, 46.469, 46.434, 46.427, 46.394, 46.389, 46.374, 46.37, 46.302, 46.295, 46.257, 46.251, 46.25, 46.226, 46.223, 46.195, 46.185, 46.152, 46.122, 46.111, 46.093, 46.033, 45.994, 45.989, 45.982, 45.944, 45.852, 45.842, 45.803, 45.77, 45.768, 45.757, 45.708, 45.706, 45.652, 45.637, 45.568, 45.549, 45.515, 45.511, 45.509, 45.503, 45.458, 45.448, 45.423, 45.412, 45.294, 45.293, 45.291, 45.259, 45.251, 45.228, 45.18, 45.177, 45.114, 45.094, 45.084, 45.08, 45.079, 45.072, 45.053, 45.049, 45.037, 45.027, 45.019, 44.939, 44.932, 44.896, 44.841, 44.816, 44.79, 44.784, 44.778, 44.713, 44.695, 44.689, 44.684, 44.677, 44.668, 44.619, 44.579, 44.534, 44.523, 44.52, 44.505, 44.504, 44.487, 44.483, 44.476, 44.433, 44.421, 44.395, 44.379, 44.372, 44.357, 44.336, 44.317, 44.274, 44.272, 44.237, 44.195, 44.161, 44.136, 44.119, 44.11, 44.067, 44.058, 44.054, 44.016, 44.001, 43.945, 43.931, 43.897, 43.876, 43.854, 43.846, 43.841, 43.81, 43.764, 43.761, 43.713, 43.711, 43.656, 43.63, 43.609, 43.604, 43.601, 43.596, 43.587, 43.51, 43.485, 43.483, 43.461, 43.457, 43.445, 43.439, 43.396, 43.383, 43.338, 43.329, 43.327, 43.271, 43.247, 43.244, 43.229, 43.219, 43.217, 43.183, 43.178, 43.168, 43.158, 43.156, 43.15, 43.148, 43.119, 43.111, 43.082, 43.062, 43.052, 43.05, 42.983, 42.964, 42.951, 42.924, 42.923, 42.919, 42.918, 42.901, 42.865, 42.851, 42.813, 42.795, 42.764, 42.763, 42.746, 42.696, 42.683, 42.639, 42.63, 42.552, 42.528, 42.505, 42.502, 42.497, 42.445, 42.437, 42.436, 42.415, 42.414, 42.397, 42.381, 42.375, 42.364, 42.352, 42.339, 42.307, 42.302, 42.251, 42.213, 42.185, 42.182, 42.105, 42.101, 42.092, 42.078, 42.072, 42.056, 42.039, 42.021, 42.008, 41.976, 41.973, 41.954, 41.943, 41.873, 41.868, 41.866, 41.864, 41.858, 41.836, 41.826, 41.817, 41.797, 41.794, 41.783, 41.769, 41.752, 41.728, 41.704, 41.659, 41.623, 41.608, 41.591, 41.554, 41.548, 41.504, 41.496, 41.424, 41.414, 41.413, 41.378, 41.374, 41.36, 41.351, 41.339, 41.332, 41.323, 41.316, 41.274, 41.256, 41.241, 41.239, 41.235, 41.21, 41.139, 41.134, 41.12, 41.087, 41.07, 41.038, 41.028, 40.996, 40.995, 40.952, 40.905, 40.887, 40.879, 40.874, 40.871, 40.865, 40.86, 40.779, 40.763, 40.752, 40.729, 40.717, 40.699, 40.681, 40.671, 40.661, 40.658, 40.655, 40.648, 40.619, 40.6, 40.57, 40.563, 40.543, 40.52, 40.439, 40.433, 40.425, 40.389, 40.367, 40.353, 40.342, 40.324, 40.308, 40.29, 40.289, 40.264, 40.234, 40.222, 40.203, 40.167, 40.146, 40.093, 40.087, 40.029, 40.004, 39.93, 39.904, 39.894, 39.885, 39.881, 39.878, 39.855, 39.843, 39.837, 39.826, 39.805, 39.791, 39.766, 39.764, 39.76, 39.754, 39.75, 39.73, 39.72, 39.714, 39.708, 39.697, 39.673, 39.648, 39.645, 39.643, 39.637, 39.623, 39.578, 39.574, 39.569, 39.558, 39.53, 39.522, 39.52, 39.511, 39.508, 39.499, 39.495, 39.494, 39.492, 39.486, 39.485, 39.443, 39.421, 39.416, 39.384, 39.362, 39.357, 39.354, 39.346, 39.342, 39.337, 39.335, 39.296, 39.294, 39.287, 39.254, 39.232, 39.228, 39.219, 39.201, 39.176, 39.129, 39.075, 39.053, 39.032, 39.031, 38.96, 38.954, 38.942, 38.94, 38.907, 38.903, 38.899, 38.888, 38.884, 38.883, 38.88, 38.852, 38.849, 38.842, 38.805, 38.791, 38.788, 38.786, 38.774, 38.765, 38.762, 38.745, 38.741, 38.732, 38.7, 38.693, 38.692, 38.674, 38.641, 38.618, 38.61, 38.605, 38.587, 38.581, 38.56, 38.549, 38.539, 38.515, 38.489, 38.487, 38.484, 38.476, 38.463, 38.462, 38.452, 38.398, 38.389, 38.377, 38.368, 38.283, 38.259, 38.247, 38.234, 38.226, 38.221, 38.204, 38.198, 38.185, 38.176, 38.17, 38.163, 38.154, 38.134, 38.129, 38.127, 38.123, 38.114, 38.095, 38.091, 38.054, 38.05, 38.047, 38.017, 37.945, 37.944, 37.943, 37.936, 37.907, 37.894, 37.883, 37.879, 37.876, 37.855, 37.832, 37.82, 37.817, 37.784, 37.778, 37.773, 37.755, 37.739, 37.736, 37.72, 37.704, 37.677, 37.642, 37.623, 37.619, 37.61, 37.598, 37.595, 37.575, 37.569, 37.546, 37.541, 37.536, 37.535, 37.523, 37.503, 37.502, 37.495, 37.449, 37.446, 37.433, 37.426, 37.412, 37.363, 37.349, 37.345, 37.342, 37.332, 37.327, 37.315, 37.265, 37.26, 37.254, 37.187, 37.17, 37.152, 37.151, 37.12, 37.102, 37.093, 37.086, 37.074, 37.063, 37.059, 37.056, 37.05, 37.048, 37.035, 36.984, 36.952, 36.926, 36.908, 36.902, 36.901, 36.9, 36.868, 36.856, 36.848, 36.839, 36.829, 36.808, 36.757, 36.743, 36.72, 36.704, 36.703, 36.702, 36.687, 36.678, 36.663, 36.653, 36.65, 36.645, 36.632, 36.605, 36.602, 36.599, 36.58, 36.572, 36.56, 36.554, 36.534, 36.523, 36.519, 36.489, 36.473, 36.453, 36.451, 36.447, 36.424, 36.414, 36.408, 36.407, 36.401, 36.386, 36.381, 36.34, 36.316, 36.314, 36.304, 36.296, 36.289, 36.271, 36.25, 36.23, 36.224, 36.201, 36.187, 36.177, 36.157, 36.152, 36.149, 36.14, 36.108, 36.107, 36.091, 36.089, 36.086, 36.081, 36.071, 36.068, 36.06, 36.03, 36.027, 36.024, 36.012, 36.009, 36.003, 36.001, 35.997, 35.988, 35.95, 35.937, 35.922, 35.89, 35.881, 35.857, 35.845, 35.811, 35.81, 35.803, 35.8, 35.795, 35.776, 35.769, 35.731, 35.722, 35.716, 35.713, 35.705, 35.691, 35.685, 35.679, 35.674, 35.634, 35.627, 35.624, 35.609, 35.6, 35.582, 35.572, 35.571, 35.566, 35.56, 35.535, 35.482, 35.455, 35.454, 35.448, 35.444, 35.433, 35.421, 35.393, 35.336, 35.334, 35.327, 35.323, 35.321, 35.318, 35.305, 35.302, 35.236, 35.229, 35.228, 35.212, 35.209, 35.19, 35.171, 35.17, 35.153, 35.146, 35.144, 35.138, 35.136, 35.119, 35.105, 35.067, 35.065, 35.039, 35.022, 35.012, 35.01, 35.007, 34.998, 34.969, 34.958, 34.95, 34.941, 34.909, 34.888, 34.88, 34.863, 34.856, 34.834, 34.812, 34.804, 34.798, 34.797, 34.792, 34.773, 34.762, 34.759, 34.755, 34.748, 34.742, 34.727, 34.696, 34.667, 34.647, 34.638, 34.63, 34.629, 34.622, 34.62, 34.612, 34.604, 34.603, 34.593, 34.59, 34.58, 34.577, 34.576, 34.509, 34.508, 34.5, 34.495, 34.492, 34.449, 34.443, 34.437, 34.434, 34.433, 34.424, 34.423, 34.419, 34.403, 34.401, 34.381, 34.375, 34.334, 34.319, 34.314, 34.308, 34.304, 34.3, 34.287, 34.275, 34.272, 34.27, 34.269, 34.262, 34.259, 34.238, 34.213, 34.206, 34.202, 34.191, 34.186, 34.183, 34.165, 34.158, 34.154, 34.153, 34.147, 34.141, 34.139, 34.138, 34.118, 34.116, 34.107, 34.094, 34.081, 34.08, 34.078, 34.077, 34.062, 34.055, 34.045, 34.044, 34.01, 33.999, 33.995, 33.993, 33.972, 33.955, 33.953, 33.949, 33.939, 33.937, 33.933, 33.928, 33.912, 33.906, 33.881, 33.875, 33.853, 33.841, 33.839, 33.826, 33.815, 33.802, 33.793, 33.775, 33.762, 33.757, 33.755, 33.726, 33.713, 33.709, 33.699, 33.696, 33.68, 33.67, 33.667, 33.661, 33.655, 33.646, 33.633, 33.611, 33.607, 33.577, 33.56, 33.557, 33.551, 33.533, 33.531, 33.52, 33.5, 33.498, 33.489, 33.486, 33.478, 33.477, 33.474, 33.468, 33.44, 33.439, 33.435, 33.434, 33.432, 33.431, 33.426, 33.413, 33.381, 33.375, 33.371, 33.37, 33.367, 33.365, 33.361, 33.349, 33.341, 33.324, 33.318, 33.314, 33.312, 33.307, 33.28, 33.279, 33.261, 33.241, 33.233, 33.223, 33.22, 33.215, 33.207, 33.205, 33.202, 33.184, 33.183, 33.177, 33.162, 33.128, 33.125, 33.123, 33.114, 33.095, 33.094, 33.089, 33.084, 33.078, 33.066, 33.06, 33.055, 33.039, 33.022, 33.017, 32.985, 32.949, 32.944, 32.941, 32.932, 32.92, 32.89, 32.88, 32.847, 32.84, 32.838, 32.837, 32.836, 32.835, 32.797, 32.794, 32.762, 32.759, 32.756, 32.745, 32.732, 32.719, 32.685, 32.68, 32.668, 32.661, 32.66, 32.659, 32.652, 32.643, 32.632, 32.626, 32.625, 32.612, 32.611, 32.609, 32.608, 32.605, 32.603, 32.595, 32.593, 32.592, 32.572, 32.568, 32.563, 32.556, 32.537, 32.531, 32.518, 32.493, 32.465, 32.463, 32.451, 32.448, 32.447, 32.445, 32.444, 32.443, 32.442, 32.439, 32.436, 32.42, 32.414, 32.392, 32.371, 32.365, 32.364, 32.352, 32.34, 32.325, 32.322, 32.316, 32.314, 32.305, 32.302, 32.295, 32.291, 32.283, 32.277, 32.275, 32.27, 32.263, 32.254, 32.233, 32.23, 32.22, 32.19, 32.188, 32.124, 32.108, 32.106, 32.103, 32.101, 32.1, 32.081, 32.069, 32.063, 32.06, 32.053, 32.047, 32.043, 32.023, 32.022, 32.02, 32.014, 32.012, 32.008, 31.971, 31.967, 31.961, 31.956, 31.95, 31.945, 31.943, 31.93, 31.926, 31.903, 31.88, 31.865, 31.857, 31.852, 31.842, 31.839, 31.827, 31.825, 31.823, 31.819, 31.809, 31.802, 31.799, 31.795, 31.793, 31.79, 31.772, 31.765, 31.758, 31.756, 31.751, 31.726, 31.707, 31.706, 31.693, 31.687, 31.684, 31.683, 31.668, 31.664, 31.657, 31.656, 31.646, 31.641, 31.634, 31.617, 31.616, 31.615, 31.592, 31.591, 31.562, 31.557, 31.541, 31.539, 31.537, 31.529, 31.528, 31.499, 31.497, 31.496, 31.493, 31.491, 31.482, 31.481, 31.459, 31.453, 31.45, 31.447, 31.444, 31.443, 31.442, 31.437, 31.414, 31.398, 31.396, 31.394, 31.386, 31.379, 31.363, 31.354, 31.349, 31.337, 31.335, 31.306, 31.305, 31.291, 31.28, 31.274, 31.269, 31.265, 31.263, 31.261, 31.254, 31.248, 31.245, 31.241, 31.23, 31.225, 31.214, 31.195, 31.182, 31.168, 31.16, 31.14, 31.136, 31.134, 31.132, 31.103, 31.095, 31.094, 31.093, 31.073, 31.062, 31.059, 31.039, 31.036, 31.015, 31.014, 31.013, 31.009, 30.99, 30.978, 30.951, 30.941, 30.925, 30.915, 30.899, 30.887, 30.881, 30.88, 30.878, 30.876, 30.865, 30.857, 30.84, 30.807, 30.802, 30.798, 30.796, 30.791, 30.78, 30.77, 30.768, 30.76, 30.759, 30.758, 30.747, 30.711, 30.71, 30.702, 30.701, 30.671, 30.665, 30.664, 30.644, 30.637, 30.635, 30.63, 30.628, 30.619, 30.617, 30.61, 30.608, 30.605, 30.6, 30.599, 30.591, 30.589, 30.571, 30.57, 30.547, 30.54, 30.539, 30.533, 30.499, 30.495, 30.491, 30.488, 30.486, 30.469, 30.454, 30.449, 30.448, 30.434, 30.43, 30.419, 30.418, 30.411, 30.388, 30.367, 30.338, 30.327, 30.321, 30.307, 30.306, 30.296, 30.29, 30.281, 30.278, 30.254, 30.249, 30.246, 30.244, 30.223, 30.21, 30.208, 30.204, 30.182, 30.176, 30.163, 30.16, 30.158, 30.131, 30.123, 30.117, 30.104, 30.098, 30.094, 30.082, 30.079, 30.077, 30.076, 30.061, 30.051, 30.045, 30.044, 30.037, 30.035, 30.022, 30.021, 30.013, 30.004, 29.999, 29.996, 29.978, 29.973, 29.963, 29.962, 29.955, 29.95, 29.949, 29.931, 29.928, 29.924, 29.922, 29.919, 29.892, 29.89, 29.885, 29.884, 29.875, 29.874, 29.868, 29.857, 29.852, 29.844, 29.84, 29.827, 29.82, 29.814, 29.811, 29.809, 29.807, 29.8, 29.799, 29.795, 29.786, 29.779, 29.748, 29.737, 29.735, 29.728, 29.724, 29.719, 29.687, 29.686, 29.681, 29.668, 29.66, 29.657, 29.648, 29.645, 29.632, 29.626, 29.625, 29.611, 29.61, 29.601, 29.6, 29.597, 29.596, 29.593, 29.578, 29.569, 29.557, 29.555, 29.55, 29.548, 29.542, 29.541, 29.534, 29.53, 29.525, 29.518, 29.494, 29.492, 29.477, 29.471, 29.442, 29.436, 29.435, 29.432, 29.421, 29.404, 29.394, 29.389, 29.385, 29.381, 29.329, 29.319, 29.316, 29.314, 29.311, 29.301, 29.291, 29.289, 29.284, 29.276, 29.268, 29.267, 29.266, 29.264, 29.263, 29.251, 29.236, 29.235, 29.224, 29.219, 29.216, 29.208, 29.204, 29.192, 29.178, 29.177, 29.175, 29.168, 29.163, 29.157, 29.15, 29.144, 29.138, 29.137, 29.123, 29.122, 29.117, 29.105, 29.084, 29.071, 29.07, 29.065, 29.051, 29.049, 29.044, 29.036, 29.015, 29.011, 28.995, 28.985, 28.98, 28.956, 28.921, 28.917, 28.912, 28.897, 28.89, 28.889, 28.882, 28.879, 28.878, 28.874, 28.872, 28.87, 28.859, 28.851, 28.849, 28.832, 28.806, 28.798, 28.797, 28.784, 28.783, 28.769, 28.764, 28.756, 28.752, 28.748, 28.727, 28.718, 28.692, 28.688, 28.681, 28.675, 28.666, 28.662, 28.654, 28.637, 28.629, 28.628, 28.613, 28.611, 28.609, 28.602, 28.594, 28.571, 28.562, 28.561, 28.56, 28.557, 28.549, 28.546, 28.542, 28.54, 28.538, 28.501, 28.48, 28.472, 28.466, 28.463, 28.44, 28.437, 28.434, 28.427, 28.417, 28.412, 28.41, 28.402, 28.39, 28.381, 28.376, 28.374, 28.372, 28.365, 28.364, 28.363, 28.359, 28.357, 28.355, 28.348, 28.344, 28.341, 28.306, 28.294, 28.289, 28.287, 28.286, 28.28, 28.276, 28.273, 28.269, 28.263, 28.259, 28.251, 28.237, 28.228, 28.226, 28.223, 28.209, 28.185, 28.183, 28.181, 28.177, 28.175, 28.17, 28.168, 28.165, 28.162, 28.161, 28.154, 28.143, 28.14, 28.136, 28.127, 28.12, 28.115, 28.112, 28.107, 28.103, 28.096, 28.084, 28.08, 28.078, 28.068, 28.065, 28.053, 28.049, 28.046, 28.039, 28.035, 28.027, 28.025, 28.015, 28.006, 27.994, 27.983, 27.98, 27.964, 27.963, 27.959, 27.952, 27.943, 27.942, 27.932, 27.924, 27.917, 27.898, 27.896, 27.89, 27.873, 27.865, 27.851, 27.85, 27.845, 27.836, 27.818, 27.813, 27.803, 27.8, 27.785, 27.775, 27.773, 27.77, 27.76, 27.753, 27.739, 27.738, 27.729, 27.728, 27.725, 27.713, 27.705, 27.7, 27.696, 27.681, 27.669, 27.64, 27.624, 27.617, 27.616, 27.615, 27.611, 27.608, 27.607, 27.605, 27.598, 27.597, 27.593, 27.591, 27.588, 27.584, 27.568, 27.561, 27.549, 27.547, 27.546, 27.538, 27.537, 27.531, 27.523, 27.519, 27.515, 27.503, 27.495, 27.469, 27.454, 27.45, 27.445, 27.421, 27.42, 27.419, 27.41, 27.408, 27.405, 27.4, 27.398, 27.393, 27.384, 27.377, 27.35, 27.349, 27.344, 27.343, 27.337, 27.336, 27.335, 27.328, 27.326, 27.323, 27.322, 27.317, 27.304, 27.302, 27.301, 27.293, 27.292, 27.285, 27.283, 27.281, 27.277, 27.269, 27.261, 27.226, 27.212, 27.21, 27.193, 27.188, 27.184, 27.183, 27.182, 27.181, 27.179, 27.173, 27.17, 27.166, 27.16, 27.146, 27.132, 27.131, 27.117, 27.101, 27.1, 27.097, 27.094, 27.09, 27.081, 27.075, 27.073, 27.066, 27.062, 27.061, 27.059, 27.058, 27.054, 27.049, 27.045, 27.039, 27.035, 27.027, 27.022, 27.016, 27.01, 27.009, 27.007, 27.004, 26.997, 26.992, 26.99, 26.989, 26.978, 26.974, 26.968, 26.966, 26.962, 26.96, 26.955, 26.937, 26.934, 26.93, 26.928, 26.923, 26.922, 26.912, 26.908, 26.898, 26.887, 26.877, 26.876, 26.87, 26.867, 26.865, 26.861, 26.859, 26.851, 26.842, 26.84, 26.836, 26.833, 26.831, 26.823, 26.821, 26.799, 26.796, 26.795, 26.792, 26.778, 26.761, 26.756, 26.755, 26.752, 26.746, 26.744, 26.728, 26.725, 26.724, 26.718, 26.711, 26.702, 26.683, 26.678, 26.674, 26.667, 26.657, 26.656, 26.654, 26.648, 26.638, 26.629, 26.622, 26.621, 26.619, 26.617, 26.613, 26.603, 26.597, 26.593, 26.589, 26.58, 26.575, 26.573, 26.572, 26.571, 26.565, 26.555, 26.552, 26.536, 26.533, 26.527, 26.525, 26.511, 26.505, 26.48, 26.478, 26.477, 26.473, 26.47, 26.464, 26.461, 26.456, 26.444, 26.439, 26.429, 26.424, 26.418, 26.415, 26.413, 26.408, 26.395, 26.391, 26.381, 26.372, 26.37, 26.365, 26.364, 26.363, 26.362, 26.36, 26.345, 26.344, 26.332, 26.331, 26.328, 26.325, 26.309, 26.3, 26.285, 26.281, 26.276, 26.273, 26.258, 26.254, 26.245, 26.24, 26.239, 26.237, 26.235, 26.233, 26.221, 26.212, 26.21, 26.209, 26.204, 26.203, 26.18, 26.179, 26.172, 26.167, 26.165, 26.138, 26.137, 26.124, 26.119, 26.117, 26.113, 26.11, 26.109, 26.107, 26.103, 26.095, 26.092, 26.088, 26.085, 26.084, 26.083, 26.076, 26.068, 26.065, 26.063, 26.062, 26.053, 26.052, 26.048, 26.046, 26.037, 26.032, 26.03, 26.026, 26.023, 26.019, 26.013, 26.008, 26.006, 26.001, 25.992, 25.991, 25.986, 25.982, 25.977, 25.966, 25.958, 25.951, 25.95, 25.949, 25.944, 25.934, 25.925, 25.924, 25.917, 25.916, 25.91, 25.907, 25.905, 25.903, 25.901, 25.887, 25.885, 25.882, 25.878, 25.866, 25.865, 25.85, 25.848, 25.843, 25.84, 25.831, 25.825, 25.824, 25.822, 25.82, 25.817, 25.813, 25.812, 25.801, 25.796, 25.79, 25.785, 25.784, 25.778, 25.777, 25.774, 25.773, 25.763, 25.753, 25.743, 25.734, 25.729, 25.726, 25.722, 25.719, 25.718, 25.716, 25.709, 25.708, 25.706, 25.7, 25.693, 25.688, 25.687, 25.682, 25.676, 25.674, 25.67, 25.669, 25.668, 25.665, 25.663, 25.656, 25.653, 25.652, 25.65, 25.644, 25.638, 25.637, 25.63, 25.626, 25.616, 25.606, 25.598, 25.594, 25.593, 25.587, 25.584, 25.58, 25.571, 25.566, 25.561, 25.539, 25.537, 25.534, 25.53, 25.528, 25.524, 25.516, 25.514, 25.513, 25.511, 25.508, 25.498, 25.492, 25.481, 25.48, 25.477, 25.458, 25.456, 25.442, 25.441, 25.44, 25.439, 25.438, 25.435, 25.434, 25.432, 25.43, 25.429, 25.421, 25.414, 25.412, 25.409, 25.396, 25.385, 25.384, 25.375, 25.369, 25.366, 25.365, 25.362, 25.354, 25.353, 25.341, 25.334, 25.332, 25.329, 25.325, 25.32, 25.318, 25.315, 25.303, 25.296, 25.294, 25.29, 25.288, 25.285, 25.281, 25.272, 25.27, 25.267, 25.264, 25.259, 25.256, 25.255, 25.253, 25.252, 25.243, 25.241, 25.239, 25.237, 25.236, 25.234, 25.22, 25.217, 25.214, 25.212, 25.207, 25.193, 25.184, 25.183, 25.182, 25.176, 25.175, 25.174, 25.172, 25.168, 25.166, 25.152, 25.142, 25.138, 25.136, 25.134, 25.124, 25.108, 25.107, 25.106, 25.103, 25.091, 25.085, 25.082, 25.079, 25.078, 25.075, 25.063, 25.056, 25.052, 25.045, 25.043, 25.042, 25.041, 25.04, 25.037, 25.032, 25.029, 25.028, 25.022, 25.017, 25.005, 25.001, 24.995, 24.991, 24.987, 24.985, 24.97, 24.969, 24.961, 24.954, 24.951, 24.949, 24.947, 24.938, 24.936, 24.935, 24.934, 24.929, 24.924, 24.921, 24.911, 24.907, 24.902, 24.899, 24.892, 24.891, 24.885, 24.884, 24.879, 24.875, 24.864, 24.863, 24.848, 24.847, 24.839, 24.838, 24.837, 24.836, 24.829, 24.826, 24.823, 24.82, 24.818, 24.814, 24.786, 24.784, 24.783, 24.776, 24.774, 24.767, 24.766, 24.758, 24.748, 24.746, 24.738, 24.736, 24.735, 24.734, 24.732, 24.731, 24.73, 24.713, 24.703, 24.701, 24.697, 24.686, 24.679, 24.677, 24.676, 24.663, 24.657, 24.654, 24.645, 24.631, 24.622, 24.62, 24.619, 24.616, 24.599, 24.598, 24.594, 24.59, 24.587, 24.581, 24.58, 24.578, 24.576, 24.575, 24.566, 24.565, 24.561, 24.557, 24.549, 24.547, 24.544, 24.538, 24.536, 24.532, 24.528, 24.522, 24.517, 24.516, 24.497, 24.495, 24.492, 24.486, 24.485, 24.481, 24.479, 24.478, 24.476, 24.472, 24.466, 24.461, 24.455, 24.453, 24.452, 24.45, 24.445, 24.431, 24.43, 24.419, 24.418, 24.415, 24.411, 24.408, 24.4, 24.394, 24.39, 24.387, 24.385, 24.379, 24.378, 24.377, 24.374, 24.372, 24.371, 24.367, 24.361, 24.36, 24.357, 24.355, 24.352, 24.35, 24.347, 24.335, 24.332, 24.331, 24.33, 24.329, 24.314, 24.307, 24.3, 24.298, 24.294, 24.288, 24.286, 24.282, 24.281, 24.279, 24.272, 24.271, 24.267, 24.266, 24.26, 24.259, 24.258, 24.253, 24.252, 24.243, 24.242, 24.24, 24.236, 24.235, 24.232, 24.23, 24.225, 24.216, 24.213, 24.208, 24.207, 24.202, 24.199, 24.198, 24.193, 24.192, 24.191, 24.186, 24.185, 24.183, 24.178, 24.176, 24.175, 24.161, 24.157, 24.15, 24.149, 24.147, 24.145, 24.144, 24.143, 24.138, 24.128, 24.109, 24.106, 24.102, 24.101, 24.096, 24.077, 24.074, 24.072, 24.063, 24.06, 24.052, 24.051, 24.048, 24.042, 24.035, 24.028, 24.027, 24.018, 24.014, 24.009, 24.005, 24.002, 24.001, 24.0, 23.999, 23.99, 23.986, 23.983, 23.979, 23.976, 23.975, 23.969, 23.966, 23.964, 23.963, 23.962, 23.96, 23.959, 23.958, 23.953, 23.95, 23.937, 23.934, 23.932, 23.93, 23.922, 23.918, 23.916, 23.915, 23.905, 23.903, 23.902, 23.893, 23.892, 23.889, 23.885, 23.884, 23.881, 23.88, 23.878, 23.875, 23.869, 23.867, 23.864, 23.863, 23.86, 23.857, 23.856, 23.854, 23.853, 23.85, 23.848, 23.837, 23.836, 23.824, 23.818, 23.81, 23.804, 23.802, 23.799, 23.795, 23.79, 23.787, 23.781, 23.776, 23.768, 23.766, 23.764, 23.76, 23.757, 23.755, 23.749, 23.742, 23.723, 23.72, 23.711, 23.71, 23.709, 23.708, 23.704, 23.703, 23.7, 23.695, 23.689, 23.685, 23.681, 23.68, 23.675, 23.659, 23.658, 23.657, 23.654, 23.653, 23.652, 23.649, 23.636, 23.635, 23.627, 23.625, 23.624, 23.622, 23.614, 23.609, 23.601, 23.595, 23.587, 23.583, 23.582, 23.573, 23.571, 23.566, 23.563, 23.558, 23.555, 23.551, 23.547, 23.545, 23.536, 23.534, 23.531, 23.529, 23.522, 23.519, 23.502, 23.495, 23.494, 23.492, 23.486, 23.479, 23.476, 23.468, 23.466, 23.459, 23.442, 23.434, 23.431, 23.43, 23.425, 23.419, 23.418, 23.403, 23.402, 23.4, 23.399, 23.398, 23.394, 23.393, 23.391, 23.389, 23.386, 23.384, 23.381, 23.38, 23.379, 23.377, 23.373, 23.372, 23.37, 23.369, 23.367, 23.365, 23.36, 23.359, 23.358, 23.354, 23.351, 23.349, 23.348, 23.346, 23.343, 23.333, 23.332, 23.331, 23.33, 23.329, 23.327, 23.325, 23.324, 23.319, 23.316, 23.315, 23.308, 23.307, 23.304, 23.302, 23.299, 23.296, 23.289, 23.287, 23.279, 23.278, 23.276, 23.27, 23.262, 23.253, 23.25, 23.248, 23.241, 23.24, 23.232, 23.231, 23.228, 23.22, 23.219, 23.218, 23.216, 23.213, 23.207, 23.204, 23.192, 23.18, 23.176, 23.173, 23.164, 23.157, 23.156, 23.155, 23.152, 23.146, 23.145, 23.14, 23.139, 23.138, 23.132, 23.129, 23.128, 23.118, 23.112, 23.107, 23.1, 23.098, 23.091, 23.085, 23.075, 23.071, 23.067, 23.059, 23.048, 23.044, 23.037, 23.029, 23.019, 23.018, 23.016, 23.014, 23.011, 23.008, 23.007, 23.004, 23.003, 22.999, 22.998, 22.994, 22.989, 22.985, 22.981, 22.977, 22.973, 22.967, 22.961, 22.96, 22.955, 22.954, 22.951, 22.95, 22.943, 22.937, 22.936, 22.934, 22.931, 22.928, 22.927, 22.918, 22.917, 22.915, 22.904, 22.899, 22.894, 22.89, 22.889, 22.888, 22.884, 22.883, 22.882, 22.879, 22.878, 22.87, 22.869, 22.864, 22.862, 22.861, 22.859, 22.856, 22.854, 22.853, 22.852, 22.844, 22.84, 22.829, 22.823, 22.818, 22.816, 22.809, 22.802, 22.788, 22.782, 22.781, 22.78, 22.778, 22.775, 22.774, 22.769, 22.768, 22.763, 22.762, 22.758, 22.753, 22.752, 22.738, 22.725, 22.724, 22.721, 22.719, 22.712, 22.71, 22.703, 22.702, 22.699, 22.697, 22.694, 22.689, 22.687, 22.684, 22.676, 22.672, 22.669, 22.666, 22.658, 22.655, 22.653, 22.652, 22.638, 22.637, 22.629, 22.628, 22.626, 22.625, 22.623, 22.621, 22.62, 22.619, 22.617, 22.615, 22.614, 22.613, 22.612, 22.609, 22.605, 22.603, 22.601, 22.6, 22.599, 22.598, 22.594, 22.59, 22.587, 22.582, 22.581, 22.577, 22.571, 22.563, 22.558, 22.557, 22.553, 22.551, 22.539, 22.538, 22.536, 22.529, 22.526, 22.521, 22.52, 22.517, 22.512, 22.506, 22.502, 22.501, 22.5, 22.496, 22.494, 22.493, 22.484, 22.475, 22.471, 22.463, 22.462, 22.457, 22.456, 22.455, 22.452, 22.451, 22.45, 22.446, 22.442, 22.437, 22.436, 22.43, 22.427, 22.424, 22.422, 22.421, 22.418, 22.417, 22.414, 22.409, 22.4, 22.379, 22.376, 22.373, 22.369, 22.362, 22.361, 22.359, 22.358, 22.353, 22.349, 22.346, 22.344, 22.343, 22.342, 22.339, 22.338, 22.331, 22.327, 22.315, 22.314, 22.302, 22.296, 22.295, 22.293, 22.283, 22.282, 22.276, 22.275, 22.274, 22.273, 22.265, 22.264, 22.263, 22.258, 22.253, 22.251, 22.25, 22.243, 22.241, 22.234, 22.225, 22.223, 22.217, 22.213, 22.212, 22.203, 22.201, 22.199, 22.193, 22.192, 22.187, 22.182, 22.18, 22.179, 22.176, 22.172, 22.17, 22.169, 22.167, 22.164, 22.162, 22.152, 22.149, 22.147, 22.144, 22.137, 22.132, 22.131, 22.124, 22.118, 22.117, 22.106, 22.103, 22.101, 22.093, 22.092, 22.091, 22.089, 22.082, 22.078, 22.075, 22.074, 22.073, 22.07, 22.068, 22.063, 22.06, 22.043, 22.035, 22.031, 22.029, 22.027, 22.023, 22.018, 22.017, 22.013, 22.012, 22.009, 22.002, 22.001, 21.995, 21.99, 21.989, 21.987, 21.982, 21.978, 21.958, 21.952, 21.951, 21.944, 21.942, 21.939, 21.935, 21.932, 21.931, 21.928, 21.924, 21.919, 21.918, 21.911, 21.907, 21.898, 21.896, 21.895, 21.889, 21.884, 21.865, 21.862, 21.858, 21.855, 21.854, 21.848, 21.847, 21.839, 21.835, 21.83, 21.829, 21.825, 21.824, 21.821, 21.819, 21.816, 21.815, 21.814, 21.811, 21.809, 21.798, 21.794, 21.79, 21.787, 21.784, 21.783, 21.778, 21.774, 21.773, 21.772, 21.755, 21.754, 21.752, 21.748, 21.732, 21.731, 21.73, 21.727, 21.723, 21.722, 21.714, 21.713, 21.709, 21.708, 21.703, 21.702, 21.701, 21.699, 21.694, 21.689, 21.688, 21.686, 21.684, 21.683, 21.672, 21.668, 21.665, 21.664, 21.662, 21.657, 21.654, 21.653, 21.652, 21.65, 21.648, 21.643, 21.639, 21.638, 21.636, 21.633, 21.625, 21.622, 21.621, 21.618, 21.607, 21.606, 21.605, 21.599, 21.598, 21.592, 21.586, 21.585, 21.584, 21.578, 21.574, 21.567, 21.566, 21.563, 21.559, 21.558, 21.557, 21.554, 21.548, 21.547, 21.543, 21.54, 21.539, 21.537, 21.536, 21.525, 21.521, 21.517, 21.516, 21.515, 21.513, 21.512, 21.505, 21.502, 21.501, 21.5, 21.498, 21.493, 21.491, 21.488, 21.475, 21.473, 21.466, 21.464, 21.462, 21.459, 21.458, 21.457, 21.452, 21.45, 21.449, 21.447, 21.444, 21.441, 21.434, 21.433, 21.432, 21.423, 21.416, 21.415, 21.413, 21.412, 21.411, 21.408, 21.407, 21.406, 21.403, 21.402, 21.396, 21.395, 21.393, 21.391, 21.385, 21.384, 21.37, 21.368, 21.361, 21.36, 21.359, 21.355, 21.35, 21.342, 21.338, 21.334, 21.333, 21.332, 21.329, 21.328, 21.326, 21.323, 21.321, 21.32, 21.319, 21.318, 21.317, 21.309, 21.308, 21.307, 21.301, 21.299, 21.297, 21.294, 21.291, 21.284, 21.265, 21.264, 21.263, 21.259, 21.256, 21.252, 21.251, 21.25, 21.249, 21.248, 21.246, 21.234, 21.233, 21.232, 21.231, 21.227, 21.224, 21.22, 21.218, 21.217, 21.21, 21.209, 21.206, 21.205, 21.2, 21.199, 21.19, 21.186, 21.185, 21.183, 21.181, 21.177, 21.175, 21.172, 21.17, 21.168, 21.164, 21.163, 21.162, 21.16, 21.157, 21.156, 21.15, 21.148, 21.138, 21.126, 21.122, 21.119, 21.118, 21.117, 21.116, 21.11, 21.107, 21.106, 21.104, 21.103, 21.102, 21.091, 21.089, 21.087, 21.084, 21.081, 21.079, 21.078, 21.075, 21.073, 21.072, 21.068, 21.067, 21.063, 21.061, 21.046, 21.045, 21.043, 21.042, 21.041, 21.04, 21.035, 21.028, 21.027, 21.025, 21.024, 21.023, 21.018, 21.017, 21.016, 21.015, 21.012, 21.006, 21.004, 21.0, 20.992, 20.991, 20.99, 20.982, 20.979, 20.975, 20.972, 20.971, 20.969, 20.966, 20.961, 20.959, 20.954, 20.953, 20.94, 20.93, 20.922, 20.92, 20.919, 20.917, 20.916, 20.915, 20.91, 20.905, 20.902, 20.901, 20.9, 20.898, 20.894, 20.891, 20.889, 20.888, 20.885, 20.878, 20.876, 20.875, 20.873, 20.872, 20.87, 20.867, 20.865, 20.863, 20.862, 20.859, 20.852, 20.848, 20.846, 20.84, 20.839, 20.834, 20.829, 20.828, 20.826, 20.825, 20.824, 20.822, 20.817, 20.811, 20.807, 20.805, 20.791, 20.786, 20.784, 20.782, 20.778, 20.777, 20.775, 20.769, 20.765, 20.759, 20.752, 20.749, 20.748, 20.746, 20.742, 20.737, 20.735, 20.733, 20.732, 20.73, 20.728, 20.727, 20.72, 20.717, 20.714, 20.711, 20.707, 20.706, 20.699, 20.693, 20.692, 20.691, 20.689, 20.688, 20.686, 20.667, 20.666, 20.664, 20.663, 20.66, 20.656, 20.651, 20.649, 20.647, 20.646, 20.638, 20.636, 20.635, 20.633, 20.628, 20.626, 20.622, 20.619, 20.608, 20.604, 20.602, 20.601, 20.6, 20.598, 20.586, 20.585, 20.576, 20.574, 20.573, 20.572, 20.568, 20.559, 20.553, 20.552, 20.551, 20.545, 20.541, 20.536, 20.531, 20.529, 20.528, 20.524, 20.518, 20.515, 20.513, 20.502, 20.499, 20.497, 20.496, 20.495, 20.491, 20.487, 20.483, 20.477, 20.475, 20.474, 20.473, 20.472, 20.471, 20.466, 20.462, 20.46, 20.458, 20.454, 20.453, 20.45, 20.446, 20.443, 20.442, 20.44, 20.433, 20.43, 20.428, 20.425, 20.418, 20.414, 20.412, 20.406, 20.405, 20.403, 20.401, 20.399, 20.396, 20.394, 20.392, 20.391, 20.39, 20.387, 20.383, 20.382, 20.38, 20.378, 20.377, 20.376, 20.372, 20.368, 20.364, 20.359, 20.358, 20.357, 20.356, 20.353, 20.352, 20.351, 20.345, 20.343, 20.332, 20.327, 20.322, 20.32, 20.317, 20.315, 20.312, 20.311, 20.31, 20.308, 20.307, 20.306, 20.304, 20.3, 20.297, 20.296, 20.293, 20.29, 20.286, 20.284, 20.278, 20.271, 20.27, 20.267, 20.258, 20.257, 20.256, 20.255, 20.254, 20.252, 20.25, 20.248, 20.246, 20.245, 20.243, 20.242, 20.241, 20.24, 20.239, 20.231, 20.229, 20.223, 20.219, 20.215, 20.214, 20.213, 20.212, 20.211, 20.209, 20.202, 20.2, 20.197, 20.196, 20.194, 20.186, 20.179, 20.176, 20.175, 20.173, 20.171, 20.166, 20.165, 20.162, 20.157, 20.152, 20.15, 20.149, 20.146, 20.144, 20.141, 20.14, 20.134, 20.133, 20.131, 20.127, 20.126, 20.125, 20.123, 20.12, 20.119, 20.11, 20.109, 20.105, 20.1, 20.099, 20.098, 20.097, 20.095, 20.094, 20.093, 20.092, 20.087, 20.086, 20.078, 20.069, 20.067, 20.065, 20.064, 20.054, 20.046, 20.044, 20.041, 20.037, 20.033, 20.032, 20.031, 20.027, 20.026, 20.02, 20.019, 20.016, 20.014, 20.007, 19.998, 19.996, 19.991, 19.99, 19.988, 19.986, 19.985, 19.979, 19.972, 19.968, 19.966, 19.957, 19.955, 19.951, 19.947, 19.946, 19.939, 19.935, 19.933, 19.932, 19.926, 19.925, 19.917, 19.914, 19.913, 19.908, 19.907, 19.906, 19.905, 19.901, 19.898, 19.894, 19.89, 19.887, 19.886, 19.885, 19.882, 19.881, 19.877, 19.876, 19.875, 19.87, 19.867, 19.866, 19.861, 19.857, 19.852, 19.851, 19.848, 19.842, 19.839, 19.836, 19.829, 19.827, 19.823, 19.817, 19.814, 19.813, 19.811, 19.81, 19.808, 19.803, 19.802, 19.801, 19.794, 19.783, 19.78, 19.776, 19.771, 19.761, 19.76, 19.759, 19.758, 19.751, 19.748, 19.745, 19.741, 19.739, 19.736, 19.735, 19.731, 19.73, 19.729, 19.721, 19.72, 19.716, 19.715, 19.707, 19.7, 19.694, 19.691, 19.687, 19.686, 19.685, 19.679, 19.678, 19.674, 19.672, 19.67, 19.669, 19.667, 19.666, 19.659, 19.65, 19.649, 19.648, 19.647, 19.638, 19.637, 19.636, 19.633, 19.631, 19.629, 19.625, 19.621, 19.62, 19.617, 19.612, 19.608, 19.604, 19.603, 19.602, 19.599, 19.597, 19.596, 19.592, 19.586, 19.584, 19.582, 19.576, 19.574, 19.571, 19.569, 19.567, 19.562, 19.561, 19.556, 19.553, 19.552, 19.548, 19.544, 19.537, 19.536, 19.53, 19.527, 19.526, 19.525, 19.524, 19.522, 19.52, 19.519, 19.518, 19.517, 19.516, 19.512, 19.51, 19.507, 19.506, 19.501, 19.5, 19.498, 19.495, 19.49, 19.486, 19.484, 19.482, 19.478, 19.476, 19.475, 19.467, 19.466, 19.462, 19.461, 19.46, 19.456, 19.454, 19.452, 19.447, 19.443, 19.441, 19.44, 19.439, 19.438, 19.436, 19.434, 19.433, 19.429, 19.425, 19.422, 19.419, 19.416, 19.414, 19.413, 19.407, 19.406, 19.398, 19.393, 19.388, 19.387, 19.382, 19.378, 19.373, 19.369, 19.368, 19.366, 19.362, 19.358, 19.355, 19.351, 19.35, 19.349, 19.345, 19.342, 19.34, 19.336, 19.331, 19.33, 19.328, 19.324, 19.323, 19.321, 19.32, 19.318, 19.317, 19.313, 19.312, 19.308, 19.299, 19.298, 19.294, 19.291, 19.29, 19.289, 19.281, 19.278, 19.277, 19.271, 19.267, 19.264, 19.26, 19.257, 19.256, 19.252, 19.251, 19.247, 19.243, 19.241, 19.24, 19.239, 19.234, 19.231, 19.225, 19.221, 19.22, 19.219, 19.218, 19.217, 19.215, 19.211, 19.207, 19.196, 19.193, 19.191, 19.187, 19.186, 19.173, 19.172, 19.168, 19.167, 19.161, 19.157, 19.156, 19.152, 19.15, 19.145, 19.144, 19.142, 19.138, 19.137, 19.136, 19.133, 19.132, 19.124, 19.123, 19.118, 19.116, 19.115, 19.114, 19.108, 19.105, 19.104, 19.096, 19.086, 19.085, 19.078, 19.076, 19.074, 19.071, 19.067, 19.062, 19.06, 19.059, 19.057, 19.055, 19.054, 19.051, 19.05, 19.049, 19.048, 19.047, 19.039, 19.035, 19.03, 19.029, 19.028, 19.027, 19.025, 19.024, 19.023, 19.022, 19.019, 19.018, 19.013, 19.012, 19.011, 19.008, 19.007, 19.002, 19.0, 18.996, 18.995, 18.99, 18.988, 18.985, 18.983, 18.981, 18.98, 18.977, 18.976, 18.975, 18.97, 18.965, 18.962, 18.96, 18.959, 18.957, 18.956, 18.953, 18.951, 18.947, 18.945, 18.942, 18.94, 18.939, 18.938, 18.935, 18.934, 18.932, 18.929, 18.927, 18.925, 18.924, 18.923, 18.921, 18.914, 18.91, 18.906, 18.905, 18.904, 18.902, 18.9, 18.899, 18.898, 18.894, 18.893, 18.892, 18.89, 18.887, 18.886, 18.88, 18.879, 18.875, 18.874, 18.872, 18.868, 18.864, 18.862, 18.861, 18.853, 18.841, 18.84, 18.836, 18.833, 18.829, 18.827, 18.826, 18.823, 18.819, 18.818, 18.814, 18.812, 18.81, 18.808, 18.807, 18.806, 18.803, 18.802, 18.801, 18.796, 18.793, 18.792, 18.781, 18.775, 18.772, 18.769, 18.768, 18.764, 18.757, 18.756, 18.747, 18.744, 18.743, 18.739, 18.737, 18.735, 18.732, 18.726, 18.725, 18.721, 18.719, 18.712, 18.711, 18.709, 18.708, 18.703, 18.702, 18.696, 18.693, 18.687, 18.685, 18.682, 18.68, 18.679, 18.677, 18.676, 18.671, 18.67, 18.665, 18.663, 18.661, 18.659, 18.658, 18.652, 18.648, 18.646, 18.645, 18.644, 18.643, 18.637, 18.634, 18.63, 18.629, 18.628, 18.626, 18.624, 18.621, 18.618, 18.616, 18.613, 18.61, 18.601, 18.599, 18.596, 18.593, 18.591, 18.588, 18.584, 18.583, 18.582, 18.579, 18.577, 18.57, 18.566, 18.565, 18.564, 18.561, 18.56, 18.558, 18.556, 18.547, 18.546, 18.539, 18.536, 18.535, 18.534, 18.528, 18.527, 18.525, 18.524, 18.523, 18.521, 18.519, 18.517, 18.515, 18.509, 18.508, 18.507, 18.504, 18.501, 18.5, 18.497, 18.495, 18.492, 18.491, 18.49, 18.489, 18.487, 18.486, 18.485, 18.475, 18.468, 18.467, 18.466, 18.465, 18.462, 18.455, 18.451, 18.448, 18.446, 18.444, 18.443, 18.435, 18.432, 18.43, 18.428, 18.425, 18.422, 18.421, 18.418, 18.414, 18.413, 18.411, 18.41, 18.408, 18.404, 18.403, 18.402, 18.398, 18.395, 18.393, 18.381, 18.378, 18.375, 18.373, 18.372, 18.371, 18.369, 18.365, 18.363, 18.359, 18.355, 18.354, 18.352, 18.351, 18.348, 18.346, 18.344, 18.343, 18.339, 18.338, 18.337, 18.334, 18.33, 18.326, 18.324, 18.32, 18.319, 18.314, 18.313, 18.312, 18.306, 18.305, 18.3, 18.299, 18.297, 18.296, 18.295, 18.291, 18.29, 18.289, 18.288, 18.287, 18.279, 18.277, 18.27, 18.266, 18.264, 18.263, 18.261, 18.26, 18.257, 18.255, 18.254, 18.253, 18.251, 18.25, 18.249, 18.247, 18.245, 18.242, 18.236, 18.235, 18.232, 18.231, 18.23, 18.225, 18.22, 18.217, 18.216, 18.215, 18.214, 18.213, 18.21, 18.209, 18.208, 18.206, 18.205, 18.2, 18.199, 18.189, 18.186, 18.185, 18.184, 18.18, 18.173, 18.171, 18.169, 18.167, 18.164, 18.162, 18.161, 18.16, 18.159, 18.155, 18.151, 18.149, 18.146, 18.145, 18.144, 18.143, 18.14, 18.134, 18.133, 18.13, 18.129, 18.128, 18.115, 18.113, 18.111, 18.106, 18.103, 18.102, 18.1, 18.099, 18.095, 18.094, 18.093, 18.091, 18.088, 18.086, 18.083, 18.081, 18.08, 18.074, 18.071, 18.067, 18.066, 18.064, 18.063, 18.062, 18.059, 18.057, 18.054, 18.05, 18.047, 18.046, 18.043, 18.041, 18.039, 18.037, 18.036, 18.035, 18.033, 18.031, 18.024, 18.022, 18.02, 18.017, 18.015, 18.014, 18.013, 18.01, 18.008, 18.003, 18.002, 17.999, 17.995, 17.993, 17.992, 17.991, 17.988, 17.984, 17.981, 17.98, 17.976, 17.97, 17.967, 17.966, 17.965, 17.962, 17.961, 17.959, 17.954, 17.951, 17.949, 17.946, 17.942, 17.936, 17.932, 17.929, 17.928, 17.921, 17.919, 17.913, 17.911, 17.905, 17.903, 17.902, 17.899, 17.895, 17.893, 17.892, 17.889, 17.885, 17.882, 17.878, 17.877, 17.875, 17.874, 17.871, 17.87, 17.865, 17.863, 17.858, 17.857, 17.854, 17.853, 17.852, 17.851, 17.849, 17.848, 17.846, 17.84, 17.839, 17.836, 17.833, 17.83, 17.829, 17.826, 17.823, 17.821, 17.82, 17.816, 17.813, 17.81, 17.808, 17.802, 17.8, 17.794, 17.793, 17.786, 17.785, 17.783, 17.781, 17.78, 17.778, 17.776, 17.773, 17.77, 17.767, 17.766, 17.765, 17.762, 17.759, 17.758, 17.757, 17.756, 17.755, 17.752, 17.751, 17.748, 17.745, 17.744, 17.743, 17.736, 17.732, 17.731, 17.729, 17.728, 17.725, 17.724, 17.721, 17.72, 17.719, 17.718, 17.717, 17.716, 17.711, 17.71, 17.707, 17.706, 17.702, 17.7, 17.699, 17.698, 17.695, 17.693, 17.689, 17.684, 17.683, 17.682, 17.681, 17.679, 17.678, 17.676, 17.675, 17.673, 17.669, 17.664, 17.663, 17.662, 17.659, 17.656, 17.651, 17.648, 17.643, 17.639, 17.637, 17.636, 17.635, 17.633, 17.631, 17.629, 17.626, 17.621, 17.617, 17.616, 17.614, 17.613, 17.612, 17.61, 17.608, 17.606, 17.605, 17.603, 17.598, 17.596, 17.595, 17.594, 17.588, 17.587, 17.585, 17.581, 17.58, 17.579, 17.577, 17.576, 17.57, 17.566, 17.564, 17.563, 17.561, 17.555, 17.553, 17.55, 17.549, 17.547, 17.542, 17.539, 17.538, 17.536, 17.53, 17.528, 17.527, 17.525, 17.522, 17.52, 17.518, 17.516, 17.514, 17.511, 17.51, 17.507, 17.506, 17.505, 17.503, 17.495, 17.494, 17.492, 17.489, 17.486, 17.484, 17.483, 17.481, 17.48, 17.478, 17.477, 17.476, 17.474, 17.47, 17.469, 17.466, 17.462, 17.461, 17.457, 17.455, 17.453, 17.45, 17.449, 17.448, 17.444, 17.441, 17.438, 17.436, 17.425, 17.424, 17.421, 17.418, 17.417, 17.411, 17.41, 17.409, 17.408, 17.407, 17.404, 17.403, 17.401, 17.399, 17.398, 17.397, 17.393, 17.392, 17.391, 17.389, 17.388, 17.383, 17.381, 17.38, 17.379, 17.378, 17.377, 17.368, 17.367, 17.362, 17.361, 17.355, 17.353, 17.351, 17.347, 17.344, 17.343, 17.339, 17.338, 17.337, 17.336, 17.335, 17.333, 17.332, 17.325, 17.324, 17.32, 17.318, 17.317, 17.314, 17.313, 17.312, 17.311, 17.309, 17.305, 17.302, 17.299, 17.297, 17.295, 17.293, 17.292, 17.29, 17.288, 17.285, 17.284, 17.275, 17.274, 17.272, 17.271, 17.268, 17.267, 17.266, 17.265, 17.264, 17.263, 17.262, 17.261, 17.259, 17.258, 17.255, 17.253, 17.25, 17.248, 17.245, 17.243, 17.242, 17.241, 17.237, 17.234, 17.233, 17.23, 17.227, 17.223, 17.221, 17.219, 17.217, 17.215, 17.21, 17.208, 17.207, 17.206, 17.201, 17.198, 17.196, 17.194, 17.193, 17.192, 17.19, 17.188, 17.187, 17.186, 17.184, 17.181, 17.179, 17.177, 17.172, 17.171, 17.164, 17.163, 17.162, 17.161, 17.159, 17.158, 17.157, 17.154, 17.15, 17.149, 17.147, 17.146, 17.145, 17.143, 17.14, 17.138, 17.135, 17.134, 17.132, 17.131, 17.13, 17.126, 17.123, 17.122, 17.119, 17.116, 17.115, 17.114, 17.111, 17.107, 17.102, 17.1, 17.097, 17.096, 17.095, 17.094, 17.093, 17.092, 17.091, 17.087, 17.086, 17.082, 17.08, 17.078, 17.075, 17.074, 17.071, 17.069, 17.06, 17.059, 17.056, 17.055, 17.053, 17.05, 17.049, 17.046, 17.045, 17.04, 17.039, 17.038, 17.031, 17.03, 17.028, 17.025, 17.023, 17.022, 17.021, 17.02, 17.016, 17.015, 17.012, 17.011, 17.01, 17.004, 17.002, 17.0, 16.999, 16.996, 16.993, 16.991, 16.99, 16.989, 16.988, 16.987, 16.986, 16.98, 16.979, 16.976, 16.972, 16.967, 16.964, 16.962, 16.961, 16.959, 16.954, 16.953, 16.949, 16.944, 16.942, 16.941, 16.939, 16.936, 16.933, 16.932, 16.929, 16.928, 16.923, 16.922, 16.921, 16.919, 16.918, 16.917, 16.915, 16.913, 16.908, 16.906, 16.905, 16.901, 16.9, 16.895, 16.894, 16.888, 16.881, 16.88, 16.879, 16.878, 16.876, 16.871, 16.87, 16.868, 16.867, 16.865, 16.863, 16.859, 16.856, 16.855, 16.853, 16.852, 16.851, 16.85, 16.848, 16.847, 16.846, 16.845, 16.841, 16.838, 16.831, 16.827, 16.822, 16.819, 16.817, 16.816, 16.815, 16.814, 16.813, 16.808, 16.806, 16.802, 16.799, 16.798, 16.797, 16.795, 16.793, 16.791, 16.79, 16.786, 16.785, 16.781, 16.777, 16.776, 16.774, 16.77, 16.769, 16.766, 16.764, 16.76, 16.757, 16.753, 16.752, 16.75, 16.749, 16.742, 16.74, 16.738, 16.737, 16.736, 16.734, 16.73, 16.729, 16.728, 16.727, 16.723, 16.719, 16.717, 16.715, 16.712, 16.71, 16.703, 16.702, 16.699, 16.698, 16.697, 16.694, 16.693, 16.692, 16.688, 16.687, 16.685, 16.684, 16.683, 16.682, 16.681, 16.678, 16.677, 16.676, 16.675, 16.674, 16.668, 16.667, 16.665, 16.664, 16.661, 16.659, 16.657, 16.656, 16.652, 16.65, 16.649, 16.647, 16.645, 16.642, 16.641, 16.636, 16.635, 16.634, 16.629, 16.628, 16.627, 16.626, 16.625, 16.624, 16.62, 16.619, 16.618, 16.616, 16.614, 16.612, 16.611, 16.608, 16.607, 16.606, 16.603, 16.601, 16.598, 16.597, 16.596, 16.594, 16.593, 16.592, 16.591, 16.589, 16.588, 16.582, 16.58, 16.575, 16.574, 16.572, 16.566, 16.565, 16.564, 16.563, 16.559, 16.558, 16.556, 16.555, 16.553, 16.552, 16.55, 16.548, 16.546, 16.545, 16.544, 16.543, 16.542, 16.533, 16.529, 16.528, 16.522, 16.52, 16.517, 16.516, 16.514, 16.504, 16.502, 16.501, 16.498, 16.497, 16.496, 16.494, 16.492, 16.491, 16.49, 16.488, 16.484, 16.48, 16.479, 16.478, 16.477, 16.475, 16.474, 16.473, 16.471, 16.47, 16.467, 16.465, 16.464, 16.463, 16.461, 16.458, 16.457, 16.456, 16.455, 16.454, 16.453, 16.451, 16.449, 16.442, 16.441, 16.44, 16.439, 16.438, 16.437, 16.436, 16.435, 16.432, 16.431, 16.428, 16.427, 16.426, 16.425, 16.423, 16.422, 16.42, 16.419, 16.416, 16.415, 16.414, 16.409, 16.408, 16.407, 16.406, 16.403, 16.402, 16.401, 16.4, 16.399, 16.392, 16.391, 16.388, 16.387, 16.386, 16.385, 16.384, 16.382, 16.381, 16.377, 16.375, 16.374, 16.373, 16.372, 16.367, 16.365, 16.364, 16.363, 16.361, 16.359, 16.356, 16.355, 16.354, 16.353, 16.351, 16.35, 16.348, 16.347, 16.346, 16.344, 16.343, 16.342, 16.34, 16.339, 16.338, 16.336, 16.335, 16.333, 16.331, 16.328, 16.327, 16.326, 16.325, 16.321, 16.319, 16.318, 16.317, 16.315, 16.312, 16.309, 16.308, 16.305, 16.302, 16.3, 16.299, 16.298, 16.297, 16.295, 16.292, 16.288, 16.286, 16.285, 16.283, 16.282, 16.278, 16.277, 16.274, 16.273, 16.269, 16.268, 16.267, 16.266, 16.264, 16.262, 16.261, 16.258, 16.257, 16.255, 16.254, 16.245, 16.243, 16.241, 16.24, 16.239, 16.237, 16.235, 16.233, 16.232, 16.231, 16.23, 16.228, 16.227, 16.225, 16.222, 16.221, 16.22, 16.219, 16.218, 16.217, 16.216, 16.215, 16.209, 16.204, 16.203, 16.202, 16.201, 16.199, 16.197, 16.196, 16.194, 16.193, 16.192, 16.189, 16.188, 16.187, 16.184, 16.183, 16.182, 16.18, 16.177, 16.174, 16.171, 16.167, 16.166, 16.163, 16.162, 16.16, 16.158, 16.157, 16.156, 16.154, 16.151, 16.15, 16.148, 16.147, 16.146, 16.145, 16.144, 16.142, 16.141, 16.139, 16.138, 16.136, 16.134, 16.13, 16.129, 16.127, 16.126, 16.124, 16.122, 16.121, 16.118, 16.117, 16.115, 16.114, 16.11, 16.108, 16.107, 16.104, 16.103, 16.099, 16.095, 16.093, 16.092, 16.091, 16.09, 16.086, 16.085, 16.084, 16.083, 16.082, 16.08, 16.079, 16.076, 16.074, 16.073, 16.071, 16.07, 16.069, 16.067, 16.066, 16.065, 16.064, 16.063, 16.062, 16.06, 16.056, 16.054, 16.052, 16.05, 16.048, 16.045, 16.043, 16.04, 16.039, 16.038, 16.037, 16.036, 16.035, 16.034, 16.033, 16.031, 16.028, 16.027, 16.025, 16.024, 16.023, 16.022, 16.021, 16.02, 16.019, 16.018, 16.014, 16.012, 16.01, 16.009, 16.008, 16.007, 16.006, 16.005, 16.001, 15.999, 15.997, 15.995, 15.991, 15.99, 15.988, 15.984, 15.982, 15.979, 15.977, 15.974, 15.973, 15.971, 15.97, 15.968, 15.967, 15.966, 15.965, 15.963, 15.961, 15.96, 15.952, 15.951, 15.949, 15.948, 15.946, 15.942, 15.938, 15.937, 15.936, 15.935, 15.931, 15.929, 15.928, 15.927, 15.926, 15.925, 15.924, 15.922, 15.921, 15.918, 15.917, 15.915, 15.914, 15.912, 15.91, 15.909, 15.907, 15.906, 15.905, 15.904, 15.903, 15.901, 15.9, 15.899, 15.897, 15.896, 15.895, 15.894, 15.893, 15.892, 15.891, 15.89, 15.889, 15.882, 15.88, 15.875, 15.874, 15.872, 15.871, 15.867, 15.862, 15.861, 15.86, 15.859, 15.856, 15.855, 15.854, 15.853, 15.852, 15.85, 15.846, 15.845, 15.844, 15.842, 15.84, 15.837, 15.836, 15.835, 15.834, 15.832, 15.83, 15.829, 15.828, 15.827, 15.825, 15.821, 15.82, 15.818, 15.816, 15.814, 15.813, 15.807, 15.804, 15.803, 15.801, 15.799, 15.798, 15.797, 15.791, 15.789, 15.788, 15.786, 15.783, 15.781, 15.78, 15.778, 15.775, 15.774, 15.773, 15.769, 15.768, 15.765, 15.764, 15.763, 15.761, 15.76, 15.759, 15.758, 15.757, 15.756, 15.754, 15.753, 15.75, 15.745, 15.739, 15.738, 15.737, 15.736, 15.735, 15.733, 15.732, 15.73, 15.729, 15.728, 15.727, 15.726, 15.725, 15.724, 15.723, 15.721, 15.72, 15.718, 15.717, 15.713, 15.712, 15.711, 15.71, 15.709, 15.707, 15.705, 15.7, 15.697, 15.695, 15.693, 15.69, 15.689, 15.688, 15.687, 15.682, 15.68, 15.679, 15.675, 15.671, 15.669, 15.668, 15.666, 15.663, 15.662, 15.661, 15.659, 15.658, 15.656, 15.655, 15.654, 15.653, 15.651, 15.648, 15.646, 15.643, 15.641, 15.639, 15.638, 15.637, 15.636, 15.635, 15.631, 15.629, 15.628, 15.626, 15.625, 15.624, 15.623, 15.62, 15.617, 15.614, 15.613, 15.612, 15.611, 15.608, 15.607, 15.606, 15.604, 15.603, 15.602, 15.601, 15.596, 15.593, 15.592, 15.591, 15.59, 15.589, 15.588, 15.583, 15.582, 15.58, 15.579, 15.577, 15.576, 15.575, 15.571, 15.57, 15.567, 15.566, 15.564, 15.563, 15.559, 15.558, 15.557, 15.553, 15.552, 15.551, 15.55, 15.548, 15.545, 15.544, 15.54, 15.539, 15.538, 15.537, 15.536, 15.535, 15.534, 15.533, 15.531, 15.528, 15.526, 15.525, 15.522, 15.521, 15.52, 15.517, 15.516, 15.515, 15.513, 15.512, 15.507, 15.506, 15.504, 15.503, 15.502, 15.499, 15.496, 15.494, 15.492, 15.49, 15.484, 15.48, 15.477, 15.476, 15.475, 15.474, 15.473, 15.471, 15.469, 15.468, 15.467, 15.463, 15.462, 15.461, 15.46, 15.459, 15.457, 15.455, 15.452, 15.451, 15.448, 15.447, 15.446, 15.444, 15.443, 15.441, 15.44, 15.438, 15.437, 15.436, 15.435, 15.434, 15.433, 15.431, 15.429, 15.428, 15.427, 15.426, 15.425, 15.423, 15.421, 15.419, 15.417, 15.414, 15.413, 15.408, 15.407, 15.406, 15.405, 15.404, 15.402, 15.4, 15.399, 15.397, 15.396, 15.395, 15.394, 15.393, 15.392, 15.391, 15.39, 15.389, 15.384, 15.383, 15.382, 15.379, 15.375, 15.374, 15.373, 15.371, 15.369, 15.368, 15.366, 15.365, 15.364, 15.362, 15.361, 15.357, 15.356, 15.355, 15.354, 15.352, 15.351, 15.35, 15.349, 15.348, 15.347, 15.346, 15.345, 15.341, 15.337, 15.334, 15.333, 15.332, 15.331, 15.33, 15.329, 15.327, 15.324, 15.323, 15.32, 15.319, 15.315, 15.312, 15.31, 15.309, 15.306, 15.305, 15.303, 15.301, 15.299, 15.296, 15.295, 15.293, 15.292, 15.29, 15.287, 15.286, 15.285, 15.284, 15.282, 15.281, 15.277, 15.276, 15.274, 15.273, 15.271, 15.269, 15.267, 15.266, 15.265, 15.264, 15.263, 15.261, 15.26, 15.257, 15.256, 15.255, 15.253, 15.252, 15.25, 15.249, 15.248, 15.246, 15.242, 15.24, 15.238, 15.236, 15.233, 15.232, 15.23, 15.227, 15.226, 15.225, 15.224, 15.222, 15.221, 15.22, 15.219, 15.218, 15.217, 15.214, 15.213, 15.212, 15.211, 15.209, 15.208, 15.207, 15.206, 15.204, 15.201, 15.2, 15.197, 15.194, 15.192, 15.191, 15.19, 15.185, 15.184, 15.183, 15.182, 15.181, 15.18, 15.179, 15.177, 15.176, 15.173, 15.172, 15.168, 15.164, 15.163, 15.162, 15.161, 15.16, 15.159, 15.157, 15.156, 15.154, 15.153, 15.151, 15.15, 15.148, 15.145, 15.144, 15.14, 15.139, 15.135, 15.134, 15.133, 15.132, 15.131, 15.128, 15.126, 15.125, 15.124, 15.123, 15.119, 15.117, 15.116, 15.113, 15.112, 15.111, 15.108, 15.107, 15.106, 15.102, 15.101, 15.1, 15.097, 15.089, 15.088, 15.087, 15.084, 15.08, 15.079, 15.077, 15.076, 15.074, 15.073, 15.071, 15.069, 15.067, 15.065, 15.064, 15.061, 15.06, 15.057, 15.054, 15.053, 15.052, 15.051, 15.05, 15.049, 15.048, 15.047, 15.046, 15.045, 15.043, 15.042, 15.036, 15.035, 15.034, 15.03, 15.029, 15.028, 15.027, 15.023, 15.018, 15.017, 15.016, 15.015, 15.014, 15.011, 15.009, 15.008, 15.007, 15.006, 15.005, 15.004, 15.003, 15.002, 15.001, 15.0, 14.998, 14.997, 14.995, 14.991, 14.99, 14.989, 14.988, 14.987, 14.986, 14.984, 14.983, 14.981, 14.979, 14.978, 14.977, 14.975, 14.974, 14.973, 14.971, 14.97, 14.967, 14.966, 14.965, 14.964, 14.963, 14.96, 14.959, 14.958, 14.955, 14.953, 14.945, 14.944, 14.942, 14.941, 14.94, 14.939, 14.938, 14.937, 14.936, 14.935, 14.933, 14.932, 14.931, 14.927, 14.926, 14.925, 14.922, 14.921, 14.919, 14.914, 14.912, 14.911, 14.91, 14.909, 14.908, 14.906, 14.905, 14.904, 14.903, 14.902, 14.896, 14.894, 14.893, 14.892, 14.89, 14.889, 14.888, 14.887, 14.885, 14.883, 14.876, 14.874, 14.872, 14.869, 14.868, 14.867, 14.865, 14.863, 14.862, 14.861, 14.86, 14.857, 14.856, 14.854, 14.852, 14.85, 14.848, 14.847, 14.846, 14.844, 14.84, 14.839, 14.836, 14.833, 14.831, 14.83, 14.829, 14.826, 14.825, 14.824, 14.823, 14.822, 14.818, 14.817, 14.816, 14.813, 14.812, 14.809, 14.808, 14.807, 14.806, 14.805, 14.804, 14.803, 14.802, 14.801, 14.798, 14.795, 14.792, 14.79, 14.788, 14.785, 14.784, 14.783, 14.782, 14.78, 14.778, 14.777, 14.775, 14.774, 14.773, 14.772, 14.771, 14.77, 14.769, 14.768, 14.766, 14.764, 14.763, 14.761, 14.76, 14.759, 14.758, 14.756, 14.755, 14.754, 14.747, 14.746, 14.743, 14.74, 14.739, 14.738, 14.737, 14.736, 14.734, 14.732, 14.731, 14.73, 14.728, 14.725, 14.723, 14.717, 14.716, 14.715, 14.714, 14.713, 14.712, 14.711, 14.71, 14.708, 14.707, 14.704, 14.696, 14.695, 14.694, 14.692, 14.689, 14.687, 14.684, 14.682, 14.681, 14.676, 14.674, 14.673, 14.672, 14.669, 14.668, 14.666, 14.665, 14.663, 14.661, 14.66, 14.659, 14.658, 14.656, 14.655, 14.653, 14.651, 14.648, 14.646, 14.645, 14.644, 14.642, 14.64, 14.639, 14.638, 14.637, 14.636, 14.635, 14.634, 14.633, 14.631, 14.628, 14.627, 14.626, 14.625, 14.624, 14.621, 14.62, 14.619, 14.617, 14.616, 14.612, 14.611, 14.608, 14.606, 14.603, 14.602, 14.601, 14.599, 14.597, 14.595, 14.594, 14.592, 14.591, 14.588, 14.587, 14.586, 14.585, 14.584, 14.582, 14.581, 14.58, 14.579, 14.577, 14.576, 14.574, 14.572, 14.571, 14.57, 14.569, 14.568, 14.565, 14.564, 14.563, 14.562, 14.561, 14.56, 14.557, 14.553, 14.552, 14.55, 14.549, 14.542, 14.541, 14.54, 14.539, 14.538, 14.536, 14.535, 14.534, 14.533, 14.531, 14.529, 14.528, 14.526, 14.525, 14.524, 14.523, 14.522, 14.521, 14.519, 14.518, 14.517, 14.514, 14.513, 14.512, 14.511, 14.51, 14.508, 14.507, 14.506, 14.505, 14.504, 14.501, 14.5, 14.499, 14.498, 14.495, 14.494, 14.493, 14.492, 14.491, 14.489, 14.488, 14.483, 14.482, 14.481, 14.48, 14.479, 14.478, 14.477, 14.476, 14.473, 14.471, 14.47, 14.467, 14.466, 14.465, 14.464, 14.463, 14.461, 14.458, 14.456, 14.455, 14.452, 14.451, 14.45, 14.449, 14.448, 14.447, 14.446, 14.445, 14.444, 14.442, 14.437, 14.436, 14.433, 14.432, 14.431, 14.43, 14.429, 14.428, 14.424, 14.421, 14.42, 14.417, 14.416, 14.415, 14.41, 14.409, 14.408, 14.407, 14.406, 14.405, 14.404, 14.402, 14.401, 14.399, 14.397, 14.395, 14.394, 14.393, 14.392, 14.391, 14.389, 14.385, 14.384, 14.382, 14.381, 14.379, 14.378, 14.377, 14.376, 14.374, 14.373, 14.372, 14.367, 14.366, 14.363, 14.361, 14.359, 14.358, 14.356, 14.354, 14.353, 14.352, 14.35, 14.348, 14.346, 14.345, 14.343, 14.341, 14.339, 14.337, 14.334, 14.333, 14.332, 14.33, 14.327, 14.326, 14.322, 14.32, 14.319, 14.318, 14.316, 14.315, 14.314, 14.313, 14.308, 14.307, 14.306, 14.304, 14.303, 14.301, 14.3, 14.299, 14.298, 14.297, 14.296, 14.294, 14.293, 14.292, 14.289, 14.288, 14.287, 14.284, 14.281, 14.277, 14.276, 14.274, 14.272, 14.268, 14.267, 14.266, 14.265, 14.264, 14.263, 14.262, 14.261, 14.26, 14.259, 14.258, 14.257, 14.256, 14.255, 14.254, 14.253, 14.251, 14.248, 14.244, 14.242, 14.241, 14.24, 14.239, 14.238, 14.235, 14.232, 14.231, 14.23, 14.228, 14.225, 14.221, 14.219, 14.218, 14.216, 14.214, 14.208, 14.207, 14.205, 14.202, 14.201, 14.197, 14.186, 14.185, 14.184, 14.183, 14.182, 14.181, 14.178, 14.177, 14.176, 14.175, 14.174, 14.173, 14.172, 14.171, 14.168, 14.167, 14.165, 14.163, 14.16, 14.159, 14.158, 14.156, 14.155, 14.149, 14.148, 14.147, 14.145, 14.143, 14.141, 14.139, 14.136, 14.13, 14.127, 14.126, 14.123, 14.122, 14.119, 14.118, 14.117, 14.116, 14.112, 14.11, 14.109, 14.108, 14.105, 14.104, 14.101, 14.099, 14.098, 14.097, 14.094, 14.093, 14.092, 14.09, 14.088, 14.084, 14.081, 14.08, 14.078, 14.077, 14.076, 14.075, 14.074, 14.073, 14.072, 14.07, 14.068, 14.067, 14.066, 14.065, 14.064, 14.063, 14.061, 14.059, 14.057, 14.056, 14.055, 14.054, 14.053, 14.052, 14.051, 14.05, 14.048, 14.046, 14.044, 14.043, 14.042, 14.038, 14.036, 14.033, 14.03, 14.029, 14.028, 14.027, 14.026, 14.025, 14.024, 14.022, 14.021, 14.02, 14.019, 14.015, 14.013, 14.011, 14.01, 14.008, 14.001, 14.0, 13.999, 13.995, 13.993, 13.991, 13.989, 13.988, 13.987, 13.986, 13.985, 13.982, 13.98, 13.979, 13.976, 13.975, 13.974, 13.973, 13.967, 13.966, 13.964, 13.96, 13.959, 13.957, 13.956, 13.954, 13.953, 13.952, 13.951, 13.95, 13.949, 13.948, 13.947, 13.945, 13.944, 13.943, 13.942, 13.94, 13.937, 13.936, 13.933, 13.93, 13.929, 13.927, 13.926, 13.924, 13.922, 13.918, 13.917, 13.913, 13.912, 13.909, 13.908, 13.906, 13.904, 13.902, 13.901, 13.9, 13.898, 13.896, 13.891, 13.89, 13.889, 13.887, 13.886, 13.884, 13.883, 13.882, 13.881, 13.879, 13.877, 13.874, 13.871, 13.87, 13.869, 13.868, 13.864, 13.863, 13.861, 13.858, 13.857, 13.855, 13.853, 13.848, 13.846, 13.845, 13.843, 13.841, 13.84, 13.839, 13.836, 13.835, 13.834, 13.833, 13.829, 13.825, 13.824, 13.823, 13.822, 13.821, 13.819, 13.817, 13.816, 13.815, 13.814, 13.813, 13.812, 13.811, 13.81, 13.808, 13.807, 13.805, 13.804, 13.803, 13.802, 13.8, 13.798, 13.797, 13.796, 13.795, 13.794, 13.789, 13.786, 13.785, 13.784, 13.783, 13.782, 13.78, 13.779, 13.778, 13.777, 13.775, 13.771, 13.77, 13.769, 13.767, 13.766, 13.765, 13.764, 13.763, 13.762, 13.761, 13.76, 13.759, 13.758, 13.757, 13.756, 13.754, 13.753, 13.752, 13.751, 13.75, 13.748, 13.747, 13.744, 13.742, 13.741, 13.738, 13.737, 13.736, 13.735, 13.734, 13.733, 13.731, 13.729, 13.727, 13.724, 13.723, 13.722, 13.721, 13.72, 13.719, 13.718, 13.716, 13.714, 13.712, 13.711, 13.71, 13.709, 13.707, 13.706, 13.705, 13.704, 13.701, 13.7, 13.699, 13.698, 13.697, 13.692, 13.691, 13.689, 13.688, 13.686, 13.685, 13.684, 13.683, 13.682, 13.681, 13.68, 13.677, 13.675, 13.673, 13.672, 13.67, 13.667, 13.666, 13.664, 13.663, 13.662, 13.661, 13.659, 13.658, 13.657, 13.654, 13.652, 13.651, 13.65, 13.649, 13.648, 13.646, 13.645, 13.644, 13.643, 13.642, 13.641, 13.639, 13.638, 13.637, 13.636, 13.635, 13.634, 13.633, 13.632, 13.631, 13.63, 13.626, 13.625, 13.622, 13.621, 13.62, 13.619, 13.618, 13.617, 13.616, 13.615, 13.614, 13.612, 13.611, 13.61, 13.609, 13.608, 13.607, 13.606, 13.604, 13.603, 13.602, 13.601, 13.6, 13.599, 13.598, 13.597, 13.596, 13.594, 13.593, 13.591, 13.59, 13.586, 13.584, 13.583, 13.582, 13.581, 13.58, 13.579, 13.578, 13.577, 13.575, 13.574, 13.573, 13.572, 13.571, 13.57, 13.563, 13.562, 13.56, 13.559, 13.558, 13.556, 13.555, 13.554, 13.553, 13.552, 13.551, 13.549, 13.548, 13.546, 13.543, 13.542, 13.54, 13.539, 13.538, 13.537, 13.536, 13.535, 13.534, 13.533, 13.532, 13.531, 13.53, 13.529, 13.527, 13.526, 13.525, 13.522, 13.52, 13.519, 13.518, 13.517, 13.516, 13.512, 13.508, 13.507, 13.506, 13.504, 13.503, 13.502, 13.501, 13.499, 13.496, 13.495, 13.494, 13.492, 13.491, 13.49, 13.487, 13.486, 13.485, 13.484, 13.482, 13.481, 13.479, 13.477, 13.474, 13.473, 13.472, 13.471, 13.47, 13.469, 13.468, 13.467, 13.465, 13.464, 13.463, 13.462, 13.46, 13.458, 13.456, 13.454, 13.453, 13.45, 13.449, 13.448, 13.447, 13.446, 13.445, 13.444, 13.44, 13.438, 13.437, 13.436, 13.435, 13.434, 13.432, 13.431, 13.43, 13.429, 13.428, 13.425, 13.424, 13.423, 13.422, 13.42, 13.419, 13.418, 13.414, 13.413, 13.412, 13.411, 13.409, 13.408, 13.407, 13.404, 13.403, 13.401, 13.399, 13.397, 13.396, 13.395, 13.393, 13.392, 13.39, 13.389, 13.388, 13.387, 13.386, 13.384, 13.383, 13.38, 13.376, 13.375, 13.374, 13.373, 13.371, 13.368, 13.366, 13.364, 13.363, 13.362, 13.361, 13.36, 13.359, 13.358, 13.357, 13.353, 13.352, 13.35, 13.349, 13.347, 13.346, 13.343, 13.342, 13.341, 13.34, 13.338, 13.337, 13.336, 13.335, 13.334, 13.333, 13.331, 13.329, 13.327, 13.326, 13.325, 13.324, 13.322, 13.321, 13.32, 13.318, 13.317, 13.316, 13.315, 13.313, 13.312, 13.31, 13.308, 13.307, 13.306, 13.305, 13.304, 13.3, 13.298, 13.297, 13.291, 13.29, 13.288, 13.287, 13.285, 13.284, 13.283, 13.281, 13.278, 13.277, 13.275, 13.274, 13.27, 13.269, 13.268, 13.267, 13.266, 13.264, 13.263, 13.262, 13.261, 13.259, 13.258, 13.257, 13.255, 13.254, 13.253, 13.251, 13.248, 13.247, 13.246, 13.245, 13.244, 13.243, 13.242, 13.24, 13.239, 13.238, 13.237, 13.236, 13.235, 13.233, 13.232, 13.231, 13.229, 13.228, 13.227, 13.226, 13.224, 13.223, 13.22, 13.219, 13.217, 13.216, 13.215, 13.214, 13.213, 13.212, 13.211, 13.21, 13.209, 13.208, 13.207, 13.206, 13.203, 13.202, 13.201, 13.199, 13.198, 13.197, 13.196, 13.195, 13.192, 13.19, 13.189, 13.188, 13.186, 13.185, 13.183, 13.182, 13.181, 13.178, 13.177, 13.176, 13.175, 13.174, 13.17, 13.169, 13.168, 13.166, 13.164, 13.163, 13.161, 13.16, 13.159, 13.157, 13.156, 13.154, 13.153, 13.152, 13.151, 13.15, 13.149, 13.148, 13.147, 13.146, 13.145, 13.143, 13.141, 13.139, 13.138, 13.137, 13.136, 13.135, 13.134, 13.133, 13.131, 13.13, 13.128, 13.126, 13.125, 13.124, 13.122, 13.12, 13.119, 13.118, 13.117, 13.112, 13.111, 13.11, 13.109, 13.108, 13.106, 13.104, 13.103, 13.102, 13.101, 13.1, 13.099, 13.098, 13.096, 13.095, 13.094, 13.091, 13.09, 13.089, 13.087, 13.086, 13.084, 13.083, 13.082, 13.081, 13.079, 13.078, 13.077, 13.076, 13.075, 13.074, 13.073, 13.072, 13.071, 13.07, 13.069, 13.068, 13.067, 13.065, 13.063, 13.059, 13.057, 13.056, 13.055, 13.054, 13.052, 13.051, 13.05, 13.049]\n"
     ]
    }
   ],
   "source": [
    "unique_popularity = df['Popularity'].unique()\n",
    "unique_popularity_descending = sorted(unique_popularity, reverse=True)\n",
    "\n",
    "print(unique_popularity_descending)"
   ]
  },
  {
   "cell_type": "markdown",
   "metadata": {},
   "source": [
    "This is our target column and it has 0 null values"
   ]
  },
  {
   "cell_type": "code",
   "execution_count": 21,
   "metadata": {},
   "outputs": [
    {
     "data": {
      "text/plain": [
       "0       2023-09-15\n",
       "1       2023-08-30\n",
       "2       2023-10-17\n",
       "3       2023-07-08\n",
       "4       2023-09-29\n",
       "           ...    \n",
       "9995    2001-03-01\n",
       "9996    2004-10-01\n",
       "9997    2018-10-24\n",
       "9998    2018-11-21\n",
       "9999    2011-02-11\n",
       "Name: ReleaseDate, Length: 9949, dtype: object"
      ]
     },
     "execution_count": 21,
     "metadata": {},
     "output_type": "execute_result"
    }
   ],
   "source": [
    "df['ReleaseDate']"
   ]
  },
  {
   "cell_type": "code",
   "execution_count": 22,
   "metadata": {},
   "outputs": [
    {
     "name": "stdout",
     "output_type": "stream",
     "text": [
      "0      2023-09-15\n",
      "1      2023-08-30\n",
      "2      2023-10-17\n",
      "3      2023-07-08\n",
      "4      2023-09-29\n",
      "          ...    \n",
      "9995   2001-03-01\n",
      "9996   2004-10-01\n",
      "9997   2018-10-24\n",
      "9998   2018-11-21\n",
      "9999   2011-02-11\n",
      "Name: ReleaseDate, Length: 9949, dtype: datetime64[ns]\n"
     ]
    }
   ],
   "source": [
    "df['ReleaseDate'] = pd.to_datetime(df['ReleaseDate'])\n",
    "\n",
    "print(df['ReleaseDate'])"
   ]
  },
  {
   "cell_type": "code",
   "execution_count": 23,
   "metadata": {},
   "outputs": [
    {
     "name": "stdout",
     "output_type": "stream",
     "text": [
      "[2023. 2019. 2022. 2017. 2014. 2004. 2018. 2021. 1993. 1973. 2009. 2005.\n",
      " 2001. 1980. 2000. 1995. 2007. 2010. 2016. 2013. 2006. 1999. 2002. 2008.\n",
      " 2012. 1997. 1994. 2011. 1972. 2020. 2003. 2015. 2024. 1977. 1971. 1988.\n",
      " 1998. 1983. 1950. 1987. 1981. 1991. 1990. 1996. 1989. 1941. 1937. 1978.\n",
      " 1984. 1985. 1992. 1979. 1974. 1986. 1976. 1982. 1951. 1966. 1960. 1942.\n",
      " 1967. 1959. 1939. 1975. 1940. 1968. 1956. 1933. 1961. 1970. 1963. 1955.\n",
      " 2025. 1957. 1953. 1946. 1954.   nan 1965. 1962. 1964. 1945. 1969. 1958.\n",
      " 1943. 1949. 1931. 1922. 1932. 2026. 1935. 1952. 1948. 1910. 1927. 1925.\n",
      " 1944. 1930. 1938. 2027. 1929. 1947. 1936. 1920. 1902. 1934. 1928. 1921.]\n"
     ]
    }
   ],
   "source": [
    "df['ReleaseYear'] = df['ReleaseDate'].dt.year\n",
    "\n",
    "# Display unique years\n",
    "unique_years = df['ReleaseYear'].unique()\n",
    "print(unique_years)\n"
   ]
  },
  {
   "cell_type": "code",
   "execution_count": 24,
   "metadata": {},
   "outputs": [
    {
     "name": "stdout",
     "output_type": "stream",
     "text": [
      "      ReleaseYear  Decade\n",
      "0          2023.0  2020.0\n",
      "11         2019.0  2010.0\n",
      "34         2022.0  2020.0\n",
      "49         2017.0  2010.0\n",
      "78         2014.0  2010.0\n",
      "...           ...     ...\n",
      "7065       1920.0  1920.0\n",
      "7433       1902.0  1900.0\n",
      "8851       1934.0  1930.0\n",
      "9303       1928.0  1920.0\n",
      "9962       1921.0  1920.0\n",
      "\n",
      "[108 rows x 2 columns]\n"
     ]
    }
   ],
   "source": [
    "def map_to_decade(year):\n",
    "    if np.isnan(year):  # Handling NaN values\n",
    "        return np.nan\n",
    "    return int(10 * (year // 10))\n",
    "\n",
    "# Apply the function to create a new column 'Decade'\n",
    "df['Decade'] = df['ReleaseYear'].apply(map_to_decade)\n",
    "\n",
    "# Display the DataFrame with the 'Decade' column\n",
    "print(df[['ReleaseYear', 'Decade']].drop_duplicates())"
   ]
  },
  {
   "cell_type": "code",
   "execution_count": 25,
   "metadata": {},
   "outputs": [],
   "source": [
    "df.drop(['ReleaseDate', 'ReleaseYear'], axis=1, inplace=True)"
   ]
  },
  {
   "cell_type": "code",
   "execution_count": 26,
   "metadata": {},
   "outputs": [
    {
     "data": {
      "text/plain": [
       "0       2020.0\n",
       "1       2020.0\n",
       "2       2020.0\n",
       "3       2020.0\n",
       "4       2020.0\n",
       "         ...  \n",
       "9995    2000.0\n",
       "9996    2000.0\n",
       "9997    2010.0\n",
       "9998    2010.0\n",
       "9999    2010.0\n",
       "Name: Decade, Length: 9949, dtype: float64"
      ]
     },
     "execution_count": 26,
     "metadata": {},
     "output_type": "execute_result"
    }
   ],
   "source": [
    "df['Decade']"
   ]
  },
  {
   "cell_type": "code",
   "execution_count": 27,
   "metadata": {},
   "outputs": [],
   "source": [
    "df['Decade'].fillna(method='ffill', inplace=True)"
   ]
  },
  {
   "cell_type": "markdown",
   "metadata": {},
   "source": [
    "We will fill the null values by forward filling methode"
   ]
  },
  {
   "cell_type": "code",
   "execution_count": 28,
   "metadata": {},
   "outputs": [
    {
     "name": "stdout",
     "output_type": "stream",
     "text": [
      "[2020. 2010. 2000. 1990. 1970. 1980. 1950. 1940. 1930. 1960. 1920. 1910.\n",
      " 1900.]\n"
     ]
    }
   ],
   "source": [
    "unique_years = df['Decade'].unique()\n",
    "print(unique_years)"
   ]
  },
  {
   "cell_type": "code",
   "execution_count": 29,
   "metadata": {},
   "outputs": [
    {
     "data": {
      "text/plain": [
       "0       100000000\n",
       "1        70000000\n",
       "2               0\n",
       "3       291000000\n",
       "4               0\n",
       "          ...    \n",
       "9995     60000000\n",
       "9996     60000000\n",
       "9997            0\n",
       "9998      2000000\n",
       "9999     13000000\n",
       "Name: Budget, Length: 9949, dtype: int64"
      ]
     },
     "execution_count": 29,
     "metadata": {},
     "output_type": "execute_result"
    }
   ],
   "source": [
    "df['Budget']"
   ]
  },
  {
   "cell_type": "code",
   "execution_count": 30,
   "metadata": {},
   "outputs": [
    {
     "name": "stdout",
     "output_type": "stream",
     "text": [
      "Number of values with 0 in the 'Budget' column: 4422\n"
     ]
    }
   ],
   "source": [
    "zero_budget_count = (df['Budget'] == 0).sum()\n",
    "\n",
    "print(\"Number of values with 0 in the 'Budget' column:\", zero_budget_count)"
   ]
  },
  {
   "cell_type": "markdown",
   "metadata": {},
   "source": [
    "We have 4422 columns which has 0 values its similar to have null values because budget cannot be 0 "
   ]
  },
  {
   "cell_type": "markdown",
   "metadata": {},
   "source": [
    "We want to replace the 0 values in the 'Budget' column with the average budget value for their associated decade"
   ]
  },
  {
   "cell_type": "code",
   "execution_count": 31,
   "metadata": {},
   "outputs": [
    {
     "data": {
      "text/plain": [
       "0       1.000000e+08\n",
       "1       7.000000e+07\n",
       "2       1.069661e+07\n",
       "3       2.910000e+08\n",
       "4       1.069661e+07\n",
       "            ...     \n",
       "9995    6.000000e+07\n",
       "9996    6.000000e+07\n",
       "9997    2.518582e+07\n",
       "9998    2.000000e+06\n",
       "9999    1.300000e+07\n",
       "Name: Budget, Length: 9949, dtype: float64"
      ]
     },
     "execution_count": 31,
     "metadata": {},
     "output_type": "execute_result"
    }
   ],
   "source": [
    "df['Budget'] = df.groupby('Decade')['Budget'].transform(lambda x: x.replace(0, x.mean()))\n",
    "\n",
    "df['Budget']"
   ]
  },
  {
   "cell_type": "markdown",
   "metadata": {},
   "source": [
    "Processing of ProductionCompanies and ProductionCountries"
   ]
  },
  {
   "cell_type": "code",
   "execution_count": 32,
   "metadata": {},
   "outputs": [
    {
     "data": {
      "text/plain": [
       "0       [{'id': 1020, 'logo_path': '/kuUIHNwMec4dwOLgh...\n",
       "1       [{'id': 1423, 'logo_path': '/1rbAwGQzrNvXDICD6...\n",
       "2       [{'id': 2785, 'logo_path': '/l5zW8jjmQOCx2dFmv...\n",
       "3       [{'id': 4, 'logo_path': '/gz66EfNoYPqHTYI4q9UE...\n",
       "4       [{'id': 204005, 'logo_path': None, 'name': 'Ro...\n",
       "                              ...                        \n",
       "9995    [{'id': 376, 'logo_path': None, 'name': 'Indus...\n",
       "9996    [{'id': 919, 'logo_path': None, 'name': 'Beaco...\n",
       "9997    [{'id': 34780, 'logo_path': '/ahgzFRXKF2fkOV0W...\n",
       "9998    [{'id': 35849, 'logo_path': '/bHYIJoy2ri7crfHu...\n",
       "9999    [{'id': 7377, 'logo_path': '/zdVYfWyiQmLgyq8V7...\n",
       "Name: ProductionCompanies, Length: 9949, dtype: object"
      ]
     },
     "execution_count": 32,
     "metadata": {},
     "output_type": "execute_result"
    }
   ],
   "source": [
    "df['ProductionCompanies']"
   ]
  },
  {
   "cell_type": "code",
   "execution_count": 33,
   "metadata": {},
   "outputs": [],
   "source": [
    "import ast\n",
    "\n",
    "def get_feature_mapper(df, column):\n",
    "    result = {}\n",
    "    for i in range(len(df)):\n",
    "        try:\n",
    "            items = ast.literal_eval(df.loc[i, column])\n",
    "            for item in items:\n",
    "                name = item['name']\n",
    "                if name in result:\n",
    "                    result[name].append(i)\n",
    "                else:\n",
    "                    result[name] = [i]\n",
    "        except Exception as e:\n",
    "            print('-')\n",
    "    return result\n"
   ]
  },
  {
   "cell_type": "markdown",
   "metadata": {},
   "source": [
    "The cardinality for the column ProductionCompanies is high, with 9980 different production companies. Therefore, we won't consider this column as it might not be discriminative enough."
   ]
  },
  {
   "cell_type": "code",
   "execution_count": 34,
   "metadata": {},
   "outputs": [],
   "source": [
    "# eliminating the column ProductionCompanies\n",
    "df.drop('ProductionCompanies', axis=1, inplace=True)"
   ]
  },
  {
   "cell_type": "code",
   "execution_count": 35,
   "metadata": {},
   "outputs": [
    {
     "name": "stdout",
     "output_type": "stream",
     "text": [
      "-\n",
      "-\n",
      "-\n",
      "-\n",
      "-\n",
      "-\n",
      "-\n",
      "-\n",
      "-\n",
      "-\n",
      "-\n",
      "-\n",
      "-\n",
      "-\n",
      "-\n",
      "-\n",
      "-\n",
      "-\n",
      "-\n",
      "-\n",
      "-\n",
      "-\n",
      "-\n",
      "-\n",
      "-\n",
      "-\n",
      "-\n",
      "-\n",
      "-\n",
      "-\n",
      "-\n",
      "-\n",
      "-\n",
      "-\n",
      "-\n",
      "-\n",
      "-\n",
      "-\n",
      "-\n",
      "-\n",
      "-\n",
      "-\n",
      "-\n",
      "-\n",
      "-\n",
      "-\n",
      "-\n",
      "-\n",
      "-\n",
      "-\n",
      "-\n"
     ]
    },
    {
     "data": {
      "text/plain": [
       "107"
      ]
     },
     "execution_count": 35,
     "metadata": {},
     "output_type": "execute_result"
    }
   ],
   "source": [
    "prod_contries_map = get_feature_mapper(df, 'ProductionCountries')\n",
    "len(prod_contries_map.keys())"
   ]
  },
  {
   "cell_type": "code",
   "execution_count": 36,
   "metadata": {},
   "outputs": [
    {
     "data": {
      "text/plain": [
       "dict_keys(['United States of America', 'Italy', 'Spain', 'South Korea', 'China', 'India', 'Canada', 'France', 'Australia', 'United Kingdom', 'Germany', 'Brazil', 'Mexico', 'Japan', 'Russia', 'Sweden', 'United Arab Emirates', 'Nigeria', 'Poland', 'Serbia', 'Ukraine', 'Thailand', 'Finland', 'Norway', 'Switzerland', 'Bangladesh', 'Austria', 'Kazakhstan', 'Belgium', 'Hong Kong', 'Cyprus', 'Greece', 'Denmark', 'Ireland', 'New Zealand', 'Chile', 'Philippines', 'Singapore', 'Taiwan', 'Puerto Rico', 'Iceland', 'Czech Republic', 'Colombia', 'Argentina', 'Peru', 'Bulgaria', 'Netherlands', 'Hungary', 'South Africa', 'Latvia', 'Dominican Republic', 'Uruguay', 'Venezuela', 'Malta', 'Turkey', 'Saudi Arabia', 'Portugal', 'Morocco', 'Slovenia', 'Israel', 'Luxembourg', 'Indonesia', 'Panama', 'Bolivia', 'Romania', 'Guadaloupe', 'Iran', 'Costa Rica', 'Honduras', 'Albania', 'Jordan', 'Pakistan', 'Lithuania', 'Vietnam', 'Malawi', 'Soviet Union', 'Estonia', 'Botswana', 'Paraguay', 'Yugoslavia', 'Georgia', 'Slovakia', 'Malaysia', 'Mauritius', 'Guatemala', 'Macao', 'Jamaica', 'Lebanon', 'Qatar', 'Zimbabwe', 'Egypt', 'Senegal', 'Czechoslovakia', 'East Germany', 'Kenya', 'Solomon Islands', 'Cambodia', 'Iraq', 'Tunisia', 'Ecuador', 'Croatia', 'Liechtenstein', 'Namibia', 'Ghana', 'Bahamas', 'Aruba', 'Moldova'])"
      ]
     },
     "execution_count": 36,
     "metadata": {},
     "output_type": "execute_result"
    }
   ],
   "source": [
    "prod_contries_map.keys()"
   ]
  },
  {
   "cell_type": "markdown",
   "metadata": {},
   "source": [
    "The column ProductionCountries had high cardinality (107). On the other hand, we considered this column to be meaningful to the model. Therefore, we decided to reduce the number of columns by creating groups of production countries based on continents."
   ]
  },
  {
   "cell_type": "code",
   "execution_count": 37,
   "metadata": {},
   "outputs": [],
   "source": [
    "country_region = {\n",
    "    'United States of America': 'North America',\n",
    "    'Italy': 'Europe',\n",
    "    'Spain': 'Europe',\n",
    "    'South Korea': 'Asia',\n",
    "    'China': 'Asia',\n",
    "    'India': 'Asia',\n",
    "    'Canada': 'North America',\n",
    "    'France': 'Europe',\n",
    "    'Australia': 'Oceania',\n",
    "    'United Kingdom': 'Europe',\n",
    "    'Germany': 'Europe',\n",
    "    'Brazil': 'South America',\n",
    "    'Mexico': 'North America',\n",
    "    'Japan': 'Asia',\n",
    "    'Russia': 'Europe',\n",
    "    'Sweden': 'Europe',\n",
    "    'United Arab Emirates': 'Asia',\n",
    "    'Nigeria': 'Africa',\n",
    "    'Poland': 'Europe',\n",
    "    'Serbia': 'Europe',\n",
    "    'Ukraine': 'Europe',\n",
    "    'Thailand': 'Asia',\n",
    "    'Finland': 'Europe',\n",
    "    'Norway': 'Europe',\n",
    "    'Switzerland': 'Europe',\n",
    "    'Bangladesh': 'Asia',\n",
    "    'Austria': 'Europe',\n",
    "    'Kazakhstan': 'Asia',\n",
    "    'Belgium': 'Europe',\n",
    "    'Hong Kong': 'Asia',\n",
    "    'Cyprus': 'Europe',\n",
    "    'Greece': 'Europe',\n",
    "    'Denmark': 'Europe',\n",
    "    'Ireland': 'Europe',\n",
    "    'New Zealand': 'Oceania',\n",
    "    'Chile': 'South America',\n",
    "    'Philippines': 'Asia',\n",
    "    'Singapore': 'Asia',\n",
    "    'Taiwan': 'Asia',\n",
    "    'Puerto Rico': 'North America',\n",
    "    'Iceland': 'Europe',\n",
    "    'Argentina': 'South America',\n",
    "    'Czech Republic': 'Europe',\n",
    "    'Colombia': 'South America',\n",
    "    'Peru': 'South America',\n",
    "    'Bulgaria': 'Europe',\n",
    "    'Netherlands': 'Europe',\n",
    "    'Hungary': 'Europe',\n",
    "    'South Africa': 'Africa',\n",
    "    'Latvia': 'Europe',\n",
    "    'Dominican Republic': 'North America',\n",
    "    'Uruguay': 'South America',\n",
    "    'Venezuela': 'South America',\n",
    "    'Malta': 'Europe',\n",
    "    'Turkey': 'Asia',\n",
    "    'Saudi Arabia': 'Asia',\n",
    "    'Portugal': 'Europe',\n",
    "    'Morocco': 'Africa',\n",
    "    'Slovenia': 'Europe',\n",
    "    'Israel': 'Asia',\n",
    "    'Luxembourg': 'Europe',\n",
    "    'Indonesia': 'Asia',\n",
    "    'Panama': 'North America',\n",
    "    'Bolivia': 'South America',\n",
    "    'Romania': 'Europe',\n",
    "    'Guadaloupe': 'North America',\n",
    "    'Iran': 'Asia',\n",
    "    'Costa Rica': 'North America',\n",
    "    'Honduras': 'North America',\n",
    "    'Albania': 'Europe',\n",
    "    'Jordan': 'Asia',\n",
    "    'Pakistan': 'Asia',\n",
    "    'Lithuania': 'Europe',\n",
    "    'Vietnam': 'Asia',\n",
    "    'Malawi': 'Africa',\n",
    "    'Soviet Union': 'Europe',\n",
    "    'Estonia': 'Europe',\n",
    "    'Botswana': 'Africa',\n",
    "    'Paraguay': 'South America',\n",
    "    'Yugoslavia': 'Europe',\n",
    "    'Georgia': 'Asia',\n",
    "    'Slovakia': 'Europe',\n",
    "    'Malaysia': 'Asia',\n",
    "    'Mauritius': 'Africa',\n",
    "    'Guatemala': 'North America',\n",
    "    'Macao': 'Asia',\n",
    "    'Jamaica': 'North America',\n",
    "    'Lebanon': 'Asia',\n",
    "    'Qatar': 'Asia',\n",
    "    'Zimbabwe': 'Africa',\n",
    "    'Egypt': 'Africa',\n",
    "    'Senegal': 'Africa',\n",
    "    'Czechoslovakia': 'Europe',\n",
    "    'East Germany': 'Europe',\n",
    "    'Kenya': 'Africa',\n",
    "    'Solomon Islands': 'Oceania',\n",
    "    'Cambodia': 'Asia',\n",
    "    'Iraq': 'Asia',\n",
    "    'Tunisia': 'Africa',\n",
    "    'Ecuador': 'South America',\n",
    "    'Croatia': 'Europe',\n",
    "    'Liechtenstein': 'Europe',\n",
    "    'Namibia': 'Africa',\n",
    "    'Ghana': 'Africa',\n",
    "    'Bahamas': 'North America',\n",
    "    'Aruba': 'North America',\n",
    "    'Moldova': 'Europe'\n",
    "}"
   ]
  },
  {
   "cell_type": "code",
   "execution_count": 38,
   "metadata": {},
   "outputs": [
    {
     "name": "stdout",
     "output_type": "stream",
     "text": [
      "                                    ProductionCountries  \\\n",
      "0     [{'iso_3166_1': 'US', 'name': 'United States o...   \n",
      "1     [{'iso_3166_1': 'IT', 'name': 'Italy'}, {'iso_...   \n",
      "2     [{'iso_3166_1': 'US', 'name': 'United States o...   \n",
      "3     [{'iso_3166_1': 'US', 'name': 'United States o...   \n",
      "4               [{'iso_3166_1': 'ES', 'name': 'Spain'}]   \n",
      "...                                                 ...   \n",
      "9995  [{'iso_3166_1': 'DE', 'name': 'Germany'}, {'is...   \n",
      "9996  [{'iso_3166_1': 'US', 'name': 'United States o...   \n",
      "9997  [{'iso_3166_1': 'BE', 'name': 'Belgium'}, {'is...   \n",
      "9998  [{'iso_3166_1': 'IS', 'name': 'Iceland'}, {'is...   \n",
      "9999  [{'iso_3166_1': 'US', 'name': 'United States o...   \n",
      "\n",
      "                       Country         Region  \n",
      "0     United States of America  North America  \n",
      "1                        Italy         Europe  \n",
      "2     United States of America  North America  \n",
      "3     United States of America  North America  \n",
      "4                        Spain         Europe  \n",
      "...                        ...            ...  \n",
      "9995                   Germany         Europe  \n",
      "9996  United States of America  North America  \n",
      "9997                   Belgium         Europe  \n",
      "9998                   Iceland         Europe  \n",
      "9999  United States of America  North America  \n",
      "\n",
      "[9949 rows x 3 columns]\n"
     ]
    }
   ],
   "source": [
    "df['Country'] = df['ProductionCountries'].apply(lambda x: ast.literal_eval(x)[0]['name'] if x and ast.literal_eval(x) else None)\n",
    "df['Region'] = df['Country'].map(country_region)\n",
    "print(df[['ProductionCountries', 'Country', 'Region']])"
   ]
  },
  {
   "cell_type": "markdown",
   "metadata": {},
   "source": [
    "Using this strategy, we were able to reduce the cardinality for ProductionCountries from 107 to 6"
   ]
  },
  {
   "cell_type": "markdown",
   "metadata": {},
   "source": [
    "Still we have nan values in country column so we want to replace NaN values in the 'Region' column with the mode of 'Region' for rows with the same 'OriginalLanguage'"
   ]
  },
  {
   "cell_type": "code",
   "execution_count": 39,
   "metadata": {},
   "outputs": [
    {
     "name": "stdout",
     "output_type": "stream",
     "text": [
      "                       Country         Region\n",
      "0     United States of America  North America\n",
      "1                        Italy         Europe\n",
      "2     United States of America  North America\n",
      "3     United States of America  North America\n",
      "4                        Spain         Europe\n",
      "...                        ...            ...\n",
      "9995                   Germany         Europe\n",
      "9996  United States of America  North America\n",
      "9997                   Belgium         Europe\n",
      "9998                   Iceland         Europe\n",
      "9999  United States of America  North America\n",
      "\n",
      "[9949 rows x 2 columns]\n"
     ]
    }
   ],
   "source": [
    "df['Region'].fillna(df['Region'].mode().iloc[0], inplace=True)\n",
    "\n",
    "# Display the updated DataFrame\n",
    "print(df[['Country', 'Region']])"
   ]
  },
  {
   "cell_type": "code",
   "execution_count": 40,
   "metadata": {},
   "outputs": [],
   "source": [
    "df = df.drop(['ProductionCountries', 'Country'], axis=1)"
   ]
  },
  {
   "cell_type": "code",
   "execution_count": 41,
   "metadata": {},
   "outputs": [
    {
     "data": {
      "text/plain": [
       "0                          They'll die when they're dead.\n",
       "1                               Justice knows no borders.\n",
       "2       Neon lights... Suits with shoulder pads... Jum...\n",
       "3                             We all share the same fate.\n",
       "4       Attempting to survive in the middle of nowhere...\n",
       "                              ...                        \n",
       "9995                               America Likes to Watch\n",
       "9996    Their greatest challenge lies in rescuing one ...\n",
       "9997                                                  NaN\n",
       "9998                          Survival is the only option\n",
       "9999       Find out what's possible if you never give up.\n",
       "Name: TagLine, Length: 9949, dtype: object"
      ]
     },
     "execution_count": 41,
     "metadata": {},
     "output_type": "execute_result"
    }
   ],
   "source": [
    "df['TagLine']"
   ]
  },
  {
   "cell_type": "markdown",
   "metadata": {},
   "source": [
    "In Tagline column we have almost 25% null values and its all about strings"
   ]
  },
  {
   "cell_type": "code",
   "execution_count": 42,
   "metadata": {},
   "outputs": [
    {
     "data": {
      "text/plain": [
       "0       Armed with every weapon they can get their han...\n",
       "1       Robert McCall finds himself at home in Souther...\n",
       "2       In 1980s Hollywood, action star Johnny Cage is...\n",
       "3       Ethan Hunt and his IMF team embark on their mo...\n",
       "4       A young pregnant woman named Mia escapes from ...\n",
       "                              ...                        \n",
       "9995    When Eastern European criminals Oleg and Emil ...\n",
       "9996    Under the watchful eye of his mentor, Captain ...\n",
       "9997    40-year-old Bertrand has been suffering from d...\n",
       "9998    A man stranded in the Arctic is finally about ...\n",
       "9999    Tells the story of Justin Bieber, the kid from...\n",
       "Name: Overview, Length: 9949, dtype: object"
      ]
     },
     "execution_count": 42,
     "metadata": {},
     "output_type": "execute_result"
    }
   ],
   "source": [
    "df['Overview']"
   ]
  },
  {
   "cell_type": "code",
   "execution_count": 43,
   "metadata": {},
   "outputs": [
    {
     "name": "stdout",
     "output_type": "stream",
     "text": [
      "                                               Overview  \\\n",
      "0     Armed with every weapon they can get their han...   \n",
      "1     Robert McCall finds himself at home in Souther...   \n",
      "2     In 1980s Hollywood, action star Johnny Cage is...   \n",
      "3     Ethan Hunt and his IMF team embark on their mo...   \n",
      "4     A young pregnant woman named Mia escapes from ...   \n",
      "...                                                 ...   \n",
      "9995  When Eastern European criminals Oleg and Emil ...   \n",
      "9996  Under the watchful eye of his mentor, Captain ...   \n",
      "9997  40-year-old Bertrand has been suffering from d...   \n",
      "9998  A man stranded in the Arctic is finally about ...   \n",
      "9999  Tells the story of Justin Bieber, the kid from...   \n",
      "\n",
      "                                                TagLine  \n",
      "0                        They'll die when they're dead.  \n",
      "1                             Justice knows no borders.  \n",
      "2     Neon lights... Suits with shoulder pads... Jum...  \n",
      "3                           We all share the same fate.  \n",
      "4     Attempting to survive in the middle of nowhere...  \n",
      "...                                                 ...  \n",
      "9995                             America Likes to Watch  \n",
      "9996  Their greatest challenge lies in rescuing one ...  \n",
      "9997   year old bertrand has been suffering from dep...  \n",
      "9998                        Survival is the only option  \n",
      "9999     Find out what's possible if you never give up.  \n",
      "\n",
      "[9949 rows x 2 columns]\n"
     ]
    }
   ],
   "source": [
    "def summarize_overview(overview_text):\n",
    "    # Check if the overview_text is a valid string\n",
    "    if isinstance(overview_text, str):\n",
    "        # Preprocessing the data\n",
    "        clean_text = re.sub(r'\\W', ' ', overview_text.lower())\n",
    "        clean_text = re.sub(r'\\d', ' ', clean_text)\n",
    "        clean_text = re.sub(r'\\s+', ' ', clean_text)\n",
    "\n",
    "        # Tokenize sentences\n",
    "        sentences = nltk.sent_tokenize(clean_text)\n",
    "\n",
    "        # Stopword list\n",
    "        stop_words = nltk.corpus.stopwords.words('english')\n",
    "\n",
    "        # Word counts\n",
    "        word2count = {}\n",
    "        for word in nltk.word_tokenize(clean_text):\n",
    "            if word not in stop_words:\n",
    "                if word not in word2count.keys():\n",
    "                    word2count[word] = 1\n",
    "                else:\n",
    "                    word2count[word] += 1\n",
    "\n",
    "        # Converting counts to weights\n",
    "        max_count = max(word2count.values())\n",
    "        for key in word2count.keys():\n",
    "            word2count[key] = word2count[key] / max_count\n",
    "\n",
    "        # Product sentence scores\n",
    "        sent2score = {}\n",
    "        for sentence in sentences:\n",
    "            for word in nltk.word_tokenize(sentence.lower()):\n",
    "                if word in word2count.keys():\n",
    "                    if len(sentence.split(' ')) < 25:\n",
    "                        if sentence not in sent2score.keys():\n",
    "                            sent2score[sentence] = word2count[word]\n",
    "                        else:\n",
    "                            sent2score[sentence] += word2count[word]\n",
    "\n",
    "        # Find the top sentence to use as a summary\n",
    "        if sent2score:\n",
    "            summary_sentence = heapq.nlargest(1, sent2score, key=sent2score.get)[0]\n",
    "            return summary_sentence\n",
    "        else:\n",
    "            return clean_text  # Use the entire cleaned text as the summary\n",
    "\n",
    "    else:\n",
    "        return overview_text  # If not a string, return the original value\n",
    "\n",
    "# Apply the summarization function to rows with null 'TagLine'\n",
    "null_tagline_rows = df[df['TagLine'].isnull()]\n",
    "\n",
    "# Apply the summarize_overview function to 'Overview'\n",
    "summaries = df.loc[null_tagline_rows.index, 'Overview'].apply(summarize_overview)\n",
    "\n",
    "# Replace null values in 'TagLine' with the summarized values\n",
    "df.loc[null_tagline_rows.index, 'TagLine'] = summaries\n",
    "\n",
    "# Display the updated DataFrame\n",
    "print(df[['Overview', 'TagLine']])"
   ]
  },
  {
   "cell_type": "markdown",
   "metadata": {},
   "source": [
    "So, we have lots of null values in the TagLine column\n",
    "Just replace all the null values with the associative summerised value of Overview column"
   ]
  },
  {
   "cell_type": "code",
   "execution_count": 44,
   "metadata": {},
   "outputs": [
    {
     "data": {
      "text/plain": [
       "0       103\n",
       "1       109\n",
       "2        80\n",
       "3       164\n",
       "4       109\n",
       "       ... \n",
       "9995    120\n",
       "9996    115\n",
       "9997    122\n",
       "9998     98\n",
       "9999    105\n",
       "Name: RunTime, Length: 9949, dtype: int64"
      ]
     },
     "execution_count": 44,
     "metadata": {},
     "output_type": "execute_result"
    }
   ],
   "source": [
    "df['RunTime']"
   ]
  },
  {
   "cell_type": "markdown",
   "metadata": {},
   "source": [
    "We have lots of noice so we will remove all those rows which RunTime values is less than 60 min."
   ]
  },
  {
   "cell_type": "code",
   "execution_count": 45,
   "metadata": {},
   "outputs": [
    {
     "name": "stdout",
     "output_type": "stream",
     "text": [
      "The number of records with RunTime less than 80 is: 427\n"
     ]
    }
   ],
   "source": [
    "count_less_than_60 = df[df['RunTime'] < 60].shape[0]\n",
    "print(f'The number of records with RunTime less than 80 is: {count_less_than_60}')"
   ]
  },
  {
   "cell_type": "code",
   "execution_count": 46,
   "metadata": {},
   "outputs": [],
   "source": [
    "df = df[df['RunTime'] >= 80]"
   ]
  },
  {
   "cell_type": "markdown",
   "metadata": {},
   "source": [
    "Now, we left with 9030/10000 raws and it has clean data"
   ]
  },
  {
   "cell_type": "code",
   "execution_count": 47,
   "metadata": {},
   "outputs": [
    {
     "data": {
      "text/plain": [
       "0        30000000\n",
       "1       176933602\n",
       "2               0\n",
       "3       567148955\n",
       "4               0\n",
       "          ...    \n",
       "9995     56359980\n",
       "9996     74541707\n",
       "9997            0\n",
       "9998      4100000\n",
       "9999     98500000\n",
       "Name: Revenue, Length: 9030, dtype: int64"
      ]
     },
     "execution_count": 47,
     "metadata": {},
     "output_type": "execute_result"
    }
   ],
   "source": [
    "df['Revenue']"
   ]
  },
  {
   "cell_type": "code",
   "execution_count": 48,
   "metadata": {},
   "outputs": [
    {
     "name": "stdout",
     "output_type": "stream",
     "text": [
      "Number of values with 0 in the 'Revenue' column: 3307\n"
     ]
    },
    {
     "data": {
      "text/plain": [
       "0       3.000000e+07\n",
       "1       1.769336e+08\n",
       "2       2.724180e+07\n",
       "3       5.671490e+08\n",
       "4       2.724180e+07\n",
       "            ...     \n",
       "9995    5.635998e+07\n",
       "9996    7.454171e+07\n",
       "9997    9.053819e+07\n",
       "9998    4.100000e+06\n",
       "9999    9.850000e+07\n",
       "Name: Revenue, Length: 9030, dtype: float64"
      ]
     },
     "execution_count": 48,
     "metadata": {},
     "output_type": "execute_result"
    }
   ],
   "source": [
    "zero_Revenue_count = (df['Revenue'] == 0).sum()\n",
    "\n",
    "print(\"Number of values with 0 in the 'Revenue' column:\", zero_Revenue_count)\n",
    "\n",
    "\n",
    "df['Revenue'] = df.groupby('Decade')['Revenue'].transform(lambda x: x.replace(0, x.mean()))\n",
    "\n",
    "df['Revenue']"
   ]
  },
  {
   "cell_type": "markdown",
   "metadata": {},
   "source": [
    "In Revenue Column still we have so many 0 values so we deal like a Budgets column"
   ]
  },
  {
   "cell_type": "code",
   "execution_count": 49,
   "metadata": {},
   "outputs": [
    {
     "data": {
      "text/plain": [
       "0       Action, Adventure, Thriller\n",
       "1           Action, Thriller, Crime\n",
       "2        Animation, Action, Fantasy\n",
       "3                  Action, Thriller\n",
       "4                   Thriller, Drama\n",
       "                   ...             \n",
       "9995        Action, Crime, Thriller\n",
       "9996        Drama, Action, Thriller\n",
       "9997                  Drama, Comedy\n",
       "9998                          Drama\n",
       "9999     Music, Documentary, Family\n",
       "Name: Genres, Length: 9030, dtype: object"
      ]
     },
     "execution_count": 49,
     "metadata": {},
     "output_type": "execute_result"
    }
   ],
   "source": [
    "df['Genres']"
   ]
  },
  {
   "cell_type": "code",
   "execution_count": 50,
   "metadata": {},
   "outputs": [],
   "source": [
    "mlb = MultiLabelBinarizer()\n",
    "genres = mlb.fit_transform(df['Genres'].str.split(', '))\n",
    "genre_df = pd.DataFrame(genres, columns=mlb.classes_)\n",
    "df = pd.concat([df, genre_df], axis=1)"
   ]
  },
  {
   "cell_type": "code",
   "execution_count": 51,
   "metadata": {},
   "outputs": [],
   "source": [
    "df.drop('Genres', axis=1, inplace=True)"
   ]
  },
  {
   "cell_type": "code",
   "execution_count": 56,
   "metadata": {},
   "outputs": [],
   "source": [
    "df.drop('', axis=1, inplace=True)"
   ]
  },
  {
   "cell_type": "code",
   "execution_count": 59,
   "metadata": {},
   "outputs": [],
   "source": [
    "df.to_csv('movie_II.csv', index=False)"
   ]
  },
  {
   "cell_type": "code",
   "execution_count": 64,
   "metadata": {},
   "outputs": [],
   "source": [
    "numeric_cols = ['Popularity', 'VoteAverage', 'VoteCount', 'Budget', 'RunTime', 'Revenue', 'Decade']\n",
    "\n",
    "numeric_transformer = Pipeline(steps=[\n",
    "    ('imputer', SimpleImputer(strategy='mean')),\n",
    "    ('scaler', StandardScaler()),\n",
    "])\n",
    "\n",
    "# Create the column transformer\n",
    "preprocessor = ColumnTransformer(\n",
    "    transformers=[\n",
    "        ('num', numeric_transformer, numeric_cols)\n",
    "    ])\n",
    "\n",
    "# Apply the pipeline to your DataFrame\n",
    "X_transformed = preprocessor.fit_transform(df)"
   ]
  },
  {
   "cell_type": "code",
   "execution_count": 65,
   "metadata": {},
   "outputs": [
    {
     "data": {
      "text/plain": [
       "Index(['OriginalLanguage', 'OriginalTitle', 'Overview', 'Popularity', 'Title',\n",
       "       'VoteAverage', 'VoteCount', 'Budget', 'TagLine', 'RunTime', 'Revenue',\n",
       "       'Decade', 'Region', 'Action', 'Adventure', 'Animation', 'Comedy',\n",
       "       'Crime', 'Documentary', 'Drama', 'Family', 'Fantasy', 'History ',\n",
       "       'Horror', 'Music', 'Mystery', 'Romance', 'ScienceFiction', 'Thriller',\n",
       "       'TvMovie', 'War', 'Western'],\n",
       "      dtype='object')"
      ]
     },
     "execution_count": 65,
     "metadata": {},
     "output_type": "execute_result"
    }
   ],
   "source": [
    "df.columns"
   ]
  },
  {
   "cell_type": "code",
   "execution_count": 66,
   "metadata": {},
   "outputs": [
    {
     "name": "stdout",
     "output_type": "stream",
     "text": [
      "<class 'pandas.core.frame.DataFrame'>\n",
      "Index: 9899 entries, 0 to 9021\n",
      "Data columns (total 32 columns):\n",
      " #   Column            Non-Null Count  Dtype  \n",
      "---  ------            --------------  -----  \n",
      " 0   OriginalLanguage  9030 non-null   object \n",
      " 1   OriginalTitle     9030 non-null   object \n",
      " 2   Overview          9030 non-null   object \n",
      " 3   Popularity        9030 non-null   float64\n",
      " 4   Title             9030 non-null   object \n",
      " 5   VoteAverage       9030 non-null   float64\n",
      " 6   VoteCount         9030 non-null   float64\n",
      " 7   Budget            9030 non-null   float64\n",
      " 8   TagLine           9030 non-null   object \n",
      " 9   RunTime           9030 non-null   float64\n",
      " 10  Revenue           9030 non-null   float64\n",
      " 11  Decade            9030 non-null   float64\n",
      " 12  Region            9030 non-null   object \n",
      " 13  Action            9030 non-null   float64\n",
      " 14  Adventure         9030 non-null   float64\n",
      " 15  Animation         9030 non-null   float64\n",
      " 16  Comedy            9030 non-null   float64\n",
      " 17  Crime             9030 non-null   float64\n",
      " 18  Documentary       9030 non-null   float64\n",
      " 19  Drama             9030 non-null   float64\n",
      " 20  Family            9030 non-null   float64\n",
      " 21  Fantasy           9030 non-null   float64\n",
      " 22  History           9030 non-null   float64\n",
      " 23  Horror            9030 non-null   float64\n",
      " 24  Music             9030 non-null   float64\n",
      " 25  Mystery           9030 non-null   float64\n",
      " 26  Romance           9030 non-null   float64\n",
      " 27  ScienceFiction    9030 non-null   float64\n",
      " 28  Thriller          9030 non-null   float64\n",
      " 29  TvMovie           9030 non-null   float64\n",
      " 30  War               9030 non-null   float64\n",
      " 31  Western           9030 non-null   float64\n",
      "dtypes: float64(26), object(6)\n",
      "memory usage: 2.5+ MB\n"
     ]
    }
   ],
   "source": [
    "df.info()"
   ]
  },
  {
   "cell_type": "code",
   "execution_count": null,
   "metadata": {},
   "outputs": [
    {
     "data": {
      "text/html": [
       "<div>\n",
       "<style scoped>\n",
       "    .dataframe tbody tr th:only-of-type {\n",
       "        vertical-align: middle;\n",
       "    }\n",
       "\n",
       "    .dataframe tbody tr th {\n",
       "        vertical-align: top;\n",
       "    }\n",
       "\n",
       "    .dataframe thead th {\n",
       "        text-align: right;\n",
       "    }\n",
       "</style>\n",
       "<table border=\"1\" class=\"dataframe\">\n",
       "  <thead>\n",
       "    <tr style=\"text-align: right;\">\n",
       "      <th></th>\n",
       "      <th>OriginalTitle</th>\n",
       "      <th>Overview</th>\n",
       "      <th>Popularity</th>\n",
       "      <th>ReleaseDate</th>\n",
       "      <th>Title</th>\n",
       "      <th>VoteAverage</th>\n",
       "      <th>VoteCount</th>\n",
       "      <th>Budget_x</th>\n",
       "      <th>ProductionCompanies_x</th>\n",
       "      <th>ProductionCountries_x</th>\n",
       "      <th>...</th>\n",
       "      <th>RunTime_y</th>\n",
       "      <th>Revenue_y</th>\n",
       "      <th>Budget</th>\n",
       "      <th>ProductionCompanies</th>\n",
       "      <th>ProductionCountries</th>\n",
       "      <th>TagLine</th>\n",
       "      <th>RunTime</th>\n",
       "      <th>Revenue</th>\n",
       "      <th>Genres</th>\n",
       "      <th>LanguageEncoded</th>\n",
       "    </tr>\n",
       "  </thead>\n",
       "  <tbody>\n",
       "    <tr>\n",
       "      <th>0</th>\n",
       "      <td>Expend4bles</td>\n",
       "      <td>Armed with every weapon they can get their han...</td>\n",
       "      <td>3741.062</td>\n",
       "      <td>2023-09-15</td>\n",
       "      <td>Expend4bles</td>\n",
       "      <td>6.4</td>\n",
       "      <td>364</td>\n",
       "      <td>100000000</td>\n",
       "      <td>[{'id': 1020, 'logo_path': '/kuUIHNwMec4dwOLgh...</td>\n",
       "      <td>[{'iso_3166_1': 'US', 'name': 'United States o...</td>\n",
       "      <td>...</td>\n",
       "      <td>103</td>\n",
       "      <td>30000000</td>\n",
       "      <td>100000000</td>\n",
       "      <td>[{'id': 1020, 'logo_path': '/kuUIHNwMec4dwOLgh...</td>\n",
       "      <td>[{'iso_3166_1': 'US', 'name': 'United States o...</td>\n",
       "      <td>They'll die when they're dead.</td>\n",
       "      <td>103</td>\n",
       "      <td>30000000</td>\n",
       "      <td>Action, Adventure, Thriller</td>\n",
       "      <td>0</td>\n",
       "    </tr>\n",
       "    <tr>\n",
       "      <th>1</th>\n",
       "      <td>The Equalizer 3</td>\n",
       "      <td>Robert McCall finds himself at home in Souther...</td>\n",
       "      <td>2471.515</td>\n",
       "      <td>2023-08-30</td>\n",
       "      <td>The Equalizer 3</td>\n",
       "      <td>7.3</td>\n",
       "      <td>1027</td>\n",
       "      <td>70000000</td>\n",
       "      <td>[{'id': 1423, 'logo_path': '/1rbAwGQzrNvXDICD6...</td>\n",
       "      <td>[{'iso_3166_1': 'IT', 'name': 'Italy'}, {'iso_...</td>\n",
       "      <td>...</td>\n",
       "      <td>109</td>\n",
       "      <td>176933602</td>\n",
       "      <td>70000000</td>\n",
       "      <td>[{'id': 1423, 'logo_path': '/1rbAwGQzrNvXDICD6...</td>\n",
       "      <td>[{'iso_3166_1': 'IT', 'name': 'Italy'}, {'iso_...</td>\n",
       "      <td>Justice knows no borders.</td>\n",
       "      <td>109</td>\n",
       "      <td>176933602</td>\n",
       "      <td>Action, Thriller, Crime</td>\n",
       "      <td>0</td>\n",
       "    </tr>\n",
       "    <tr>\n",
       "      <th>2</th>\n",
       "      <td>Mortal Kombat Legends: Cage Match</td>\n",
       "      <td>In 1980s Hollywood, action star Johnny Cage is...</td>\n",
       "      <td>2223.430</td>\n",
       "      <td>2023-10-17</td>\n",
       "      <td>Mortal Kombat Legends: Cage Match</td>\n",
       "      <td>7.8</td>\n",
       "      <td>27</td>\n",
       "      <td>0</td>\n",
       "      <td>[{'id': 2785, 'logo_path': '/l5zW8jjmQOCx2dFmv...</td>\n",
       "      <td>[{'iso_3166_1': 'US', 'name': 'United States o...</td>\n",
       "      <td>...</td>\n",
       "      <td>80</td>\n",
       "      <td>0</td>\n",
       "      <td>0</td>\n",
       "      <td>[{'id': 2785, 'logo_path': '/l5zW8jjmQOCx2dFmv...</td>\n",
       "      <td>[{'iso_3166_1': 'US', 'name': 'United States o...</td>\n",
       "      <td>Neon lights... Suits with shoulder pads... Jum...</td>\n",
       "      <td>80</td>\n",
       "      <td>0</td>\n",
       "      <td>Animation, Action, Fantasy</td>\n",
       "      <td>0</td>\n",
       "    </tr>\n",
       "  </tbody>\n",
       "</table>\n",
       "<p>3 rows × 29 columns</p>\n",
       "</div>"
      ],
      "text/plain": [
       "                       OriginalTitle  \\\n",
       "0                        Expend4bles   \n",
       "1                    The Equalizer 3   \n",
       "2  Mortal Kombat Legends: Cage Match   \n",
       "\n",
       "                                            Overview  Popularity ReleaseDate  \\\n",
       "0  Armed with every weapon they can get their han...    3741.062  2023-09-15   \n",
       "1  Robert McCall finds himself at home in Souther...    2471.515  2023-08-30   \n",
       "2  In 1980s Hollywood, action star Johnny Cage is...    2223.430  2023-10-17   \n",
       "\n",
       "                               Title  VoteAverage  VoteCount   Budget_x  \\\n",
       "0                        Expend4bles          6.4        364  100000000   \n",
       "1                    The Equalizer 3          7.3       1027   70000000   \n",
       "2  Mortal Kombat Legends: Cage Match          7.8         27          0   \n",
       "\n",
       "                               ProductionCompanies_x  \\\n",
       "0  [{'id': 1020, 'logo_path': '/kuUIHNwMec4dwOLgh...   \n",
       "1  [{'id': 1423, 'logo_path': '/1rbAwGQzrNvXDICD6...   \n",
       "2  [{'id': 2785, 'logo_path': '/l5zW8jjmQOCx2dFmv...   \n",
       "\n",
       "                               ProductionCountries_x  ... RunTime_y  \\\n",
       "0  [{'iso_3166_1': 'US', 'name': 'United States o...  ...       103   \n",
       "1  [{'iso_3166_1': 'IT', 'name': 'Italy'}, {'iso_...  ...       109   \n",
       "2  [{'iso_3166_1': 'US', 'name': 'United States o...  ...        80   \n",
       "\n",
       "   Revenue_y     Budget                                ProductionCompanies  \\\n",
       "0   30000000  100000000  [{'id': 1020, 'logo_path': '/kuUIHNwMec4dwOLgh...   \n",
       "1  176933602   70000000  [{'id': 1423, 'logo_path': '/1rbAwGQzrNvXDICD6...   \n",
       "2          0          0  [{'id': 2785, 'logo_path': '/l5zW8jjmQOCx2dFmv...   \n",
       "\n",
       "                                 ProductionCountries  \\\n",
       "0  [{'iso_3166_1': 'US', 'name': 'United States o...   \n",
       "1  [{'iso_3166_1': 'IT', 'name': 'Italy'}, {'iso_...   \n",
       "2  [{'iso_3166_1': 'US', 'name': 'United States o...   \n",
       "\n",
       "                                             TagLine RunTime    Revenue  \\\n",
       "0                     They'll die when they're dead.     103   30000000   \n",
       "1                          Justice knows no borders.     109  176933602   \n",
       "2  Neon lights... Suits with shoulder pads... Jum...      80          0   \n",
       "\n",
       "                        Genres  LanguageEncoded  \n",
       "0  Action, Adventure, Thriller                0  \n",
       "1      Action, Thriller, Crime                0  \n",
       "2   Animation, Action, Fantasy                0  \n",
       "\n",
       "[3 rows x 29 columns]"
      ]
     },
     "execution_count": 36,
     "metadata": {},
     "output_type": "execute_result"
    }
   ],
   "source": [
    "df.head(3)"
   ]
  },
  {
   "cell_type": "code",
   "execution_count": null,
   "metadata": {},
   "outputs": [],
   "source": []
  }
 ],
 "metadata": {
  "kernelspec": {
   "display_name": "Python 3",
   "language": "python",
   "name": "python3"
  },
  "language_info": {
   "codemirror_mode": {
    "name": "ipython",
    "version": 3
   },
   "file_extension": ".py",
   "mimetype": "text/x-python",
   "name": "python",
   "nbconvert_exporter": "python",
   "pygments_lexer": "ipython3",
   "version": "3.11.0"
  }
 },
 "nbformat": 4,
 "nbformat_minor": 2
}
