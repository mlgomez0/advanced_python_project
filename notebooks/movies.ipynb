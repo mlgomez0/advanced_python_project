{
 "cells": [
  {
   "cell_type": "markdown",
   "metadata": {},
   "source": [
    "## Data Collection\n",
    "\n",
    "The data used in this report was pulled from TMDB (https://www.themoviedb.org) using their public API. To be able to use the API, we created a user and sent a GET request to the authentications endpoint (https://api.themoviedb.org/3/authentication). By doing this, we were able to confirm proper client setup. Furthermore, we conducted GET requests to the endpoint (https://api.themoviedb.org/3/discover/movie) to get as many records as possible. We stored those records in CSV format.\n",
    "\n",
    "The data collected has the following features:\n",
    "\n",
    "GenreIds: This is a list of different genres applicable to the movie. The map between genre id and genre is below:\n",
    "\n",
    "- Action          28\n",
    "- Adventure       12\n",
    "- Animation       16\n",
    "- Comedy          35\n",
    "- Crime           80\n",
    "- Documentary     99\n",
    "- Drama           18\n",
    "- Family          10751\n",
    "- Fantasy         14\n",
    "- History         36\n",
    "- Horror          27\n",
    "- Music           10402\n",
    "- Mystery         9648\n",
    "- Romance         10749\n",
    "- Science Fiction 878\n",
    "- TV Movie        10770\n",
    "- Thriller        53\n",
    "- War             10752\n",
    "- Western         37\n",
    "\n",
    "Id: this is the unique identifier for each movie\n",
    "OriginalLanguage: The movie's original language\n",
    "OriginalTitle: The movie's title\n",
    "Overview: short description of the movie content\n",
    "Popularity: it is a metric used to measure how popular the movie is, it takes into account the following aspects\n",
    "\n",
    "- Number of votes for the day\n",
    "- Number of views for the day\n",
    "- Number of users who marked it as a \"favorite\" for the day\n",
    "- Number of users who added it to their \"watchlist\" for the day\n",
    "- Release date\n",
    "- Number of total votes\n",
    "- Previous days score\n",
    "\n",
    "ReleaseDate: movie data of release\n",
    "Title: title of the movie\n",
    "VoteAverage: It's the average of all of the TMDb user ratings\n",
    "VoteCount: number of people who voted for the movie"
   ]
  },
  {
   "cell_type": "code",
   "execution_count": 35,
   "metadata": {},
   "outputs": [],
   "source": [
    "# Import libraries\n",
    "import numpy as np\n",
    "import ast\n",
    "import csv\n",
    "import os\n",
    "import pandas as pd\n",
    "import requests\n",
    "import warnings\n",
    "import matplotlib.pyplot as plt\n",
    "\n",
    "\n",
    "#okokokokok"
   ]
  },
  {
   "cell_type": "code",
   "execution_count": 21,
   "metadata": {},
   "outputs": [],
   "source": [
    "warnings.filterwarnings('ignore')"
   ]
  },
  {
   "cell_type": "code",
   "execution_count": 3,
   "metadata": {},
   "outputs": [
    {
     "name": "stdout",
     "output_type": "stream",
     "text": [
      "{\"success\":true,\"status_code\":1,\"status_message\":\"Success.\"}\n"
     ]
    }
   ],
   "source": [
    "# Checking API Authentication\n",
    "api_token = os.environ['API_TMDB_TOKEN']\n",
    "\n",
    "url = \"https://api.themoviedb.org/3/authentication\"\n",
    "\n",
    "headers = {\n",
    "    \"accept\": \"application/json\",\n",
    "    \"Authorization\": f\"Bearer {api_token}\"\n",
    "}\n",
    "\n",
    "response = requests.get(url, headers=headers)\n",
    "\n",
    "print(response.text)"
   ]
  },
  {
   "cell_type": "code",
   "execution_count": 4,
   "metadata": {},
   "outputs": [],
   "source": [
    "# Funtions to handle the data retrieval\n",
    "\n",
    "def create_dict(data):\n",
    "    '''This funtion creates a list of dictionaries from the request response'''\n",
    "    result = {}\n",
    "    movies = []\n",
    "    for movie in data:\n",
    "        result['GenreIds'] = movie.get('genre_ids', None)\n",
    "        result['Id'] = movie.get('id', None)\n",
    "        result['OriginalLanguage'] = movie.get('original_language', None)\n",
    "        result['OriginalTitle'] = movie.get('original_title', None)\n",
    "        result['Overview'] = movie.get('overview', None)\n",
    "        result['Popularity'] = movie.get('popularity', None)\n",
    "        result['ReleaseDate'] = movie.get('release_date', None)\n",
    "        result['Title'] = movie.get('title', None)\n",
    "        result['VoteAverage'] = movie.get('vote_average', None)\n",
    "        result['VoteCount'] = movie.get('vote_count', None)\n",
    "        movies.append(result)\n",
    "        result = {}\n",
    "    return movies\n",
    "\n",
    "def store_in_CSV(file_name, posts, fields):\n",
    "    '''This function stores a list of dictionaries in CSV format'''\n",
    "    with open(file_name, 'a', newline='') as csvfile:\n",
    "        writer = csv.DictWriter(csvfile, fieldnames=fields)\n",
    "        if csvfile.tell() == 0:\n",
    "            writer.writeheader()\n",
    "        writer.writerows(posts)\n",
    "\n",
    "def retrive_movies_data(headers):\n",
    "    '''This function retrieves data form the /discover endpoint and process it into a CSV file'''\n",
    "    page = 1\n",
    "    url = \"https://api.themoviedb.org/3/discover/movie?include_adult=false&include_video=false&language=en-US&sort_by=popularity.desc\"\n",
    "    fields = ['GenreIds', 'Id', 'OriginalLanguage', 'OriginalTitle', 'Overview', 'Popularity', 'ReleaseDate', 'Title', 'VoteAverage', 'VoteCount']\n",
    "\n",
    "    while True:\n",
    "        final_url = url + f\"&page={page}\"\n",
    "        res = requests.get(final_url, headers=headers)\n",
    "        json_res = res.json()\n",
    "        data = json_res.get(\"results\", [])\n",
    "        if len(data) == 0:\n",
    "            break\n",
    "        dic_data = create_dict(data)\n",
    "        page += 1\n",
    "        store_in_CSV('movies.csv',dic_data, fields)\n",
    "\n",
    "def create_movie_dict(data):\n",
    "    '''This funtion creates a list of dictionaries from the request response'''\n",
    "    result = {}\n",
    "    movies = []\n",
    "    for movie in data:\n",
    "        result['Id'] = movie.get('id', None)\n",
    "        result['Budget'] = movie.get('budget', None)\n",
    "        result['ProductionCompanies'] = movie.get('production_companies', None)\n",
    "        result['ProductionCountries'] = movie.get('production_countries', None)\n",
    "        result['SpokenLanguages'] = movie.get('spoken_languages', None)\n",
    "        result['TagLine'] = movie.get('tagline', None)\n",
    "        result['RunTime'] = movie.get('runtime', None)\n",
    "        result['Revenue'] = movie.get('revenue', None)\n",
    "        movies.append(result)\n",
    "        result = {}\n",
    "    return movies\n",
    "\n",
    "\n",
    "def get_data_by_id(headers, ids):\n",
    "    '''This function retrieves data form the /movie/id endpoint and process it into a CSV file'''\n",
    "    url = 'https://api.themoviedb.org/3/movie/'\n",
    "    fields = ['Id', 'Budget', 'ProductionCompanies', 'ProductionCountries', 'SpokenLanguages', 'TagLine', 'RunTime', 'Revenue']\n",
    "    all_movies = []\n",
    "\n",
    "    for id in ids:\n",
    "        final_url = url + f\"{id}\"\n",
    "        res = requests.get(final_url, headers=headers)\n",
    "        json_res = res.json()\n",
    "        all_movies.append(json_res)\n",
    "    dic_data = create_movie_dict(all_movies)\n",
    "    store_in_CSV('movie_details.csv',dic_data, fields)"
   ]
  },
  {
   "cell_type": "code",
   "execution_count": null,
   "metadata": {},
   "outputs": [],
   "source": [
    "# running this function creates a movies.csv in the same folder\n",
    "retrive_movies_data(headers)"
   ]
  },
  {
   "cell_type": "code",
   "execution_count": 25,
   "metadata": {},
   "outputs": [
    {
     "name": "stdout",
     "output_type": "stream",
     "text": [
      "(10000, 10)\n"
     ]
    },
    {
     "data": {
      "text/html": [
       "<div>\n",
       "<style scoped>\n",
       "    .dataframe tbody tr th:only-of-type {\n",
       "        vertical-align: middle;\n",
       "    }\n",
       "\n",
       "    .dataframe tbody tr th {\n",
       "        vertical-align: top;\n",
       "    }\n",
       "\n",
       "    .dataframe thead th {\n",
       "        text-align: right;\n",
       "    }\n",
       "</style>\n",
       "<table border=\"1\" class=\"dataframe\">\n",
       "  <thead>\n",
       "    <tr style=\"text-align: right;\">\n",
       "      <th></th>\n",
       "      <th>GenreIds</th>\n",
       "      <th>Id</th>\n",
       "      <th>OriginalLanguage</th>\n",
       "      <th>OriginalTitle</th>\n",
       "      <th>Overview</th>\n",
       "      <th>Popularity</th>\n",
       "      <th>ReleaseDate</th>\n",
       "      <th>Title</th>\n",
       "      <th>VoteAverage</th>\n",
       "      <th>VoteCount</th>\n",
       "    </tr>\n",
       "  </thead>\n",
       "  <tbody>\n",
       "    <tr>\n",
       "      <th>0</th>\n",
       "      <td>[28, 12, 53]</td>\n",
       "      <td>299054</td>\n",
       "      <td>en</td>\n",
       "      <td>Expend4bles</td>\n",
       "      <td>Armed with every weapon they can get their han...</td>\n",
       "      <td>3741.062</td>\n",
       "      <td>2023-09-15</td>\n",
       "      <td>Expend4bles</td>\n",
       "      <td>6.4</td>\n",
       "      <td>364</td>\n",
       "    </tr>\n",
       "    <tr>\n",
       "      <th>1</th>\n",
       "      <td>[28, 53, 80]</td>\n",
       "      <td>926393</td>\n",
       "      <td>en</td>\n",
       "      <td>The Equalizer 3</td>\n",
       "      <td>Robert McCall finds himself at home in Souther...</td>\n",
       "      <td>2471.515</td>\n",
       "      <td>2023-08-30</td>\n",
       "      <td>The Equalizer 3</td>\n",
       "      <td>7.3</td>\n",
       "      <td>1027</td>\n",
       "    </tr>\n",
       "    <tr>\n",
       "      <th>2</th>\n",
       "      <td>[16, 28, 14]</td>\n",
       "      <td>1034062</td>\n",
       "      <td>en</td>\n",
       "      <td>Mortal Kombat Legends: Cage Match</td>\n",
       "      <td>In 1980s Hollywood, action star Johnny Cage is...</td>\n",
       "      <td>2223.430</td>\n",
       "      <td>2023-10-17</td>\n",
       "      <td>Mortal Kombat Legends: Cage Match</td>\n",
       "      <td>7.8</td>\n",
       "      <td>27</td>\n",
       "    </tr>\n",
       "    <tr>\n",
       "      <th>3</th>\n",
       "      <td>[28, 53]</td>\n",
       "      <td>575264</td>\n",
       "      <td>en</td>\n",
       "      <td>Mission: Impossible - Dead Reckoning Part One</td>\n",
       "      <td>Ethan Hunt and his IMF team embark on their mo...</td>\n",
       "      <td>2032.927</td>\n",
       "      <td>2023-07-08</td>\n",
       "      <td>Mission: Impossible - Dead Reckoning Part One</td>\n",
       "      <td>7.7</td>\n",
       "      <td>1799</td>\n",
       "    </tr>\n",
       "    <tr>\n",
       "      <th>4</th>\n",
       "      <td>[53, 18]</td>\n",
       "      <td>1151534</td>\n",
       "      <td>es</td>\n",
       "      <td>Nowhere</td>\n",
       "      <td>A young pregnant woman named Mia escapes from ...</td>\n",
       "      <td>1627.678</td>\n",
       "      <td>2023-09-29</td>\n",
       "      <td>Nowhere</td>\n",
       "      <td>7.6</td>\n",
       "      <td>686</td>\n",
       "    </tr>\n",
       "  </tbody>\n",
       "</table>\n",
       "</div>"
      ],
      "text/plain": [
       "       GenreIds       Id OriginalLanguage  \\\n",
       "0  [28, 12, 53]   299054               en   \n",
       "1  [28, 53, 80]   926393               en   \n",
       "2  [16, 28, 14]  1034062               en   \n",
       "3      [28, 53]   575264               en   \n",
       "4      [53, 18]  1151534               es   \n",
       "\n",
       "                                   OriginalTitle  \\\n",
       "0                                    Expend4bles   \n",
       "1                                The Equalizer 3   \n",
       "2              Mortal Kombat Legends: Cage Match   \n",
       "3  Mission: Impossible - Dead Reckoning Part One   \n",
       "4                                        Nowhere   \n",
       "\n",
       "                                            Overview  Popularity ReleaseDate  \\\n",
       "0  Armed with every weapon they can get their han...    3741.062  2023-09-15   \n",
       "1  Robert McCall finds himself at home in Souther...    2471.515  2023-08-30   \n",
       "2  In 1980s Hollywood, action star Johnny Cage is...    2223.430  2023-10-17   \n",
       "3  Ethan Hunt and his IMF team embark on their mo...    2032.927  2023-07-08   \n",
       "4  A young pregnant woman named Mia escapes from ...    1627.678  2023-09-29   \n",
       "\n",
       "                                           Title  VoteAverage  VoteCount  \n",
       "0                                    Expend4bles          6.4        364  \n",
       "1                                The Equalizer 3          7.3       1027  \n",
       "2              Mortal Kombat Legends: Cage Match          7.8         27  \n",
       "3  Mission: Impossible - Dead Reckoning Part One          7.7       1799  \n",
       "4                                        Nowhere          7.6        686  "
      ]
     },
     "execution_count": 25,
     "metadata": {},
     "output_type": "execute_result"
    }
   ],
   "source": [
    "# Initial Dataset review\n",
    "df_init = pd.read_csv('movies.csv')\n",
    "print(df_init.shape)\n",
    "df_init.head()"
   ]
  },
  {
   "cell_type": "code",
   "execution_count": 6,
   "metadata": {},
   "outputs": [],
   "source": [
    "# getting the list of movie ids\n",
    "ids = list(df_init['Id'])"
   ]
  },
  {
   "cell_type": "code",
   "execution_count": null,
   "metadata": {},
   "outputs": [],
   "source": [
    "# getting second dataset with movie details\n",
    "get_data_by_id(headers, ids)"
   ]
  },
  {
   "cell_type": "code",
   "execution_count": 26,
   "metadata": {},
   "outputs": [
    {
     "name": "stdout",
     "output_type": "stream",
     "text": [
      "(10000, 8)\n"
     ]
    },
    {
     "data": {
      "text/html": [
       "<div>\n",
       "<style scoped>\n",
       "    .dataframe tbody tr th:only-of-type {\n",
       "        vertical-align: middle;\n",
       "    }\n",
       "\n",
       "    .dataframe tbody tr th {\n",
       "        vertical-align: top;\n",
       "    }\n",
       "\n",
       "    .dataframe thead th {\n",
       "        text-align: right;\n",
       "    }\n",
       "</style>\n",
       "<table border=\"1\" class=\"dataframe\">\n",
       "  <thead>\n",
       "    <tr style=\"text-align: right;\">\n",
       "      <th></th>\n",
       "      <th>Id</th>\n",
       "      <th>Budget</th>\n",
       "      <th>ProductionCompanies</th>\n",
       "      <th>ProductionCountries</th>\n",
       "      <th>SpokenLanguages</th>\n",
       "      <th>TagLine</th>\n",
       "      <th>RunTime</th>\n",
       "      <th>Revenue</th>\n",
       "    </tr>\n",
       "  </thead>\n",
       "  <tbody>\n",
       "    <tr>\n",
       "      <th>0</th>\n",
       "      <td>299054</td>\n",
       "      <td>100000000</td>\n",
       "      <td>[{'id': 1020, 'logo_path': '/kuUIHNwMec4dwOLgh...</td>\n",
       "      <td>[{'iso_3166_1': 'US', 'name': 'United States o...</td>\n",
       "      <td>[{'english_name': 'English', 'iso_639_1': 'en'...</td>\n",
       "      <td>They'll die when they're dead.</td>\n",
       "      <td>103</td>\n",
       "      <td>30000000</td>\n",
       "    </tr>\n",
       "    <tr>\n",
       "      <th>1</th>\n",
       "      <td>926393</td>\n",
       "      <td>70000000</td>\n",
       "      <td>[{'id': 1423, 'logo_path': '/1rbAwGQzrNvXDICD6...</td>\n",
       "      <td>[{'iso_3166_1': 'IT', 'name': 'Italy'}, {'iso_...</td>\n",
       "      <td>[{'english_name': 'English', 'iso_639_1': 'en'...</td>\n",
       "      <td>Justice knows no borders.</td>\n",
       "      <td>109</td>\n",
       "      <td>176933602</td>\n",
       "    </tr>\n",
       "    <tr>\n",
       "      <th>2</th>\n",
       "      <td>1034062</td>\n",
       "      <td>0</td>\n",
       "      <td>[{'id': 2785, 'logo_path': '/l5zW8jjmQOCx2dFmv...</td>\n",
       "      <td>[{'iso_3166_1': 'US', 'name': 'United States o...</td>\n",
       "      <td>[{'english_name': 'English', 'iso_639_1': 'en'...</td>\n",
       "      <td>Neon lights... Suits with shoulder pads... Jum...</td>\n",
       "      <td>80</td>\n",
       "      <td>0</td>\n",
       "    </tr>\n",
       "    <tr>\n",
       "      <th>3</th>\n",
       "      <td>575264</td>\n",
       "      <td>291000000</td>\n",
       "      <td>[{'id': 4, 'logo_path': '/gz66EfNoYPqHTYI4q9UE...</td>\n",
       "      <td>[{'iso_3166_1': 'US', 'name': 'United States o...</td>\n",
       "      <td>[{'english_name': 'French', 'iso_639_1': 'fr',...</td>\n",
       "      <td>We all share the same fate.</td>\n",
       "      <td>164</td>\n",
       "      <td>567148955</td>\n",
       "    </tr>\n",
       "    <tr>\n",
       "      <th>4</th>\n",
       "      <td>1151534</td>\n",
       "      <td>0</td>\n",
       "      <td>[{'id': 204005, 'logo_path': None, 'name': 'Ro...</td>\n",
       "      <td>[{'iso_3166_1': 'ES', 'name': 'Spain'}]</td>\n",
       "      <td>[{'english_name': 'Spanish', 'iso_639_1': 'es'...</td>\n",
       "      <td>Attempting to survive in the middle of nowhere...</td>\n",
       "      <td>109</td>\n",
       "      <td>0</td>\n",
       "    </tr>\n",
       "  </tbody>\n",
       "</table>\n",
       "</div>"
      ],
      "text/plain": [
       "        Id     Budget                                ProductionCompanies  \\\n",
       "0   299054  100000000  [{'id': 1020, 'logo_path': '/kuUIHNwMec4dwOLgh...   \n",
       "1   926393   70000000  [{'id': 1423, 'logo_path': '/1rbAwGQzrNvXDICD6...   \n",
       "2  1034062          0  [{'id': 2785, 'logo_path': '/l5zW8jjmQOCx2dFmv...   \n",
       "3   575264  291000000  [{'id': 4, 'logo_path': '/gz66EfNoYPqHTYI4q9UE...   \n",
       "4  1151534          0  [{'id': 204005, 'logo_path': None, 'name': 'Ro...   \n",
       "\n",
       "                                 ProductionCountries  \\\n",
       "0  [{'iso_3166_1': 'US', 'name': 'United States o...   \n",
       "1  [{'iso_3166_1': 'IT', 'name': 'Italy'}, {'iso_...   \n",
       "2  [{'iso_3166_1': 'US', 'name': 'United States o...   \n",
       "3  [{'iso_3166_1': 'US', 'name': 'United States o...   \n",
       "4            [{'iso_3166_1': 'ES', 'name': 'Spain'}]   \n",
       "\n",
       "                                     SpokenLanguages  \\\n",
       "0  [{'english_name': 'English', 'iso_639_1': 'en'...   \n",
       "1  [{'english_name': 'English', 'iso_639_1': 'en'...   \n",
       "2  [{'english_name': 'English', 'iso_639_1': 'en'...   \n",
       "3  [{'english_name': 'French', 'iso_639_1': 'fr',...   \n",
       "4  [{'english_name': 'Spanish', 'iso_639_1': 'es'...   \n",
       "\n",
       "                                             TagLine  RunTime    Revenue  \n",
       "0                     They'll die when they're dead.      103   30000000  \n",
       "1                          Justice knows no borders.      109  176933602  \n",
       "2  Neon lights... Suits with shoulder pads... Jum...       80          0  \n",
       "3                        We all share the same fate.      164  567148955  \n",
       "4  Attempting to survive in the middle of nowhere...      109          0  "
      ]
     },
     "execution_count": 26,
     "metadata": {},
     "output_type": "execute_result"
    }
   ],
   "source": [
    "# Chencking movie details data\n",
    "\n",
    "df_movies = pd.read_csv('movie_details.csv')\n",
    "print(df_movies.shape)\n",
    "df_movies.head()"
   ]
  },
  {
   "cell_type": "markdown",
   "metadata": {},
   "source": [
    "## Data Wrangling\n",
    "\n",
    "In this section, we conducted several steps to clean up and prepare the data for analysis. The steps we followed are listed below:\n",
    "\n",
    "1. Merge data sets: So far, we have two CSV files, one with overall movie information and one with detailed movie data. We wanted to merge these two datasets using the movie \"Id\" as the primary key.\n",
    "2. Features and datatypes: In this steps we will process features into the proper data type, inspecting and correcting invalid values\n",
    "3. Inspect and impute nulls\n",
    "4. Inspect and correct duplicated rows\n",
    "5. create a new cleaned dataset (movies_cleaned.csv)\n",
    "\n"
   ]
  },
  {
   "cell_type": "markdown",
   "metadata": {},
   "source": [
    "### 1. Merge Datasets"
   ]
  },
  {
   "cell_type": "code",
   "execution_count": 27,
   "metadata": {},
   "outputs": [],
   "source": [
    "def inner_join(df1, df2, pk):\n",
    "    '''This methods performs inner joint, based on given primery key'''\n",
    "    return pd.merge(df1, df2, on=pk)"
   ]
  },
  {
   "cell_type": "code",
   "execution_count": 77,
   "metadata": {},
   "outputs": [
    {
     "name": "stdout",
     "output_type": "stream",
     "text": [
      "(10000, 17)\n"
     ]
    },
    {
     "data": {
      "text/html": [
       "<div>\n",
       "<style scoped>\n",
       "    .dataframe tbody tr th:only-of-type {\n",
       "        vertical-align: middle;\n",
       "    }\n",
       "\n",
       "    .dataframe tbody tr th {\n",
       "        vertical-align: top;\n",
       "    }\n",
       "\n",
       "    .dataframe thead th {\n",
       "        text-align: right;\n",
       "    }\n",
       "</style>\n",
       "<table border=\"1\" class=\"dataframe\">\n",
       "  <thead>\n",
       "    <tr style=\"text-align: right;\">\n",
       "      <th></th>\n",
       "      <th>GenreIds</th>\n",
       "      <th>Id</th>\n",
       "      <th>OriginalLanguage</th>\n",
       "      <th>OriginalTitle</th>\n",
       "      <th>Overview</th>\n",
       "      <th>Popularity</th>\n",
       "      <th>ReleaseDate</th>\n",
       "      <th>Title</th>\n",
       "      <th>VoteAverage</th>\n",
       "      <th>VoteCount</th>\n",
       "      <th>Budget</th>\n",
       "      <th>ProductionCompanies</th>\n",
       "      <th>ProductionCountries</th>\n",
       "      <th>SpokenLanguages</th>\n",
       "      <th>TagLine</th>\n",
       "      <th>RunTime</th>\n",
       "      <th>Revenue</th>\n",
       "    </tr>\n",
       "  </thead>\n",
       "  <tbody>\n",
       "    <tr>\n",
       "      <th>0</th>\n",
       "      <td>[28, 12, 53]</td>\n",
       "      <td>299054</td>\n",
       "      <td>en</td>\n",
       "      <td>Expend4bles</td>\n",
       "      <td>Armed with every weapon they can get their han...</td>\n",
       "      <td>3741.062</td>\n",
       "      <td>2023-09-15</td>\n",
       "      <td>Expend4bles</td>\n",
       "      <td>6.4</td>\n",
       "      <td>364</td>\n",
       "      <td>100000000</td>\n",
       "      <td>[{'id': 1020, 'logo_path': '/kuUIHNwMec4dwOLgh...</td>\n",
       "      <td>[{'iso_3166_1': 'US', 'name': 'United States o...</td>\n",
       "      <td>[{'english_name': 'English', 'iso_639_1': 'en'...</td>\n",
       "      <td>They'll die when they're dead.</td>\n",
       "      <td>103</td>\n",
       "      <td>30000000</td>\n",
       "    </tr>\n",
       "  </tbody>\n",
       "</table>\n",
       "</div>"
      ],
      "text/plain": [
       "       GenreIds      Id OriginalLanguage OriginalTitle  \\\n",
       "0  [28, 12, 53]  299054               en   Expend4bles   \n",
       "\n",
       "                                            Overview  Popularity ReleaseDate  \\\n",
       "0  Armed with every weapon they can get their han...    3741.062  2023-09-15   \n",
       "\n",
       "         Title  VoteAverage  VoteCount     Budget  \\\n",
       "0  Expend4bles          6.4        364  100000000   \n",
       "\n",
       "                                 ProductionCompanies  \\\n",
       "0  [{'id': 1020, 'logo_path': '/kuUIHNwMec4dwOLgh...   \n",
       "\n",
       "                                 ProductionCountries  \\\n",
       "0  [{'iso_3166_1': 'US', 'name': 'United States o...   \n",
       "\n",
       "                                     SpokenLanguages  \\\n",
       "0  [{'english_name': 'English', 'iso_639_1': 'en'...   \n",
       "\n",
       "                          TagLine  RunTime   Revenue  \n",
       "0  They'll die when they're dead.      103  30000000  "
      ]
     },
     "execution_count": 77,
     "metadata": {},
     "output_type": "execute_result"
    }
   ],
   "source": [
    "# Perform inner join to consolidate one single dataset\n",
    "df = inner_join(df_init, df_movies, 'Id')\n",
    "print(df.shape)\n",
    "df.head(1)"
   ]
  },
  {
   "cell_type": "markdown",
   "metadata": {},
   "source": [
    "### 2. Features and datatypes:"
   ]
  },
  {
   "cell_type": "code",
   "execution_count": 78,
   "metadata": {},
   "outputs": [],
   "source": [
    "# create a list with the columns of the Dataframe\n",
    "columns = df.columns"
   ]
  },
  {
   "cell_type": "code",
   "execution_count": 79,
   "metadata": {},
   "outputs": [
    {
     "data": {
      "text/plain": [
       "GenreIds                object\n",
       "Id                       int64\n",
       "OriginalLanguage        object\n",
       "OriginalTitle           object\n",
       "Overview                object\n",
       "Popularity             float64\n",
       "ReleaseDate             object\n",
       "Title                   object\n",
       "VoteAverage            float64\n",
       "VoteCount                int64\n",
       "Budget                   int64\n",
       "ProductionCompanies     object\n",
       "ProductionCountries     object\n",
       "SpokenLanguages         object\n",
       "TagLine                 object\n",
       "RunTime                  int64\n",
       "Revenue                  int64\n",
       "dtype: object"
      ]
     },
     "execution_count": 79,
     "metadata": {},
     "output_type": "execute_result"
    }
   ],
   "source": [
    "# Review the dataframe datatypes\n",
    "\n",
    "df.dtypes"
   ]
  },
  {
   "cell_type": "code",
   "execution_count": 80,
   "metadata": {},
   "outputs": [],
   "source": [
    "# correcting the datetype for the column ReleaseDate\n",
    "\n",
    "df['ReleaseDate'] = pd.to_datetime(df['ReleaseDate'])"
   ]
  },
  {
   "cell_type": "code",
   "execution_count": 81,
   "metadata": {},
   "outputs": [
    {
     "data": {
      "text/html": [
       "<div>\n",
       "<style scoped>\n",
       "    .dataframe tbody tr th:only-of-type {\n",
       "        vertical-align: middle;\n",
       "    }\n",
       "\n",
       "    .dataframe tbody tr th {\n",
       "        vertical-align: top;\n",
       "    }\n",
       "\n",
       "    .dataframe thead th {\n",
       "        text-align: right;\n",
       "    }\n",
       "</style>\n",
       "<table border=\"1\" class=\"dataframe\">\n",
       "  <thead>\n",
       "    <tr style=\"text-align: right;\">\n",
       "      <th></th>\n",
       "      <th>GenreIds</th>\n",
       "      <th>OriginalLanguage</th>\n",
       "      <th>OriginalTitle</th>\n",
       "      <th>Overview</th>\n",
       "      <th>Title</th>\n",
       "      <th>ProductionCompanies</th>\n",
       "      <th>ProductionCountries</th>\n",
       "      <th>SpokenLanguages</th>\n",
       "      <th>TagLine</th>\n",
       "    </tr>\n",
       "  </thead>\n",
       "  <tbody>\n",
       "    <tr>\n",
       "      <th>0</th>\n",
       "      <td>[28, 12, 53]</td>\n",
       "      <td>en</td>\n",
       "      <td>Expend4bles</td>\n",
       "      <td>Armed with every weapon they can get their han...</td>\n",
       "      <td>Expend4bles</td>\n",
       "      <td>[{'id': 1020, 'logo_path': '/kuUIHNwMec4dwOLgh...</td>\n",
       "      <td>[{'iso_3166_1': 'US', 'name': 'United States o...</td>\n",
       "      <td>[{'english_name': 'English', 'iso_639_1': 'en'...</td>\n",
       "      <td>They'll die when they're dead.</td>\n",
       "    </tr>\n",
       "  </tbody>\n",
       "</table>\n",
       "</div>"
      ],
      "text/plain": [
       "       GenreIds OriginalLanguage OriginalTitle  \\\n",
       "0  [28, 12, 53]               en   Expend4bles   \n",
       "\n",
       "                                            Overview        Title  \\\n",
       "0  Armed with every weapon they can get their han...  Expend4bles   \n",
       "\n",
       "                                 ProductionCompanies  \\\n",
       "0  [{'id': 1020, 'logo_path': '/kuUIHNwMec4dwOLgh...   \n",
       "\n",
       "                                 ProductionCountries  \\\n",
       "0  [{'iso_3166_1': 'US', 'name': 'United States o...   \n",
       "\n",
       "                                     SpokenLanguages  \\\n",
       "0  [{'english_name': 'English', 'iso_639_1': 'en'...   \n",
       "\n",
       "                          TagLine  \n",
       "0  They'll die when they're dead.  "
      ]
     },
     "execution_count": 81,
     "metadata": {},
     "output_type": "execute_result"
    }
   ],
   "source": [
    "# categorical columns inspection\n",
    "\n",
    "categorical_df = df.select_dtypes(include='object')\n",
    "categorical_df.head(1)"
   ]
  },
  {
   "cell_type": "code",
   "execution_count": 35,
   "metadata": {},
   "outputs": [
    {
     "name": "stdout",
     "output_type": "stream",
     "text": [
      "----Unique values for column GenreIds -----\n",
      "['[28, 12, 53]' '[28, 53, 80]' '[16, 28, 14]' '[28, 53]' '[53, 18]']\n",
      "----Unique values for column OriginalLanguage -----\n",
      "['en' 'es' 'ko' 'hi' 'de']\n",
      "----Unique values for column ProductionCompanies -----\n",
      "[\"[{'id': 1020, 'logo_path': '/kuUIHNwMec4dwOLghDhhZJzHZTd.png', 'name': 'Millennium Media', 'origin_country': 'US'}, {'id': 48738, 'logo_path': None, 'name': 'Campbell Grobman Films', 'origin_country': 'US'}, {'id': 1632, 'logo_path': '/cisLn1YAUuptXVBa0xjq7ST9cH0.png', 'name': 'Lionsgate', 'origin_country': 'US'}]\"\n",
      " \"[{'id': 1423, 'logo_path': '/1rbAwGQzrNvXDICD6HWEn1YqfAV.png', 'name': 'Escape Artists', 'origin_country': 'US'}, {'id': 5, 'logo_path': '/wrweLpBqRYcAM7kCSaHDJRxKGOP.png', 'name': 'Columbia Pictures', 'origin_country': 'US'}, {'id': 10400, 'logo_path': '/9LlB2YAwXTkUAhx0pItSo6pDlkB.png', 'name': 'Eagle Pictures', 'origin_country': 'IT'}, {'id': 44967, 'logo_path': None, 'name': 'ZHIV Productions', 'origin_country': ''}]\"\n",
      " \"[{'id': 2785, 'logo_path': '/l5zW8jjmQOCx2dFmvnmbYmqoBmL.png', 'name': 'Warner Bros. Animation', 'origin_country': 'US'}]\"\n",
      " \"[{'id': 4, 'logo_path': '/gz66EfNoYPqHTYI4q9UEN4CbHRc.png', 'name': 'Paramount', 'origin_country': 'US'}, {'id': 82819, 'logo_path': '/gXfFl9pRPaoaq14jybEn1pHeldr.png', 'name': 'Skydance', 'origin_country': 'US'}, {'id': 21777, 'logo_path': None, 'name': 'TC Productions', 'origin_country': 'US'}]\"\n",
      " \"[{'id': 204005, 'logo_path': None, 'name': 'Rock & Ruz', 'origin_country': 'ES'}]\"]\n",
      "----Unique values for column ProductionCountries -----\n",
      "[\"[{'iso_3166_1': 'US', 'name': 'United States of America'}]\"\n",
      " \"[{'iso_3166_1': 'IT', 'name': 'Italy'}, {'iso_3166_1': 'US', 'name': 'United States of America'}]\"\n",
      " \"[{'iso_3166_1': 'ES', 'name': 'Spain'}]\"\n",
      " \"[{'iso_3166_1': 'KR', 'name': 'South Korea'}]\"\n",
      " \"[{'iso_3166_1': 'CN', 'name': 'China'}, {'iso_3166_1': 'US', 'name': 'United States of America'}]\"]\n",
      "----Unique values for column SpokenLanguages -----\n",
      "[\"[{'english_name': 'English', 'iso_639_1': 'en', 'name': 'English'}]\"\n",
      " \"[{'english_name': 'English', 'iso_639_1': 'en', 'name': 'English'}, {'english_name': 'Italian', 'iso_639_1': 'it', 'name': 'Italiano'}]\"\n",
      " \"[{'english_name': 'French', 'iso_639_1': 'fr', 'name': 'Français'}, {'english_name': 'English', 'iso_639_1': 'en', 'name': 'English'}, {'english_name': 'Italian', 'iso_639_1': 'it', 'name': 'Italiano'}, {'english_name': 'Russian', 'iso_639_1': 'ru', 'name': 'Pусский'}]\"\n",
      " \"[{'english_name': 'Spanish', 'iso_639_1': 'es', 'name': 'Español'}]\"\n",
      " \"[{'english_name': 'English', 'iso_639_1': 'en', 'name': 'English'}, {'english_name': 'French', 'iso_639_1': 'fr', 'name': 'Français'}]\"]\n"
     ]
    }
   ],
   "source": [
    "# reviewing unique values in each category to stablish category relevancy, text columns excluded to process in further steps\n",
    "\n",
    "categorical_columns = categorical_df.columns\n",
    "text_columns = ['Overview', 'Title', 'OriginalTitle', 'TagLine']\n",
    "\n",
    "for column in categorical_columns:\n",
    "    if column not in text_columns:\n",
    "        print(f\"----Unique values for column {column} -----\")\n",
    "        print(categorical_df[column].unique()[:5])"
   ]
  },
  {
   "cell_type": "code",
   "execution_count": 82,
   "metadata": {},
   "outputs": [],
   "source": [
    "# eliminate SpokenLanguages as there is already a column for original language and we believe the translations may not be predictive to the model\n",
    "df.drop('SpokenLanguages', axis=1, inplace=True)"
   ]
  },
  {
   "cell_type": "code",
   "execution_count": 83,
   "metadata": {},
   "outputs": [
    {
     "data": {
      "text/html": [
       "<div>\n",
       "<style scoped>\n",
       "    .dataframe tbody tr th:only-of-type {\n",
       "        vertical-align: middle;\n",
       "    }\n",
       "\n",
       "    .dataframe tbody tr th {\n",
       "        vertical-align: top;\n",
       "    }\n",
       "\n",
       "    .dataframe thead th {\n",
       "        text-align: right;\n",
       "    }\n",
       "</style>\n",
       "<table border=\"1\" class=\"dataframe\">\n",
       "  <thead>\n",
       "    <tr style=\"text-align: right;\">\n",
       "      <th></th>\n",
       "      <th>GenreIds</th>\n",
       "      <th>Id</th>\n",
       "      <th>OriginalLanguage</th>\n",
       "      <th>OriginalTitle</th>\n",
       "      <th>Overview</th>\n",
       "      <th>Popularity</th>\n",
       "      <th>ReleaseDate</th>\n",
       "      <th>Title</th>\n",
       "      <th>VoteAverage</th>\n",
       "      <th>VoteCount</th>\n",
       "      <th>...</th>\n",
       "      <th>History</th>\n",
       "      <th>Horror</th>\n",
       "      <th>Music</th>\n",
       "      <th>Mystery</th>\n",
       "      <th>Romance</th>\n",
       "      <th>ScienceFiction</th>\n",
       "      <th>TvMovie</th>\n",
       "      <th>Thriller</th>\n",
       "      <th>War</th>\n",
       "      <th>Western</th>\n",
       "    </tr>\n",
       "  </thead>\n",
       "  <tbody>\n",
       "    <tr>\n",
       "      <th>0</th>\n",
       "      <td>[28, 12, 53]</td>\n",
       "      <td>299054</td>\n",
       "      <td>en</td>\n",
       "      <td>Expend4bles</td>\n",
       "      <td>Armed with every weapon they can get their han...</td>\n",
       "      <td>3741.062</td>\n",
       "      <td>2023-09-15</td>\n",
       "      <td>Expend4bles</td>\n",
       "      <td>6.4</td>\n",
       "      <td>364</td>\n",
       "      <td>...</td>\n",
       "      <td>0</td>\n",
       "      <td>0</td>\n",
       "      <td>0</td>\n",
       "      <td>0</td>\n",
       "      <td>0</td>\n",
       "      <td>0</td>\n",
       "      <td>0</td>\n",
       "      <td>0</td>\n",
       "      <td>0</td>\n",
       "      <td>0</td>\n",
       "    </tr>\n",
       "    <tr>\n",
       "      <th>1</th>\n",
       "      <td>[28, 53, 80]</td>\n",
       "      <td>926393</td>\n",
       "      <td>en</td>\n",
       "      <td>The Equalizer 3</td>\n",
       "      <td>Robert McCall finds himself at home in Souther...</td>\n",
       "      <td>2471.515</td>\n",
       "      <td>2023-08-30</td>\n",
       "      <td>The Equalizer 3</td>\n",
       "      <td>7.3</td>\n",
       "      <td>1027</td>\n",
       "      <td>...</td>\n",
       "      <td>0</td>\n",
       "      <td>0</td>\n",
       "      <td>0</td>\n",
       "      <td>0</td>\n",
       "      <td>0</td>\n",
       "      <td>0</td>\n",
       "      <td>0</td>\n",
       "      <td>0</td>\n",
       "      <td>0</td>\n",
       "      <td>0</td>\n",
       "    </tr>\n",
       "    <tr>\n",
       "      <th>2</th>\n",
       "      <td>[16, 28, 14]</td>\n",
       "      <td>1034062</td>\n",
       "      <td>en</td>\n",
       "      <td>Mortal Kombat Legends: Cage Match</td>\n",
       "      <td>In 1980s Hollywood, action star Johnny Cage is...</td>\n",
       "      <td>2223.430</td>\n",
       "      <td>2023-10-17</td>\n",
       "      <td>Mortal Kombat Legends: Cage Match</td>\n",
       "      <td>7.8</td>\n",
       "      <td>27</td>\n",
       "      <td>...</td>\n",
       "      <td>0</td>\n",
       "      <td>0</td>\n",
       "      <td>0</td>\n",
       "      <td>0</td>\n",
       "      <td>0</td>\n",
       "      <td>0</td>\n",
       "      <td>0</td>\n",
       "      <td>0</td>\n",
       "      <td>0</td>\n",
       "      <td>0</td>\n",
       "    </tr>\n",
       "    <tr>\n",
       "      <th>3</th>\n",
       "      <td>[28, 53]</td>\n",
       "      <td>575264</td>\n",
       "      <td>en</td>\n",
       "      <td>Mission: Impossible - Dead Reckoning Part One</td>\n",
       "      <td>Ethan Hunt and his IMF team embark on their mo...</td>\n",
       "      <td>2032.927</td>\n",
       "      <td>2023-07-08</td>\n",
       "      <td>Mission: Impossible - Dead Reckoning Part One</td>\n",
       "      <td>7.7</td>\n",
       "      <td>1799</td>\n",
       "      <td>...</td>\n",
       "      <td>0</td>\n",
       "      <td>0</td>\n",
       "      <td>0</td>\n",
       "      <td>0</td>\n",
       "      <td>0</td>\n",
       "      <td>0</td>\n",
       "      <td>0</td>\n",
       "      <td>0</td>\n",
       "      <td>0</td>\n",
       "      <td>0</td>\n",
       "    </tr>\n",
       "    <tr>\n",
       "      <th>4</th>\n",
       "      <td>[53, 18]</td>\n",
       "      <td>1151534</td>\n",
       "      <td>es</td>\n",
       "      <td>Nowhere</td>\n",
       "      <td>A young pregnant woman named Mia escapes from ...</td>\n",
       "      <td>1627.678</td>\n",
       "      <td>2023-09-29</td>\n",
       "      <td>Nowhere</td>\n",
       "      <td>7.6</td>\n",
       "      <td>686</td>\n",
       "      <td>...</td>\n",
       "      <td>0</td>\n",
       "      <td>0</td>\n",
       "      <td>0</td>\n",
       "      <td>0</td>\n",
       "      <td>0</td>\n",
       "      <td>0</td>\n",
       "      <td>0</td>\n",
       "      <td>0</td>\n",
       "      <td>0</td>\n",
       "      <td>0</td>\n",
       "    </tr>\n",
       "  </tbody>\n",
       "</table>\n",
       "<p>5 rows × 35 columns</p>\n",
       "</div>"
      ],
      "text/plain": [
       "       GenreIds       Id OriginalLanguage  \\\n",
       "0  [28, 12, 53]   299054               en   \n",
       "1  [28, 53, 80]   926393               en   \n",
       "2  [16, 28, 14]  1034062               en   \n",
       "3      [28, 53]   575264               en   \n",
       "4      [53, 18]  1151534               es   \n",
       "\n",
       "                                   OriginalTitle  \\\n",
       "0                                    Expend4bles   \n",
       "1                                The Equalizer 3   \n",
       "2              Mortal Kombat Legends: Cage Match   \n",
       "3  Mission: Impossible - Dead Reckoning Part One   \n",
       "4                                        Nowhere   \n",
       "\n",
       "                                            Overview  Popularity ReleaseDate  \\\n",
       "0  Armed with every weapon they can get their han...    3741.062  2023-09-15   \n",
       "1  Robert McCall finds himself at home in Souther...    2471.515  2023-08-30   \n",
       "2  In 1980s Hollywood, action star Johnny Cage is...    2223.430  2023-10-17   \n",
       "3  Ethan Hunt and his IMF team embark on their mo...    2032.927  2023-07-08   \n",
       "4  A young pregnant woman named Mia escapes from ...    1627.678  2023-09-29   \n",
       "\n",
       "                                           Title  VoteAverage  VoteCount  ...  \\\n",
       "0                                    Expend4bles          6.4        364  ...   \n",
       "1                                The Equalizer 3          7.3       1027  ...   \n",
       "2              Mortal Kombat Legends: Cage Match          7.8         27  ...   \n",
       "3  Mission: Impossible - Dead Reckoning Part One          7.7       1799  ...   \n",
       "4                                        Nowhere          7.6        686  ...   \n",
       "\n",
       "   History  Horror Music Mystery  Romance  ScienceFiction  TvMovie  Thriller  \\\n",
       "0         0      0     0       0        0               0        0         0   \n",
       "1         0      0     0       0        0               0        0         0   \n",
       "2         0      0     0       0        0               0        0         0   \n",
       "3         0      0     0       0        0               0        0         0   \n",
       "4         0      0     0       0        0               0        0         0   \n",
       "\n",
       "   War  Western  \n",
       "0    0        0  \n",
       "1    0        0  \n",
       "2    0        0  \n",
       "3    0        0  \n",
       "4    0        0  \n",
       "\n",
       "[5 rows x 35 columns]"
      ]
     },
     "execution_count": 83,
     "metadata": {},
     "output_type": "execute_result"
    }
   ],
   "source": [
    "# preprocessing of column 'GenreIds'\n",
    "\n",
    "# We created the new columns in the DataFrame, one column per genre (one-hot encoding)\n",
    "\n",
    "genre_map = {\n",
    "    28: 'Action',\n",
    "    12: 'Adventure',\n",
    "    16: 'Animation',\n",
    "    35: 'Comedy',\n",
    "    80: 'Crime',\n",
    "    99: 'Documentary',\n",
    "    18: 'Drama',\n",
    "    10751: 'Family',\n",
    "    14: 'Fantasy',\n",
    "    36: 'History ',\n",
    "    27: 'Horror',\n",
    "    10402: 'Music',\n",
    "    9648: 'Mystery',\n",
    "    10749: 'Romance',\n",
    "    878: 'ScienceFiction',\n",
    "    10770: 'TvMovie',\n",
    "    53: 'Thriller',\n",
    "    10752: 'War',\n",
    "    37: 'Western'\n",
    "}\n",
    "genres = list(genre_map.values())\n",
    "\n",
    "# add new columns with initial value of zero\n",
    "df[list(genre_map.values())] = 0\n",
    "df.head()\n",
    "\n"
   ]
  },
  {
   "cell_type": "code",
   "execution_count": 84,
   "metadata": {},
   "outputs": [],
   "source": [
    "# function to iterate over the genres and do the one-hot encoding\n",
    "\n",
    "def set_genre_values(df):\n",
    "    for i in range(len(df)):\n",
    "        genres = ast.literal_eval(df.iloc[i]['GenreIds'])\n",
    "        for genre in genres:\n",
    "            df.loc[i, genre_map[genre]] = 1"
   ]
  },
  {
   "cell_type": "code",
   "execution_count": 85,
   "metadata": {},
   "outputs": [],
   "source": [
    "# preprocessing of column 'GenreIds' to add 1 where the genre is applicable\n",
    "set_genre_values(df)"
   ]
  },
  {
   "cell_type": "code",
   "execution_count": 86,
   "metadata": {},
   "outputs": [
    {
     "data": {
      "text/html": [
       "<div>\n",
       "<style scoped>\n",
       "    .dataframe tbody tr th:only-of-type {\n",
       "        vertical-align: middle;\n",
       "    }\n",
       "\n",
       "    .dataframe tbody tr th {\n",
       "        vertical-align: top;\n",
       "    }\n",
       "\n",
       "    .dataframe thead th {\n",
       "        text-align: right;\n",
       "    }\n",
       "</style>\n",
       "<table border=\"1\" class=\"dataframe\">\n",
       "  <thead>\n",
       "    <tr style=\"text-align: right;\">\n",
       "      <th></th>\n",
       "      <th>Action</th>\n",
       "      <th>Adventure</th>\n",
       "      <th>Animation</th>\n",
       "      <th>Comedy</th>\n",
       "      <th>Crime</th>\n",
       "      <th>Documentary</th>\n",
       "      <th>Drama</th>\n",
       "      <th>Family</th>\n",
       "      <th>Fantasy</th>\n",
       "      <th>History</th>\n",
       "      <th>Horror</th>\n",
       "      <th>Music</th>\n",
       "      <th>Mystery</th>\n",
       "      <th>Romance</th>\n",
       "      <th>ScienceFiction</th>\n",
       "      <th>TvMovie</th>\n",
       "      <th>Thriller</th>\n",
       "      <th>War</th>\n",
       "      <th>Western</th>\n",
       "    </tr>\n",
       "  </thead>\n",
       "  <tbody>\n",
       "    <tr>\n",
       "      <th>0</th>\n",
       "      <td>1</td>\n",
       "      <td>1</td>\n",
       "      <td>0</td>\n",
       "      <td>0</td>\n",
       "      <td>0</td>\n",
       "      <td>0</td>\n",
       "      <td>0</td>\n",
       "      <td>0</td>\n",
       "      <td>0</td>\n",
       "      <td>0</td>\n",
       "      <td>0</td>\n",
       "      <td>0</td>\n",
       "      <td>0</td>\n",
       "      <td>0</td>\n",
       "      <td>0</td>\n",
       "      <td>0</td>\n",
       "      <td>1</td>\n",
       "      <td>0</td>\n",
       "      <td>0</td>\n",
       "    </tr>\n",
       "    <tr>\n",
       "      <th>1</th>\n",
       "      <td>1</td>\n",
       "      <td>0</td>\n",
       "      <td>0</td>\n",
       "      <td>0</td>\n",
       "      <td>1</td>\n",
       "      <td>0</td>\n",
       "      <td>0</td>\n",
       "      <td>0</td>\n",
       "      <td>0</td>\n",
       "      <td>0</td>\n",
       "      <td>0</td>\n",
       "      <td>0</td>\n",
       "      <td>0</td>\n",
       "      <td>0</td>\n",
       "      <td>0</td>\n",
       "      <td>0</td>\n",
       "      <td>1</td>\n",
       "      <td>0</td>\n",
       "      <td>0</td>\n",
       "    </tr>\n",
       "    <tr>\n",
       "      <th>2</th>\n",
       "      <td>1</td>\n",
       "      <td>0</td>\n",
       "      <td>1</td>\n",
       "      <td>0</td>\n",
       "      <td>0</td>\n",
       "      <td>0</td>\n",
       "      <td>0</td>\n",
       "      <td>0</td>\n",
       "      <td>1</td>\n",
       "      <td>0</td>\n",
       "      <td>0</td>\n",
       "      <td>0</td>\n",
       "      <td>0</td>\n",
       "      <td>0</td>\n",
       "      <td>0</td>\n",
       "      <td>0</td>\n",
       "      <td>0</td>\n",
       "      <td>0</td>\n",
       "      <td>0</td>\n",
       "    </tr>\n",
       "    <tr>\n",
       "      <th>3</th>\n",
       "      <td>1</td>\n",
       "      <td>0</td>\n",
       "      <td>0</td>\n",
       "      <td>0</td>\n",
       "      <td>0</td>\n",
       "      <td>0</td>\n",
       "      <td>0</td>\n",
       "      <td>0</td>\n",
       "      <td>0</td>\n",
       "      <td>0</td>\n",
       "      <td>0</td>\n",
       "      <td>0</td>\n",
       "      <td>0</td>\n",
       "      <td>0</td>\n",
       "      <td>0</td>\n",
       "      <td>0</td>\n",
       "      <td>1</td>\n",
       "      <td>0</td>\n",
       "      <td>0</td>\n",
       "    </tr>\n",
       "    <tr>\n",
       "      <th>4</th>\n",
       "      <td>0</td>\n",
       "      <td>0</td>\n",
       "      <td>0</td>\n",
       "      <td>0</td>\n",
       "      <td>0</td>\n",
       "      <td>0</td>\n",
       "      <td>1</td>\n",
       "      <td>0</td>\n",
       "      <td>0</td>\n",
       "      <td>0</td>\n",
       "      <td>0</td>\n",
       "      <td>0</td>\n",
       "      <td>0</td>\n",
       "      <td>0</td>\n",
       "      <td>0</td>\n",
       "      <td>0</td>\n",
       "      <td>1</td>\n",
       "      <td>0</td>\n",
       "      <td>0</td>\n",
       "    </tr>\n",
       "  </tbody>\n",
       "</table>\n",
       "</div>"
      ],
      "text/plain": [
       "   Action  Adventure  Animation  Comedy  Crime  Documentary  Drama  Family  \\\n",
       "0       1          1          0       0      0            0      0       0   \n",
       "1       1          0          0       0      1            0      0       0   \n",
       "2       1          0          1       0      0            0      0       0   \n",
       "3       1          0          0       0      0            0      0       0   \n",
       "4       0          0          0       0      0            0      1       0   \n",
       "\n",
       "   Fantasy  History   Horror  Music  Mystery  Romance  ScienceFiction  \\\n",
       "0        0         0       0      0        0        0               0   \n",
       "1        0         0       0      0        0        0               0   \n",
       "2        1         0       0      0        0        0               0   \n",
       "3        0         0       0      0        0        0               0   \n",
       "4        0         0       0      0        0        0               0   \n",
       "\n",
       "   TvMovie  Thriller  War  Western  \n",
       "0        0         1    0        0  \n",
       "1        0         1    0        0  \n",
       "2        0         0    0        0  \n",
       "3        0         1    0        0  \n",
       "4        0         1    0        0  "
      ]
     },
     "execution_count": 86,
     "metadata": {},
     "output_type": "execute_result"
    }
   ],
   "source": [
    "#checking the results\n",
    "df[genres].head()"
   ]
  },
  {
   "cell_type": "code",
   "execution_count": 87,
   "metadata": {},
   "outputs": [],
   "source": [
    "# dropping the GenreIds\n",
    "\n",
    "df.drop('GenreIds', axis=1, inplace=True)"
   ]
  },
  {
   "cell_type": "markdown",
   "metadata": {},
   "source": [
    "Processing of ProductionCompanies and ProductionCountries"
   ]
  },
  {
   "cell_type": "code",
   "execution_count": 88,
   "metadata": {},
   "outputs": [],
   "source": [
    "# Function create a mapping object\n",
    "def get_feature_mapper(df, column):\n",
    "    '''This functions creates an object to map the categorical name to the rows'''\n",
    "    result = {}\n",
    "    for i in range(len(df)):\n",
    "        items = ast.literal_eval(df.loc[i, column])\n",
    "        for item in items:\n",
    "            name = item['name']\n",
    "            if name in result.keys():\n",
    "                result[name].append(i)\n",
    "            else:\n",
    "                result[name] = []\n",
    "    return result\n",
    "    \n"
   ]
  },
  {
   "cell_type": "code",
   "execution_count": 89,
   "metadata": {},
   "outputs": [
    {
     "data": {
      "text/plain": [
       "9980"
      ]
     },
     "execution_count": 89,
     "metadata": {},
     "output_type": "execute_result"
    }
   ],
   "source": [
    "# checking the cardinality for the column ProductionCompanies\n",
    "prod_comp_map = get_feature_mapper(df, 'ProductionCompanies')\n",
    "len(prod_comp_map.keys())"
   ]
  },
  {
   "cell_type": "markdown",
   "metadata": {},
   "source": [
    "The cardinality for the column ProductionCompanies is high, with 9980 different production companies. Therefore, we won't consider this column as it might not be discriminative enough."
   ]
  },
  {
   "cell_type": "code",
   "execution_count": 90,
   "metadata": {},
   "outputs": [],
   "source": [
    "# eliminating the column ProductionCompanies\n",
    "df.drop('ProductionCompanies', axis=1, inplace=True)"
   ]
  },
  {
   "cell_type": "code",
   "execution_count": 91,
   "metadata": {},
   "outputs": [
    {
     "data": {
      "text/plain": [
       "107"
      ]
     },
     "execution_count": 91,
     "metadata": {},
     "output_type": "execute_result"
    }
   ],
   "source": [
    "# checking the cardinality for the column ProductionCountries\n",
    "prod_contries_map = get_feature_mapper(df, 'ProductionCountries')\n",
    "len(prod_contries_map.keys())"
   ]
  },
  {
   "cell_type": "code",
   "execution_count": 92,
   "metadata": {},
   "outputs": [
    {
     "data": {
      "text/plain": [
       "dict_keys(['United States of America', 'Italy', 'Spain', 'South Korea', 'China', 'India', 'Canada', 'France', 'Australia', 'United Kingdom', 'Germany', 'Brazil', 'Mexico', 'Japan', 'Russia', 'Sweden', 'United Arab Emirates', 'Nigeria', 'Poland', 'Serbia', 'Ukraine', 'Thailand', 'Finland', 'Norway', 'Switzerland', 'Bangladesh', 'Austria', 'Kazakhstan', 'Belgium', 'Hong Kong', 'Cyprus', 'Greece', 'Denmark', 'Ireland', 'New Zealand', 'Chile', 'Philippines', 'Singapore', 'Taiwan', 'Puerto Rico', 'Iceland', 'Argentina', 'Czech Republic', 'Colombia', 'Peru', 'Bulgaria', 'Netherlands', 'Hungary', 'South Africa', 'Latvia', 'Dominican Republic', 'Uruguay', 'Venezuela', 'Malta', 'Turkey', 'Saudi Arabia', 'Portugal', 'Morocco', 'Slovenia', 'Israel', 'Luxembourg', 'Indonesia', 'Panama', 'Bolivia', 'Romania', 'Guadaloupe', 'Iran', 'Costa Rica', 'Honduras', 'Albania', 'Jordan', 'Pakistan', 'Lithuania', 'Vietnam', 'Malawi', 'Soviet Union', 'Estonia', 'Botswana', 'Paraguay', 'Yugoslavia', 'Georgia', 'Slovakia', 'Malaysia', 'Mauritius', 'Guatemala', 'Macao', 'Jamaica', 'Lebanon', 'Qatar', 'Zimbabwe', 'Egypt', 'Senegal', 'Czechoslovakia', 'East Germany', 'Kenya', 'Solomon Islands', 'Cambodia', 'Iraq', 'Tunisia', 'Ecuador', 'Croatia', 'Liechtenstein', 'Namibia', 'Ghana', 'Bahamas', 'Aruba', 'Moldova'])"
      ]
     },
     "execution_count": 92,
     "metadata": {},
     "output_type": "execute_result"
    }
   ],
   "source": [
    "prod_contries_map.keys()"
   ]
  },
  {
   "cell_type": "markdown",
   "metadata": {},
   "source": [
    "The column ProductionCountries had high cardinality (107). On the other hand, we considered this column to be meaningful to the model. Therefore, we decided to reduce the number of columns by creating groups of production countries based on continents."
   ]
  },
  {
   "cell_type": "code",
   "execution_count": 93,
   "metadata": {},
   "outputs": [],
   "source": [
    "country_region = {\n",
    "    'United States of America': 'North America',\n",
    "    'Italy': 'Europe',\n",
    "    'Spain': 'Europe',\n",
    "    'South Korea': 'Asia',\n",
    "    'China': 'Asia',\n",
    "    'India': 'Asia',\n",
    "    'Canada': 'North America',\n",
    "    'France': 'Europe',\n",
    "    'Australia': 'Oceania',\n",
    "    'United Kingdom': 'Europe',\n",
    "    'Germany': 'Europe',\n",
    "    'Brazil': 'South America',\n",
    "    'Mexico': 'North America',\n",
    "    'Japan': 'Asia',\n",
    "    'Russia': 'Europe',\n",
    "    'Sweden': 'Europe',\n",
    "    'United Arab Emirates': 'Asia',\n",
    "    'Nigeria': 'Africa',\n",
    "    'Poland': 'Europe',\n",
    "    'Serbia': 'Europe',\n",
    "    'Ukraine': 'Europe',\n",
    "    'Thailand': 'Asia',\n",
    "    'Finland': 'Europe',\n",
    "    'Norway': 'Europe',\n",
    "    'Switzerland': 'Europe',\n",
    "    'Bangladesh': 'Asia',\n",
    "    'Austria': 'Europe',\n",
    "    'Kazakhstan': 'Asia',\n",
    "    'Belgium': 'Europe',\n",
    "    'Hong Kong': 'Asia',\n",
    "    'Cyprus': 'Europe',\n",
    "    'Greece': 'Europe',\n",
    "    'Denmark': 'Europe',\n",
    "    'Ireland': 'Europe',\n",
    "    'New Zealand': 'Oceania',\n",
    "    'Chile': 'South America',\n",
    "    'Philippines': 'Asia',\n",
    "    'Singapore': 'Asia',\n",
    "    'Taiwan': 'Asia',\n",
    "    'Puerto Rico': 'North America',\n",
    "    'Iceland': 'Europe',\n",
    "    'Argentina': 'South America',\n",
    "    'Czech Republic': 'Europe',\n",
    "    'Colombia': 'South America',\n",
    "    'Peru': 'South America',\n",
    "    'Bulgaria': 'Europe',\n",
    "    'Netherlands': 'Europe',\n",
    "    'Hungary': 'Europe',\n",
    "    'South Africa': 'Africa',\n",
    "    'Latvia': 'Europe',\n",
    "    'Dominican Republic': 'North America',\n",
    "    'Uruguay': 'South America',\n",
    "    'Venezuela': 'South America',\n",
    "    'Malta': 'Europe',\n",
    "    'Turkey': 'Asia',\n",
    "    'Saudi Arabia': 'Asia',\n",
    "    'Portugal': 'Europe',\n",
    "    'Morocco': 'Africa',\n",
    "    'Slovenia': 'Europe',\n",
    "    'Israel': 'Asia',\n",
    "    'Luxembourg': 'Europe',\n",
    "    'Indonesia': 'Asia',\n",
    "    'Panama': 'North America',\n",
    "    'Bolivia': 'South America',\n",
    "    'Romania': 'Europe',\n",
    "    'Guadaloupe': 'North America',\n",
    "    'Iran': 'Asia',\n",
    "    'Costa Rica': 'North America',\n",
    "    'Honduras': 'North America',\n",
    "    'Albania': 'Europe',\n",
    "    'Jordan': 'Asia',\n",
    "    'Pakistan': 'Asia',\n",
    "    'Lithuania': 'Europe',\n",
    "    'Vietnam': 'Asia',\n",
    "    'Malawi': 'Africa',\n",
    "    'Soviet Union': 'Europe',\n",
    "    'Estonia': 'Europe',\n",
    "    'Botswana': 'Africa',\n",
    "    'Paraguay': 'South America',\n",
    "    'Yugoslavia': 'Europe',\n",
    "    'Georgia': 'Asia',\n",
    "    'Slovakia': 'Europe',\n",
    "    'Malaysia': 'Asia',\n",
    "    'Mauritius': 'Africa',\n",
    "    'Guatemala': 'North America',\n",
    "    'Macao': 'Asia',\n",
    "    'Jamaica': 'North America',\n",
    "    'Lebanon': 'Asia',\n",
    "    'Qatar': 'Asia',\n",
    "    'Zimbabwe': 'Africa',\n",
    "    'Egypt': 'Africa',\n",
    "    'Senegal': 'Africa',\n",
    "    'Czechoslovakia': 'Europe',\n",
    "    'East Germany': 'Europe',\n",
    "    'Kenya': 'Africa',\n",
    "    'Solomon Islands': 'Oceania',\n",
    "    'Cambodia': 'Asia',\n",
    "    'Iraq': 'Asia',\n",
    "    'Tunisia': 'Africa',\n",
    "    'Ecuador': 'South America',\n",
    "    'Croatia': 'Europe',\n",
    "    'Liechtenstein': 'Europe',\n",
    "    'Namibia': 'Africa',\n",
    "    'Ghana': 'Africa',\n",
    "    'Bahamas': 'North America',\n",
    "    'Aruba': 'North America',\n",
    "    'Moldova': 'Europe'\n",
    "}"
   ]
  },
  {
   "cell_type": "code",
   "execution_count": 94,
   "metadata": {},
   "outputs": [],
   "source": [
    "# we modified the mapping dictionary with the continent instead of the country\n",
    "new_prod_contries_map = {}\n",
    "for country in prod_contries_map.keys():\n",
    "    continent = country_region[country]\n",
    "    if continent in new_prod_contries_map.keys():\n",
    "        new_prod_contries_map[continent] += prod_contries_map[country]\n",
    "    else:\n",
    "        new_prod_contries_map[continent]  = prod_contries_map[country]"
   ]
  },
  {
   "cell_type": "markdown",
   "metadata": {},
   "source": [
    "Using this strategy, we were able to reduce the cardinality for ProductionCountries from 107 to 6"
   ]
  },
  {
   "cell_type": "code",
   "execution_count": 95,
   "metadata": {},
   "outputs": [
    {
     "data": {
      "text/plain": [
       "['North America', 'Europe', 'Asia', 'Oceania', 'South America', 'Africa']"
      ]
     },
     "execution_count": 95,
     "metadata": {},
     "output_type": "execute_result"
    }
   ],
   "source": [
    "prod_places_columns = list(new_prod_contries_map.keys())\n",
    "prod_places_columns"
   ]
  },
  {
   "cell_type": "code",
   "execution_count": 96,
   "metadata": {},
   "outputs": [],
   "source": [
    "# create new columns in the dataframe with initial zero values\n",
    "\n",
    "df[prod_places_columns] = 0"
   ]
  },
  {
   "cell_type": "code",
   "execution_count": 97,
   "metadata": {},
   "outputs": [],
   "source": [
    "# updating the values in each new column using the new_prod_contries_map\n",
    "\n",
    "def update_continent_columns(new_prod_contries_map):\n",
    "    '''update the data frame prod continent columns'''\n",
    "    for con in new_prod_contries_map.keys():\n",
    "        indexes = new_prod_contries_map[con]\n",
    "        for i in indexes:\n",
    "            df.loc[i, con] = 1\n"
   ]
  },
  {
   "cell_type": "code",
   "execution_count": 98,
   "metadata": {},
   "outputs": [],
   "source": [
    "# update the continent columns\n",
    "update_continent_columns(new_prod_contries_map)"
   ]
  },
  {
   "cell_type": "code",
   "execution_count": 99,
   "metadata": {},
   "outputs": [
    {
     "data": {
      "text/html": [
       "<div>\n",
       "<style scoped>\n",
       "    .dataframe tbody tr th:only-of-type {\n",
       "        vertical-align: middle;\n",
       "    }\n",
       "\n",
       "    .dataframe tbody tr th {\n",
       "        vertical-align: top;\n",
       "    }\n",
       "\n",
       "    .dataframe thead th {\n",
       "        text-align: right;\n",
       "    }\n",
       "</style>\n",
       "<table border=\"1\" class=\"dataframe\">\n",
       "  <thead>\n",
       "    <tr style=\"text-align: right;\">\n",
       "      <th></th>\n",
       "      <th>North America</th>\n",
       "      <th>Europe</th>\n",
       "      <th>Asia</th>\n",
       "      <th>Oceania</th>\n",
       "      <th>South America</th>\n",
       "      <th>Africa</th>\n",
       "    </tr>\n",
       "  </thead>\n",
       "  <tbody>\n",
       "    <tr>\n",
       "      <th>0</th>\n",
       "      <td>0</td>\n",
       "      <td>0</td>\n",
       "      <td>0</td>\n",
       "      <td>0</td>\n",
       "      <td>0</td>\n",
       "      <td>0</td>\n",
       "    </tr>\n",
       "    <tr>\n",
       "      <th>1</th>\n",
       "      <td>1</td>\n",
       "      <td>0</td>\n",
       "      <td>0</td>\n",
       "      <td>0</td>\n",
       "      <td>0</td>\n",
       "      <td>0</td>\n",
       "    </tr>\n",
       "    <tr>\n",
       "      <th>2</th>\n",
       "      <td>1</td>\n",
       "      <td>0</td>\n",
       "      <td>0</td>\n",
       "      <td>0</td>\n",
       "      <td>0</td>\n",
       "      <td>0</td>\n",
       "    </tr>\n",
       "    <tr>\n",
       "      <th>3</th>\n",
       "      <td>1</td>\n",
       "      <td>0</td>\n",
       "      <td>0</td>\n",
       "      <td>0</td>\n",
       "      <td>0</td>\n",
       "      <td>0</td>\n",
       "    </tr>\n",
       "    <tr>\n",
       "      <th>4</th>\n",
       "      <td>0</td>\n",
       "      <td>0</td>\n",
       "      <td>0</td>\n",
       "      <td>0</td>\n",
       "      <td>0</td>\n",
       "      <td>0</td>\n",
       "    </tr>\n",
       "  </tbody>\n",
       "</table>\n",
       "</div>"
      ],
      "text/plain": [
       "   North America  Europe  Asia  Oceania  South America  Africa\n",
       "0              0       0     0        0              0       0\n",
       "1              1       0     0        0              0       0\n",
       "2              1       0     0        0              0       0\n",
       "3              1       0     0        0              0       0\n",
       "4              0       0     0        0              0       0"
      ]
     },
     "execution_count": 99,
     "metadata": {},
     "output_type": "execute_result"
    }
   ],
   "source": [
    "# checking resulting columns\n",
    "df[prod_places_columns].head()"
   ]
  },
  {
   "cell_type": "code",
   "execution_count": 100,
   "metadata": {},
   "outputs": [],
   "source": [
    "# dropping the ProductionCountries column\n",
    "df.drop('ProductionCountries', axis=1, inplace=True)"
   ]
  },
  {
   "cell_type": "code",
   "execution_count": 101,
   "metadata": {},
   "outputs": [
    {
     "data": {
      "text/plain": [
       "Index(['Id', 'OriginalLanguage', 'OriginalTitle', 'Overview', 'Popularity',\n",
       "       'ReleaseDate', 'Title', 'VoteAverage', 'VoteCount', 'Budget', 'TagLine',\n",
       "       'RunTime', 'Revenue', 'Action', 'Adventure', 'Animation', 'Comedy',\n",
       "       'Crime', 'Documentary', 'Drama', 'Family', 'Fantasy', 'History ',\n",
       "       'Horror', 'Music', 'Mystery', 'Romance', 'ScienceFiction', 'TvMovie',\n",
       "       'Thriller', 'War', 'Western', 'North America', 'Europe', 'Asia',\n",
       "       'Oceania', 'South America', 'Africa'],\n",
       "      dtype='object')"
      ]
     },
     "execution_count": 101,
     "metadata": {},
     "output_type": "execute_result"
    }
   ],
   "source": [
    "df.columns"
   ]
  },
  {
   "cell_type": "markdown",
   "metadata": {},
   "source": [
    "The column OriginalLanguage presents a high cardinality of 50; we looked to reduce this cardinality."
   ]
  },
  {
   "cell_type": "code",
   "execution_count": null,
   "metadata": {},
   "outputs": [],
   "source": [
    "# calculate OriginalLanguage cardinality\n",
    "len(df['OriginalLanguage'].unique())"
   ]
  },
  {
   "cell_type": "code",
   "execution_count": null,
   "metadata": {},
   "outputs": [],
   "source": [
    "# understanding then column\n",
    "df['OriginalLanguage'].head(5)"
   ]
  },
  {
   "cell_type": "code",
   "execution_count": 111,
   "metadata": {},
   "outputs": [
    {
     "data": {
      "text/html": [
       "<div>\n",
       "<style scoped>\n",
       "    .dataframe tbody tr th:only-of-type {\n",
       "        vertical-align: middle;\n",
       "    }\n",
       "\n",
       "    .dataframe tbody tr th {\n",
       "        vertical-align: top;\n",
       "    }\n",
       "\n",
       "    .dataframe thead th {\n",
       "        text-align: right;\n",
       "    }\n",
       "</style>\n",
       "<table border=\"1\" class=\"dataframe\">\n",
       "  <thead>\n",
       "    <tr style=\"text-align: right;\">\n",
       "      <th></th>\n",
       "      <th>Id</th>\n",
       "    </tr>\n",
       "    <tr>\n",
       "      <th>OriginalLanguage</th>\n",
       "      <th></th>\n",
       "    </tr>\n",
       "  </thead>\n",
       "  <tbody>\n",
       "    <tr>\n",
       "      <th>ar</th>\n",
       "      <td>5</td>\n",
       "    </tr>\n",
       "  </tbody>\n",
       "</table>\n",
       "</div>"
      ],
      "text/plain": [
       "                  Id\n",
       "OriginalLanguage    \n",
       "ar                 5"
      ]
     },
     "execution_count": 111,
     "metadata": {},
     "output_type": "execute_result"
    }
   ],
   "source": [
    "ol_df = df.groupby('OriginalLanguage')[['Id']].count()\n",
    "ol_df.head(1)"
   ]
  },
  {
   "cell_type": "code",
   "execution_count": 116,
   "metadata": {},
   "outputs": [
    {
     "data": {
      "text/plain": [
       "<BarContainer object of 50 artists>"
      ]
     },
     "execution_count": 116,
     "metadata": {},
     "output_type": "execute_result"
    },
    {
     "data": {
      "image/png": "[encoded data removed]",
      "text/plain": [
       "<Figure size 2000x800 with 1 Axes>"
      ]
     },
     "metadata": {},
     "output_type": "display_data"
    }
   ],
   "source": [
    "# Visualizing category distribution for original language\n",
    "plt.figure(figsize=(20, 8))\n",
    "plt.bar(ol_df.index, ol_df['Id'])"
   ]
  },
  {
   "cell_type": "markdown",
   "metadata": {},
   "source": [
    "As can be seen, English 'en' has a considerable share compared to other languages. Therefore, we are going to limit this to two categories only, English and not_english"
   ]
  },
  {
   "cell_type": "code",
   "execution_count": 118,
   "metadata": {},
   "outputs": [],
   "source": [
    "# method to transform OriginalLanguage\n",
    "def replace_language(item):\n",
    "    '''function to replace the original language by a binary form'''\n",
    "    if item == 'en':\n",
    "        return 1\n",
    "    else:\n",
    "        return 0"
   ]
  },
  {
   "cell_type": "code",
   "execution_count": 119,
   "metadata": {},
   "outputs": [],
   "source": [
    "df['OriginalLanguage'] = df['OriginalLanguage'].apply(replace_language)"
   ]
  },
  {
   "cell_type": "code",
   "execution_count": 120,
   "metadata": {},
   "outputs": [
    {
     "data": {
      "text/plain": [
       "0    1\n",
       "1    1\n",
       "2    1\n",
       "3    1\n",
       "4    0\n",
       "Name: OriginalLanguage, dtype: int64"
      ]
     },
     "execution_count": 120,
     "metadata": {},
     "output_type": "execute_result"
    }
   ],
   "source": [
    "df['OriginalLanguage'].head()"
   ]
  },
  {
   "cell_type": "code",
   "execution_count": 121,
   "metadata": {},
   "outputs": [
    {
     "data": {
      "text/plain": [
       "Id                           int64\n",
       "OriginalLanguage             int64\n",
       "OriginalTitle               object\n",
       "Overview                    object\n",
       "Popularity                 float64\n",
       "ReleaseDate         datetime64[ns]\n",
       "Title                       object\n",
       "VoteAverage                float64\n",
       "VoteCount                    int64\n",
       "Budget                       int64\n",
       "TagLine                     object\n",
       "RunTime                      int64\n",
       "Revenue                      int64\n",
       "Action                       int64\n",
       "Adventure                    int64\n",
       "Animation                    int64\n",
       "Comedy                       int64\n",
       "Crime                        int64\n",
       "Documentary                  int64\n",
       "Drama                        int64\n",
       "Family                       int64\n",
       "Fantasy                      int64\n",
       "History                      int64\n",
       "Horror                       int64\n",
       "Music                        int64\n",
       "Mystery                      int64\n",
       "Romance                      int64\n",
       "ScienceFiction               int64\n",
       "TvMovie                      int64\n",
       "Thriller                     int64\n",
       "War                          int64\n",
       "Western                      int64\n",
       "North America                int64\n",
       "Europe                       int64\n",
       "Asia                         int64\n",
       "Oceania                      int64\n",
       "South America                int64\n",
       "Africa                       int64\n",
       "dtype: object"
      ]
     },
     "execution_count": 121,
     "metadata": {},
     "output_type": "execute_result"
    }
   ],
   "source": [
    "df.dtypes"
   ]
  },
  {
   "cell_type": "code",
   "execution_count": 122,
   "metadata": {},
   "outputs": [
    {
     "data": {
      "text/plain": [
       "Index(['Id', 'OriginalLanguage', 'OriginalTitle', 'Overview', 'Popularity',\n",
       "       'ReleaseDate', 'Title', 'VoteAverage', 'VoteCount', 'Budget', 'TagLine',\n",
       "       'RunTime', 'Revenue', 'Action', 'Adventure', 'Animation', 'Comedy',\n",
       "       'Crime', 'Documentary', 'Drama', 'Family', 'Fantasy', 'History ',\n",
       "       'Horror', 'Music', 'Mystery', 'Romance', 'ScienceFiction', 'TvMovie',\n",
       "       'Thriller', 'War', 'Western', 'North America', 'Europe', 'Asia',\n",
       "       'Oceania', 'South America', 'Africa'],\n",
       "      dtype='object')"
      ]
     },
     "execution_count": 122,
     "metadata": {},
     "output_type": "execute_result"
    }
   ],
   "source": [
    "df.columns"
   ]
  },
  {
   "cell_type": "markdown",
   "metadata": {},
   "source": [
    "Note: In this second section, we discovered the data separating numerical from categoricals, then applied different strategies to transform the categoricals from plain text to numerical values; we had to use some assumptions to reduce the cardinality in some of the categorical data."
   ]
  },
  {
   "cell_type": "markdown",
   "metadata": {},
   "source": [
    "### 3. Inspect and impute nulls"
   ]
  },
  {
   "cell_type": "code",
   "execution_count": 124,
   "metadata": {},
   "outputs": [
    {
     "data": {
      "text/plain": [
       "Id                     0\n",
       "OriginalLanguage       0\n",
       "OriginalTitle          0\n",
       "Overview              51\n",
       "Popularity             0\n",
       "ReleaseDate           21\n",
       "Title                  0\n",
       "VoteAverage            0\n",
       "VoteCount              0\n",
       "Budget                 0\n",
       "TagLine             2413\n",
       "RunTime                0\n",
       "Revenue                0\n",
       "Action                 0\n",
       "Adventure              0\n",
       "Animation              0\n",
       "Comedy                 0\n",
       "Crime                  0\n",
       "Documentary            0\n",
       "Drama                  0\n",
       "Family                 0\n",
       "Fantasy                0\n",
       "History                0\n",
       "Horror                 0\n",
       "Music                  0\n",
       "Mystery                0\n",
       "Romance                0\n",
       "ScienceFiction         0\n",
       "TvMovie                0\n",
       "Thriller               0\n",
       "War                    0\n",
       "Western                0\n",
       "North America          0\n",
       "Europe                 0\n",
       "Asia                   0\n",
       "Oceania                0\n",
       "South America          0\n",
       "Africa                 0\n",
       "dtype: int64"
      ]
     },
     "execution_count": 124,
     "metadata": {},
     "output_type": "execute_result"
    }
   ],
   "source": [
    "#checking number of nulls by column\n",
    "df.isna().sum()"
   ]
  },
  {
   "cell_type": "code",
   "execution_count": 139,
   "metadata": {},
   "outputs": [],
   "source": [
    "#Impute nulls in Overview and TagLinere, placing by empty string\n",
    "\n",
    "df['Overview'].fillna('', inplace=True)\n",
    "df['TagLine'].fillna('', inplace=True)"
   ]
  },
  {
   "cell_type": "code",
   "execution_count": 134,
   "metadata": {},
   "outputs": [
    {
     "data": {
      "text/plain": [
       "(9979, 38)"
      ]
     },
     "execution_count": 134,
     "metadata": {},
     "output_type": "execute_result"
    }
   ],
   "source": [
    "# Remove nulls in ReleaseDate, there are just 21 records and there is not a reasonable way to impute the date of release\n",
    "\n",
    "df.dropna(subset=['ReleaseDate'], inplace=True)\n",
    "df.shape\n"
   ]
  },
  {
   "cell_type": "code",
   "execution_count": 140,
   "metadata": {},
   "outputs": [
    {
     "data": {
      "text/plain": [
       "Id                  0\n",
       "OriginalLanguage    0\n",
       "OriginalTitle       0\n",
       "Overview            0\n",
       "Popularity          0\n",
       "ReleaseDate         0\n",
       "Title               0\n",
       "VoteAverage         0\n",
       "VoteCount           0\n",
       "Budget              0\n",
       "TagLine             0\n",
       "RunTime             0\n",
       "Revenue             0\n",
       "Action              0\n",
       "Adventure           0\n",
       "Animation           0\n",
       "Comedy              0\n",
       "Crime               0\n",
       "Documentary         0\n",
       "Drama               0\n",
       "Family              0\n",
       "Fantasy             0\n",
       "History             0\n",
       "Horror              0\n",
       "Music               0\n",
       "Mystery             0\n",
       "Romance             0\n",
       "ScienceFiction      0\n",
       "TvMovie             0\n",
       "Thriller            0\n",
       "War                 0\n",
       "Western             0\n",
       "North America       0\n",
       "Europe              0\n",
       "Asia                0\n",
       "Oceania             0\n",
       "South America       0\n",
       "Africa              0\n",
       "dtype: int64"
      ]
     },
     "execution_count": 140,
     "metadata": {},
     "output_type": "execute_result"
    }
   ],
   "source": [
    "#checking number of nulls by column\n",
    "df.isna().sum()"
   ]
  },
  {
   "cell_type": "markdown",
   "metadata": {},
   "source": [
    "Note: we removed the nulls by replacing them with empty strings in the text columns and removing the whole rows in ReleaseDate. This last one, considering there were just a few nulls (21) and no reasonable way to impute the values."
   ]
  },
  {
   "cell_type": "markdown",
   "metadata": {},
   "source": [
    "### 4. Inspect and correct duplicated rows"
   ]
  },
  {
   "cell_type": "code",
   "execution_count": 142,
   "metadata": {},
   "outputs": [
    {
     "data": {
      "text/plain": [
       "0"
      ]
     },
     "execution_count": 142,
     "metadata": {},
     "output_type": "execute_result"
    }
   ],
   "source": [
    "df.duplicated().sum()"
   ]
  },
  {
   "cell_type": "markdown",
   "metadata": {},
   "source": [
    "Note: There were not duplicated rows"
   ]
  },
  {
   "cell_type": "markdown",
   "metadata": {},
   "source": [
    "### 5. create new cleaned dataset (movies_cleaned.csv)"
   ]
  },
  {
   "cell_type": "code",
   "execution_count": 146,
   "metadata": {},
   "outputs": [],
   "source": [
    "# store final clearned dataset in CSV\n",
    "\n",
    "df.to_csv('movies_cleaned.csv', index=False)"
   ]
  },
  {
   "cell_type": "markdown",
   "metadata": {},
   "source": [
    " ##  Outliers Identification"
   ]
  },
  {
   "cell_type": "code",
   "execution_count": 9,
   "metadata": {},
   "outputs": [
    {
     "data": {
      "text/html": [
       "<div>\n",
       "<style scoped>\n",
       "    .dataframe tbody tr th:only-of-type {\n",
       "        vertical-align: middle;\n",
       "    }\n",
       "\n",
       "    .dataframe tbody tr th {\n",
       "        vertical-align: top;\n",
       "    }\n",
       "\n",
       "    .dataframe thead th {\n",
       "        text-align: right;\n",
       "    }\n",
       "</style>\n",
       "<table border=\"1\" class=\"dataframe\">\n",
       "  <thead>\n",
       "    <tr style=\"text-align: right;\">\n",
       "      <th></th>\n",
       "      <th>OriginalLanguage</th>\n",
       "      <th>OriginalTitle</th>\n",
       "      <th>Overview</th>\n",
       "      <th>Popularity</th>\n",
       "      <th>ReleaseDate</th>\n",
       "      <th>Title</th>\n",
       "      <th>VoteAverage</th>\n",
       "      <th>VoteCount</th>\n",
       "      <th>Budget</th>\n",
       "      <th>TagLine</th>\n",
       "      <th>...</th>\n",
       "      <th>TvMovie</th>\n",
       "      <th>Thriller</th>\n",
       "      <th>War</th>\n",
       "      <th>Western</th>\n",
       "      <th>North America</th>\n",
       "      <th>Europe</th>\n",
       "      <th>Asia</th>\n",
       "      <th>Oceania</th>\n",
       "      <th>South America</th>\n",
       "      <th>Africa</th>\n",
       "    </tr>\n",
       "    <tr>\n",
       "      <th>Id</th>\n",
       "      <th></th>\n",
       "      <th></th>\n",
       "      <th></th>\n",
       "      <th></th>\n",
       "      <th></th>\n",
       "      <th></th>\n",
       "      <th></th>\n",
       "      <th></th>\n",
       "      <th></th>\n",
       "      <th></th>\n",
       "      <th></th>\n",
       "      <th></th>\n",
       "      <th></th>\n",
       "      <th></th>\n",
       "      <th></th>\n",
       "      <th></th>\n",
       "      <th></th>\n",
       "      <th></th>\n",
       "      <th></th>\n",
       "      <th></th>\n",
       "      <th></th>\n",
       "    </tr>\n",
       "  </thead>\n",
       "  <tbody>\n",
       "    <tr>\n",
       "      <th>299054</th>\n",
       "      <td>1</td>\n",
       "      <td>Expend4bles</td>\n",
       "      <td>Armed with every weapon they can get their han...</td>\n",
       "      <td>3741.062</td>\n",
       "      <td>2023-09-15</td>\n",
       "      <td>Expend4bles</td>\n",
       "      <td>6.4</td>\n",
       "      <td>364</td>\n",
       "      <td>100000000</td>\n",
       "      <td>They'll die when they're dead.</td>\n",
       "      <td>...</td>\n",
       "      <td>0</td>\n",
       "      <td>1</td>\n",
       "      <td>0</td>\n",
       "      <td>0</td>\n",
       "      <td>0</td>\n",
       "      <td>0</td>\n",
       "      <td>0</td>\n",
       "      <td>0</td>\n",
       "      <td>0</td>\n",
       "      <td>0</td>\n",
       "    </tr>\n",
       "    <tr>\n",
       "      <th>926393</th>\n",
       "      <td>1</td>\n",
       "      <td>The Equalizer 3</td>\n",
       "      <td>Robert McCall finds himself at home in Souther...</td>\n",
       "      <td>2471.515</td>\n",
       "      <td>2023-08-30</td>\n",
       "      <td>The Equalizer 3</td>\n",
       "      <td>7.3</td>\n",
       "      <td>1027</td>\n",
       "      <td>70000000</td>\n",
       "      <td>Justice knows no borders.</td>\n",
       "      <td>...</td>\n",
       "      <td>0</td>\n",
       "      <td>1</td>\n",
       "      <td>0</td>\n",
       "      <td>0</td>\n",
       "      <td>1</td>\n",
       "      <td>0</td>\n",
       "      <td>0</td>\n",
       "      <td>0</td>\n",
       "      <td>0</td>\n",
       "      <td>0</td>\n",
       "    </tr>\n",
       "    <tr>\n",
       "      <th>1034062</th>\n",
       "      <td>1</td>\n",
       "      <td>Mortal Kombat Legends: Cage Match</td>\n",
       "      <td>In 1980s Hollywood, action star Johnny Cage is...</td>\n",
       "      <td>2223.430</td>\n",
       "      <td>2023-10-17</td>\n",
       "      <td>Mortal Kombat Legends: Cage Match</td>\n",
       "      <td>7.8</td>\n",
       "      <td>27</td>\n",
       "      <td>0</td>\n",
       "      <td>Neon lights... Suits with shoulder pads... Jum...</td>\n",
       "      <td>...</td>\n",
       "      <td>0</td>\n",
       "      <td>0</td>\n",
       "      <td>0</td>\n",
       "      <td>0</td>\n",
       "      <td>1</td>\n",
       "      <td>0</td>\n",
       "      <td>0</td>\n",
       "      <td>0</td>\n",
       "      <td>0</td>\n",
       "      <td>0</td>\n",
       "    </tr>\n",
       "    <tr>\n",
       "      <th>575264</th>\n",
       "      <td>1</td>\n",
       "      <td>Mission: Impossible - Dead Reckoning Part One</td>\n",
       "      <td>Ethan Hunt and his IMF team embark on their mo...</td>\n",
       "      <td>2032.927</td>\n",
       "      <td>2023-07-08</td>\n",
       "      <td>Mission: Impossible - Dead Reckoning Part One</td>\n",
       "      <td>7.7</td>\n",
       "      <td>1799</td>\n",
       "      <td>291000000</td>\n",
       "      <td>We all share the same fate.</td>\n",
       "      <td>...</td>\n",
       "      <td>0</td>\n",
       "      <td>1</td>\n",
       "      <td>0</td>\n",
       "      <td>0</td>\n",
       "      <td>1</td>\n",
       "      <td>0</td>\n",
       "      <td>0</td>\n",
       "      <td>0</td>\n",
       "      <td>0</td>\n",
       "      <td>0</td>\n",
       "    </tr>\n",
       "    <tr>\n",
       "      <th>1151534</th>\n",
       "      <td>0</td>\n",
       "      <td>Nowhere</td>\n",
       "      <td>A young pregnant woman named Mia escapes from ...</td>\n",
       "      <td>1627.678</td>\n",
       "      <td>2023-09-29</td>\n",
       "      <td>Nowhere</td>\n",
       "      <td>7.6</td>\n",
       "      <td>686</td>\n",
       "      <td>0</td>\n",
       "      <td>Attempting to survive in the middle of nowhere...</td>\n",
       "      <td>...</td>\n",
       "      <td>0</td>\n",
       "      <td>1</td>\n",
       "      <td>0</td>\n",
       "      <td>0</td>\n",
       "      <td>0</td>\n",
       "      <td>0</td>\n",
       "      <td>0</td>\n",
       "      <td>0</td>\n",
       "      <td>0</td>\n",
       "      <td>0</td>\n",
       "    </tr>\n",
       "  </tbody>\n",
       "</table>\n",
       "<p>5 rows × 37 columns</p>\n",
       "</div>"
      ],
      "text/plain": [
       "         OriginalLanguage                                  OriginalTitle  \\\n",
       "Id                                                                         \n",
       "299054                  1                                    Expend4bles   \n",
       "926393                  1                                The Equalizer 3   \n",
       "1034062                 1              Mortal Kombat Legends: Cage Match   \n",
       "575264                  1  Mission: Impossible - Dead Reckoning Part One   \n",
       "1151534                 0                                        Nowhere   \n",
       "\n",
       "                                                  Overview  Popularity  \\\n",
       "Id                                                                       \n",
       "299054   Armed with every weapon they can get their han...    3741.062   \n",
       "926393   Robert McCall finds himself at home in Souther...    2471.515   \n",
       "1034062  In 1980s Hollywood, action star Johnny Cage is...    2223.430   \n",
       "575264   Ethan Hunt and his IMF team embark on their mo...    2032.927   \n",
       "1151534  A young pregnant woman named Mia escapes from ...    1627.678   \n",
       "\n",
       "        ReleaseDate                                          Title  \\\n",
       "Id                                                                   \n",
       "299054   2023-09-15                                    Expend4bles   \n",
       "926393   2023-08-30                                The Equalizer 3   \n",
       "1034062  2023-10-17              Mortal Kombat Legends: Cage Match   \n",
       "575264   2023-07-08  Mission: Impossible - Dead Reckoning Part One   \n",
       "1151534  2023-09-29                                        Nowhere   \n",
       "\n",
       "         VoteAverage  VoteCount     Budget  \\\n",
       "Id                                           \n",
       "299054           6.4        364  100000000   \n",
       "926393           7.3       1027   70000000   \n",
       "1034062          7.8         27          0   \n",
       "575264           7.7       1799  291000000   \n",
       "1151534          7.6        686          0   \n",
       "\n",
       "                                                   TagLine  ...  TvMovie  \\\n",
       "Id                                                          ...            \n",
       "299054                      They'll die when they're dead.  ...        0   \n",
       "926393                           Justice knows no borders.  ...        0   \n",
       "1034062  Neon lights... Suits with shoulder pads... Jum...  ...        0   \n",
       "575264                         We all share the same fate.  ...        0   \n",
       "1151534  Attempting to survive in the middle of nowhere...  ...        0   \n",
       "\n",
       "         Thriller  War  Western  North America  Europe  Asia  Oceania  \\\n",
       "Id                                                                      \n",
       "299054          1    0        0              0       0     0        0   \n",
       "926393          1    0        0              1       0     0        0   \n",
       "1034062         0    0        0              1       0     0        0   \n",
       "575264          1    0        0              1       0     0        0   \n",
       "1151534         1    0        0              0       0     0        0   \n",
       "\n",
       "         South America  Africa  \n",
       "Id                              \n",
       "299054               0       0  \n",
       "926393               0       0  \n",
       "1034062              0       0  \n",
       "575264               0       0  \n",
       "1151534              0       0  \n",
       "\n",
       "[5 rows x 37 columns]"
      ]
     },
     "execution_count": 9,
     "metadata": {},
     "output_type": "execute_result"
    }
   ],
   "source": [
    "#reading the clean data\n",
    "data = pd.read_csv('movies_cleaned.csv', lineterminator='\\n', index_col='Id')\n",
    "data.head()"
   ]
  },
  {
   "cell_type": "code",
   "execution_count": 12,
   "metadata": {},
   "outputs": [
    {
     "data": {
      "text/plain": [
       "Index(['OriginalLanguage', 'Popularity', 'VoteAverage', 'VoteCount', 'Budget',\n",
       "       'RunTime', 'Revenue', 'Action', 'Adventure', 'Animation', 'Comedy',\n",
       "       'Crime', 'Documentary', 'Drama', 'Family', 'Fantasy', 'History ',\n",
       "       'Horror', 'Music', 'Mystery', 'Romance', 'ScienceFiction', 'TvMovie',\n",
       "       'Thriller', 'War', 'Western', 'North America', 'Europe', 'Asia',\n",
       "       'Oceania', 'South America', 'Africa'],\n",
       "      dtype='object')"
      ]
     },
     "execution_count": 12,
     "metadata": {},
     "output_type": "execute_result"
    }
   ],
   "source": [
    "# Indentifing the numercial columns in the clean dataset\n",
    "data.select_dtypes(include=['int', 'float']).columns"
   ]
  },
  {
   "cell_type": "code",
   "execution_count": 13,
   "metadata": {},
   "outputs": [],
   "source": [
    "# Filtering out the discrete numerical columns (those are categorical that were enconded in previous steps)\n",
    "numerical_columns = ['Popularity', 'VoteAverage', 'VoteCount', 'Budget','RunTime', 'Revenue']\n",
    "numerical_df = data[numerical_columns]"
   ]
  },
  {
   "cell_type": "code",
   "execution_count": 14,
   "metadata": {},
   "outputs": [
    {
     "data": {
      "text/html": [
       "<div>\n",
       "<style scoped>\n",
       "    .dataframe tbody tr th:only-of-type {\n",
       "        vertical-align: middle;\n",
       "    }\n",
       "\n",
       "    .dataframe tbody tr th {\n",
       "        vertical-align: top;\n",
       "    }\n",
       "\n",
       "    .dataframe thead th {\n",
       "        text-align: right;\n",
       "    }\n",
       "</style>\n",
       "<table border=\"1\" class=\"dataframe\">\n",
       "  <thead>\n",
       "    <tr style=\"text-align: right;\">\n",
       "      <th></th>\n",
       "      <th>Popularity</th>\n",
       "      <th>VoteAverage</th>\n",
       "      <th>VoteCount</th>\n",
       "      <th>Budget</th>\n",
       "      <th>RunTime</th>\n",
       "      <th>Revenue</th>\n",
       "    </tr>\n",
       "  </thead>\n",
       "  <tbody>\n",
       "    <tr>\n",
       "      <th>count</th>\n",
       "      <td>9979.000000</td>\n",
       "      <td>9979.000000</td>\n",
       "      <td>9979.000000</td>\n",
       "      <td>9.979000e+03</td>\n",
       "      <td>9979.000000</td>\n",
       "      <td>9.979000e+03</td>\n",
       "    </tr>\n",
       "    <tr>\n",
       "      <th>mean</th>\n",
       "      <td>34.276587</td>\n",
       "      <td>6.380619</td>\n",
       "      <td>1623.563082</td>\n",
       "      <td>2.048210e+07</td>\n",
       "      <td>101.937268</td>\n",
       "      <td>6.238473e+07</td>\n",
       "    </tr>\n",
       "    <tr>\n",
       "      <th>std</th>\n",
       "      <td>84.418679</td>\n",
       "      <td>1.352348</td>\n",
       "      <td>2962.822512</td>\n",
       "      <td>3.881605e+07</td>\n",
       "      <td>27.358958</td>\n",
       "      <td>1.563777e+08</td>\n",
       "    </tr>\n",
       "    <tr>\n",
       "      <th>min</th>\n",
       "      <td>13.049000</td>\n",
       "      <td>0.000000</td>\n",
       "      <td>0.000000</td>\n",
       "      <td>0.000000e+00</td>\n",
       "      <td>0.000000</td>\n",
       "      <td>0.000000e+00</td>\n",
       "    </tr>\n",
       "    <tr>\n",
       "      <th>25%</th>\n",
       "      <td>15.589500</td>\n",
       "      <td>6.000000</td>\n",
       "      <td>170.000000</td>\n",
       "      <td>0.000000e+00</td>\n",
       "      <td>91.000000</td>\n",
       "      <td>0.000000e+00</td>\n",
       "    </tr>\n",
       "    <tr>\n",
       "      <th>50%</th>\n",
       "      <td>20.099000</td>\n",
       "      <td>6.600000</td>\n",
       "      <td>564.000000</td>\n",
       "      <td>2.200000e+06</td>\n",
       "      <td>101.000000</td>\n",
       "      <td>3.775000e+06</td>\n",
       "    </tr>\n",
       "    <tr>\n",
       "      <th>75%</th>\n",
       "      <td>30.352500</td>\n",
       "      <td>7.100000</td>\n",
       "      <td>1668.000000</td>\n",
       "      <td>2.500000e+07</td>\n",
       "      <td>115.000000</td>\n",
       "      <td>5.461456e+07</td>\n",
       "    </tr>\n",
       "    <tr>\n",
       "      <th>max</th>\n",
       "      <td>3741.062000</td>\n",
       "      <td>10.000000</td>\n",
       "      <td>34628.000000</td>\n",
       "      <td>4.600000e+08</td>\n",
       "      <td>400.000000</td>\n",
       "      <td>2.923706e+09</td>\n",
       "    </tr>\n",
       "  </tbody>\n",
       "</table>\n",
       "</div>"
      ],
      "text/plain": [
       "        Popularity  VoteAverage     VoteCount        Budget      RunTime  \\\n",
       "count  9979.000000  9979.000000   9979.000000  9.979000e+03  9979.000000   \n",
       "mean     34.276587     6.380619   1623.563082  2.048210e+07   101.937268   \n",
       "std      84.418679     1.352348   2962.822512  3.881605e+07    27.358958   \n",
       "min      13.049000     0.000000      0.000000  0.000000e+00     0.000000   \n",
       "25%      15.589500     6.000000    170.000000  0.000000e+00    91.000000   \n",
       "50%      20.099000     6.600000    564.000000  2.200000e+06   101.000000   \n",
       "75%      30.352500     7.100000   1668.000000  2.500000e+07   115.000000   \n",
       "max    3741.062000    10.000000  34628.000000  4.600000e+08   400.000000   \n",
       "\n",
       "            Revenue  \n",
       "count  9.979000e+03  \n",
       "mean   6.238473e+07  \n",
       "std    1.563777e+08  \n",
       "min    0.000000e+00  \n",
       "25%    0.000000e+00  \n",
       "50%    3.775000e+06  \n",
       "75%    5.461456e+07  \n",
       "max    2.923706e+09  "
      ]
     },
     "execution_count": 14,
     "metadata": {},
     "output_type": "execute_result"
    }
   ],
   "source": [
    "numerical_df.describe()"
   ]
  },
  {
   "cell_type": "markdown",
   "metadata": {},
   "source": [
    "### Boxplots"
   ]
  },
  {
   "cell_type": "code",
   "execution_count": 166,
   "metadata": {},
   "outputs": [],
   "source": [
    "# Function to create boxplot to see percetiles and outliers presence\n",
    "\n",
    "def create_box_plot(column, title, r1, r2):\n",
    "    q3 = np.percentile(column, 75)\n",
    "    q1 = np.percentile(column, 25)\n",
    "    IQR = q3 - q1\n",
    "    upper_fence = q3 + IQR * 1.5\n",
    "    lower_fence = q1 - IQR * 1.5\n",
    "\n",
    "    fig = plt.figure(1, figsize=(12, 6))\n",
    "    ax = fig.add_subplot(111)\n",
    "    ax.set_title(title + \" Boxplot\")\n",
    "    \n",
    "    r1 = min(r1, lower_fence)\n",
    "    r2 = max(r2, upper_fence)\n",
    "\n",
    "    ax.boxplot(column , vert=False, manage_ticks=True)\n",
    "    ax.set_xlabel('values')\n",
    "    ax.set_yticks([1])\n",
    "    ax.set_yticklabels([title])\n",
    "\n",
    "    quantiles = np.quantile(column , np.array([0.00, 0.25, 0.50, 0.75]))\n",
    "    quantiles = np.append(quantiles, upper_fence)\n",
    "    quantiles = np.insert(quantiles, 0, lower_fence)\n",
    "    ax.vlines(quantiles, [0] * quantiles.size, [1] * quantiles.size,\n",
    "              color='b', ls=':', lw=0.5, zorder=0)\n",
    "    ax.set_ylim(0.5, 1.5)\n",
    "    ax.set_xticks(quantiles)\n",
    "    plt.xlim(r1, r2)\n",
    "    ax.tick_params(axis='x', labelsize=8)\n",
    "    plt.show()"
   ]
  },
  {
   "cell_type": "code",
   "execution_count": 167,
   "metadata": {},
   "outputs": [
    {
     "data": {
      "image/png": "[encoded data removed]",
      "text/plain": [
       "<Figure size 1200x600 with 1 Axes>"
      ]
     },
     "metadata": {},
     "output_type": "display_data"
    }
   ],
   "source": [
    "# Popularity Boxplot\n",
    "create_box_plot(numerical_df['Popularity'], 'Popularity', 0, 60)"
   ]
  },
  {
   "cell_type": "code",
   "execution_count": 159,
   "metadata": {},
   "outputs": [
    {
     "data": {
      "image/png": "[encoded data removed]",
      "text/plain": [
       "<Figure size 1200x600 with 1 Axes>"
      ]
     },
     "metadata": {},
     "output_type": "display_data"
    }
   ],
   "source": [
    "# VoteAverage Boxplot\n",
    "create_box_plot(numerical_df['VoteAverage'], 'VoteAverage', 0, 20)"
   ]
  },
  {
   "cell_type": "code",
   "execution_count": 160,
   "metadata": {},
   "outputs": [
    {
     "data": {
      "image/png": "[encoded data removed]",
      "text/plain": [
       "<Figure size 1200x600 with 1 Axes>"
      ]
     },
     "metadata": {},
     "output_type": "display_data"
    }
   ],
   "source": [
    "# VoteCount Boxplot\n",
    "create_box_plot(numerical_df['VoteCount'], 'VoteCount', 0, 4500)"
   ]
  },
  {
   "cell_type": "code",
   "execution_count": 161,
   "metadata": {},
   "outputs": [
    {
     "data": {
      "image/png": "[encoded data removed]",
      "text/plain": [
       "<Figure size 1200x600 with 1 Axes>"
      ]
     },
     "metadata": {},
     "output_type": "display_data"
    }
   ],
   "source": [
    "# Scaled Budget Boxplot\n",
    "create_box_plot((numerical_df['Budget']) / 1000000, 'Budget', 0, 100)"
   ]
  },
  {
   "cell_type": "code",
   "execution_count": 162,
   "metadata": {},
   "outputs": [
    {
     "data": {
      "image/png": "[encoded data removed]",
      "text/plain": [
       "<Figure size 1200x600 with 1 Axes>"
      ]
     },
     "metadata": {},
     "output_type": "display_data"
    }
   ],
   "source": [
    "# RunTime Boxplot\n",
    "create_box_plot(numerical_df['RunTime'], 'RunTime', 0, 500)"
   ]
  },
  {
   "cell_type": "code",
   "execution_count": 163,
   "metadata": {},
   "outputs": [
    {
     "data": {
      "image/png": "[encoded data removed]",
      "text/plain": [
       "<Figure size 1200x600 with 1 Axes>"
      ]
     },
     "metadata": {},
     "output_type": "display_data"
    }
   ],
   "source": [
    "# Scaled Revenue Boxplot\n",
    "create_box_plot((numerical_df['Revenue'] / 1000000), 'Revenue', 0, 200)"
   ]
  },
  {
   "cell_type": "markdown",
   "metadata": {},
   "source": [
    "Notes:\n",
    "\n",
    "The function \"create_box_plot\" was created to inspect the outliers in the columns visually:\n",
    "\n",
    "1. The function accepts three arguments; \"column\" which is the data for the boxplot, \"title\" which impacts the title and label we want to add to the boxplot. And (r1,r2), which is the range of data we want to plot.\n",
    "2. It calculates the percentiles q3, q1, and the IQR to compute the upper and lower fences to be included in the boxplot.\n",
    "3. The quantiles  [0, 25, 50, 75] are calculated and stored in an array called \"quantiles\". The array is modified with the lower fence at position 0 and the upper fence at the last position.\n",
    "4. The quantiles array is passed to the method, .vlines which handles the vertical lines\n",
    "5. The quantiles array is also passed to the .set_xticks to see the numbers in the x-axis in the boxplot\n",
    "6. Finally, the range in X to plot is established using the method .xlim\n",
    "\n",
    "The plots show:\n",
    "\n",
    "1. Popularity: Shows a distribution positively skewed (right-skewed) and the presence of outliers in the upper level. 25% of the data fall below 15.59, 50% of the data fall below 20.1, 75% of the data fall below 30.33. The upper extreme is at 52, and the lower extreme is at 13.05.\n",
    "\n",
    "2. VoteAverage: This shows a symmetric distribution and the presence of outliers in the upper and lower levels. 25% of the data fall below 6.00, 50% of the data fall below 6.60, 75% of the data fall below 7.10. The upper extreme is at 8.75, and the lower extreme is at 4.35.\n",
    "\n",
    "3. VoteCount: Shows a distribution positively skewed (right-skewed) and the presence of outliers in the upper level. 25% of the data fall below 170, 50% of the data fall below 564, and 75% of the data fall below 1668. The upper extreme is at 3915, and the lower extreme is at 0.\n",
    "\n",
    "4. Budget: The budget was scaled down to facilitate plotting. It shows a distribution positively skewed (right-skewed) and the presence of outliers in the upper level. 50% of the data fall below 2.2M, and 75% of the data fall below 25M. The upper extreme is at 62.5M, and the lower extreme is at 0.\n",
    "\n",
    "5. RunTime: Shows a symmetric distribution and the presence of outliers in the upper and lower levels. 25% of the data fall below 91 min, 50% of the data fall below 101 min, and 75% of the data fall below 115 min. The upper extreme is at 151 min, and the lower extreme is at 55 min.\n",
    "\n",
    "6. Revenue: Revenue was scaled down to facilitate plotting. It shows a distribution positively skewed (right-skewed) and the presence of outliers in the upper level. 50% of the data fall below 8.8 M, and 75% of the data fall below 54.6 M. The upper extreme is at 136.5 M, and the lower extreme is at 0.\n",
    "\n",
    "\n"
   ]
  },
  {
   "cell_type": "code",
   "execution_count": null,
   "metadata": {},
   "outputs": [],
   "source": []
  }
 ],
 "metadata": {
  "kernelspec": {
   "display_name": "Python 3 (ipykernel)",
   "language": "python",
   "name": "python3"
  },
  "language_info": {
   "codemirror_mode": {
    "name": "ipython",
    "version": 3
   },
   "file_extension": ".py",
   "mimetype": "text/x-python",
   "name": "python",
   "nbconvert_exporter": "python",
   "pygments_lexer": "ipython3",
   "version": "3.10.9"
  }
 },
 "nbformat": 4,
 "nbformat_minor": 2
}
