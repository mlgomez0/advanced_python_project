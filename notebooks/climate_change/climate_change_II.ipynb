{
 "cells": [
  {
   "cell_type": "markdown",
   "metadata": {},
   "source": [
    "# Project Setup\n",
    "\n",
    "## Please install the following libraries\n",
    "\n",
    "- !pip install tensorflow"
   ]
  },
  {
   "cell_type": "markdown",
   "metadata": {},
   "source": [
    "## Project Files\n",
    "- Please, download the project files from: TBD\n",
    "\n",
    "## GitHub Link\n",
    "- GitHub Repository: https://github.com/mlgomez0/advanced_python_project/tree/main/notebooks"
   ]
  },
  {
   "cell_type": "markdown",
   "metadata": {},
   "source": [
    "## Set the variables\n",
    "\n",
    "- run_pandas_profiling: equal True means to create the Pandas Profiling which takes time, False means you will use the profile attached with this report"
   ]
  },
  {
   "cell_type": "code",
   "execution_count": 61,
   "metadata": {},
   "outputs": [],
   "source": [
    "create_pandas_profiling = False\n",
    "run_models=True"
   ]
  },
  {
   "cell_type": "markdown",
   "metadata": {},
   "source": [
    "## Please do the following imports"
   ]
  },
  {
   "cell_type": "code",
   "execution_count": 51,
   "metadata": {},
   "outputs": [],
   "source": [
    "import csv\n",
    "import pandas as pd\n",
    "import os\n",
    "from vaderSentiment.vaderSentiment import SentimentIntensityAnalyzer\n",
    "import matplotlib.pyplot as plt\n",
    "import warnings\n",
    "import seaborn as sns\n",
    "from scipy.stats import chi2_contingency\n",
    "from wordcloud import WordCloud\n",
    "import numpy as np\n",
    "from sklearn.feature_extraction.text import TfidfVectorizer\n",
    "from nltk.corpus import stopwords\n",
    "from sklearn.model_selection import train_test_split\n",
    "from sklearn.ensemble import RandomForestClassifier\n",
    "from sklearn.metrics import accuracy_score, classification_report, confusion_matrix, precision_score, recall_score, f1_score\n",
    "import plotly.express as px\n",
    "from sklearn.ensemble import GradientBoostingClassifier\n",
    "from sklearn.preprocessing import OrdinalEncoder, StandardScaler, OneHotEncoder, MinMaxScaler\n",
    "from sklearn.compose import ColumnTransformer, make_column_transformer\n",
    "from sklearn.pipeline import Pipeline, make_pipeline\n",
    "from sklearn.preprocessing import FunctionTransformer\n",
    "from sklearn.ensemble import AdaBoostClassifier\n",
    "from sklearn.tree import DecisionTreeClassifier\n",
    "from sklearn.model_selection import RandomizedSearchCV\n",
    "import xgboost as xgb\n",
    "from ydata_profiling import ProfileReport\n",
    "from sklearn.svm import SVC\n",
    "from scipy.stats import randint\n",
    "from sklearn.ensemble import GradientBoostingClassifier\n",
    "from sklearn.compose import ColumnTransformer\n",
    "from sklearn.pipeline import Pipeline\n",
    "from sklearn.preprocessing import MinMaxScaler, OneHotEncoder\n",
    "import pickle\n",
    "import re"
   ]
  },
  {
   "cell_type": "markdown",
   "metadata": {},
   "source": [
    "# Dataset Exploration and Cleaning\n",
    "\n",
    "For this report, we used posts in Reddit (The code can be found in previous report), a social media platform where people can create communities (subreddits) to discuss several topics. For this report, we focused on communities on climate change and collected those posts that are new and hot in the respective subreddit.\n",
    "\n",
    "The selected subreddits are: 'climatechange', 'climate_science', 'climate', 'environment', 'GlobalClimateChange', 'climate_change', 'ClimateChangeSurprise'\n",
    "\n",
    "To gather the dataset, we used the Reddit API. We created a developer account to get the access credentials to work with this API. Additionally, we used a Python package called Prawn (\"Python Reddit API Wrapper\"). This wrapper facilitates the interactions with the API.\n",
    "\n",
    "The final dataset has the following features:\n",
    "\n",
    "- Title: The post title\n",
    "- Score: It is a net score that equals upvotes minus downvotes for a particular Reddit post\n",
    "- Author: Author of the post \n",
    "- Time: Data of the post\n",
    "- Comments: Number of comments done to the post\n",
    "- UpvoteRatio: It is the ratio between upvotes and total votes\n",
    "- PostId: Unique identifier for the vote\n",
    "- Subreddit: Name of the subreddit\n",
    "- is_nsfw: The content is not safe for work\n",
    "- SelfText: Is the text in the post\n",
    "- IsSelfText: This boolean tells if the post has self text (In some cases, there is a link or picture instead)\n",
    "- IsPinned: Refers to whether a post is pinned to a user's profile page\n",
    "- IsStickied: Indicates the post is pinned to a subreddit\n",
    "- IsLocked: This boolean indicates if users are able to make new comments on the post\n",
    "- Sentiment_hf: Sentiment analysis of textual data using Hugging Face (Previous work)\n",
    "- Sentiment_v: Sentiment analysis of textual data using Vader (Previous work)\n"
   ]
  },
  {
   "cell_type": "code",
   "execution_count": 3,
   "metadata": {},
   "outputs": [],
   "source": [
    "df = pd.read_csv('climate_change_sentiment.csv')"
   ]
  },
  {
   "cell_type": "code",
   "execution_count": 4,
   "metadata": {},
   "outputs": [
    {
     "name": "stdout",
     "output_type": "stream",
     "text": [
      "<class 'pandas.core.frame.DataFrame'>\n",
      "RangeIndex: 15975 entries, 0 to 15974\n",
      "Data columns (total 16 columns):\n",
      " #   Column        Non-Null Count  Dtype  \n",
      "---  ------        --------------  -----  \n",
      " 0   Title         15975 non-null  object \n",
      " 1   Score         15975 non-null  int64  \n",
      " 2   Autor         15518 non-null  object \n",
      " 3   Time          15975 non-null  float64\n",
      " 4   Comments      15975 non-null  int64  \n",
      " 5   UpvoteRatio   15975 non-null  float64\n",
      " 6   PostId        15975 non-null  object \n",
      " 7   Subreddit     15975 non-null  object \n",
      " 8   is_nsfw       15975 non-null  bool   \n",
      " 9   SelfText      2398 non-null   object \n",
      " 10  IsSelfText    15975 non-null  bool   \n",
      " 11  IsPinned      15975 non-null  bool   \n",
      " 12  IsStickied    15975 non-null  bool   \n",
      " 13  IsLocked      15975 non-null  bool   \n",
      " 14  Sentiment_v   15975 non-null  object \n",
      " 15  Sentiment_hf  15975 non-null  object \n",
      "dtypes: bool(5), float64(2), int64(2), object(7)\n",
      "memory usage: 1.4+ MB\n"
     ]
    }
   ],
   "source": [
    "df.info()"
   ]
  },
  {
   "cell_type": "markdown",
   "metadata": {},
   "source": [
    "Note:\n",
    "\n",
    "As we can see, the SelfText column has more than 75% null values. Therefore, we'll going to drop that column. Also, the PostId column has just random unique values. Consequently, we will drop that column as well. Finally, 'Sentiment_v' will be removed; we will use 'Sentiment_hf' instead for sentiment."
   ]
  },
  {
   "cell_type": "code",
   "execution_count": 5,
   "metadata": {},
   "outputs": [],
   "source": [
    "# Droping columns\n",
    "df = df.drop(['PostId', 'SelfText', 'Sentiment_v'],axis=1)"
   ]
  },
  {
   "cell_type": "code",
   "execution_count": 6,
   "metadata": {},
   "outputs": [],
   "source": [
    "# create pandas profiling\n",
    "if create_pandas_profiling:\n",
    "    profile = ProfileReport(df, title=\"Profiling Report\")\n",
    "    profile.to_file(\"pandas_profiling_ClimateChange2.html\")"
   ]
  },
  {
   "cell_type": "markdown",
   "metadata": {},
   "source": [
    "The pandas report showed the following Alerts:\n",
    "    \n",
    "- IsPinned has constant value\n",
    "- Score is highly overall correlated with Comments\n",
    "- Subreddit is highly overall correlated with IsSelfText\n",
    "- IsSelfText is highly overall correlated with Subreddit\n",
    "- is_nsfw is highly imbalanced (99.4%)\n",
    "- IsStickied is highly imbalanced (99.4%)\n",
    "- IsLocked is highly imbalanced (97.9%)\n",
    "- Autor has 457 (2.9%) missing values\n",
    "- Score has 278 (1.7%) zeros\n",
    "- Comments has 3545 (22.2%) zeros"
   ]
  },
  {
   "cell_type": "code",
   "execution_count": 7,
   "metadata": {},
   "outputs": [
    {
     "name": "stdout",
     "output_type": "stream",
     "text": [
      "Unique values in Title: [\"I'm afraid climate change is going to kill me! Help!\"\n",
      " 'The r/climatechange Verified User Flair Program'\n",
      " 'How come some environmentalists are against carbon capture and storage?'\n",
      " ... 'Berkeley Lab scientists identify new driver behind Arctic warming'\n",
      " 'Snowfall less sensitive to warming in Karakoram than in Himalayas due to a unique seasonal cycle'\n",
      " 'Exposed: Corporate cash is the lifeblood of climate change denial on Capitol Hill']\n",
      "Unique values in Score: [ 718   30   75 ... 2667 2649 2577]\n",
      "Unique values in Autor: ['Will_Power' 'technologyisnatural' 'SnooMarzipans7682' ... 'rspix000'\n",
      " 'madreader121' 'xabby']\n",
      "Unique values in Time: [1.55010375e+09 1.66111520e+09 1.69798679e+09 ... 1.41548544e+09\n",
      " 1.41369371e+09 1.41036847e+09]\n",
      "Unique values in Comments: [ 534   14  296   26   30   34  124    1    2  169  117   19    7  416\n",
      "   96   57  676    0    9   13    3    5   67   33   93  372  365   16\n",
      "   43   12   73  315  130   42   88  913  226   21  199   44   11 2042\n",
      "   71   18  373  222   50    8  452   10  105  359  541 1002   40  272\n",
      "   32  237   55  384   20  295   64   39   27  276  369   97   65   25\n",
      "  168   80   90   24   31   74   28   60   66  361    4    6   58   45\n",
      "  172  115  707   46   17  123   23   49  358   95  264  321  164   89\n",
      "  723   91  166   76  280   62  190   35  118   38  710  104   48  235\n",
      "  114  287  278  292  288  100   15  422  256   75   29 1300  221  157\n",
      " 1524  314   69   72  330  385   63  923  232   68  351  193  239  335\n",
      "  165   92  248  204  219   52  488  156   86  159  103  112  793  360\n",
      "   56   87  183  489   59  205  289 1724  466  225   37   47   22  816\n",
      "  131  102   36  514  279 1064   53  119   41 1095  109  702  148   85\n",
      "  285  765  107   79  142   70  125   51  155  147  200  133   82  184\n",
      "  127   81  152   78  132  187   94  260  126  154  212  210   83  262\n",
      "   84  175  273  197  108  529  137  338  170   54  231  195   99  145\n",
      "  158  111  163   61  209  213  113  140  182  135  149  144  101  308\n",
      "  234  188  246  143   77  353  271  298  228  299  230  519  409  150\n",
      "  180  693  344  354   98  329 1571  550  146  110  493  297  772  303\n",
      "  410  518  563  275  418  326  121  551  141  448  741  363  136  313\n",
      "  909 2044  451  355  996  294  277  371  708  719  701 1299 1523  380\n",
      "  233  921  350  486  792  495 1062 1094  283  191  186  134  383  520\n",
      "  120  251  263  268  160  249  139  217  167  161  215  211  138  537\n",
      "  220  129  346  267  253  122  388  151  162  174  201 2772 1964  760\n",
      "  322  178  386  585  336  552  306  270  309  547  331  616 1101  327\n",
      "  332  352  202  236  216  173  641  312  218  435  553  311  477  177\n",
      "  398  240  558  242  396  106  207  318  274  181  527  742  319  243\n",
      "  266  337  198  258  185  286  128  116 4647 1698 1472 6439 1224 1230\n",
      " 2631 2257 1670 6588 1487  401 2477 2289 1151 2150  895 1026  867  915\n",
      " 1209  925 1244 2679 4297  622  776 1066  841  837  875 1641  865 3146\n",
      "  941 1617  404 2583  974 1294 1366 1053  623 1237 1547  578 2126  671\n",
      "  834 2369  521 1320  437  432  608  768  502 1048  734 1631 1787  442\n",
      "  761 2657 1185  458  194  535  254  328 1004 1241 1642  508  809  485\n",
      "  595  771  257  444  415 1030 1019  747  624  512  265 1188  659  224\n",
      " 1006  886  689 1398  823  291  752 1458  470  568  774  856  696  888\n",
      " 2028 1239  345  300  176  884  307  609  320 1112  969  281  238  334\n",
      "  282  227  621  436  763  745  803  863  252  611  443  208  924  812\n",
      "  439  250  343  427  739  510  391  744  737  589  389  420  567  406\n",
      " 1032  342  397  247  933  171  428  304  524  600  727  189  690  516\n",
      " 1070 1193  382  317  301 1156  675  347  614  357  417  471  473  323\n",
      "  483  269  426  572  411  479  665  542  348  241  629  245  476  376\n",
      "  333  858  807  229  203  695  244  633  366  673  192  419  179  638\n",
      "  290  526  855  305  500  642  325  540  214  480  261  223  377  390\n",
      " 1423  196  697  743  703  784  698  433  749  374  153  890  293  324\n",
      "  593  449  407  490  475 1013  424]\n",
      "Unique values in UpvoteRatio: [0.98 0.91 0.75 0.7  0.74 0.93 1.   0.67 0.78 0.81 0.96 0.83 0.9  0.87\n",
      " 0.97 0.84 0.89 0.82 0.71 0.38 0.6  0.69 0.43 0.73 0.31 0.3  0.79 0.27\n",
      " 0.92 0.19 0.85 0.86 0.88 0.36 0.54 0.94 0.95 0.8  0.45 0.64 0.13 0.5\n",
      " 0.99 0.44 0.57 0.17 0.42 0.33 0.72 0.76 0.63 0.28 0.2  0.62 0.4  0.59\n",
      " 0.22 0.65 0.47 0.77 0.53 0.68 0.55 0.66 0.23 0.25 0.15 0.12 0.61 0.56\n",
      " 0.35 0.52 0.46 0.29 0.14 0.18 0.58 0.51 0.26 0.34 0.1  0.07 0.41 0.24\n",
      " 0.32 0.37 0.21 0.39 0.48 0.11 0.04 0.49 0.16 0.06]\n",
      "Unique values in Subreddit: ['climatechange' 'climate_science' 'climate' 'environment'\n",
      " 'GlobalClimateChange' 'ClimateChangeSurprise']\n",
      "Unique values in is_nsfw: [False  True]\n",
      "Unique values in IsSelfText: [ True False]\n",
      "Unique values in IsPinned: [False]\n",
      "Unique values in IsStickied: [ True False]\n",
      "Unique values in IsLocked: [False  True]\n",
      "Unique values in Sentiment_hf: ['negative' 'positive' 'neutral']\n"
     ]
    }
   ],
   "source": [
    "# check the unique values in each columns\n",
    "for column in df.columns:\n",
    "    unique_values = df[column].unique()\n",
    "    print(f\"Unique values in {column}: {unique_values}\")"
   ]
  },
  {
   "cell_type": "code",
   "execution_count": 8,
   "metadata": {},
   "outputs": [
    {
     "data": {
      "text/plain": [
       "Title             0\n",
       "Score             0\n",
       "Autor           457\n",
       "Time              0\n",
       "Comments          0\n",
       "UpvoteRatio       0\n",
       "Subreddit         0\n",
       "is_nsfw           0\n",
       "IsSelfText        0\n",
       "IsPinned          0\n",
       "IsStickied        0\n",
       "IsLocked          0\n",
       "Sentiment_hf      0\n",
       "dtype: int64"
      ]
     },
     "execution_count": 8,
     "metadata": {},
     "output_type": "execute_result"
    }
   ],
   "source": [
    "# checking nulls in the data\n",
    "df.isna().sum()"
   ]
  },
  {
   "cell_type": "markdown",
   "metadata": {},
   "source": [
    "We remove author as this should not be a predictor for the model, we don't want the model to learn about the author of the posts as the tool is meant to be used by any author."
   ]
  },
  {
   "cell_type": "code",
   "execution_count": 9,
   "metadata": {},
   "outputs": [],
   "source": [
    "df.drop('Autor', axis=1, inplace=True)"
   ]
  },
  {
   "cell_type": "markdown",
   "metadata": {},
   "source": [
    "We remove UpvoteRatio and Comments as this columns have information that the user of the model won't have to make a prediction."
   ]
  },
  {
   "cell_type": "code",
   "execution_count": 10,
   "metadata": {},
   "outputs": [],
   "source": [
    "df.drop('UpvoteRatio', axis=1, inplace=True)\n",
    "df.drop('Comments', axis=1, inplace=True)"
   ]
  },
  {
   "cell_type": "code",
   "execution_count": 11,
   "metadata": {},
   "outputs": [
    {
     "data": {
      "text/plain": [
       "Title           0\n",
       "Score           0\n",
       "Time            0\n",
       "Subreddit       0\n",
       "is_nsfw         0\n",
       "IsSelfText      0\n",
       "IsPinned        0\n",
       "IsStickied      0\n",
       "IsLocked        0\n",
       "Sentiment_hf    0\n",
       "dtype: int64"
      ]
     },
     "execution_count": 11,
     "metadata": {},
     "output_type": "execute_result"
    }
   ],
   "source": [
    "# With this, the data has no nulls\n",
    "df.isna().sum()"
   ]
  },
  {
   "cell_type": "code",
   "execution_count": 12,
   "metadata": {},
   "outputs": [],
   "source": [
    "# Creating Categorical Score\n",
    "df['Score_cat'], bin_edges = pd.qcut(df['Score'], q=4, labels=False, retbins=True)"
   ]
  },
  {
   "cell_type": "code",
   "execution_count": 13,
   "metadata": {},
   "outputs": [
    {
     "data": {
      "text/plain": [
       "Text(0, 0.5, 'Frequency')"
      ]
     },
     "execution_count": 13,
     "metadata": {},
     "output_type": "execute_result"
    },
    {
     "data": {
      "image/png": "[encoded data removed]",
      "text/plain": [
       "<Figure size 640x480 with 1 Axes>"
      ]
     },
     "metadata": {},
     "output_type": "display_data"
    }
   ],
   "source": [
    "# Plot of Score Categories\n",
    "sns.countplot(data=df, x='Score_cat')\n",
    "sns.color_palette(\"pastel\")\n",
    "plt.title(\"Frequency of Score Categories\")\n",
    "plt.xlabel(\"Score Category\")\n",
    "plt.ylabel(\"Frequency\")"
   ]
  },
  {
   "cell_type": "markdown",
   "metadata": {},
   "source": [
    "As can be seen the categories are balanced"
   ]
  },
  {
   "cell_type": "code",
   "execution_count": 14,
   "metadata": {},
   "outputs": [],
   "source": [
    "# eliminate Score\n",
    "df.drop(\"Score\", axis=1, inplace=True)"
   ]
  },
  {
   "cell_type": "code",
   "execution_count": 15,
   "metadata": {},
   "outputs": [
    {
     "data": {
      "text/html": [
       "<div>\n",
       "<style scoped>\n",
       "    .dataframe tbody tr th:only-of-type {\n",
       "        vertical-align: middle;\n",
       "    }\n",
       "\n",
       "    .dataframe tbody tr th {\n",
       "        vertical-align: top;\n",
       "    }\n",
       "\n",
       "    .dataframe thead th {\n",
       "        text-align: right;\n",
       "    }\n",
       "</style>\n",
       "<table border=\"1\" class=\"dataframe\">\n",
       "  <thead>\n",
       "    <tr style=\"text-align: right;\">\n",
       "      <th></th>\n",
       "      <th>Title</th>\n",
       "      <th>Time</th>\n",
       "      <th>Subreddit</th>\n",
       "      <th>is_nsfw</th>\n",
       "      <th>IsSelfText</th>\n",
       "      <th>IsPinned</th>\n",
       "      <th>IsStickied</th>\n",
       "      <th>IsLocked</th>\n",
       "      <th>Sentiment_hf</th>\n",
       "      <th>Score_cat</th>\n",
       "    </tr>\n",
       "  </thead>\n",
       "  <tbody>\n",
       "    <tr>\n",
       "      <th>0</th>\n",
       "      <td>I'm afraid climate change is going to kill me!...</td>\n",
       "      <td>1.550104e+09</td>\n",
       "      <td>climatechange</td>\n",
       "      <td>False</td>\n",
       "      <td>True</td>\n",
       "      <td>False</td>\n",
       "      <td>True</td>\n",
       "      <td>False</td>\n",
       "      <td>negative</td>\n",
       "      <td>3</td>\n",
       "    </tr>\n",
       "    <tr>\n",
       "      <th>1</th>\n",
       "      <td>The r/climatechange Verified User Flair Program</td>\n",
       "      <td>1.661115e+09</td>\n",
       "      <td>climatechange</td>\n",
       "      <td>False</td>\n",
       "      <td>True</td>\n",
       "      <td>False</td>\n",
       "      <td>True</td>\n",
       "      <td>False</td>\n",
       "      <td>positive</td>\n",
       "      <td>2</td>\n",
       "    </tr>\n",
       "    <tr>\n",
       "      <th>2</th>\n",
       "      <td>How come some environmentalists are against ca...</td>\n",
       "      <td>1.697987e+09</td>\n",
       "      <td>climatechange</td>\n",
       "      <td>False</td>\n",
       "      <td>True</td>\n",
       "      <td>False</td>\n",
       "      <td>False</td>\n",
       "      <td>False</td>\n",
       "      <td>negative</td>\n",
       "      <td>2</td>\n",
       "    </tr>\n",
       "    <tr>\n",
       "      <th>3</th>\n",
       "      <td>Solar and wind are better than nuclear</td>\n",
       "      <td>1.698006e+09</td>\n",
       "      <td>climatechange</td>\n",
       "      <td>False</td>\n",
       "      <td>True</td>\n",
       "      <td>False</td>\n",
       "      <td>False</td>\n",
       "      <td>False</td>\n",
       "      <td>positive</td>\n",
       "      <td>1</td>\n",
       "    </tr>\n",
       "    <tr>\n",
       "      <th>4</th>\n",
       "      <td>When will we hit 2 degrees of global warming?</td>\n",
       "      <td>1.698013e+09</td>\n",
       "      <td>climatechange</td>\n",
       "      <td>False</td>\n",
       "      <td>True</td>\n",
       "      <td>False</td>\n",
       "      <td>False</td>\n",
       "      <td>False</td>\n",
       "      <td>negative</td>\n",
       "      <td>0</td>\n",
       "    </tr>\n",
       "  </tbody>\n",
       "</table>\n",
       "</div>"
      ],
      "text/plain": [
       "                                               Title          Time  \\\n",
       "0  I'm afraid climate change is going to kill me!...  1.550104e+09   \n",
       "1    The r/climatechange Verified User Flair Program  1.661115e+09   \n",
       "2  How come some environmentalists are against ca...  1.697987e+09   \n",
       "3             Solar and wind are better than nuclear  1.698006e+09   \n",
       "4      When will we hit 2 degrees of global warming?  1.698013e+09   \n",
       "\n",
       "       Subreddit  is_nsfw  IsSelfText  IsPinned  IsStickied  IsLocked  \\\n",
       "0  climatechange    False        True     False        True     False   \n",
       "1  climatechange    False        True     False        True     False   \n",
       "2  climatechange    False        True     False       False     False   \n",
       "3  climatechange    False        True     False       False     False   \n",
       "4  climatechange    False        True     False       False     False   \n",
       "\n",
       "  Sentiment_hf  Score_cat  \n",
       "0     negative          3  \n",
       "1     positive          2  \n",
       "2     negative          2  \n",
       "3     positive          1  \n",
       "4     negative          0  "
      ]
     },
     "execution_count": 15,
     "metadata": {},
     "output_type": "execute_result"
    }
   ],
   "source": [
    "df.head()"
   ]
  },
  {
   "cell_type": "code",
   "execution_count": 16,
   "metadata": {},
   "outputs": [
    {
     "data": {
      "image/png": "[encoded data removed]",
      "text/plain": [
       "<Figure size 1600x1500 with 9 Axes>"
      ]
     },
     "metadata": {},
     "output_type": "display_data"
    }
   ],
   "source": [
    "# checking all categorical columns\n",
    "\n",
    "fig, axes = plt.subplots(3, 3, figsize=(16, 15))\n",
    "\n",
    "sns.countplot(ax=axes[0][0], data=df, x='Subreddit', alpha=0.7)\n",
    "axes[0][0].set_xticklabels([1, 2, 3, 4, 5, 6])\n",
    "sns.countplot(ax=axes[0][1], data=df, x='Sentiment_hf', alpha=0.7)\n",
    "sns.countplot(ax=axes[0][2], data=df, x='IsPinned', alpha=0.7)\n",
    "sns.countplot(ax=axes[1][0], data=df, x='is_nsfw', alpha=0.7)\n",
    "sns.countplot(ax=axes[1][1], data=df, x='IsStickied', alpha=0.7)\n",
    "sns.countplot(ax=axes[1][2], data=df, x='IsSelfText', alpha=0.7)\n",
    "sns.countplot(ax=axes[2][0], data=df, x='IsLocked', alpha=0.7)\n",
    "sns.color_palette(\"pastel\")\n",
    "fig.suptitle(\"Counts for Categorical Variables\")\n",
    "\n",
    "plt.show()"
   ]
  },
  {
   "cell_type": "markdown",
   "metadata": {},
   "source": [
    "As can be seen in the graph above, there are many categorical values with the same value for all the records or highly imbalance. Therefore, we will remove those columns."
   ]
  },
  {
   "cell_type": "code",
   "execution_count": 17,
   "metadata": {},
   "outputs": [],
   "source": [
    "df.drop(['IsPinned', 'is_nsfw', 'IsStickied', 'IsLocked'], axis=1, inplace=True)"
   ]
  },
  {
   "cell_type": "code",
   "execution_count": 18,
   "metadata": {},
   "outputs": [
    {
     "data": {
      "text/html": [
       "<div>\n",
       "<style scoped>\n",
       "    .dataframe tbody tr th:only-of-type {\n",
       "        vertical-align: middle;\n",
       "    }\n",
       "\n",
       "    .dataframe tbody tr th {\n",
       "        vertical-align: top;\n",
       "    }\n",
       "\n",
       "    .dataframe thead th {\n",
       "        text-align: right;\n",
       "    }\n",
       "</style>\n",
       "<table border=\"1\" class=\"dataframe\">\n",
       "  <thead>\n",
       "    <tr style=\"text-align: right;\">\n",
       "      <th></th>\n",
       "      <th>Title</th>\n",
       "      <th>Time</th>\n",
       "      <th>Subreddit</th>\n",
       "      <th>IsSelfText</th>\n",
       "      <th>Sentiment_hf</th>\n",
       "      <th>Score_cat</th>\n",
       "    </tr>\n",
       "  </thead>\n",
       "  <tbody>\n",
       "    <tr>\n",
       "      <th>0</th>\n",
       "      <td>I'm afraid climate change is going to kill me!...</td>\n",
       "      <td>1.550104e+09</td>\n",
       "      <td>climatechange</td>\n",
       "      <td>True</td>\n",
       "      <td>negative</td>\n",
       "      <td>3</td>\n",
       "    </tr>\n",
       "    <tr>\n",
       "      <th>1</th>\n",
       "      <td>The r/climatechange Verified User Flair Program</td>\n",
       "      <td>1.661115e+09</td>\n",
       "      <td>climatechange</td>\n",
       "      <td>True</td>\n",
       "      <td>positive</td>\n",
       "      <td>2</td>\n",
       "    </tr>\n",
       "    <tr>\n",
       "      <th>2</th>\n",
       "      <td>How come some environmentalists are against ca...</td>\n",
       "      <td>1.697987e+09</td>\n",
       "      <td>climatechange</td>\n",
       "      <td>True</td>\n",
       "      <td>negative</td>\n",
       "      <td>2</td>\n",
       "    </tr>\n",
       "    <tr>\n",
       "      <th>3</th>\n",
       "      <td>Solar and wind are better than nuclear</td>\n",
       "      <td>1.698006e+09</td>\n",
       "      <td>climatechange</td>\n",
       "      <td>True</td>\n",
       "      <td>positive</td>\n",
       "      <td>1</td>\n",
       "    </tr>\n",
       "    <tr>\n",
       "      <th>4</th>\n",
       "      <td>When will we hit 2 degrees of global warming?</td>\n",
       "      <td>1.698013e+09</td>\n",
       "      <td>climatechange</td>\n",
       "      <td>True</td>\n",
       "      <td>negative</td>\n",
       "      <td>0</td>\n",
       "    </tr>\n",
       "  </tbody>\n",
       "</table>\n",
       "</div>"
      ],
      "text/plain": [
       "                                               Title          Time  \\\n",
       "0  I'm afraid climate change is going to kill me!...  1.550104e+09   \n",
       "1    The r/climatechange Verified User Flair Program  1.661115e+09   \n",
       "2  How come some environmentalists are against ca...  1.697987e+09   \n",
       "3             Solar and wind are better than nuclear  1.698006e+09   \n",
       "4      When will we hit 2 degrees of global warming?  1.698013e+09   \n",
       "\n",
       "       Subreddit  IsSelfText Sentiment_hf  Score_cat  \n",
       "0  climatechange        True     negative          3  \n",
       "1  climatechange        True     positive          2  \n",
       "2  climatechange        True     negative          2  \n",
       "3  climatechange        True     positive          1  \n",
       "4  climatechange        True     negative          0  "
      ]
     },
     "execution_count": 18,
     "metadata": {},
     "output_type": "execute_result"
    }
   ],
   "source": [
    "df.head()"
   ]
  },
  {
   "cell_type": "markdown",
   "metadata": {},
   "source": [
    "## Time column"
   ]
  },
  {
   "cell_type": "code",
   "execution_count": 19,
   "metadata": {},
   "outputs": [],
   "source": [
    "# Now cleaning the Time column's data\n",
    "df['Time'] = pd.to_datetime(df['Time'], unit='s')\n",
    "\n",
    "df['Year'] = df['Time'].dt.year\n",
    "df['Month'] = df['Time'].dt.month\n",
    "df['Day'] = df['Time'].dt.day\n",
    "df['Hour'] = df['Time'].dt.hour\n",
    "\n",
    "# Feature enginering two new columns\n",
    "\n",
    "df['TimeOfDay'] = pd.cut(df['Time'].dt.hour, bins=[0, 6, 12, 18, 24], labels=['Night', 'Morning', 'Afternoon', 'Evening'])\n",
    "\n",
    "df['IsWeekend'] = df['Time'].dt.weekday // 5 == 1"
   ]
  },
  {
   "cell_type": "code",
   "execution_count": 20,
   "metadata": {},
   "outputs": [],
   "source": [
    "df.drop(columns=['Time'], inplace=True)"
   ]
  },
  {
   "cell_type": "code",
   "execution_count": 21,
   "metadata": {},
   "outputs": [
    {
     "data": {
      "text/plain": [
       "Title             0\n",
       "Subreddit         0\n",
       "IsSelfText        0\n",
       "Sentiment_hf      0\n",
       "Score_cat         0\n",
       "Year              0\n",
       "Month             0\n",
       "Day               0\n",
       "Hour              0\n",
       "TimeOfDay       570\n",
       "IsWeekend         0\n",
       "dtype: int64"
      ]
     },
     "execution_count": 21,
     "metadata": {},
     "output_type": "execute_result"
    }
   ],
   "source": [
    "#check again nulls\n",
    "df.isna().sum()"
   ]
  },
  {
   "cell_type": "code",
   "execution_count": 22,
   "metadata": {},
   "outputs": [],
   "source": [
    "#Imputing nulls in new created column TimeOfDay\n",
    "df['TimeOfDay'].fillna(df['TimeOfDay'].mode().iloc[0], inplace=True)"
   ]
  },
  {
   "cell_type": "code",
   "execution_count": 23,
   "metadata": {},
   "outputs": [
    {
     "data": {
      "text/plain": [
       "Title           0\n",
       "Subreddit       0\n",
       "IsSelfText      0\n",
       "Sentiment_hf    0\n",
       "Score_cat       0\n",
       "Year            0\n",
       "Month           0\n",
       "Day             0\n",
       "Hour            0\n",
       "TimeOfDay       0\n",
       "IsWeekend       0\n",
       "dtype: int64"
      ]
     },
     "execution_count": 23,
     "metadata": {},
     "output_type": "execute_result"
    }
   ],
   "source": [
    "# checking back nulls\n",
    "df.isna().sum()"
   ]
  },
  {
   "cell_type": "code",
   "execution_count": 24,
   "metadata": {},
   "outputs": [
    {
     "data": {
      "image/png": "[encoded data removed]",
      "text/plain": [
       "<Figure size 1500x500 with 2 Axes>"
      ]
     },
     "metadata": {},
     "output_type": "display_data"
    }
   ],
   "source": [
    "# Checking new categorical columns\n",
    "\n",
    "fig, axes = plt.subplots(1, 2, figsize=(15, 5))\n",
    "sns.countplot(ax=axes[0], data=df, x='TimeOfDay', alpha=0.7)\n",
    "sns.countplot(ax=axes[1], data=df, x='IsWeekend', alpha=0.7)\n",
    "sns.color_palette(\"pastel\")\n",
    "\n",
    "fig.suptitle(\"Counts for Featured Engineer Columns\")\n",
    "\n",
    "plt.show()"
   ]
  },
  {
   "cell_type": "code",
   "execution_count": 25,
   "metadata": {},
   "outputs": [
    {
     "data": {
      "text/html": [
       "<div>\n",
       "<style scoped>\n",
       "    .dataframe tbody tr th:only-of-type {\n",
       "        vertical-align: middle;\n",
       "    }\n",
       "\n",
       "    .dataframe tbody tr th {\n",
       "        vertical-align: top;\n",
       "    }\n",
       "\n",
       "    .dataframe thead th {\n",
       "        text-align: right;\n",
       "    }\n",
       "</style>\n",
       "<table border=\"1\" class=\"dataframe\">\n",
       "  <thead>\n",
       "    <tr style=\"text-align: right;\">\n",
       "      <th></th>\n",
       "      <th>Title</th>\n",
       "      <th>Subreddit</th>\n",
       "      <th>IsSelfText</th>\n",
       "      <th>Sentiment_hf</th>\n",
       "      <th>Score_cat</th>\n",
       "      <th>Year</th>\n",
       "      <th>Month</th>\n",
       "      <th>Day</th>\n",
       "      <th>Hour</th>\n",
       "      <th>TimeOfDay</th>\n",
       "      <th>IsWeekend</th>\n",
       "    </tr>\n",
       "  </thead>\n",
       "  <tbody>\n",
       "    <tr>\n",
       "      <th>0</th>\n",
       "      <td>I'm afraid climate change is going to kill me!...</td>\n",
       "      <td>climatechange</td>\n",
       "      <td>True</td>\n",
       "      <td>negative</td>\n",
       "      <td>3</td>\n",
       "      <td>2019</td>\n",
       "      <td>2</td>\n",
       "      <td>14</td>\n",
       "      <td>0</td>\n",
       "      <td>Afternoon</td>\n",
       "      <td>False</td>\n",
       "    </tr>\n",
       "    <tr>\n",
       "      <th>1</th>\n",
       "      <td>The r/climatechange Verified User Flair Program</td>\n",
       "      <td>climatechange</td>\n",
       "      <td>True</td>\n",
       "      <td>positive</td>\n",
       "      <td>2</td>\n",
       "      <td>2022</td>\n",
       "      <td>8</td>\n",
       "      <td>21</td>\n",
       "      <td>20</td>\n",
       "      <td>Evening</td>\n",
       "      <td>True</td>\n",
       "    </tr>\n",
       "    <tr>\n",
       "      <th>2</th>\n",
       "      <td>How come some environmentalists are against ca...</td>\n",
       "      <td>climatechange</td>\n",
       "      <td>True</td>\n",
       "      <td>negative</td>\n",
       "      <td>2</td>\n",
       "      <td>2023</td>\n",
       "      <td>10</td>\n",
       "      <td>22</td>\n",
       "      <td>14</td>\n",
       "      <td>Afternoon</td>\n",
       "      <td>True</td>\n",
       "    </tr>\n",
       "    <tr>\n",
       "      <th>3</th>\n",
       "      <td>Solar and wind are better than nuclear</td>\n",
       "      <td>climatechange</td>\n",
       "      <td>True</td>\n",
       "      <td>positive</td>\n",
       "      <td>1</td>\n",
       "      <td>2023</td>\n",
       "      <td>10</td>\n",
       "      <td>22</td>\n",
       "      <td>20</td>\n",
       "      <td>Evening</td>\n",
       "      <td>True</td>\n",
       "    </tr>\n",
       "    <tr>\n",
       "      <th>4</th>\n",
       "      <td>When will we hit 2 degrees of global warming?</td>\n",
       "      <td>climatechange</td>\n",
       "      <td>True</td>\n",
       "      <td>negative</td>\n",
       "      <td>0</td>\n",
       "      <td>2023</td>\n",
       "      <td>10</td>\n",
       "      <td>22</td>\n",
       "      <td>22</td>\n",
       "      <td>Evening</td>\n",
       "      <td>True</td>\n",
       "    </tr>\n",
       "  </tbody>\n",
       "</table>\n",
       "</div>"
      ],
      "text/plain": [
       "                                               Title      Subreddit  \\\n",
       "0  I'm afraid climate change is going to kill me!...  climatechange   \n",
       "1    The r/climatechange Verified User Flair Program  climatechange   \n",
       "2  How come some environmentalists are against ca...  climatechange   \n",
       "3             Solar and wind are better than nuclear  climatechange   \n",
       "4      When will we hit 2 degrees of global warming?  climatechange   \n",
       "\n",
       "   IsSelfText Sentiment_hf  Score_cat  Year  Month  Day  Hour  TimeOfDay  \\\n",
       "0        True     negative          3  2019      2   14     0  Afternoon   \n",
       "1        True     positive          2  2022      8   21    20    Evening   \n",
       "2        True     negative          2  2023     10   22    14  Afternoon   \n",
       "3        True     positive          1  2023     10   22    20    Evening   \n",
       "4        True     negative          0  2023     10   22    22    Evening   \n",
       "\n",
       "   IsWeekend  \n",
       "0      False  \n",
       "1       True  \n",
       "2       True  \n",
       "3       True  \n",
       "4       True  "
      ]
     },
     "execution_count": 25,
     "metadata": {},
     "output_type": "execute_result"
    }
   ],
   "source": [
    "df.head()"
   ]
  },
  {
   "cell_type": "markdown",
   "metadata": {},
   "source": [
    "# Feature Extraction and Scaling"
   ]
  },
  {
   "cell_type": "code",
   "execution_count": 26,
   "metadata": {},
   "outputs": [],
   "source": [
    "# spliting data before doing transformations to avoid data leakage\n",
    "\n",
    "Y_df = df['Score_cat']\n",
    "X_df = df.drop('Score_cat', axis=1)\n",
    "\n",
    "X_train, X_test, y_train, y_test = train_test_split(X_df, Y_df, test_size=0.2, random_state=42)"
   ]
  },
  {
   "cell_type": "code",
   "execution_count": 27,
   "metadata": {},
   "outputs": [],
   "source": [
    "# function to process textual data\n",
    "def preprocess_textual_data(data, text_column='Title'):\n",
    "    \"\"\"\n",
    "    Preprocesses text data and returns a TF-IDF matrix.\n",
    "    \"\"\"\n",
    "    corpus = []\n",
    "    for i in range(len(data)):\n",
    "        text = re.sub(r'\\W', ' ', str(data[text_column].iloc[i]))\n",
    "        text = text.lower()\n",
    "        text = re.sub(r'^br$', ' ', text)\n",
    "        text = re.sub(r'\\s+br\\s+',' ', text)\n",
    "        text = re.sub(r'\\s+[a-z]\\s+', ' ', text)\n",
    "        text = re.sub(r'^b\\s+', '', text)\n",
    "        text = re.sub(r'\\s+', ' ', text)\n",
    "        corpus.append(text)\n",
    "    return corpus"
   ]
  },
  {
   "cell_type": "code",
   "execution_count": 28,
   "metadata": {},
   "outputs": [],
   "source": [
    "# vectorizing textual data (Title) with TF-IDF\n",
    "clean_x_train = preprocess_textual_data(X_train)\n",
    "clean_x_test = preprocess_textual_data(X_test)\n",
    "vectorizer = TfidfVectorizer(max_features=1000, min_df=3, max_df=0.6, stop_words=stopwords.words('english'))\n",
    "tfidf = vectorizer.fit(clean_x_train)\n",
    "tfidf_X_train = tfidf.transform(clean_x_train).toarray()\n",
    "tfidf_X_test = tfidf.transform(clean_x_test).toarray()"
   ]
  },
  {
   "cell_type": "code",
   "execution_count": 29,
   "metadata": {},
   "outputs": [],
   "source": [
    "# Creating a DataFrame with the vectorized text\n",
    "df_text_tfidf_train = pd.DataFrame(tfidf_X_train, columns=tfidf.get_feature_names_out())\n",
    "df_text_tfidf_test = pd.DataFrame(tfidf_X_test, columns=tfidf.get_feature_names_out())"
   ]
  },
  {
   "cell_type": "code",
   "execution_count": 30,
   "metadata": {},
   "outputs": [],
   "source": [
    "# Pipeline to transform features\n",
    "\n",
    "cat_nominal = ['Subreddit']\n",
    "cat_ordinal = ['Sentiment_hf', 'TimeOfDay']\n",
    "cat_binary = ['IsWeekend', 'IsSelfText']\n",
    "\n",
    "numerical_cols = ['Year', 'Month', 'Day', 'Hour']\n",
    "\n",
    "def preprocess_and_vectorize_titles(data):\n",
    "    return preprocess_and_vectorize(data, text_column='Title')\n",
    "\n",
    "\n",
    "pipeline_cat_nomical = Pipeline(steps=[\n",
    "    ('one-hot', OneHotEncoder(drop='if_binary'))\n",
    "])\n",
    "\n",
    "pipeline_cat_nomical = Pipeline(steps=[\n",
    "    ('one-hot', OneHotEncoder())\n",
    "])\n",
    "\n",
    "pipeline_cat_binary = Pipeline(steps=[\n",
    "    ('one-hot', OneHotEncoder(drop='if_binary'))\n",
    "])\n",
    "\n",
    "\n",
    "pipeline_cat_ordinal = Pipeline(steps=[\n",
    "      ('ord', OrdinalEncoder())\n",
    "])\n",
    "\n",
    "\n",
    "preprocessor = ColumnTransformer(transformers=[\n",
    "    ('nom', pipeline_cat_nomical, cat_nominal),\n",
    "    ('ord', pipeline_cat_ordinal, cat_ordinal),\n",
    "    ('binary', pipeline_cat_binary, cat_binary),\n",
    "    ('passthrough', 'passthrough', numerical_cols)\n",
    "])\n",
    "\n",
    "# Transformed no textual columns\n",
    "X_train = preprocessor.fit_transform(X_train)\n",
    "X_test = preprocessor.transform(X_test)"
   ]
  },
  {
   "cell_type": "code",
   "execution_count": 31,
   "metadata": {},
   "outputs": [
    {
     "name": "stdout",
     "output_type": "stream",
     "text": [
      "X_train_transformed.shape: (12780, 14)\n",
      "X_test_transformed.shape: (3195, 14)\n"
     ]
    }
   ],
   "source": [
    "# Print the transformed shapes\n",
    "print(f\"X_train_transformed.shape: {X_train.shape}\")\n",
    "print(f\"X_test_transformed.shape: {X_test.shape}\")"
   ]
  },
  {
   "cell_type": "code",
   "execution_count": 32,
   "metadata": {
    "scrolled": true
   },
   "outputs": [],
   "source": [
    "features = preprocessor.get_feature_names_out()"
   ]
  },
  {
   "cell_type": "code",
   "execution_count": 33,
   "metadata": {},
   "outputs": [
    {
     "name": "stdout",
     "output_type": "stream",
     "text": [
      "No textual df.shape: (12780, 14)\n",
      "No textual df.shape: (3195, 14)\n"
     ]
    }
   ],
   "source": [
    "# create data frames without textual data\n",
    "df_train = pd.DataFrame(X_train, columns=features)\n",
    "df_test = pd.DataFrame(X_test, columns=features)\n",
    "\n",
    "print(f\"No textual df.shape: {df_train.shape}\")\n",
    "print(f\"No textual df.shape: {df_test.shape}\")"
   ]
  },
  {
   "cell_type": "code",
   "execution_count": 34,
   "metadata": {},
   "outputs": [],
   "source": [
    "# concatenate the transformed dataframes\n",
    "X_final_train = pd.concat([df_train, df_text_tfidf_train], axis=1)\n",
    "X_final_test = pd.concat([df_test, df_text_tfidf_test], axis=1)"
   ]
  },
  {
   "cell_type": "markdown",
   "metadata": {},
   "source": [
    "# Modeling"
   ]
  },
  {
   "cell_type": "code",
   "execution_count": 35,
   "metadata": {},
   "outputs": [],
   "source": [
    "# Funtion to plot confusion matrix\n",
    "def confusion_matrix_graph(y, y_pred, label):\n",
    "    cm_decision_tree_classifier = confusion_matrix(y, y_pred)\n",
    "    cm_df = pd.DataFrame(cm_decision_tree_classifier, index=['Actual 0', 'Actual 1', 'Actual 2', 'Actual 3'], columns=['Predicted 0', 'Predicted 1', 'Predicted 2', 'Predicted 3'])\n",
    "    sns.heatmap(cm_df, annot=True, cmap='Blues', cbar=False, )\n",
    "    plt.title(f\"Confusion matrix for {label}\")\n",
    "    \n",
    "#Function to save the trained model\n",
    "def save_model_pickle(file_name, model):\n",
    "    file_name = file_name + '.pkl'\n",
    "    with open(file_name, 'wb') as file:\n",
    "        pickle.dump(model, file)\n",
    "\n",
    "#Function to retrieve the trained model\n",
    "def retrieve_model_pickle(file_name):\n",
    "    file_name = file_name + '.pkl'\n",
    "    with open(file_name, 'rb') as file:\n",
    "        model = pickle.load(file)\n",
    "        return model\n",
    "    \n",
    "# Function to extract feature importance\n",
    "\n",
    "def get_top_features(model, df, num): \n",
    "    important_features = model.feature_importances_\n",
    "    top_indices = np.argsort(important_features)[-num:][::-1]\n",
    "    top_features = df.columns[top_indices]\n",
    "    print(f'The {num} most important features are: {list(top_features)}')\n",
    "    \n",
    "# function to print metrics\n",
    "def print_metrics(y_test, y_pred, label):\n",
    "    accuracy = accuracy_score(y_test, y_pred)\n",
    "    precision = precision_score(y_test, y_pred, average='weighted')\n",
    "    recall = recall_score(y_test, y_pred, average='weighted')\n",
    "    f1 = f1_score(y_test, y_pred, average='weighted')\n",
    "\n",
    "    # Print evaluation metrics\n",
    "    print(f\"Accuracy for {label}: {accuracy}\")\n",
    "    print(f\"Precision for {label}: {precision}\")\n",
    "    print(f\"Recall for {label}: {recall}\")\n",
    "    print(f\"F1-score for {label}: {f1}\")\n",
    "    return accuracy, precision, recall, f1"
   ]
  },
  {
   "cell_type": "code",
   "execution_count": 36,
   "metadata": {},
   "outputs": [
    {
     "data": {
      "text/html": [
       "<div>\n",
       "<style scoped>\n",
       "    .dataframe tbody tr th:only-of-type {\n",
       "        vertical-align: middle;\n",
       "    }\n",
       "\n",
       "    .dataframe tbody tr th {\n",
       "        vertical-align: top;\n",
       "    }\n",
       "\n",
       "    .dataframe thead th {\n",
       "        text-align: right;\n",
       "    }\n",
       "</style>\n",
       "<table border=\"1\" class=\"dataframe\">\n",
       "  <thead>\n",
       "    <tr style=\"text-align: right;\">\n",
       "      <th></th>\n",
       "      <th>accuracy_test</th>\n",
       "      <th>accuracy_train</th>\n",
       "      <th>precision_test</th>\n",
       "      <th>precision_train</th>\n",
       "      <th>recall_test</th>\n",
       "      <th>recall_train</th>\n",
       "      <th>F1_test</th>\n",
       "    </tr>\n",
       "    <tr>\n",
       "      <th>model</th>\n",
       "      <th></th>\n",
       "      <th></th>\n",
       "      <th></th>\n",
       "      <th></th>\n",
       "      <th></th>\n",
       "      <th></th>\n",
       "      <th></th>\n",
       "    </tr>\n",
       "  </thead>\n",
       "  <tbody>\n",
       "    <tr>\n",
       "      <th>SVM</th>\n",
       "      <td>0</td>\n",
       "      <td>0</td>\n",
       "      <td>0</td>\n",
       "      <td>0</td>\n",
       "      <td>0</td>\n",
       "      <td>0</td>\n",
       "      <td>0</td>\n",
       "    </tr>\n",
       "    <tr>\n",
       "      <th>XGBoost</th>\n",
       "      <td>0</td>\n",
       "      <td>0</td>\n",
       "      <td>0</td>\n",
       "      <td>0</td>\n",
       "      <td>0</td>\n",
       "      <td>0</td>\n",
       "      <td>0</td>\n",
       "    </tr>\n",
       "    <tr>\n",
       "      <th>AdaBoost</th>\n",
       "      <td>0</td>\n",
       "      <td>0</td>\n",
       "      <td>0</td>\n",
       "      <td>0</td>\n",
       "      <td>0</td>\n",
       "      <td>0</td>\n",
       "      <td>0</td>\n",
       "    </tr>\n",
       "    <tr>\n",
       "      <th>Decision Tree</th>\n",
       "      <td>0</td>\n",
       "      <td>0</td>\n",
       "      <td>0</td>\n",
       "      <td>0</td>\n",
       "      <td>0</td>\n",
       "      <td>0</td>\n",
       "      <td>0</td>\n",
       "    </tr>\n",
       "    <tr>\n",
       "      <th>GB</th>\n",
       "      <td>0</td>\n",
       "      <td>0</td>\n",
       "      <td>0</td>\n",
       "      <td>0</td>\n",
       "      <td>0</td>\n",
       "      <td>0</td>\n",
       "      <td>0</td>\n",
       "    </tr>\n",
       "  </tbody>\n",
       "</table>\n",
       "</div>"
      ],
      "text/plain": [
       "               accuracy_test  accuracy_train  precision_test  precision_train  \\\n",
       "model                                                                           \n",
       "SVM                        0               0               0                0   \n",
       "XGBoost                    0               0               0                0   \n",
       "AdaBoost                   0               0               0                0   \n",
       "Decision Tree              0               0               0                0   \n",
       "GB                         0               0               0                0   \n",
       "\n",
       "               recall_test  recall_train  F1_test  \n",
       "model                                              \n",
       "SVM                      0             0        0  \n",
       "XGBoost                  0             0        0  \n",
       "AdaBoost                 0             0        0  \n",
       "Decision Tree            0             0        0  \n",
       "GB                       0             0        0  "
      ]
     },
     "execution_count": 36,
     "metadata": {},
     "output_type": "execute_result"
    }
   ],
   "source": [
    "# Setting up a dataframe to store the results\n",
    "df_models_explorations = pd.DataFrame({\n",
    "    \"model\": [\"SVM\", \"XGBoost\", \"AdaBoost\", \"Decision Tree\", \"GB\"],\n",
    "    \"accuracy_test\": [0, 0, 0, 0, 0],\n",
    "    \"accuracy_train\": [0, 0, 0, 0, 0],\n",
    "    \"precision_test\": [0, 0, 0, 0, 0],\n",
    "    \"precision_train\": [0, 0, 0, 0, 0],\n",
    "    \"recall_test\": [0, 0, 0, 0, 0],\n",
    "    \"recall_train\": [0, 0, 0, 0, 0],\n",
    "    \"F1_test\": [0, 0, 0, 0, 0],\n",
    "    \"F1_test\": [0, 0, 0, 0, 0]\n",
    "})\n",
    "df_models_explorations.set_index('model', inplace=True)\n",
    "df_models_explorations"
   ]
  },
  {
   "cell_type": "markdown",
   "metadata": {},
   "source": [
    "## Gradient Boosting Classifier"
   ]
  },
  {
   "cell_type": "code",
   "execution_count": 37,
   "metadata": {},
   "outputs": [
    {
     "name": "stdout",
     "output_type": "stream",
     "text": [
      "Accuracy for Test: 0.6181533646322379\n",
      "Precision for Test: 0.6206549506971478\n",
      "Recall for Test: 0.6181533646322379\n",
      "F1-score for Test: 0.6150904625994251\n",
      "---------------------------------\n",
      "Accuracy for Train: 0.673943661971831\n",
      "Precision for Train: 0.6799701970269539\n",
      "Recall for Train: 0.673943661971831\n",
      "F1-score for Train: 0.6718900754640011\n"
     ]
    }
   ],
   "source": [
    "if run_models:\n",
    "    gb_clf = GradientBoostingClassifier(learning_rate=0.1)\n",
    "    gb_clf.fit(X_final_train, y_train)\n",
    "    save_model_pickle('gb_clf', gb_clf)\n",
    "else:\n",
    "    gb_clf = retrieve_model_pickle('gb_clf')\n",
    "\n",
    "\n",
    "y_pred_test = gb_clf.predict(X_final_test)\n",
    "y_pred_train = gb_clf.predict(X_final_train)\n",
    "\n",
    "# metrics test set\n",
    "accuracy_te, precision_te, recall_te, f1_te = print_metrics(y_test, y_pred_test, \"Test\")\n",
    "df_models_explorations.loc['GB', 'accuracy_test'] = accuracy_te\n",
    "df_models_explorations.loc['GB', 'precision_test'] = precision_te\n",
    "df_models_explorations.loc['GB', 'recall_test'] = recall_te\n",
    "df_models_explorations.loc['GB', 'F1_test'] = f1_te\n",
    "\n",
    "print(\"---------------------------------\")\n",
    "\n",
    "# metrics train set\n",
    "accuracy_tr, precision_tr, recall_tr, f1_tr = print_metrics(y_train, y_pred_train, \"Train\")\n",
    "df_models_explorations.loc['GB', 'accuracy_train'] = accuracy_tr\n",
    "df_models_explorations.loc['GB', 'precision_train'] = precision_tr\n",
    "df_models_explorations.loc['GB', 'recall_train'] = recall_tr\n",
    "df_models_explorations.loc['GB', 'F1_train'] = f1_tr"
   ]
  },
  {
   "cell_type": "code",
   "execution_count": 38,
   "metadata": {},
   "outputs": [
    {
     "data": {
      "image/png": "[encoded data removed]",
      "text/plain": [
       "<Figure size 640x480 with 1 Axes>"
      ]
     },
     "metadata": {},
     "output_type": "display_data"
    }
   ],
   "source": [
    "confusion_matrix_graph(y_test, y_pred_test, \"Multiclass Gradient Boosting\")"
   ]
  },
  {
   "cell_type": "markdown",
   "metadata": {},
   "source": [
    "## Support Vector Machine"
   ]
  },
  {
   "cell_type": "code",
   "execution_count": 39,
   "metadata": {},
   "outputs": [
    {
     "name": "stdout",
     "output_type": "stream",
     "text": [
      "Accuracy for Test: 0.24726134585289514\n",
      "Precision for Test: 0.061138173152985024\n",
      "Recall for Test: 0.24726134585289514\n",
      "F1-score for Test: 0.09803586610980534\n",
      "---------------------------------\n",
      "Accuracy for Train: 0.25727699530516435\n",
      "Precision for Train: 0.06619145231325356\n",
      "Recall for Train: 0.25727699530516435\n",
      "F1-score for Train: 0.10529334833997764\n"
     ]
    },
    {
     "name": "stderr",
     "output_type": "stream",
     "text": [
      "/Users/marygomez/anaconda3/lib/python3.10/site-packages/sklearn/metrics/_classification.py:1344: UndefinedMetricWarning: Precision is ill-defined and being set to 0.0 in labels with no predicted samples. Use `zero_division` parameter to control this behavior.\n",
      "  _warn_prf(average, modifier, msg_start, len(result))\n",
      "/Users/marygomez/anaconda3/lib/python3.10/site-packages/sklearn/metrics/_classification.py:1344: UndefinedMetricWarning: Precision is ill-defined and being set to 0.0 in labels with no predicted samples. Use `zero_division` parameter to control this behavior.\n",
      "  _warn_prf(average, modifier, msg_start, len(result))\n"
     ]
    }
   ],
   "source": [
    "# train multiclass SVC\n",
    "if run_models:\n",
    "    svc_clf = SVC(probability=True, random_state=42, decision_function_shape='ovo')\n",
    "    svc_clf.fit(X_final_train, y_train)\n",
    "    save_model_pickle('SVM1', svc_clf)\n",
    "else:\n",
    "    svc_clf = retrieve_model_pickle('SVM1')\n",
    "\n",
    "y_pred_test = svc_clf.predict(X_final_test)\n",
    "y_pred_train = svc_clf.predict(X_final_train)\n",
    "\n",
    "# metrics test set\n",
    "accuracy_te, precision_te, recall_te, f1_te = print_metrics(y_test, y_pred_test, \"Test\")\n",
    "df_models_explorations.loc['SVM', 'accuracy_test'] = accuracy_te\n",
    "df_models_explorations.loc['SVM', 'precision_test'] = precision_te\n",
    "df_models_explorations.loc['SVM', 'recall_test'] = recall_te\n",
    "df_models_explorations.loc['SVM', 'F1_test'] = f1_te\n",
    "\n",
    "print(\"---------------------------------\")\n",
    "\n",
    "# metrics train set\n",
    "accuracy_tr, precision_tr, recall_tr, f1_tr = print_metrics(y_train, y_pred_train, \"Train\")\n",
    "df_models_explorations.loc['SVM', 'accuracy_train'] = accuracy_tr\n",
    "df_models_explorations.loc['SVM', 'precision_train'] = precision_tr\n",
    "df_models_explorations.loc['SVM', 'recall_train'] = recall_tr\n",
    "df_models_explorations.loc['SVM', 'F1_train'] = f1_tr"
   ]
  },
  {
   "cell_type": "code",
   "execution_count": 40,
   "metadata": {},
   "outputs": [
    {
     "data": {
      "image/png": "[encoded data removed]",
      "text/plain": [
       "<Figure size 640x480 with 1 Axes>"
      ]
     },
     "metadata": {},
     "output_type": "display_data"
    }
   ],
   "source": [
    "confusion_matrix_graph(y_test, y_pred_test, \"Multiclass SVM\")"
   ]
  },
  {
   "cell_type": "markdown",
   "metadata": {},
   "source": [
    "As can be see, the model predicted all categories as 0."
   ]
  },
  {
   "cell_type": "markdown",
   "metadata": {},
   "source": [
    "## XGBoost Classifier"
   ]
  },
  {
   "cell_type": "code",
   "execution_count": 41,
   "metadata": {},
   "outputs": [
    {
     "name": "stdout",
     "output_type": "stream",
     "text": [
      "Accuracy for Test: 0.5483568075117371\n",
      "Precision for Test: 0.558769017426821\n",
      "Recall for Test: 0.5483568075117371\n",
      "F1-score for Test: 0.5449688631768526\n",
      "---------------------------------\n",
      "Accuracy for Train: 0.5619718309859155\n",
      "Precision for Train: 0.5779450339467455\n",
      "Recall for Train: 0.5619718309859155\n",
      "F1-score for Train: 0.5592137696246354\n"
     ]
    }
   ],
   "source": [
    "if run_models:\n",
    "    xgb_clf = xgb.XGBClassifier(\n",
    "        learning_rate=0.1,\n",
    "        n_estimators=50,\n",
    "        max_depth=3,\n",
    "        subsample=1.0,\n",
    "        colsample_bytree=1.0,\n",
    "        random_state=42\n",
    "    )\n",
    "    xgb_clf.fit(X_final_train, y_train)\n",
    "    save_model_pickle('xgb_clf', xgb_clf)\n",
    "else:\n",
    "    xgb_clf = retrieve_model_pickle('xgb_clf')\n",
    "\n",
    "\n",
    "y_pred_test = xgb_clf.predict(X_final_test)\n",
    "y_pred_train = xgb_clf.predict(X_final_train)\n",
    "\n",
    "# metrics test set\n",
    "accuracy_te, precision_te, recall_te, f1_te = print_metrics(y_test, y_pred_test, \"Test\")\n",
    "df_models_explorations.loc['XGBoost', 'accuracy_test'] = accuracy_te\n",
    "df_models_explorations.loc['XGBoost', 'precision_test'] = precision_te\n",
    "df_models_explorations.loc['XGBoost', 'recall_test'] = recall_te\n",
    "df_models_explorations.loc['XGBoost', 'F1_test'] = f1_te\n",
    "\n",
    "print(\"---------------------------------\")\n",
    "\n",
    "# metrics train set\n",
    "accuracy_tr, precision_tr, recall_tr, f1_tr = print_metrics(y_train, y_pred_train, \"Train\")\n",
    "df_models_explorations.loc['XGBoost', 'accuracy_train'] = accuracy_tr\n",
    "df_models_explorations.loc['XGBoost', 'precision_train'] = precision_tr\n",
    "df_models_explorations.loc['XGBoost', 'recall_train'] = recall_tr\n",
    "df_models_explorations.loc['XGBoost', 'F1_train'] = f1_tr"
   ]
  },
  {
   "cell_type": "code",
   "execution_count": 42,
   "metadata": {},
   "outputs": [
    {
     "data": {
      "image/png": "[encoded data removed]",
      "text/plain": [
       "<Figure size 640x480 with 1 Axes>"
      ]
     },
     "metadata": {},
     "output_type": "display_data"
    }
   ],
   "source": [
    "confusion_matrix_graph(y_test, y_pred_test, \"XGBoost Classifier\")"
   ]
  },
  {
   "cell_type": "markdown",
   "metadata": {},
   "source": [
    "## Ada Boost Classifier"
   ]
  },
  {
   "cell_type": "code",
   "execution_count": 43,
   "metadata": {},
   "outputs": [
    {
     "name": "stdout",
     "output_type": "stream",
     "text": [
      "Accuracy for Test: 0.4557120500782473\n",
      "Precision for Test: 0.4949457236695072\n",
      "Recall for Test: 0.4557120500782473\n",
      "F1-score for Test: 0.46392464837103875\n",
      "---------------------------------\n",
      "Accuracy for Train: 0.4877934272300469\n",
      "Precision for Train: 0.5293047024981208\n",
      "Recall for Train: 0.4877934272300469\n",
      "F1-score for Train: 0.49481754435926373\n"
     ]
    }
   ],
   "source": [
    "# Create the AdaBoostClassifier\n",
    "if run_models:\n",
    "    ada_clf = AdaBoostClassifier(\n",
    "        n_estimators=100,\n",
    "        learning_rate=1.0,\n",
    "        random_state=42\n",
    "    )\n",
    "\n",
    "    ada_clf.fit(X_final_train, y_train)\n",
    "    save_model_pickle('ada_clf', ada_clf)\n",
    "else:\n",
    "    ada_clf = retrieve_model_pickle('ada_clf')\n",
    "\n",
    "\n",
    "y_pred_test = ada_clf.predict(X_final_test)\n",
    "y_pred_train = ada_clf.predict(X_final_train)\n",
    "\n",
    "# metrics test set\n",
    "accuracy_te, precision_te, recall_te, f1_te = print_metrics(y_test, y_pred_test, \"Test\")\n",
    "df_models_explorations.loc[\"AdaBoost\", 'accuracy_test'] = accuracy_te\n",
    "df_models_explorations.loc[\"AdaBoost\", 'precision_test'] = precision_te\n",
    "df_models_explorations.loc[\"AdaBoost\", 'recall_test'] = recall_te\n",
    "df_models_explorations.loc[\"AdaBoost\", 'F1_test'] = f1_te\n",
    "\n",
    "print(\"---------------------------------\")\n",
    "\n",
    "# metrics train set\n",
    "accuracy_tr, precision_tr, recall_tr, f1_tr = print_metrics(y_train, y_pred_train, \"Train\")\n",
    "df_models_explorations.loc[\"AdaBoost\", 'accuracy_train'] = accuracy_tr\n",
    "df_models_explorations.loc[\"AdaBoost\", 'precision_train'] = precision_tr\n",
    "df_models_explorations.loc[\"AdaBoost\", 'recall_train'] = recall_tr\n",
    "df_models_explorations.loc[\"AdaBoost\", 'F1_train'] = f1_tr"
   ]
  },
  {
   "cell_type": "code",
   "execution_count": 44,
   "metadata": {},
   "outputs": [
    {
     "data": {
      "image/png": "[encoded data removed]",
      "text/plain": [
       "<Figure size 640x480 with 1 Axes>"
      ]
     },
     "metadata": {},
     "output_type": "display_data"
    }
   ],
   "source": [
    "confusion_matrix_graph(y_test, y_pred_test, \"AdaBoost Classifier\")"
   ]
  },
  {
   "cell_type": "markdown",
   "metadata": {},
   "source": [
    "## Decision Tree Classifier"
   ]
  },
  {
   "cell_type": "code",
   "execution_count": 45,
   "metadata": {},
   "outputs": [
    {
     "name": "stdout",
     "output_type": "stream",
     "text": [
      "Accuracy for Test: 0.8194053208137715\n",
      "Precision for Test: 0.8196817495298493\n",
      "Recall for Test: 0.8194053208137715\n",
      "F1-score for Test: 0.819467594739577\n",
      "---------------------------------\n",
      "Accuracy for Train: 0.9842723004694836\n",
      "Precision for Train: 0.9843489273492083\n",
      "Recall for Train: 0.9842723004694836\n",
      "F1-score for Train: 0.9842687125335944\n"
     ]
    }
   ],
   "source": [
    "if run_models:\n",
    "    dt_clf = DecisionTreeClassifier(random_state=42)\n",
    "    dt_clf.fit(X_final_train, y_train)\n",
    "    save_model_pickle('dt_clf', dt_clf)\n",
    "else:\n",
    "    dt_clf = retrieve_model_pickle('dt_clf')\n",
    "\n",
    "y_pred_test = dt_clf.predict(X_final_test)\n",
    "y_pred_train = dt_clf.predict(X_final_train)\n",
    "\n",
    "# metrics test set\n",
    "accuracy_te, precision_te, recall_te, f1_te = print_metrics(y_test, y_pred_test, \"Test\")\n",
    "df_models_explorations.loc[\"Decision Tree\", 'accuracy_test'] = accuracy_te\n",
    "df_models_explorations.loc[\"Decision Tree\", 'precision_test'] = precision_te\n",
    "df_models_explorations.loc[\"Decision Tree\", 'recall_test'] = recall_te\n",
    "df_models_explorations.loc[\"Decision Tree\", 'F1_test'] = f1_te\n",
    "\n",
    "print(\"---------------------------------\")\n",
    "\n",
    "# metrics train set\n",
    "accuracy_tr, precision_tr, recall_tr, f1_tr = print_metrics(y_train, y_pred_train, \"Train\")\n",
    "df_models_explorations.loc[\"Decision Tree\", 'accuracy_train'] = accuracy_tr\n",
    "df_models_explorations.loc[\"Decision Tree\", 'precision_train'] = precision_tr\n",
    "df_models_explorations.loc[\"Decision Tree\", 'recall_train'] = recall_tr\n",
    "df_models_explorations.loc[\"Decision Tree\", 'F1_train'] = f1_tr"
   ]
  },
  {
   "cell_type": "code",
   "execution_count": 46,
   "metadata": {},
   "outputs": [
    {
     "data": {
      "image/png": "[encoded data removed]",
      "text/plain": [
       "<Figure size 640x480 with 1 Axes>"
      ]
     },
     "metadata": {},
     "output_type": "display_data"
    }
   ],
   "source": [
    "confusion_matrix_graph(y_test, y_pred_test, \"Decision Tree Classifier\")"
   ]
  },
  {
   "cell_type": "markdown",
   "metadata": {},
   "source": [
    "## Model Exploration Results"
   ]
  },
  {
   "cell_type": "code",
   "execution_count": 47,
   "metadata": {},
   "outputs": [
    {
     "data": {
      "text/html": [
       "<div>\n",
       "<style scoped>\n",
       "    .dataframe tbody tr th:only-of-type {\n",
       "        vertical-align: middle;\n",
       "    }\n",
       "\n",
       "    .dataframe tbody tr th {\n",
       "        vertical-align: top;\n",
       "    }\n",
       "\n",
       "    .dataframe thead th {\n",
       "        text-align: right;\n",
       "    }\n",
       "</style>\n",
       "<table border=\"1\" class=\"dataframe\">\n",
       "  <thead>\n",
       "    <tr style=\"text-align: right;\">\n",
       "      <th></th>\n",
       "      <th>accuracy_test</th>\n",
       "      <th>accuracy_train</th>\n",
       "      <th>precision_test</th>\n",
       "      <th>precision_train</th>\n",
       "      <th>recall_test</th>\n",
       "      <th>recall_train</th>\n",
       "      <th>F1_test</th>\n",
       "      <th>F1_train</th>\n",
       "    </tr>\n",
       "    <tr>\n",
       "      <th>model</th>\n",
       "      <th></th>\n",
       "      <th></th>\n",
       "      <th></th>\n",
       "      <th></th>\n",
       "      <th></th>\n",
       "      <th></th>\n",
       "      <th></th>\n",
       "      <th></th>\n",
       "    </tr>\n",
       "  </thead>\n",
       "  <tbody>\n",
       "    <tr>\n",
       "      <th>Decision Tree</th>\n",
       "      <td>0.819405</td>\n",
       "      <td>0.984272</td>\n",
       "      <td>0.819682</td>\n",
       "      <td>0.984349</td>\n",
       "      <td>0.819405</td>\n",
       "      <td>0.984272</td>\n",
       "      <td>0.819468</td>\n",
       "      <td>0.984269</td>\n",
       "    </tr>\n",
       "    <tr>\n",
       "      <th>GB</th>\n",
       "      <td>0.618153</td>\n",
       "      <td>0.673944</td>\n",
       "      <td>0.620655</td>\n",
       "      <td>0.679970</td>\n",
       "      <td>0.618153</td>\n",
       "      <td>0.673944</td>\n",
       "      <td>0.615090</td>\n",
       "      <td>0.671890</td>\n",
       "    </tr>\n",
       "    <tr>\n",
       "      <th>XGBoost</th>\n",
       "      <td>0.548357</td>\n",
       "      <td>0.561972</td>\n",
       "      <td>0.558769</td>\n",
       "      <td>0.577945</td>\n",
       "      <td>0.548357</td>\n",
       "      <td>0.561972</td>\n",
       "      <td>0.544969</td>\n",
       "      <td>0.559214</td>\n",
       "    </tr>\n",
       "    <tr>\n",
       "      <th>AdaBoost</th>\n",
       "      <td>0.455712</td>\n",
       "      <td>0.487793</td>\n",
       "      <td>0.494946</td>\n",
       "      <td>0.529305</td>\n",
       "      <td>0.455712</td>\n",
       "      <td>0.487793</td>\n",
       "      <td>0.463925</td>\n",
       "      <td>0.494818</td>\n",
       "    </tr>\n",
       "    <tr>\n",
       "      <th>SVM</th>\n",
       "      <td>0.247261</td>\n",
       "      <td>0.257277</td>\n",
       "      <td>0.061138</td>\n",
       "      <td>0.066191</td>\n",
       "      <td>0.247261</td>\n",
       "      <td>0.257277</td>\n",
       "      <td>0.098036</td>\n",
       "      <td>0.105293</td>\n",
       "    </tr>\n",
       "  </tbody>\n",
       "</table>\n",
       "</div>"
      ],
      "text/plain": [
       "               accuracy_test  accuracy_train  precision_test  precision_train  \\\n",
       "model                                                                           \n",
       "Decision Tree       0.819405        0.984272        0.819682         0.984349   \n",
       "GB                  0.618153        0.673944        0.620655         0.679970   \n",
       "XGBoost             0.548357        0.561972        0.558769         0.577945   \n",
       "AdaBoost            0.455712        0.487793        0.494946         0.529305   \n",
       "SVM                 0.247261        0.257277        0.061138         0.066191   \n",
       "\n",
       "               recall_test  recall_train   F1_test  F1_train  \n",
       "model                                                         \n",
       "Decision Tree     0.819405      0.984272  0.819468  0.984269  \n",
       "GB                0.618153      0.673944  0.615090  0.671890  \n",
       "XGBoost           0.548357      0.561972  0.544969  0.559214  \n",
       "AdaBoost          0.455712      0.487793  0.463925  0.494818  \n",
       "SVM               0.247261      0.257277  0.098036  0.105293  "
      ]
     },
     "execution_count": 47,
     "metadata": {},
     "output_type": "execute_result"
    }
   ],
   "source": [
    "df_models_explorations.sort_values('accuracy_test', ascending=False)"
   ]
  },
  {
   "cell_type": "markdown",
   "metadata": {},
   "source": [
    "As can be seen the best models to move forward with optimization are Decision Tree Classifier and Gradient Boosting Classifier. The first one is overfitting more than the second one."
   ]
  },
  {
   "cell_type": "markdown",
   "metadata": {},
   "source": [
    "## Model Optimization"
   ]
  },
  {
   "cell_type": "markdown",
   "metadata": {},
   "source": [
    "### Randomized Search\n",
    "\n",
    "#### Gradient Boosting Classifier"
   ]
  },
  {
   "cell_type": "code",
   "execution_count": 53,
   "metadata": {},
   "outputs": [
    {
     "name": "stdout",
     "output_type": "stream",
     "text": [
      "Best Parameters: {'subsample': 0.8, 'n_estimators': 200, 'min_samples_split': 5, 'min_samples_leaf': 2, 'max_depth': 10, 'learning_rate': 0.1}\n"
     ]
    }
   ],
   "source": [
    "# Randomized Search, Iteration 1\n",
    "\n",
    "param_dist = {\n",
    "        'n_estimators': [ 32, 100, 200],\n",
    "        'learning_rate': [0.01, 0.1, 0.2],\n",
    "        'max_depth': [1, 3, 5, 10],\n",
    "        'min_samples_split': [1, 2, 5],\n",
    "        'min_samples_leaf': [1, 2],\n",
    "        'subsample': [0.8, 0.9, 1.0]\n",
    "}\n",
    "if run_models:\n",
    "    gb_clf_rs = GradientBoostingClassifier()\n",
    "\n",
    "    # Create RandomizedSearchCV\n",
    "    random_search = RandomizedSearchCV(gb_clf_rs, param_distributions=param_dist, n_iter=10,\n",
    "                                       scoring='accuracy', cv=5, random_state=42)\n",
    "\n",
    "    # Fit the model\n",
    "    random_search.fit(X_final_train, y_train)\n",
    "    best_params = random_search.best_params_\n",
    "\n",
    "    # Print the best parameters\n",
    "    print(\"Best Parameters:\", best_params)\n",
    "\n",
    "    # get the best estimator\n",
    "    best_estimator = random_search.best_estimator_\n",
    "    save_model_pickle('gb_clf_rs_be', best_estimator)\n",
    "else:\n",
    "    best_estimator = retrieve_model_pickle('gb_clf_rs_be')\n"
   ]
  },
  {
   "cell_type": "code",
   "execution_count": 55,
   "metadata": {},
   "outputs": [
    {
     "name": "stdout",
     "output_type": "stream",
     "text": [
      "Accuracy for Test: 0.7959311424100156\n",
      "Precision for Test: 0.7993264779007853\n",
      "Recall for Test: 0.7959311424100156\n",
      "F1-score for Test: 0.7964949490910295\n",
      "---------------------------------\n",
      "Accuracy for Train: 0.9525821596244132\n",
      "Precision for Train: 0.9529018166967702\n",
      "Recall for Train: 0.9525821596244132\n",
      "F1-score for Train: 0.9526294242593853\n"
     ]
    }
   ],
   "source": [
    "y_pred_test =  best_estimator.predict(X_final_test)\n",
    "y_pred_train =  best_estimator.predict(X_final_train)\n",
    "\n",
    "# metrics test set\n",
    "accuracy_te, precision_te, recall_te, f1_te = print_metrics(y_test, y_pred_test, \"Test\")\n",
    "\n",
    "print(\"---------------------------------\")\n",
    "\n",
    "# metrics train set\n",
    "accuracy_tr, precision_tr, recall_tr, f1_tr = print_metrics(y_train, y_pred_train, \"Train\")\n"
   ]
  },
  {
   "cell_type": "code",
   "execution_count": 57,
   "metadata": {},
   "outputs": [
    {
     "name": "stdout",
     "output_type": "stream",
     "text": [
      "Accuracy for Test: 0.7677621283255086\n",
      "Precision for Test: 0.770174686582471\n",
      "Recall for Test: 0.7677621283255086\n",
      "F1-score for Test: 0.7682334392212599\n",
      "---------------------------------\n",
      "Accuracy for Train: 0.9230829420970266\n",
      "Precision for Train: 0.9236504679759107\n",
      "Recall for Train: 0.9230829420970266\n",
      "F1-score for Train: 0.923183809981901\n"
     ]
    }
   ],
   "source": [
    "# Iteration 2 using best parameters with early stoping\n",
    "\n",
    "gb_clf_es = GradientBoostingClassifier(\n",
    "                                        subsample=0.8,\n",
    "                                        n_estimators=200,\n",
    "                                        min_samples_split=5,\n",
    "                                        min_samples_leaf=2,\n",
    "                                        max_depth=10,\n",
    "                                        learning_rate=0.1,\n",
    "                                        n_iter_no_change=5,\n",
    "                                        validation_fraction=0.2,\n",
    "                                        tol=0.001)\n",
    "gb_clf_es.fit(X_final_train, y_train)\n",
    "y_pred_test =  gb_clf_es.predict(X_final_test)\n",
    "y_pred_train =  gb_clf_es.predict(X_final_train)\n",
    "\n",
    "# metrics test set\n",
    "accuracy_te, precision_te, recall_te, f1_te = print_metrics(y_test, y_pred_test, \"Test\")\n",
    "\n",
    "print(\"---------------------------------\")\n",
    "\n",
    "# metrics train set\n",
    "accuracy_tr, precision_tr, recall_tr, f1_tr = print_metrics(y_train, y_pred_train, \"Train\")\n",
    "\n"
   ]
  },
  {
   "cell_type": "code",
   "execution_count": 58,
   "metadata": {},
   "outputs": [],
   "source": [
    "save_model_pickle('gb_clf_es', gb_clf_es)"
   ]
  },
  {
   "cell_type": "code",
   "execution_count": 62,
   "metadata": {},
   "outputs": [
    {
     "name": "stdout",
     "output_type": "stream",
     "text": [
      "Best Parameters: {'subsample': 0.6, 'n_estimators': 200, 'min_samples_split': 5, 'min_samples_leaf': 5, 'max_depth': 5, 'learning_rate': 0.1}\n"
     ]
    }
   ],
   "source": [
    "# Randomized Search, Iteration 3\n",
    "\n",
    "param_dist = {\n",
    "        'n_estimators': [ 32, 100, 200],\n",
    "        'learning_rate': [0.01, 0.05, 0.1],\n",
    "        'max_depth': [3, 5], # reduce complexity\n",
    "        'min_samples_split': [5, 10], # more regularization\n",
    "        'min_samples_leaf': [2, 5], # more regularization\n",
    "        'subsample': [0.5, 0.6,0.8]\n",
    "}\n",
    "if run_models:\n",
    "    gb_clf_rs_1 = GradientBoostingClassifier()\n",
    "\n",
    "    # Create RandomizedSearchCV\n",
    "    random_search = RandomizedSearchCV(gb_clf_rs_1, param_distributions=param_dist, n_iter=10,\n",
    "                                       scoring='accuracy', cv=5, random_state=42)\n",
    "\n",
    "    # Fit the model\n",
    "    random_search.fit(X_final_train, y_train)\n",
    "    best_params = random_search.best_params_\n",
    "\n",
    "    # Print the best parameters\n",
    "    print(\"Best Parameters:\", best_params)\n",
    "\n",
    "    # get the best estimator\n",
    "    best_estimator = random_search.best_estimator_\n",
    "    save_model_pickle('gb_clf_rs_be_1', best_estimator)\n",
    "else:\n",
    "    best_estimator = retrieve_model_pickle('gb_clf_rs_be_1')\n"
   ]
  },
  {
   "cell_type": "code",
   "execution_count": 63,
   "metadata": {},
   "outputs": [
    {
     "name": "stdout",
     "output_type": "stream",
     "text": [
      "Accuracy for Test: 0.702660406885759\n",
      "Precision for Test: 0.7042676262287583\n",
      "Recall for Test: 0.702660406885759\n",
      "F1-score for Test: 0.7026771575392144\n",
      "---------------------------------\n",
      "Accuracy for Train: 0.8424882629107981\n",
      "Precision for Train: 0.8441179867344613\n",
      "Recall for Train: 0.8424882629107981\n",
      "F1-score for Train: 0.8424939564867012\n"
     ]
    }
   ],
   "source": [
    "y_pred_test =  best_estimator.predict(X_final_test)\n",
    "y_pred_train =  best_estimator.predict(X_final_train)\n",
    "\n",
    "# metrics test set\n",
    "accuracy_te, precision_te, recall_te, f1_te = print_metrics(y_test, y_pred_test, \"Test\")\n",
    "\n",
    "print(\"---------------------------------\")\n",
    "\n",
    "# metrics train set\n",
    "accuracy_tr, precision_tr, recall_tr, f1_tr = print_metrics(y_train, y_pred_train, \"Train\")"
   ]
  },
  {
   "cell_type": "code",
   "execution_count": null,
   "metadata": {},
   "outputs": [],
   "source": []
  }
 ],
 "metadata": {
  "kernelspec": {
   "display_name": "Python 3 (ipykernel)",
   "language": "python",
   "name": "python3"
  },
  "language_info": {
   "codemirror_mode": {
    "name": "ipython",
    "version": 3
   },
   "file_extension": ".py",
   "mimetype": "text/x-python",
   "name": "python",
   "nbconvert_exporter": "python",
   "pygments_lexer": "ipython3",
   "version": "3.10.9"
  }
 },
 "nbformat": 4,
 "nbformat_minor": 2
}
