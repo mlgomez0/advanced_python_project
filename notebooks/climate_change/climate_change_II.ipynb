{
 "cells": [
  {
   "cell_type": "markdown",
   "metadata": {},
   "source": [
    "# Project Setup\n",
    "\n",
    "## Please install the following libraries\n",
    "\n",
    "- !pip install tensorflow"
   ]
  },
  {
   "cell_type": "markdown",
   "metadata": {},
   "source": [
    "## Project Files\n",
    "- Please, download the project files from: TBD\n",
    "\n",
    "## GitHub Link\n",
    "- GitHub Repository: https://github.com/mlgomez0/advanced_python_project/tree/main/notebooks"
   ]
  },
  {
   "cell_type": "markdown",
   "metadata": {},
   "source": [
    "## Set the variables\n",
    "\n",
    "- run_pandas_profiling: equal True means to create the Pandas Profiling which takes time, False means you will use the profile attached with this report"
   ]
  },
  {
   "cell_type": "code",
   "execution_count": 1,
   "metadata": {},
   "outputs": [],
   "source": [
    "create_pandas_profiling = False\n",
    "run_models=False"
   ]
  },
  {
   "cell_type": "markdown",
   "metadata": {},
   "source": [
    "## Please do the following imports"
   ]
  },
  {
   "cell_type": "code",
   "execution_count": 2,
   "metadata": {},
   "outputs": [
    {
     "name": "stderr",
     "output_type": "stream",
     "text": [
      "d:\\Git\\advanced_python_project\\.venv\\Lib\\site-packages\\tqdm\\auto.py:21: TqdmWarning: IProgress not found. Please update jupyter and ipywidgets. See https://ipywidgets.readthedocs.io/en/stable/user_install.html\n",
      "  from .autonotebook import tqdm as notebook_tqdm\n"
     ]
    }
   ],
   "source": [
    "import csv\n",
    "import pandas as pd\n",
    "import os\n",
    "from vaderSentiment.vaderSentiment import SentimentIntensityAnalyzer\n",
    "import matplotlib.pyplot as plt\n",
    "import warnings\n",
    "import seaborn as sns\n",
    "from scipy.stats import chi2_contingency\n",
    "from wordcloud import WordCloud\n",
    "import numpy as np\n",
    "from sklearn.feature_extraction.text import TfidfVectorizer\n",
    "from nltk.corpus import stopwords\n",
    "from sklearn.model_selection import train_test_split\n",
    "from sklearn.ensemble import RandomForestClassifier\n",
    "from sklearn.metrics import accuracy_score, classification_report, confusion_matrix, precision_score, recall_score, f1_score\n",
    "import plotly.express as px\n",
    "from sklearn.ensemble import GradientBoostingClassifier\n",
    "from sklearn.preprocessing import OrdinalEncoder, StandardScaler, OneHotEncoder, MinMaxScaler\n",
    "from sklearn.compose import ColumnTransformer, make_column_transformer\n",
    "from sklearn.pipeline import Pipeline, make_pipeline\n",
    "from sklearn.preprocessing import FunctionTransformer\n",
    "from sklearn.ensemble import AdaBoostClassifier\n",
    "from sklearn.tree import DecisionTreeClassifier\n",
    "from sklearn.model_selection import RandomizedSearchCV\n",
    "import xgboost as xgb\n",
    "from ydata_profiling import ProfileReport\n",
    "from sklearn.svm import SVC\n",
    "from scipy.stats import randint\n",
    "from sklearn.ensemble import GradientBoostingClassifier\n",
    "from sklearn.compose import ColumnTransformer\n",
    "from sklearn.pipeline import Pipeline\n",
    "from sklearn.preprocessing import MinMaxScaler, OneHotEncoder\n",
    "import pickle\n",
    "import re"
   ]
  },
  {
   "cell_type": "markdown",
   "metadata": {},
   "source": [
    "# Dataset Exploration and Cleaning\n",
    "\n",
    "For this report, we used posts in Reddit (The code can be found in previous report), a social media platform where people can create communities (subreddits) to discuss several topics. For this report, we focused on communities on climate change and collected those posts that are new and hot in the respective subreddit.\n",
    "\n",
    "The selected subreddits are: 'climatechange', 'climate_science', 'climate', 'environment', 'GlobalClimateChange', 'climate_change', 'ClimateChangeSurprise'\n",
    "\n",
    "To gather the dataset, we used the Reddit API. We created a developer account to get the access credentials to work with this API. Additionally, we used a Python package called Prawn (\"Python Reddit API Wrapper\"). This wrapper facilitates the interactions with the API.\n",
    "\n",
    "The final dataset has the following features:\n",
    "\n",
    "- Title: The post title\n",
    "- Score: It is a net score that equals upvotes minus downvotes for a particular Reddit post\n",
    "- Author: Author of the post \n",
    "- Time: Data of the post\n",
    "- Comments: Number of comments done to the post\n",
    "- UpvoteRatio: It is the ratio between upvotes and total votes\n",
    "- PostId: Unique identifier for the vote\n",
    "- Subreddit: Name of the subreddit\n",
    "- is_nsfw: The content is not safe for work\n",
    "- SelfText: Is the text in the post\n",
    "- IsSelfText: This boolean tells if the post has self text (In some cases, there is a link or picture instead)\n",
    "- IsPinned: Refers to whether a post is pinned to a user's profile page\n",
    "- IsStickied: Indicates the post is pinned to a subreddit\n",
    "- IsLocked: This boolean indicates if users are able to make new comments on the post\n",
    "- Sentiment_hf: Sentiment analysis of textual data using Hugging Face (Previous work)\n",
    "- Sentiment_v: Sentiment analysis of textual data using Vader (Previous work)\n"
   ]
  },
  {
   "cell_type": "code",
   "execution_count": 3,
   "metadata": {},
   "outputs": [],
   "source": [
    "df = pd.read_csv('climate_change_sentiment.csv')"
   ]
  },
  {
   "cell_type": "code",
   "execution_count": 4,
   "metadata": {},
   "outputs": [
    {
     "name": "stdout",
     "output_type": "stream",
     "text": [
      "<class 'pandas.core.frame.DataFrame'>\n",
      "RangeIndex: 15975 entries, 0 to 15974\n",
      "Data columns (total 16 columns):\n",
      " #   Column        Non-Null Count  Dtype  \n",
      "---  ------        --------------  -----  \n",
      " 0   Title         15975 non-null  object \n",
      " 1   Score         15975 non-null  int64  \n",
      " 2   Autor         15518 non-null  object \n",
      " 3   Time          15975 non-null  float64\n",
      " 4   Comments      15975 non-null  int64  \n",
      " 5   UpvoteRatio   15975 non-null  float64\n",
      " 6   PostId        15975 non-null  object \n",
      " 7   Subreddit     15975 non-null  object \n",
      " 8   is_nsfw       15975 non-null  bool   \n",
      " 9   SelfText      2398 non-null   object \n",
      " 10  IsSelfText    15975 non-null  bool   \n",
      " 11  IsPinned      15975 non-null  bool   \n",
      " 12  IsStickied    15975 non-null  bool   \n",
      " 13  IsLocked      15975 non-null  bool   \n",
      " 14  Sentiment_v   15975 non-null  object \n",
      " 15  Sentiment_hf  15975 non-null  object \n",
      "dtypes: bool(5), float64(2), int64(2), object(7)\n",
      "memory usage: 1.4+ MB\n"
     ]
    }
   ],
   "source": [
    "df.info()"
   ]
  },
  {
   "cell_type": "markdown",
   "metadata": {},
   "source": [
    "Note:\n",
    "\n",
    "As we can see, the SelfText column has more than 75% null values. Therefore, we'll going to drop that column. Also, the PostId column has just random unique values. Consequently, we will drop that column as well. Finally, 'Sentiment_v' will be removed; we will use 'Sentiment_hf' instead for sentiment."
   ]
  },
  {
   "cell_type": "code",
   "execution_count": 5,
   "metadata": {},
   "outputs": [],
   "source": [
    "# Droping columns\n",
    "df = df.drop(['PostId', 'SelfText', 'Sentiment_v'],axis=1)"
   ]
  },
  {
   "cell_type": "code",
   "execution_count": 6,
   "metadata": {},
   "outputs": [],
   "source": [
    "# create pandas profiling\n",
    "if create_pandas_profiling:\n",
    "    profile = ProfileReport(df, title=\"Profiling Report\")\n",
    "    profile.to_file(\"pandas_profiling_ClimateChange2.html\")"
   ]
  },
  {
   "cell_type": "markdown",
   "metadata": {},
   "source": [
    "The pandas report showed the following Alerts:\n",
    "    \n",
    "- IsPinned has constant value\n",
    "- Score is highly overall correlated with Comments\n",
    "- Subreddit is highly overall correlated with IsSelfText\n",
    "- IsSelfText is highly overall correlated with Subreddit\n",
    "- is_nsfw is highly imbalanced (99.4%)\n",
    "- IsStickied is highly imbalanced (99.4%)\n",
    "- IsLocked is highly imbalanced (97.9%)\n",
    "- Autor has 457 (2.9%) missing values\n",
    "- Score has 278 (1.7%) zeros\n",
    "- Comments has 3545 (22.2%) zeros"
   ]
  },
  {
   "cell_type": "code",
   "execution_count": 7,
   "metadata": {},
   "outputs": [
    {
     "name": "stdout",
     "output_type": "stream",
     "text": [
      "Unique values in Title: [\"I'm afraid climate change is going to kill me! Help!\"\n",
      " 'The r/climatechange Verified User Flair Program'\n",
      " 'How come some environmentalists are against carbon capture and storage?'\n",
      " ... 'Berkeley Lab scientists identify new driver behind Arctic warming'\n",
      " 'Snowfall less sensitive to warming in Karakoram than in Himalayas due to a unique seasonal cycle'\n",
      " 'Exposed: Corporate cash is the lifeblood of climate change denial on Capitol Hill']\n",
      "Unique values in Score: [ 718   30   75 ... 2667 2649 2577]\n",
      "Unique values in Autor: ['Will_Power' 'technologyisnatural' 'SnooMarzipans7682' ... 'rspix000'\n",
      " 'madreader121' 'xabby']\n",
      "Unique values in Time: [1.55010375e+09 1.66111520e+09 1.69798679e+09 ... 1.41548544e+09\n",
      " 1.41369371e+09 1.41036847e+09]\n",
      "Unique values in Comments: [ 534   14  296   26   30   34  124    1    2  169  117   19    7  416\n",
      "   96   57  676    0    9   13    3    5   67   33   93  372  365   16\n",
      "   43   12   73  315  130   42   88  913  226   21  199   44   11 2042\n",
      "   71   18  373  222   50    8  452   10  105  359  541 1002   40  272\n",
      "   32  237   55  384   20  295   64   39   27  276  369   97   65   25\n",
      "  168   80   90   24   31   74   28   60   66  361    4    6   58   45\n",
      "  172  115  707   46   17  123   23   49  358   95  264  321  164   89\n",
      "  723   91  166   76  280   62  190   35  118   38  710  104   48  235\n",
      "  114  287  278  292  288  100   15  422  256   75   29 1300  221  157\n",
      " 1524  314   69   72  330  385   63  923  232   68  351  193  239  335\n",
      "  165   92  248  204  219   52  488  156   86  159  103  112  793  360\n",
      "   56   87  183  489   59  205  289 1724  466  225   37   47   22  816\n",
      "  131  102   36  514  279 1064   53  119   41 1095  109  702  148   85\n",
      "  285  765  107   79  142   70  125   51  155  147  200  133   82  184\n",
      "  127   81  152   78  132  187   94  260  126  154  212  210   83  262\n",
      "   84  175  273  197  108  529  137  338  170   54  231  195   99  145\n",
      "  158  111  163   61  209  213  113  140  182  135  149  144  101  308\n",
      "  234  188  246  143   77  353  271  298  228  299  230  519  409  150\n",
      "  180  693  344  354   98  329 1571  550  146  110  493  297  772  303\n",
      "  410  518  563  275  418  326  121  551  141  448  741  363  136  313\n",
      "  909 2044  451  355  996  294  277  371  708  719  701 1299 1523  380\n",
      "  233  921  350  486  792  495 1062 1094  283  191  186  134  383  520\n",
      "  120  251  263  268  160  249  139  217  167  161  215  211  138  537\n",
      "  220  129  346  267  253  122  388  151  162  174  201 2772 1964  760\n",
      "  322  178  386  585  336  552  306  270  309  547  331  616 1101  327\n",
      "  332  352  202  236  216  173  641  312  218  435  553  311  477  177\n",
      "  398  240  558  242  396  106  207  318  274  181  527  742  319  243\n",
      "  266  337  198  258  185  286  128  116 4647 1698 1472 6439 1224 1230\n",
      " 2631 2257 1670 6588 1487  401 2477 2289 1151 2150  895 1026  867  915\n",
      " 1209  925 1244 2679 4297  622  776 1066  841  837  875 1641  865 3146\n",
      "  941 1617  404 2583  974 1294 1366 1053  623 1237 1547  578 2126  671\n",
      "  834 2369  521 1320  437  432  608  768  502 1048  734 1631 1787  442\n",
      "  761 2657 1185  458  194  535  254  328 1004 1241 1642  508  809  485\n",
      "  595  771  257  444  415 1030 1019  747  624  512  265 1188  659  224\n",
      " 1006  886  689 1398  823  291  752 1458  470  568  774  856  696  888\n",
      " 2028 1239  345  300  176  884  307  609  320 1112  969  281  238  334\n",
      "  282  227  621  436  763  745  803  863  252  611  443  208  924  812\n",
      "  439  250  343  427  739  510  391  744  737  589  389  420  567  406\n",
      " 1032  342  397  247  933  171  428  304  524  600  727  189  690  516\n",
      " 1070 1193  382  317  301 1156  675  347  614  357  417  471  473  323\n",
      "  483  269  426  572  411  479  665  542  348  241  629  245  476  376\n",
      "  333  858  807  229  203  695  244  633  366  673  192  419  179  638\n",
      "  290  526  855  305  500  642  325  540  214  480  261  223  377  390\n",
      " 1423  196  697  743  703  784  698  433  749  374  153  890  293  324\n",
      "  593  449  407  490  475 1013  424]\n",
      "Unique values in UpvoteRatio: [0.98 0.91 0.75 0.7  0.74 0.93 1.   0.67 0.78 0.81 0.96 0.83 0.9  0.87\n",
      " 0.97 0.84 0.89 0.82 0.71 0.38 0.6  0.69 0.43 0.73 0.31 0.3  0.79 0.27\n",
      " 0.92 0.19 0.85 0.86 0.88 0.36 0.54 0.94 0.95 0.8  0.45 0.64 0.13 0.5\n",
      " 0.99 0.44 0.57 0.17 0.42 0.33 0.72 0.76 0.63 0.28 0.2  0.62 0.4  0.59\n",
      " 0.22 0.65 0.47 0.77 0.53 0.68 0.55 0.66 0.23 0.25 0.15 0.12 0.61 0.56\n",
      " 0.35 0.52 0.46 0.29 0.14 0.18 0.58 0.51 0.26 0.34 0.1  0.07 0.41 0.24\n",
      " 0.32 0.37 0.21 0.39 0.48 0.11 0.04 0.49 0.16 0.06]\n",
      "Unique values in Subreddit: ['climatechange' 'climate_science' 'climate' 'environment'\n",
      " 'GlobalClimateChange' 'ClimateChangeSurprise']\n",
      "Unique values in is_nsfw: [False  True]\n",
      "Unique values in IsSelfText: [ True False]\n",
      "Unique values in IsPinned: [False]\n",
      "Unique values in IsStickied: [ True False]\n",
      "Unique values in IsLocked: [False  True]\n",
      "Unique values in Sentiment_hf: ['negative' 'positive' 'neutral']\n"
     ]
    }
   ],
   "source": [
    "# check the unique values in each columns\n",
    "for column in df.columns:\n",
    "    unique_values = df[column].unique()\n",
    "    print(f\"Unique values in {column}: {unique_values}\")"
   ]
  },
  {
   "cell_type": "code",
   "execution_count": 8,
   "metadata": {},
   "outputs": [
    {
     "data": {
      "text/plain": [
       "Title             0\n",
       "Score             0\n",
       "Autor           457\n",
       "Time              0\n",
       "Comments          0\n",
       "UpvoteRatio       0\n",
       "Subreddit         0\n",
       "is_nsfw           0\n",
       "IsSelfText        0\n",
       "IsPinned          0\n",
       "IsStickied        0\n",
       "IsLocked          0\n",
       "Sentiment_hf      0\n",
       "dtype: int64"
      ]
     },
     "execution_count": 8,
     "metadata": {},
     "output_type": "execute_result"
    }
   ],
   "source": [
    "# checking nulls in the data\n",
    "df.isna().sum()"
   ]
  },
  {
   "cell_type": "markdown",
   "metadata": {},
   "source": [
    "We remove author as this should not be a predictor for the model, we don't want the model to learn about the author of the posts as the tool is meant to be used by any author."
   ]
  },
  {
   "cell_type": "code",
   "execution_count": 9,
   "metadata": {},
   "outputs": [],
   "source": [
    "df.drop('Autor', axis=1, inplace=True)"
   ]
  },
  {
   "cell_type": "markdown",
   "metadata": {},
   "source": [
    "We remove UpvoteRatio and Comments as this columns have information that the user of the model won't have to make a prediction."
   ]
  },
  {
   "cell_type": "code",
   "execution_count": 10,
   "metadata": {},
   "outputs": [],
   "source": [
    "df.drop('UpvoteRatio', axis=1, inplace=True)\n",
    "df.drop('Comments', axis=1, inplace=True)"
   ]
  },
  {
   "cell_type": "code",
   "execution_count": 11,
   "metadata": {},
   "outputs": [
    {
     "data": {
      "text/plain": [
       "Title           0\n",
       "Score           0\n",
       "Time            0\n",
       "Subreddit       0\n",
       "is_nsfw         0\n",
       "IsSelfText      0\n",
       "IsPinned        0\n",
       "IsStickied      0\n",
       "IsLocked        0\n",
       "Sentiment_hf    0\n",
       "dtype: int64"
      ]
     },
     "execution_count": 11,
     "metadata": {},
     "output_type": "execute_result"
    }
   ],
   "source": [
    "# With this, the data has no nulls\n",
    "df.isna().sum()"
   ]
  },
  {
   "cell_type": "code",
   "execution_count": 12,
   "metadata": {},
   "outputs": [],
   "source": [
    "# Creating Categorical Score\n",
    "df['Score_cat'], bin_edges = pd.qcut(df['Score'], q=4, labels=False, retbins=True)"
   ]
  },
  {
   "cell_type": "code",
   "execution_count": 13,
   "metadata": {},
   "outputs": [
    {
     "data": {
      "text/plain": [
       "Text(0, 0.5, 'Frequency')"
      ]
     },
     "execution_count": 13,
     "metadata": {},
     "output_type": "execute_result"
    },
    {
     "data": {
      "image/png": "[encoded data removed]",
      "text/plain": [
       "<Figure size 640x480 with 1 Axes>"
      ]
     },
     "metadata": {},
     "output_type": "display_data"
    }
   ],
   "source": [
    "# Plot of Score Categories\n",
    "sns.countplot(data=df, x='Score_cat')\n",
    "sns.color_palette(\"pastel\")\n",
    "plt.title(\"Frequency of Score Categories\")\n",
    "plt.xlabel(\"Score Category\")\n",
    "plt.ylabel(\"Frequency\")"
   ]
  },
  {
   "cell_type": "markdown",
   "metadata": {},
   "source": [
    "As can be seen the categories are balanced"
   ]
  },
  {
   "cell_type": "code",
   "execution_count": 14,
   "metadata": {},
   "outputs": [],
   "source": [
    "# eliminate Score\n",
    "df.drop(\"Score\", axis=1, inplace=True)"
   ]
  },
  {
   "cell_type": "code",
   "execution_count": 15,
   "metadata": {},
   "outputs": [
    {
     "data": {
      "text/html": [
       "<div>\n",
       "<style scoped>\n",
       "    .dataframe tbody tr th:only-of-type {\n",
       "        vertical-align: middle;\n",
       "    }\n",
       "\n",
       "    .dataframe tbody tr th {\n",
       "        vertical-align: top;\n",
       "    }\n",
       "\n",
       "    .dataframe thead th {\n",
       "        text-align: right;\n",
       "    }\n",
       "</style>\n",
       "<table border=\"1\" class=\"dataframe\">\n",
       "  <thead>\n",
       "    <tr style=\"text-align: right;\">\n",
       "      <th></th>\n",
       "      <th>Title</th>\n",
       "      <th>Time</th>\n",
       "      <th>Subreddit</th>\n",
       "      <th>is_nsfw</th>\n",
       "      <th>IsSelfText</th>\n",
       "      <th>IsPinned</th>\n",
       "      <th>IsStickied</th>\n",
       "      <th>IsLocked</th>\n",
       "      <th>Sentiment_hf</th>\n",
       "      <th>Score_cat</th>\n",
       "    </tr>\n",
       "  </thead>\n",
       "  <tbody>\n",
       "    <tr>\n",
       "      <th>0</th>\n",
       "      <td>I'm afraid climate change is going to kill me!...</td>\n",
       "      <td>1.550104e+09</td>\n",
       "      <td>climatechange</td>\n",
       "      <td>False</td>\n",
       "      <td>True</td>\n",
       "      <td>False</td>\n",
       "      <td>True</td>\n",
       "      <td>False</td>\n",
       "      <td>negative</td>\n",
       "      <td>3</td>\n",
       "    </tr>\n",
       "    <tr>\n",
       "      <th>1</th>\n",
       "      <td>The r/climatechange Verified User Flair Program</td>\n",
       "      <td>1.661115e+09</td>\n",
       "      <td>climatechange</td>\n",
       "      <td>False</td>\n",
       "      <td>True</td>\n",
       "      <td>False</td>\n",
       "      <td>True</td>\n",
       "      <td>False</td>\n",
       "      <td>positive</td>\n",
       "      <td>2</td>\n",
       "    </tr>\n",
       "    <tr>\n",
       "      <th>2</th>\n",
       "      <td>How come some environmentalists are against ca...</td>\n",
       "      <td>1.697987e+09</td>\n",
       "      <td>climatechange</td>\n",
       "      <td>False</td>\n",
       "      <td>True</td>\n",
       "      <td>False</td>\n",
       "      <td>False</td>\n",
       "      <td>False</td>\n",
       "      <td>negative</td>\n",
       "      <td>2</td>\n",
       "    </tr>\n",
       "    <tr>\n",
       "      <th>3</th>\n",
       "      <td>Solar and wind are better than nuclear</td>\n",
       "      <td>1.698006e+09</td>\n",
       "      <td>climatechange</td>\n",
       "      <td>False</td>\n",
       "      <td>True</td>\n",
       "      <td>False</td>\n",
       "      <td>False</td>\n",
       "      <td>False</td>\n",
       "      <td>positive</td>\n",
       "      <td>1</td>\n",
       "    </tr>\n",
       "    <tr>\n",
       "      <th>4</th>\n",
       "      <td>When will we hit 2 degrees of global warming?</td>\n",
       "      <td>1.698013e+09</td>\n",
       "      <td>climatechange</td>\n",
       "      <td>False</td>\n",
       "      <td>True</td>\n",
       "      <td>False</td>\n",
       "      <td>False</td>\n",
       "      <td>False</td>\n",
       "      <td>negative</td>\n",
       "      <td>0</td>\n",
       "    </tr>\n",
       "  </tbody>\n",
       "</table>\n",
       "</div>"
      ],
      "text/plain": [
       "                                               Title          Time  \\\n",
       "0  I'm afraid climate change is going to kill me!...  1.550104e+09   \n",
       "1    The r/climatechange Verified User Flair Program  1.661115e+09   \n",
       "2  How come some environmentalists are against ca...  1.697987e+09   \n",
       "3             Solar and wind are better than nuclear  1.698006e+09   \n",
       "4      When will we hit 2 degrees of global warming?  1.698013e+09   \n",
       "\n",
       "       Subreddit  is_nsfw  IsSelfText  IsPinned  IsStickied  IsLocked  \\\n",
       "0  climatechange    False        True     False        True     False   \n",
       "1  climatechange    False        True     False        True     False   \n",
       "2  climatechange    False        True     False       False     False   \n",
       "3  climatechange    False        True     False       False     False   \n",
       "4  climatechange    False        True     False       False     False   \n",
       "\n",
       "  Sentiment_hf  Score_cat  \n",
       "0     negative          3  \n",
       "1     positive          2  \n",
       "2     negative          2  \n",
       "3     positive          1  \n",
       "4     negative          0  "
      ]
     },
     "execution_count": 15,
     "metadata": {},
     "output_type": "execute_result"
    }
   ],
   "source": [
    "df.head()"
   ]
  },
  {
   "cell_type": "code",
   "execution_count": 16,
   "metadata": {},
   "outputs": [
    {
     "data": {
      "image/png": "[encoded data removed]",
      "text/plain": [
       "<Figure size 1600x1500 with 9 Axes>"
      ]
     },
     "metadata": {},
     "output_type": "display_data"
    }
   ],
   "source": [
    "# checking all categorical columns\n",
    "\n",
    "fig, axes = plt.subplots(3, 3, figsize=(16, 15))\n",
    "\n",
    "sns.countplot(ax=axes[0][0], data=df, x='Subreddit', alpha=0.7)\n",
    "axes[0][0].set_xticklabels([1, 2, 3, 4, 5, 6])\n",
    "sns.countplot(ax=axes[0][1], data=df, x='Sentiment_hf', alpha=0.7)\n",
    "sns.countplot(ax=axes[0][2], data=df, x='IsPinned', alpha=0.7)\n",
    "sns.countplot(ax=axes[1][0], data=df, x='is_nsfw', alpha=0.7)\n",
    "sns.countplot(ax=axes[1][1], data=df, x='IsStickied', alpha=0.7)\n",
    "sns.countplot(ax=axes[1][2], data=df, x='IsSelfText', alpha=0.7)\n",
    "sns.countplot(ax=axes[2][0], data=df, x='IsLocked', alpha=0.7)\n",
    "sns.color_palette(\"pastel\")\n",
    "fig.suptitle(\"Counts for Categorical Variables\")\n",
    "\n",
    "plt.show()"
   ]
  },
  {
   "cell_type": "markdown",
   "metadata": {},
   "source": [
    "As can be seen in the graph above, there are many categorical values with the same value for all the records or highly imbalance. Therefore, we will remove those columns."
   ]
  },
  {
   "cell_type": "code",
   "execution_count": 17,
   "metadata": {},
   "outputs": [],
   "source": [
    "df.drop(['IsPinned', 'is_nsfw', 'IsStickied', 'IsLocked'], axis=1, inplace=True)"
   ]
  },
  {
   "cell_type": "code",
   "execution_count": 18,
   "metadata": {},
   "outputs": [
    {
     "data": {
      "text/html": [
       "<div>\n",
       "<style scoped>\n",
       "    .dataframe tbody tr th:only-of-type {\n",
       "        vertical-align: middle;\n",
       "    }\n",
       "\n",
       "    .dataframe tbody tr th {\n",
       "        vertical-align: top;\n",
       "    }\n",
       "\n",
       "    .dataframe thead th {\n",
       "        text-align: right;\n",
       "    }\n",
       "</style>\n",
       "<table border=\"1\" class=\"dataframe\">\n",
       "  <thead>\n",
       "    <tr style=\"text-align: right;\">\n",
       "      <th></th>\n",
       "      <th>Title</th>\n",
       "      <th>Time</th>\n",
       "      <th>Subreddit</th>\n",
       "      <th>IsSelfText</th>\n",
       "      <th>Sentiment_hf</th>\n",
       "      <th>Score_cat</th>\n",
       "    </tr>\n",
       "  </thead>\n",
       "  <tbody>\n",
       "    <tr>\n",
       "      <th>0</th>\n",
       "      <td>I'm afraid climate change is going to kill me!...</td>\n",
       "      <td>1.550104e+09</td>\n",
       "      <td>climatechange</td>\n",
       "      <td>True</td>\n",
       "      <td>negative</td>\n",
       "      <td>3</td>\n",
       "    </tr>\n",
       "    <tr>\n",
       "      <th>1</th>\n",
       "      <td>The r/climatechange Verified User Flair Program</td>\n",
       "      <td>1.661115e+09</td>\n",
       "      <td>climatechange</td>\n",
       "      <td>True</td>\n",
       "      <td>positive</td>\n",
       "      <td>2</td>\n",
       "    </tr>\n",
       "    <tr>\n",
       "      <th>2</th>\n",
       "      <td>How come some environmentalists are against ca...</td>\n",
       "      <td>1.697987e+09</td>\n",
       "      <td>climatechange</td>\n",
       "      <td>True</td>\n",
       "      <td>negative</td>\n",
       "      <td>2</td>\n",
       "    </tr>\n",
       "    <tr>\n",
       "      <th>3</th>\n",
       "      <td>Solar and wind are better than nuclear</td>\n",
       "      <td>1.698006e+09</td>\n",
       "      <td>climatechange</td>\n",
       "      <td>True</td>\n",
       "      <td>positive</td>\n",
       "      <td>1</td>\n",
       "    </tr>\n",
       "    <tr>\n",
       "      <th>4</th>\n",
       "      <td>When will we hit 2 degrees of global warming?</td>\n",
       "      <td>1.698013e+09</td>\n",
       "      <td>climatechange</td>\n",
       "      <td>True</td>\n",
       "      <td>negative</td>\n",
       "      <td>0</td>\n",
       "    </tr>\n",
       "  </tbody>\n",
       "</table>\n",
       "</div>"
      ],
      "text/plain": [
       "                                               Title          Time  \\\n",
       "0  I'm afraid climate change is going to kill me!...  1.550104e+09   \n",
       "1    The r/climatechange Verified User Flair Program  1.661115e+09   \n",
       "2  How come some environmentalists are against ca...  1.697987e+09   \n",
       "3             Solar and wind are better than nuclear  1.698006e+09   \n",
       "4      When will we hit 2 degrees of global warming?  1.698013e+09   \n",
       "\n",
       "       Subreddit  IsSelfText Sentiment_hf  Score_cat  \n",
       "0  climatechange        True     negative          3  \n",
       "1  climatechange        True     positive          2  \n",
       "2  climatechange        True     negative          2  \n",
       "3  climatechange        True     positive          1  \n",
       "4  climatechange        True     negative          0  "
      ]
     },
     "execution_count": 18,
     "metadata": {},
     "output_type": "execute_result"
    }
   ],
   "source": [
    "df.head()"
   ]
  },
  {
   "cell_type": "markdown",
   "metadata": {},
   "source": [
    "## Time column"
   ]
  },
  {
   "cell_type": "code",
   "execution_count": 19,
   "metadata": {},
   "outputs": [],
   "source": [
    "# Now cleaning the Time column's data\n",
    "df['Time'] = pd.to_datetime(df['Time'], unit='s')\n",
    "\n",
    "df['Year'] = df['Time'].dt.year\n",
    "df['Month'] = df['Time'].dt.month\n",
    "df['Day'] = df['Time'].dt.day\n",
    "df['Hour'] = df['Time'].dt.hour\n",
    "\n",
    "# Feature enginering two new columns\n",
    "\n",
    "df['TimeOfDay'] = pd.cut(df['Time'].dt.hour, bins=[0, 6, 12, 18, 24], labels=['Night', 'Morning', 'Afternoon', 'Evening'])\n",
    "\n",
    "df['IsWeekend'] = df['Time'].dt.weekday // 5 == 1"
   ]
  },
  {
   "cell_type": "code",
   "execution_count": 20,
   "metadata": {},
   "outputs": [],
   "source": [
    "df.drop(columns=['Time'], inplace=True)"
   ]
  },
  {
   "cell_type": "code",
   "execution_count": 21,
   "metadata": {},
   "outputs": [
    {
     "data": {
      "text/plain": [
       "Title             0\n",
       "Subreddit         0\n",
       "IsSelfText        0\n",
       "Sentiment_hf      0\n",
       "Score_cat         0\n",
       "Year              0\n",
       "Month             0\n",
       "Day               0\n",
       "Hour              0\n",
       "TimeOfDay       570\n",
       "IsWeekend         0\n",
       "dtype: int64"
      ]
     },
     "execution_count": 21,
     "metadata": {},
     "output_type": "execute_result"
    }
   ],
   "source": [
    "#check again nulls\n",
    "df.isna().sum()"
   ]
  },
  {
   "cell_type": "code",
   "execution_count": 22,
   "metadata": {},
   "outputs": [],
   "source": [
    "#Imputing nulls in new created column TimeOfDay\n",
    "df['TimeOfDay'].fillna(df['TimeOfDay'].mode().iloc[0], inplace=True)"
   ]
  },
  {
   "cell_type": "code",
   "execution_count": 23,
   "metadata": {},
   "outputs": [
    {
     "data": {
      "text/plain": [
       "Title           0\n",
       "Subreddit       0\n",
       "IsSelfText      0\n",
       "Sentiment_hf    0\n",
       "Score_cat       0\n",
       "Year            0\n",
       "Month           0\n",
       "Day             0\n",
       "Hour            0\n",
       "TimeOfDay       0\n",
       "IsWeekend       0\n",
       "dtype: int64"
      ]
     },
     "execution_count": 23,
     "metadata": {},
     "output_type": "execute_result"
    }
   ],
   "source": [
    "# checking back nulls\n",
    "df.isna().sum()"
   ]
  },
  {
   "cell_type": "code",
   "execution_count": 24,
   "metadata": {},
   "outputs": [
    {
     "name": "stderr",
     "output_type": "stream",
     "text": [
      "d:\\Git\\advanced_python_project\\.venv\\Lib\\site-packages\\seaborn\\categorical.py:641: FutureWarning: The default of observed=False is deprecated and will be changed to True in a future version of pandas. Pass observed=False to retain current behavior or observed=True to adopt the future default and silence this warning.\n",
      "  grouped_vals = vals.groupby(grouper)\n"
     ]
    },
    {
     "data": {
      "image/png": "[encoded data removed]",
      "text/plain": [
       "<Figure size 1500x500 with 2 Axes>"
      ]
     },
     "metadata": {},
     "output_type": "display_data"
    }
   ],
   "source": [
    "# Checking new categorical columns\n",
    "\n",
    "fig, axes = plt.subplots(1, 2, figsize=(15, 5))\n",
    "sns.countplot(ax=axes[0], data=df, x='TimeOfDay', alpha=0.7)\n",
    "sns.countplot(ax=axes[1], data=df, x='IsWeekend', alpha=0.7)\n",
    "sns.color_palette(\"pastel\")\n",
    "\n",
    "fig.suptitle(\"Counts for Featured Engineer Columns\")\n",
    "\n",
    "plt.show()"
   ]
  },
  {
   "cell_type": "code",
   "execution_count": 25,
   "metadata": {},
   "outputs": [
    {
     "data": {
      "text/html": [
       "<div>\n",
       "<style scoped>\n",
       "    .dataframe tbody tr th:only-of-type {\n",
       "        vertical-align: middle;\n",
       "    }\n",
       "\n",
       "    .dataframe tbody tr th {\n",
       "        vertical-align: top;\n",
       "    }\n",
       "\n",
       "    .dataframe thead th {\n",
       "        text-align: right;\n",
       "    }\n",
       "</style>\n",
       "<table border=\"1\" class=\"dataframe\">\n",
       "  <thead>\n",
       "    <tr style=\"text-align: right;\">\n",
       "      <th></th>\n",
       "      <th>Title</th>\n",
       "      <th>Subreddit</th>\n",
       "      <th>IsSelfText</th>\n",
       "      <th>Sentiment_hf</th>\n",
       "      <th>Score_cat</th>\n",
       "      <th>Year</th>\n",
       "      <th>Month</th>\n",
       "      <th>Day</th>\n",
       "      <th>Hour</th>\n",
       "      <th>TimeOfDay</th>\n",
       "      <th>IsWeekend</th>\n",
       "    </tr>\n",
       "  </thead>\n",
       "  <tbody>\n",
       "    <tr>\n",
       "      <th>0</th>\n",
       "      <td>I'm afraid climate change is going to kill me!...</td>\n",
       "      <td>climatechange</td>\n",
       "      <td>True</td>\n",
       "      <td>negative</td>\n",
       "      <td>3</td>\n",
       "      <td>2019</td>\n",
       "      <td>2</td>\n",
       "      <td>14</td>\n",
       "      <td>0</td>\n",
       "      <td>Afternoon</td>\n",
       "      <td>False</td>\n",
       "    </tr>\n",
       "    <tr>\n",
       "      <th>1</th>\n",
       "      <td>The r/climatechange Verified User Flair Program</td>\n",
       "      <td>climatechange</td>\n",
       "      <td>True</td>\n",
       "      <td>positive</td>\n",
       "      <td>2</td>\n",
       "      <td>2022</td>\n",
       "      <td>8</td>\n",
       "      <td>21</td>\n",
       "      <td>20</td>\n",
       "      <td>Evening</td>\n",
       "      <td>True</td>\n",
       "    </tr>\n",
       "    <tr>\n",
       "      <th>2</th>\n",
       "      <td>How come some environmentalists are against ca...</td>\n",
       "      <td>climatechange</td>\n",
       "      <td>True</td>\n",
       "      <td>negative</td>\n",
       "      <td>2</td>\n",
       "      <td>2023</td>\n",
       "      <td>10</td>\n",
       "      <td>22</td>\n",
       "      <td>14</td>\n",
       "      <td>Afternoon</td>\n",
       "      <td>True</td>\n",
       "    </tr>\n",
       "    <tr>\n",
       "      <th>3</th>\n",
       "      <td>Solar and wind are better than nuclear</td>\n",
       "      <td>climatechange</td>\n",
       "      <td>True</td>\n",
       "      <td>positive</td>\n",
       "      <td>1</td>\n",
       "      <td>2023</td>\n",
       "      <td>10</td>\n",
       "      <td>22</td>\n",
       "      <td>20</td>\n",
       "      <td>Evening</td>\n",
       "      <td>True</td>\n",
       "    </tr>\n",
       "    <tr>\n",
       "      <th>4</th>\n",
       "      <td>When will we hit 2 degrees of global warming?</td>\n",
       "      <td>climatechange</td>\n",
       "      <td>True</td>\n",
       "      <td>negative</td>\n",
       "      <td>0</td>\n",
       "      <td>2023</td>\n",
       "      <td>10</td>\n",
       "      <td>22</td>\n",
       "      <td>22</td>\n",
       "      <td>Evening</td>\n",
       "      <td>True</td>\n",
       "    </tr>\n",
       "  </tbody>\n",
       "</table>\n",
       "</div>"
      ],
      "text/plain": [
       "                                               Title      Subreddit  \\\n",
       "0  I'm afraid climate change is going to kill me!...  climatechange   \n",
       "1    The r/climatechange Verified User Flair Program  climatechange   \n",
       "2  How come some environmentalists are against ca...  climatechange   \n",
       "3             Solar and wind are better than nuclear  climatechange   \n",
       "4      When will we hit 2 degrees of global warming?  climatechange   \n",
       "\n",
       "   IsSelfText Sentiment_hf  Score_cat  Year  Month  Day  Hour  TimeOfDay  \\\n",
       "0        True     negative          3  2019      2   14     0  Afternoon   \n",
       "1        True     positive          2  2022      8   21    20    Evening   \n",
       "2        True     negative          2  2023     10   22    14  Afternoon   \n",
       "3        True     positive          1  2023     10   22    20    Evening   \n",
       "4        True     negative          0  2023     10   22    22    Evening   \n",
       "\n",
       "   IsWeekend  \n",
       "0      False  \n",
       "1       True  \n",
       "2       True  \n",
       "3       True  \n",
       "4       True  "
      ]
     },
     "execution_count": 25,
     "metadata": {},
     "output_type": "execute_result"
    }
   ],
   "source": [
    "df.head()"
   ]
  },
  {
   "cell_type": "markdown",
   "metadata": {},
   "source": [
    "# Feature Extraction and Scaling"
   ]
  },
  {
   "cell_type": "code",
   "execution_count": 26,
   "metadata": {},
   "outputs": [],
   "source": [
    "# spliting data before doing transformations to avoid data leakage\n",
    "\n",
    "Y_df = df['Score_cat']\n",
    "X_df = df.drop('Score_cat', axis=1)\n",
    "\n",
    "X_train, X_test, y_train, y_test = train_test_split(X_df, Y_df, test_size=0.2, random_state=42)"
   ]
  },
  {
   "cell_type": "code",
   "execution_count": 27,
   "metadata": {},
   "outputs": [],
   "source": [
    "# function to process textual data\n",
    "def preprocess_textual_data(data, text_column='Title'):\n",
    "    \"\"\"\n",
    "    Preprocesses text data and returns a TF-IDF matrix.\n",
    "    \"\"\"\n",
    "    corpus = []\n",
    "    for i in range(len(data)):\n",
    "        text = re.sub(r'\\W', ' ', str(data[text_column].iloc[i]))\n",
    "        text = text.lower()\n",
    "        text = re.sub(r'^br$', ' ', text)\n",
    "        text = re.sub(r'\\s+br\\s+',' ', text)\n",
    "        text = re.sub(r'\\s+[a-z]\\s+', ' ', text)\n",
    "        text = re.sub(r'^b\\s+', '', text)\n",
    "        text = re.sub(r'\\s+', ' ', text)\n",
    "        corpus.append(text)\n",
    "    return corpus"
   ]
  },
  {
   "cell_type": "code",
   "execution_count": 28,
   "metadata": {},
   "outputs": [],
   "source": [
    "# vectorizing textual data (Title) with TF-IDF\n",
    "clean_x_train = preprocess_textual_data(X_train)\n",
    "clean_x_test = preprocess_textual_data(X_test)\n",
    "vectorizer = TfidfVectorizer(max_features=1000, min_df=3, max_df=0.6, stop_words=stopwords.words('english'))\n",
    "tfidf = vectorizer.fit(clean_x_train)\n",
    "tfidf_X_train = tfidf.transform(clean_x_train).toarray()\n",
    "tfidf_X_test = tfidf.transform(clean_x_test).toarray()"
   ]
  },
  {
   "cell_type": "code",
   "execution_count": 29,
   "metadata": {},
   "outputs": [],
   "source": [
    "# Creating a DataFrame with the vectorized text\n",
    "df_text_tfidf_train = pd.DataFrame(tfidf_X_train, columns=tfidf.get_feature_names_out())\n",
    "df_text_tfidf_test = pd.DataFrame(tfidf_X_test, columns=tfidf.get_feature_names_out())"
   ]
  },
  {
   "cell_type": "code",
   "execution_count": 30,
   "metadata": {},
   "outputs": [],
   "source": [
    "# Pipeline to transform features\n",
    "\n",
    "cat_nominal = ['Subreddit']\n",
    "cat_ordinal = ['Sentiment_hf', 'TimeOfDay']\n",
    "cat_binary = ['IsWeekend', 'IsSelfText']\n",
    "\n",
    "numerical_cols = ['Year', 'Month', 'Day', 'Hour']\n",
    "\n",
    "def preprocess_and_vectorize_titles(data):\n",
    "    return preprocess_and_vectorize(data, text_column='Title')\n",
    "\n",
    "\n",
    "pipeline_cat_nomical = Pipeline(steps=[\n",
    "    ('one-hot', OneHotEncoder())\n",
    "])\n",
    "\n",
    "pipeline_cat_binary = Pipeline(steps=[\n",
    "    ('one-hot', OneHotEncoder(drop='if_binary'))\n",
    "])\n",
    "\n",
    "\n",
    "pipeline_cat_ordinal = Pipeline(steps=[\n",
    "      ('ord', OrdinalEncoder())\n",
    "])\n",
    "\n",
    "\n",
    "preprocessor = ColumnTransformer(transformers=[\n",
    "    ('nom', pipeline_cat_nomical, cat_nominal),\n",
    "    ('ord', pipeline_cat_ordinal, cat_ordinal),\n",
    "    ('binary', pipeline_cat_binary, cat_binary),\n",
    "    ('passthrough', 'passthrough', numerical_cols)\n",
    "])\n",
    "\n",
    "# Transformed no textual columns\n",
    "X_train = preprocessor.fit_transform(X_train)\n",
    "X_test = preprocessor.transform(X_test)"
   ]
  },
  {
   "cell_type": "code",
   "execution_count": 31,
   "metadata": {},
   "outputs": [
    {
     "name": "stdout",
     "output_type": "stream",
     "text": [
      "X_train_transformed.shape: (12780, 14)\n",
      "X_test_transformed.shape: (3195, 14)\n"
     ]
    }
   ],
   "source": [
    "# Print the transformed shapes\n",
    "print(f\"X_train_transformed.shape: {X_train.shape}\")\n",
    "print(f\"X_test_transformed.shape: {X_test.shape}\")"
   ]
  },
  {
   "cell_type": "code",
   "execution_count": 32,
   "metadata": {
    "scrolled": true
   },
   "outputs": [],
   "source": [
    "features = preprocessor.get_feature_names_out()"
   ]
  },
  {
   "cell_type": "code",
   "execution_count": 33,
   "metadata": {},
   "outputs": [
    {
     "name": "stdout",
     "output_type": "stream",
     "text": [
      "No textual df.shape: (12780, 14)\n",
      "No textual df.shape: (3195, 14)\n"
     ]
    }
   ],
   "source": [
    "# create data frames without textual data\n",
    "df_train = pd.DataFrame(X_train, columns=features)\n",
    "df_test = pd.DataFrame(X_test, columns=features)\n",
    "\n",
    "print(f\"No textual df.shape: {df_train.shape}\")\n",
    "print(f\"No textual df.shape: {df_test.shape}\")"
   ]
  },
  {
   "cell_type": "code",
   "execution_count": 34,
   "metadata": {},
   "outputs": [],
   "source": [
    "# concatenate the transformed dataframes\n",
    "X_final_train = pd.concat([df_train, df_text_tfidf_train], axis=1)\n",
    "X_final_test = pd.concat([df_test, df_text_tfidf_test], axis=1)"
   ]
  },
  {
   "cell_type": "markdown",
   "metadata": {},
   "source": [
    "# Modeling"
   ]
  },
  {
   "cell_type": "code",
   "execution_count": 35,
   "metadata": {},
   "outputs": [],
   "source": [
    "# Funtion to plot confusion matrix\n",
    "def confusion_matrix_graph(y, y_pred, label):\n",
    "    cm_decision_tree_classifier = confusion_matrix(y, y_pred)\n",
    "    cm_df = pd.DataFrame(cm_decision_tree_classifier, index=['Actual 0', 'Actual 1', 'Actual 2', 'Actual 3'], columns=['Predicted 0', 'Predicted 1', 'Predicted 2', 'Predicted 3'])\n",
    "    sns.heatmap(cm_df, annot=True, cmap='Blues', cbar=False, )\n",
    "    plt.title(f\"Confusion matrix for {label}\")\n",
    "    \n",
    "#Function to save the trained model\n",
    "def save_model_pickle(file_name, model):\n",
    "    file_name = file_name + '.pkl'\n",
    "    with open(file_name, 'wb') as file:\n",
    "        pickle.dump(model, file)\n",
    "\n",
    "#Function to retrieve the trained model\n",
    "def retrieve_model_pickle(file_name):\n",
    "    file_name = file_name + '.pkl'\n",
    "    with open(file_name, 'rb') as file:\n",
    "        model = pickle.load(file)\n",
    "        return model\n",
    "    \n",
    "# Function to extract feature importance\n",
    "\n",
    "def get_top_features(model, df, num): \n",
    "    important_features = model.feature_importances_\n",
    "    top_indices = np.argsort(important_features)[-num:][::-1]\n",
    "    top_features = df.columns[top_indices]\n",
    "    print(f'The {num} most important features are: {list(top_features)}')\n",
    "    \n",
    "# function to print metrics\n",
    "def print_metrics(y_test, y_pred, label):\n",
    "    accuracy = accuracy_score(y_test, y_pred)\n",
    "    precision = precision_score(y_test, y_pred, average='weighted')\n",
    "    recall = recall_score(y_test, y_pred, average='weighted')\n",
    "    f1 = f1_score(y_test, y_pred, average='weighted')\n",
    "\n",
    "    # Print evaluation metrics\n",
    "    print(f\"Accuracy for {label}: {accuracy}\")\n",
    "    print(f\"Precision for {label}: {precision}\")\n",
    "    print(f\"Recall for {label}: {recall}\")\n",
    "    print(f\"F1-score for {label}: {f1}\")\n",
    "    return accuracy, precision, recall, f1"
   ]
  },
  {
   "cell_type": "code",
   "execution_count": 36,
   "metadata": {},
   "outputs": [
    {
     "data": {
      "text/html": [
       "<div>\n",
       "<style scoped>\n",
       "    .dataframe tbody tr th:only-of-type {\n",
       "        vertical-align: middle;\n",
       "    }\n",
       "\n",
       "    .dataframe tbody tr th {\n",
       "        vertical-align: top;\n",
       "    }\n",
       "\n",
       "    .dataframe thead th {\n",
       "        text-align: right;\n",
       "    }\n",
       "</style>\n",
       "<table border=\"1\" class=\"dataframe\">\n",
       "  <thead>\n",
       "    <tr style=\"text-align: right;\">\n",
       "      <th></th>\n",
       "      <th>accuracy_test</th>\n",
       "      <th>accuracy_train</th>\n",
       "      <th>precision_test</th>\n",
       "      <th>precision_train</th>\n",
       "      <th>recall_test</th>\n",
       "      <th>recall_train</th>\n",
       "      <th>F1_test</th>\n",
       "    </tr>\n",
       "    <tr>\n",
       "      <th>model</th>\n",
       "      <th></th>\n",
       "      <th></th>\n",
       "      <th></th>\n",
       "      <th></th>\n",
       "      <th></th>\n",
       "      <th></th>\n",
       "      <th></th>\n",
       "    </tr>\n",
       "  </thead>\n",
       "  <tbody>\n",
       "    <tr>\n",
       "      <th>SVM</th>\n",
       "      <td>0</td>\n",
       "      <td>0</td>\n",
       "      <td>0</td>\n",
       "      <td>0</td>\n",
       "      <td>0</td>\n",
       "      <td>0</td>\n",
       "      <td>0</td>\n",
       "    </tr>\n",
       "    <tr>\n",
       "      <th>XGBoost</th>\n",
       "      <td>0</td>\n",
       "      <td>0</td>\n",
       "      <td>0</td>\n",
       "      <td>0</td>\n",
       "      <td>0</td>\n",
       "      <td>0</td>\n",
       "      <td>0</td>\n",
       "    </tr>\n",
       "    <tr>\n",
       "      <th>AdaBoost</th>\n",
       "      <td>0</td>\n",
       "      <td>0</td>\n",
       "      <td>0</td>\n",
       "      <td>0</td>\n",
       "      <td>0</td>\n",
       "      <td>0</td>\n",
       "      <td>0</td>\n",
       "    </tr>\n",
       "    <tr>\n",
       "      <th>Decision Tree</th>\n",
       "      <td>0</td>\n",
       "      <td>0</td>\n",
       "      <td>0</td>\n",
       "      <td>0</td>\n",
       "      <td>0</td>\n",
       "      <td>0</td>\n",
       "      <td>0</td>\n",
       "    </tr>\n",
       "    <tr>\n",
       "      <th>GB</th>\n",
       "      <td>0</td>\n",
       "      <td>0</td>\n",
       "      <td>0</td>\n",
       "      <td>0</td>\n",
       "      <td>0</td>\n",
       "      <td>0</td>\n",
       "      <td>0</td>\n",
       "    </tr>\n",
       "  </tbody>\n",
       "</table>\n",
       "</div>"
      ],
      "text/plain": [
       "               accuracy_test  accuracy_train  precision_test  precision_train  \\\n",
       "model                                                                           \n",
       "SVM                        0               0               0                0   \n",
       "XGBoost                    0               0               0                0   \n",
       "AdaBoost                   0               0               0                0   \n",
       "Decision Tree              0               0               0                0   \n",
       "GB                         0               0               0                0   \n",
       "\n",
       "               recall_test  recall_train  F1_test  \n",
       "model                                              \n",
       "SVM                      0             0        0  \n",
       "XGBoost                  0             0        0  \n",
       "AdaBoost                 0             0        0  \n",
       "Decision Tree            0             0        0  \n",
       "GB                       0             0        0  "
      ]
     },
     "execution_count": 36,
     "metadata": {},
     "output_type": "execute_result"
    }
   ],
   "source": [
    "# Setting up a dataframe to store the results\n",
    "df_models_explorations = pd.DataFrame({\n",
    "    \"model\": [\"SVM\", \"XGBoost\", \"AdaBoost\", \"Decision Tree\", \"GB\"],\n",
    "    \"accuracy_test\": [0, 0, 0, 0, 0],\n",
    "    \"accuracy_train\": [0, 0, 0, 0, 0],\n",
    "    \"precision_test\": [0, 0, 0, 0, 0],\n",
    "    \"precision_train\": [0, 0, 0, 0, 0],\n",
    "    \"recall_test\": [0, 0, 0, 0, 0],\n",
    "    \"recall_train\": [0, 0, 0, 0, 0],\n",
    "    \"F1_test\": [0, 0, 0, 0, 0],\n",
    "    \"F1_test\": [0, 0, 0, 0, 0]\n",
    "})\n",
    "df_models_explorations.set_index('model', inplace=True)\n",
    "df_models_explorations"
   ]
  },
  {
   "cell_type": "markdown",
   "metadata": {},
   "source": [
    "## Gradient Boosting Classifier"
   ]
  },
  {
   "cell_type": "code",
   "execution_count": 37,
   "metadata": {},
   "outputs": [
    {
     "name": "stdout",
     "output_type": "stream",
     "text": [
      "Accuracy for Test: 0.6181533646322379\n",
      "Precision for Test: 0.6210346060727117\n",
      "Recall for Test: 0.6181533646322379\n",
      "F1-score for Test: 0.6148819210999183\n",
      "---------------------------------\n",
      "Accuracy for Train: 0.6751956181533646\n",
      "Precision for Train: 0.6815245688846313\n",
      "Recall for Train: 0.6751956181533646\n",
      "F1-score for Train: 0.6732639509696047\n"
     ]
    },
    {
     "name": "stderr",
     "output_type": "stream",
     "text": [
      "C:\\Users\\acorr\\AppData\\Local\\Temp\\ipykernel_6148\\1722816445.py:14: FutureWarning: Setting an item of incompatible dtype is deprecated and will raise in a future error of pandas. Value '0.6181533646322379' has dtype incompatible with int64, please explicitly cast to a compatible dtype first.\n",
      "  df_models_explorations.loc['GB', 'accuracy_test'] = accuracy_te\n",
      "C:\\Users\\acorr\\AppData\\Local\\Temp\\ipykernel_6148\\1722816445.py:15: FutureWarning: Setting an item of incompatible dtype is deprecated and will raise in a future error of pandas. Value '0.6210346060727117' has dtype incompatible with int64, please explicitly cast to a compatible dtype first.\n",
      "  df_models_explorations.loc['GB', 'precision_test'] = precision_te\n",
      "C:\\Users\\acorr\\AppData\\Local\\Temp\\ipykernel_6148\\1722816445.py:16: FutureWarning: Setting an item of incompatible dtype is deprecated and will raise in a future error of pandas. Value '0.6181533646322379' has dtype incompatible with int64, please explicitly cast to a compatible dtype first.\n",
      "  df_models_explorations.loc['GB', 'recall_test'] = recall_te\n",
      "C:\\Users\\acorr\\AppData\\Local\\Temp\\ipykernel_6148\\1722816445.py:17: FutureWarning: Setting an item of incompatible dtype is deprecated and will raise in a future error of pandas. Value '0.6148819210999183' has dtype incompatible with int64, please explicitly cast to a compatible dtype first.\n",
      "  df_models_explorations.loc['GB', 'F1_test'] = f1_te\n",
      "C:\\Users\\acorr\\AppData\\Local\\Temp\\ipykernel_6148\\1722816445.py:23: FutureWarning: Setting an item of incompatible dtype is deprecated and will raise in a future error of pandas. Value '0.6751956181533646' has dtype incompatible with int64, please explicitly cast to a compatible dtype first.\n",
      "  df_models_explorations.loc['GB', 'accuracy_train'] = accuracy_tr\n",
      "C:\\Users\\acorr\\AppData\\Local\\Temp\\ipykernel_6148\\1722816445.py:24: FutureWarning: Setting an item of incompatible dtype is deprecated and will raise in a future error of pandas. Value '0.6815245688846313' has dtype incompatible with int64, please explicitly cast to a compatible dtype first.\n",
      "  df_models_explorations.loc['GB', 'precision_train'] = precision_tr\n",
      "C:\\Users\\acorr\\AppData\\Local\\Temp\\ipykernel_6148\\1722816445.py:25: FutureWarning: Setting an item of incompatible dtype is deprecated and will raise in a future error of pandas. Value '0.6751956181533646' has dtype incompatible with int64, please explicitly cast to a compatible dtype first.\n",
      "  df_models_explorations.loc['GB', 'recall_train'] = recall_tr\n"
     ]
    }
   ],
   "source": [
    "if run_models:\n",
    "    gb_clf = GradientBoostingClassifier(learning_rate=0.1)\n",
    "    gb_clf.fit(X_final_train, y_train)\n",
    "    save_model_pickle('gb_clf', gb_clf)\n",
    "else:\n",
    "    gb_clf = retrieve_model_pickle('gb_clf')\n",
    "\n",
    "\n",
    "y_pred_test = gb_clf.predict(X_final_test)\n",
    "y_pred_train = gb_clf.predict(X_final_train)\n",
    "\n",
    "# metrics test set\n",
    "accuracy_te, precision_te, recall_te, f1_te = print_metrics(y_test, y_pred_test, \"Test\")\n",
    "df_models_explorations.loc['GB', 'accuracy_test'] = accuracy_te\n",
    "df_models_explorations.loc['GB', 'precision_test'] = precision_te\n",
    "df_models_explorations.loc['GB', 'recall_test'] = recall_te\n",
    "df_models_explorations.loc['GB', 'F1_test'] = f1_te\n",
    "\n",
    "print(\"---------------------------------\")\n",
    "\n",
    "# metrics train set\n",
    "accuracy_tr, precision_tr, recall_tr, f1_tr = print_metrics(y_train, y_pred_train, \"Train\")\n",
    "df_models_explorations.loc['GB', 'accuracy_train'] = accuracy_tr\n",
    "df_models_explorations.loc['GB', 'precision_train'] = precision_tr\n",
    "df_models_explorations.loc['GB', 'recall_train'] = recall_tr\n",
    "df_models_explorations.loc['GB', 'F1_train'] = f1_tr"
   ]
  },
  {
   "cell_type": "code",
   "execution_count": 38,
   "metadata": {},
   "outputs": [
    {
     "data": {
      "image/png": "[encoded data removed]",
      "text/plain": [
       "<Figure size 640x480 with 1 Axes>"
      ]
     },
     "metadata": {},
     "output_type": "display_data"
    }
   ],
   "source": [
    "confusion_matrix_graph(y_test, y_pred_test, \"Multiclass Gradient Boosting\")"
   ]
  },
  {
   "cell_type": "markdown",
   "metadata": {},
   "source": [
    "## Support Vector Machine"
   ]
  },
  {
   "cell_type": "code",
   "execution_count": 39,
   "metadata": {},
   "outputs": [
    {
     "name": "stderr",
     "output_type": "stream",
     "text": [
      "d:\\Git\\advanced_python_project\\.venv\\Lib\\site-packages\\sklearn\\base.py:348: InconsistentVersionWarning: Trying to unpickle estimator SVC from version 1.2.1 when using version 1.3.2. This might lead to breaking code or invalid results. Use at your own risk. For more info please refer to:\n",
      "https://scikit-learn.org/stable/model_persistence.html#security-maintainability-limitations\n",
      "  warnings.warn(\n"
     ]
    },
    {
     "name": "stdout",
     "output_type": "stream",
     "text": [
      "Accuracy for Test: 0.24726134585289514\n",
      "Precision for Test: 0.061138173152985024\n",
      "Recall for Test: 0.24726134585289514\n",
      "F1-score for Test: 0.09803586610980534\n",
      "---------------------------------\n",
      "Accuracy for Train: 0.25727699530516435\n",
      "Precision for Train: 0.06619145231325356\n",
      "Recall for Train: 0.25727699530516435\n",
      "F1-score for Train: 0.10529334833997764\n"
     ]
    },
    {
     "name": "stderr",
     "output_type": "stream",
     "text": [
      "d:\\Git\\advanced_python_project\\.venv\\Lib\\site-packages\\sklearn\\metrics\\_classification.py:1471: UndefinedMetricWarning: Precision is ill-defined and being set to 0.0 in labels with no predicted samples. Use `zero_division` parameter to control this behavior.\n",
      "  _warn_prf(average, modifier, msg_start, len(result))\n",
      "d:\\Git\\advanced_python_project\\.venv\\Lib\\site-packages\\sklearn\\metrics\\_classification.py:1471: UndefinedMetricWarning: Precision is ill-defined and being set to 0.0 in labels with no predicted samples. Use `zero_division` parameter to control this behavior.\n",
      "  _warn_prf(average, modifier, msg_start, len(result))\n"
     ]
    }
   ],
   "source": [
    "# train multiclass SVC\n",
    "if run_models:\n",
    "    svc_clf = SVC(probability=True, random_state=42, decision_function_shape='ovo')\n",
    "    svc_clf.fit(X_final_train, y_train)\n",
    "    save_model_pickle('SVM1', svc_clf)\n",
    "else:\n",
    "    svc_clf = retrieve_model_pickle('SVM1')\n",
    "\n",
    "y_pred_test = svc_clf.predict(X_final_test)\n",
    "y_pred_train = svc_clf.predict(X_final_train)\n",
    "\n",
    "# metrics test set\n",
    "accuracy_te, precision_te, recall_te, f1_te = print_metrics(y_test, y_pred_test, \"Test\")\n",
    "df_models_explorations.loc['SVM', 'accuracy_test'] = accuracy_te\n",
    "df_models_explorations.loc['SVM', 'precision_test'] = precision_te\n",
    "df_models_explorations.loc['SVM', 'recall_test'] = recall_te\n",
    "df_models_explorations.loc['SVM', 'F1_test'] = f1_te\n",
    "\n",
    "print(\"---------------------------------\")\n",
    "\n",
    "# metrics train set\n",
    "accuracy_tr, precision_tr, recall_tr, f1_tr = print_metrics(y_train, y_pred_train, \"Train\")\n",
    "df_models_explorations.loc['SVM', 'accuracy_train'] = accuracy_tr\n",
    "df_models_explorations.loc['SVM', 'precision_train'] = precision_tr\n",
    "df_models_explorations.loc['SVM', 'recall_train'] = recall_tr\n",
    "df_models_explorations.loc['SVM', 'F1_train'] = f1_tr"
   ]
  },
  {
   "cell_type": "code",
   "execution_count": 40,
   "metadata": {},
   "outputs": [
    {
     "data": {
      "image/png": "[encoded data removed]",
      "text/plain": [
       "<Figure size 640x480 with 1 Axes>"
      ]
     },
     "metadata": {},
     "output_type": "display_data"
    }
   ],
   "source": [
    "confusion_matrix_graph(y_test, y_pred_test, \"Multiclass SVM\")"
   ]
  },
  {
   "cell_type": "markdown",
   "metadata": {},
   "source": [
    "As can be see, the model predicted all categories as 0."
   ]
  },
  {
   "cell_type": "markdown",
   "metadata": {},
   "source": [
    "## XGBoost Classifier"
   ]
  },
  {
   "cell_type": "code",
   "execution_count": 41,
   "metadata": {},
   "outputs": [
    {
     "name": "stdout",
     "output_type": "stream",
     "text": [
      "Accuracy for Test: 0.5483568075117371\n",
      "Precision for Test: 0.558769017426821\n",
      "Recall for Test: 0.5483568075117371\n",
      "F1-score for Test: 0.5449688631768526\n",
      "---------------------------------\n",
      "Accuracy for Train: 0.5619718309859155\n",
      "Precision for Train: 0.5779450339467455\n",
      "Recall for Train: 0.5619718309859155\n",
      "F1-score for Train: 0.5592137696246354\n"
     ]
    }
   ],
   "source": [
    "if run_models:\n",
    "    xgb_clf = xgb.XGBClassifier(\n",
    "        learning_rate=0.1,\n",
    "        n_estimators=50,\n",
    "        max_depth=3,\n",
    "        subsample=1.0,\n",
    "        colsample_bytree=1.0,\n",
    "        random_state=42\n",
    "    )\n",
    "    xgb_clf.fit(X_final_train, y_train)\n",
    "    save_model_pickle('xgb_clf', xgb_clf)\n",
    "else:\n",
    "    xgb_clf = retrieve_model_pickle('xgb_clf')\n",
    "\n",
    "\n",
    "y_pred_test = xgb_clf.predict(X_final_test)\n",
    "y_pred_train = xgb_clf.predict(X_final_train)\n",
    "\n",
    "# metrics test set\n",
    "accuracy_te, precision_te, recall_te, f1_te = print_metrics(y_test, y_pred_test, \"Test\")\n",
    "df_models_explorations.loc['XGBoost', 'accuracy_test'] = accuracy_te\n",
    "df_models_explorations.loc['XGBoost', 'precision_test'] = precision_te\n",
    "df_models_explorations.loc['XGBoost', 'recall_test'] = recall_te\n",
    "df_models_explorations.loc['XGBoost', 'F1_test'] = f1_te\n",
    "\n",
    "print(\"---------------------------------\")\n",
    "\n",
    "# metrics train set\n",
    "accuracy_tr, precision_tr, recall_tr, f1_tr = print_metrics(y_train, y_pred_train, \"Train\")\n",
    "df_models_explorations.loc['XGBoost', 'accuracy_train'] = accuracy_tr\n",
    "df_models_explorations.loc['XGBoost', 'precision_train'] = precision_tr\n",
    "df_models_explorations.loc['XGBoost', 'recall_train'] = recall_tr\n",
    "df_models_explorations.loc['XGBoost', 'F1_train'] = f1_tr"
   ]
  },
  {
   "cell_type": "code",
   "execution_count": 42,
   "metadata": {},
   "outputs": [
    {
     "data": {
      "image/png": "[encoded data removed]",
      "text/plain": [
       "<Figure size 640x480 with 1 Axes>"
      ]
     },
     "metadata": {},
     "output_type": "display_data"
    }
   ],
   "source": [
    "confusion_matrix_graph(y_test, y_pred_test, \"XGBoost Classifier\")"
   ]
  },
  {
   "cell_type": "markdown",
   "metadata": {},
   "source": [
    "## Ada Boost Classifier"
   ]
  },
  {
   "cell_type": "code",
   "execution_count": 43,
   "metadata": {},
   "outputs": [
    {
     "name": "stderr",
     "output_type": "stream",
     "text": [
      "d:\\Git\\advanced_python_project\\.venv\\Lib\\site-packages\\sklearn\\base.py:348: InconsistentVersionWarning: Trying to unpickle estimator DecisionTreeClassifier from version 1.2.1 when using version 1.3.2. This might lead to breaking code or invalid results. Use at your own risk. For more info please refer to:\n",
      "https://scikit-learn.org/stable/model_persistence.html#security-maintainability-limitations\n",
      "  warnings.warn(\n"
     ]
    },
    {
     "ename": "ValueError",
     "evalue": "node array from the pickle has an incompatible dtype:\n- expected: {'names': ['left_child', 'right_child', 'feature', 'threshold', 'impurity', 'n_node_samples', 'weighted_n_node_samples', 'missing_go_to_left'], 'formats': ['<i8', '<i8', '<i8', '<f8', '<f8', '<i8', '<f8', 'u1'], 'offsets': [0, 8, 16, 24, 32, 40, 48, 56], 'itemsize': 64}\n- got     : [('left_child', '<i8'), ('right_child', '<i8'), ('feature', '<i8'), ('threshold', '<f8'), ('impurity', '<f8'), ('n_node_samples', '<i8'), ('weighted_n_node_samples', '<f8')]",
     "output_type": "error",
     "traceback": [
      "\u001b[1;31m---------------------------------------------------------------------------\u001b[0m",
      "\u001b[1;31mValueError\u001b[0m                                Traceback (most recent call last)",
      "Cell \u001b[1;32mIn[43], line 12\u001b[0m\n\u001b[0;32m     10\u001b[0m     save_model_pickle(\u001b[38;5;124m'\u001b[39m\u001b[38;5;124mada_clf\u001b[39m\u001b[38;5;124m'\u001b[39m, ada_clf)\n\u001b[0;32m     11\u001b[0m \u001b[38;5;28;01melse\u001b[39;00m:\n\u001b[1;32m---> 12\u001b[0m     ada_clf \u001b[38;5;241m=\u001b[39m \u001b[43mretrieve_model_pickle\u001b[49m\u001b[43m(\u001b[49m\u001b[38;5;124;43m'\u001b[39;49m\u001b[38;5;124;43mada_clf\u001b[39;49m\u001b[38;5;124;43m'\u001b[39;49m\u001b[43m)\u001b[49m\n\u001b[0;32m     15\u001b[0m y_pred_test \u001b[38;5;241m=\u001b[39m ada_clf\u001b[38;5;241m.\u001b[39mpredict(X_final_test)\n\u001b[0;32m     16\u001b[0m y_pred_train \u001b[38;5;241m=\u001b[39m ada_clf\u001b[38;5;241m.\u001b[39mpredict(X_final_train)\n",
      "Cell \u001b[1;32mIn[35], line 18\u001b[0m, in \u001b[0;36mretrieve_model_pickle\u001b[1;34m(file_name)\u001b[0m\n\u001b[0;32m     16\u001b[0m file_name \u001b[38;5;241m=\u001b[39m file_name \u001b[38;5;241m+\u001b[39m \u001b[38;5;124m'\u001b[39m\u001b[38;5;124m.pkl\u001b[39m\u001b[38;5;124m'\u001b[39m\n\u001b[0;32m     17\u001b[0m \u001b[38;5;28;01mwith\u001b[39;00m \u001b[38;5;28mopen\u001b[39m(file_name, \u001b[38;5;124m'\u001b[39m\u001b[38;5;124mrb\u001b[39m\u001b[38;5;124m'\u001b[39m) \u001b[38;5;28;01mas\u001b[39;00m file:\n\u001b[1;32m---> 18\u001b[0m     model \u001b[38;5;241m=\u001b[39m \u001b[43mpickle\u001b[49m\u001b[38;5;241;43m.\u001b[39;49m\u001b[43mload\u001b[49m\u001b[43m(\u001b[49m\u001b[43mfile\u001b[49m\u001b[43m)\u001b[49m\n\u001b[0;32m     19\u001b[0m     \u001b[38;5;28;01mreturn\u001b[39;00m model\n",
      "File \u001b[1;32msklearn\\tree\\_tree.pyx:728\u001b[0m, in \u001b[0;36msklearn.tree._tree.Tree.__setstate__\u001b[1;34m()\u001b[0m\n",
      "File \u001b[1;32msklearn\\tree\\_tree.pyx:1434\u001b[0m, in \u001b[0;36msklearn.tree._tree._check_node_ndarray\u001b[1;34m()\u001b[0m\n",
      "\u001b[1;31mValueError\u001b[0m: node array from the pickle has an incompatible dtype:\n- expected: {'names': ['left_child', 'right_child', 'feature', 'threshold', 'impurity', 'n_node_samples', 'weighted_n_node_samples', 'missing_go_to_left'], 'formats': ['<i8', '<i8', '<i8', '<f8', '<f8', '<i8', '<f8', 'u1'], 'offsets': [0, 8, 16, 24, 32, 40, 48, 56], 'itemsize': 64}\n- got     : [('left_child', '<i8'), ('right_child', '<i8'), ('feature', '<i8'), ('threshold', '<f8'), ('impurity', '<f8'), ('n_node_samples', '<i8'), ('weighted_n_node_samples', '<f8')]"
     ]
    }
   ],
   "source": [
    "# Create the AdaBoostClassifier\n",
    "if run_models:\n",
    "    ada_clf = AdaBoostClassifier(\n",
    "        n_estimators=100,\n",
    "        learning_rate=1.0,\n",
    "        random_state=42\n",
    "    )\n",
    "\n",
    "    ada_clf.fit(X_final_train, y_train)\n",
    "    save_model_pickle('ada_clf', ada_clf)\n",
    "else:\n",
    "    ada_clf = retrieve_model_pickle('ada_clf')\n",
    "\n",
    "\n",
    "y_pred_test = ada_clf.predict(X_final_test)\n",
    "y_pred_train = ada_clf.predict(X_final_train)\n",
    "\n",
    "# metrics test set\n",
    "accuracy_te, precision_te, recall_te, f1_te = print_metrics(y_test, y_pred_test, \"Test\")\n",
    "df_models_explorations.loc[\"AdaBoost\", 'accuracy_test'] = accuracy_te\n",
    "df_models_explorations.loc[\"AdaBoost\", 'precision_test'] = precision_te\n",
    "df_models_explorations.loc[\"AdaBoost\", 'recall_test'] = recall_te\n",
    "df_models_explorations.loc[\"AdaBoost\", 'F1_test'] = f1_te\n",
    "\n",
    "print(\"---------------------------------\")\n",
    "\n",
    "# metrics train set\n",
    "accuracy_tr, precision_tr, recall_tr, f1_tr = print_metrics(y_train, y_pred_train, \"Train\")\n",
    "df_models_explorations.loc[\"AdaBoost\", 'accuracy_train'] = accuracy_tr\n",
    "df_models_explorations.loc[\"AdaBoost\", 'precision_train'] = precision_tr\n",
    "df_models_explorations.loc[\"AdaBoost\", 'recall_train'] = recall_tr\n",
    "df_models_explorations.loc[\"AdaBoost\", 'F1_train'] = f1_tr"
   ]
  },
  {
   "cell_type": "code",
   "execution_count": null,
   "metadata": {},
   "outputs": [
    {
     "data": {
      "image/png": "[encoded data removed]",
      "text/plain": [
       "<Figure size 640x480 with 1 Axes>"
      ]
     },
     "metadata": {},
     "output_type": "display_data"
    }
   ],
   "source": [
    "confusion_matrix_graph(y_test, y_pred_test, \"AdaBoost Classifier\")"
   ]
  },
  {
   "cell_type": "markdown",
   "metadata": {},
   "source": [
    "## Decision Tree Classifier"
   ]
  },
  {
   "cell_type": "code",
   "execution_count": null,
   "metadata": {},
   "outputs": [
    {
     "name": "stdout",
     "output_type": "stream",
     "text": [
      "Accuracy for Test: 0.8194053208137715\n",
      "Precision for Test: 0.8196817495298493\n",
      "Recall for Test: 0.8194053208137715\n",
      "F1-score for Test: 0.819467594739577\n",
      "---------------------------------\n",
      "Accuracy for Train: 0.9842723004694836\n",
      "Precision for Train: 0.9843489273492083\n",
      "Recall for Train: 0.9842723004694836\n",
      "F1-score for Train: 0.9842687125335944\n"
     ]
    }
   ],
   "source": [
    "if run_models:\n",
    "    dt_clf = DecisionTreeClassifier(random_state=42)\n",
    "    dt_clf.fit(X_final_train, y_train)\n",
    "    save_model_pickle('dt_clf', dt_clf)\n",
    "else:\n",
    "    dt_clf = retrieve_model_pickle('dt_clf')\n",
    "\n",
    "y_pred_test = dt_clf.predict(X_final_test)\n",
    "y_pred_train = dt_clf.predict(X_final_train)\n",
    "\n",
    "# metrics test set\n",
    "accuracy_te, precision_te, recall_te, f1_te = print_metrics(y_test, y_pred_test, \"Test\")\n",
    "df_models_explorations.loc[\"Decision Tree\", 'accuracy_test'] = accuracy_te\n",
    "df_models_explorations.loc[\"Decision Tree\", 'precision_test'] = precision_te\n",
    "df_models_explorations.loc[\"Decision Tree\", 'recall_test'] = recall_te\n",
    "df_models_explorations.loc[\"Decision Tree\", 'F1_test'] = f1_te\n",
    "\n",
    "print(\"---------------------------------\")\n",
    "\n",
    "# metrics train set\n",
    "accuracy_tr, precision_tr, recall_tr, f1_tr = print_metrics(y_train, y_pred_train, \"Train\")\n",
    "df_models_explorations.loc[\"Decision Tree\", 'accuracy_train'] = accuracy_tr\n",
    "df_models_explorations.loc[\"Decision Tree\", 'precision_train'] = precision_tr\n",
    "df_models_explorations.loc[\"Decision Tree\", 'recall_train'] = recall_tr\n",
    "df_models_explorations.loc[\"Decision Tree\", 'F1_train'] = f1_tr"
   ]
  },
  {
   "cell_type": "code",
   "execution_count": null,
   "metadata": {},
   "outputs": [
    {
     "data": {
      "image/png": "[encoded data removed]",
      "text/plain": [
       "<Figure size 640x480 with 1 Axes>"
      ]
     },
     "metadata": {},
     "output_type": "display_data"
    }
   ],
   "source": [
    "confusion_matrix_graph(y_test, y_pred_test, \"Decision Tree Classifier\")"
   ]
  },
  {
   "cell_type": "markdown",
   "metadata": {},
   "source": [
    "## Model Exploration Results"
   ]
  },
  {
   "cell_type": "code",
   "execution_count": null,
   "metadata": {},
   "outputs": [
    {
     "data": {
      "text/html": [
       "<div>\n",
       "<style scoped>\n",
       "    .dataframe tbody tr th:only-of-type {\n",
       "        vertical-align: middle;\n",
       "    }\n",
       "\n",
       "    .dataframe tbody tr th {\n",
       "        vertical-align: top;\n",
       "    }\n",
       "\n",
       "    .dataframe thead th {\n",
       "        text-align: right;\n",
       "    }\n",
       "</style>\n",
       "<table border=\"1\" class=\"dataframe\">\n",
       "  <thead>\n",
       "    <tr style=\"text-align: right;\">\n",
       "      <th></th>\n",
       "      <th>accuracy_test</th>\n",
       "      <th>accuracy_train</th>\n",
       "      <th>precision_test</th>\n",
       "      <th>precision_train</th>\n",
       "      <th>recall_test</th>\n",
       "      <th>recall_train</th>\n",
       "      <th>F1_test</th>\n",
       "      <th>F1_train</th>\n",
       "    </tr>\n",
       "    <tr>\n",
       "      <th>model</th>\n",
       "      <th></th>\n",
       "      <th></th>\n",
       "      <th></th>\n",
       "      <th></th>\n",
       "      <th></th>\n",
       "      <th></th>\n",
       "      <th></th>\n",
       "      <th></th>\n",
       "    </tr>\n",
       "  </thead>\n",
       "  <tbody>\n",
       "    <tr>\n",
       "      <th>Decision Tree</th>\n",
       "      <td>0.819405</td>\n",
       "      <td>0.984272</td>\n",
       "      <td>0.819682</td>\n",
       "      <td>0.984349</td>\n",
       "      <td>0.819405</td>\n",
       "      <td>0.984272</td>\n",
       "      <td>0.819468</td>\n",
       "      <td>0.984269</td>\n",
       "    </tr>\n",
       "    <tr>\n",
       "      <th>GB</th>\n",
       "      <td>0.617840</td>\n",
       "      <td>0.673709</td>\n",
       "      <td>0.620368</td>\n",
       "      <td>0.679793</td>\n",
       "      <td>0.617840</td>\n",
       "      <td>0.673709</td>\n",
       "      <td>0.614771</td>\n",
       "      <td>0.671664</td>\n",
       "    </tr>\n",
       "    <tr>\n",
       "      <th>XGBoost</th>\n",
       "      <td>0.548357</td>\n",
       "      <td>0.561972</td>\n",
       "      <td>0.558769</td>\n",
       "      <td>0.577945</td>\n",
       "      <td>0.548357</td>\n",
       "      <td>0.561972</td>\n",
       "      <td>0.544969</td>\n",
       "      <td>0.559214</td>\n",
       "    </tr>\n",
       "    <tr>\n",
       "      <th>AdaBoost</th>\n",
       "      <td>0.455712</td>\n",
       "      <td>0.487793</td>\n",
       "      <td>0.494946</td>\n",
       "      <td>0.529305</td>\n",
       "      <td>0.455712</td>\n",
       "      <td>0.487793</td>\n",
       "      <td>0.463925</td>\n",
       "      <td>0.494818</td>\n",
       "    </tr>\n",
       "    <tr>\n",
       "      <th>SVM</th>\n",
       "      <td>0.247261</td>\n",
       "      <td>0.257277</td>\n",
       "      <td>0.061138</td>\n",
       "      <td>0.066191</td>\n",
       "      <td>0.247261</td>\n",
       "      <td>0.257277</td>\n",
       "      <td>0.098036</td>\n",
       "      <td>0.105293</td>\n",
       "    </tr>\n",
       "  </tbody>\n",
       "</table>\n",
       "</div>"
      ],
      "text/plain": [
       "               accuracy_test  accuracy_train  precision_test  precision_train  \\\n",
       "model                                                                           \n",
       "Decision Tree       0.819405        0.984272        0.819682         0.984349   \n",
       "GB                  0.617840        0.673709        0.620368         0.679793   \n",
       "XGBoost             0.548357        0.561972        0.558769         0.577945   \n",
       "AdaBoost            0.455712        0.487793        0.494946         0.529305   \n",
       "SVM                 0.247261        0.257277        0.061138         0.066191   \n",
       "\n",
       "               recall_test  recall_train   F1_test  F1_train  \n",
       "model                                                         \n",
       "Decision Tree     0.819405      0.984272  0.819468  0.984269  \n",
       "GB                0.617840      0.673709  0.614771  0.671664  \n",
       "XGBoost           0.548357      0.561972  0.544969  0.559214  \n",
       "AdaBoost          0.455712      0.487793  0.463925  0.494818  \n",
       "SVM               0.247261      0.257277  0.098036  0.105293  "
      ]
     },
     "execution_count": 106,
     "metadata": {},
     "output_type": "execute_result"
    }
   ],
   "source": [
    "df_models_explorations.sort_values('accuracy_test', ascending=False)"
   ]
  },
  {
   "cell_type": "markdown",
   "metadata": {},
   "source": [
    "As can be seen the best models to move forward with optimization are Decision Tree Classifier and Gradient Boosting Classifier. The first one is overfitting more than the second one."
   ]
  },
  {
   "cell_type": "markdown",
   "metadata": {},
   "source": [
    "## Model Optimization"
   ]
  },
  {
   "cell_type": "markdown",
   "metadata": {},
   "source": [
    "### Randomized Search\n",
    "\n",
    "#### Gradient Boosting Classifier"
   ]
  },
  {
   "cell_type": "code",
   "execution_count": null,
   "metadata": {},
   "outputs": [
    {
     "ename": "KeyboardInterrupt",
     "evalue": "",
     "output_type": "error",
     "traceback": [
      "\u001b[1;31m---------------------------------------------------------------------------\u001b[0m",
      "\u001b[1;31mKeyboardInterrupt\u001b[0m                         Traceback (most recent call last)",
      "Cell \u001b[1;32mIn[107], line 19\u001b[0m\n\u001b[0;32m     15\u001b[0m random_search \u001b[38;5;241m=\u001b[39m RandomizedSearchCV(gb_clf_rs, param_distributions\u001b[38;5;241m=\u001b[39mparam_dist, n_iter\u001b[38;5;241m=\u001b[39m\u001b[38;5;241m10\u001b[39m,\n\u001b[0;32m     16\u001b[0m                                    scoring\u001b[38;5;241m=\u001b[39m\u001b[38;5;124m'\u001b[39m\u001b[38;5;124maccuracy\u001b[39m\u001b[38;5;124m'\u001b[39m, cv\u001b[38;5;241m=\u001b[39m\u001b[38;5;241m5\u001b[39m, random_state\u001b[38;5;241m=\u001b[39m\u001b[38;5;241m42\u001b[39m)\n\u001b[0;32m     18\u001b[0m \u001b[38;5;66;03m# Fit the model\u001b[39;00m\n\u001b[1;32m---> 19\u001b[0m \u001b[43mrandom_search\u001b[49m\u001b[38;5;241;43m.\u001b[39;49m\u001b[43mfit\u001b[49m\u001b[43m(\u001b[49m\u001b[43mX_final_train\u001b[49m\u001b[43m,\u001b[49m\u001b[43m \u001b[49m\u001b[43my_train\u001b[49m\u001b[43m)\u001b[49m\n\u001b[0;32m     20\u001b[0m best_params \u001b[38;5;241m=\u001b[39m random_search\u001b[38;5;241m.\u001b[39mbest_params_\n\u001b[0;32m     22\u001b[0m \u001b[38;5;66;03m# Print the best parameters\u001b[39;00m\n",
      "File \u001b[1;32md:\\Git\\advanced_python_project\\.venv\\Lib\\site-packages\\sklearn\\base.py:1152\u001b[0m, in \u001b[0;36m_fit_context.<locals>.decorator.<locals>.wrapper\u001b[1;34m(estimator, *args, **kwargs)\u001b[0m\n\u001b[0;32m   1145\u001b[0m     estimator\u001b[38;5;241m.\u001b[39m_validate_params()\n\u001b[0;32m   1147\u001b[0m \u001b[38;5;28;01mwith\u001b[39;00m config_context(\n\u001b[0;32m   1148\u001b[0m     skip_parameter_validation\u001b[38;5;241m=\u001b[39m(\n\u001b[0;32m   1149\u001b[0m         prefer_skip_nested_validation \u001b[38;5;129;01mor\u001b[39;00m global_skip_validation\n\u001b[0;32m   1150\u001b[0m     )\n\u001b[0;32m   1151\u001b[0m ):\n\u001b[1;32m-> 1152\u001b[0m     \u001b[38;5;28;01mreturn\u001b[39;00m \u001b[43mfit_method\u001b[49m\u001b[43m(\u001b[49m\u001b[43mestimator\u001b[49m\u001b[43m,\u001b[49m\u001b[43m \u001b[49m\u001b[38;5;241;43m*\u001b[39;49m\u001b[43margs\u001b[49m\u001b[43m,\u001b[49m\u001b[43m \u001b[49m\u001b[38;5;241;43m*\u001b[39;49m\u001b[38;5;241;43m*\u001b[39;49m\u001b[43mkwargs\u001b[49m\u001b[43m)\u001b[49m\n",
      "File \u001b[1;32md:\\Git\\advanced_python_project\\.venv\\Lib\\site-packages\\sklearn\\model_selection\\_search.py:898\u001b[0m, in \u001b[0;36mBaseSearchCV.fit\u001b[1;34m(self, X, y, groups, **fit_params)\u001b[0m\n\u001b[0;32m    892\u001b[0m     results \u001b[38;5;241m=\u001b[39m \u001b[38;5;28mself\u001b[39m\u001b[38;5;241m.\u001b[39m_format_results(\n\u001b[0;32m    893\u001b[0m         all_candidate_params, n_splits, all_out, all_more_results\n\u001b[0;32m    894\u001b[0m     )\n\u001b[0;32m    896\u001b[0m     \u001b[38;5;28;01mreturn\u001b[39;00m results\n\u001b[1;32m--> 898\u001b[0m \u001b[38;5;28;43mself\u001b[39;49m\u001b[38;5;241;43m.\u001b[39;49m\u001b[43m_run_search\u001b[49m\u001b[43m(\u001b[49m\u001b[43mevaluate_candidates\u001b[49m\u001b[43m)\u001b[49m\n\u001b[0;32m    900\u001b[0m \u001b[38;5;66;03m# multimetric is determined here because in the case of a callable\u001b[39;00m\n\u001b[0;32m    901\u001b[0m \u001b[38;5;66;03m# self.scoring the return type is only known after calling\u001b[39;00m\n\u001b[0;32m    902\u001b[0m first_test_score \u001b[38;5;241m=\u001b[39m all_out[\u001b[38;5;241m0\u001b[39m][\u001b[38;5;124m\"\u001b[39m\u001b[38;5;124mtest_scores\u001b[39m\u001b[38;5;124m\"\u001b[39m]\n",
      "File \u001b[1;32md:\\Git\\advanced_python_project\\.venv\\Lib\\site-packages\\sklearn\\model_selection\\_search.py:1809\u001b[0m, in \u001b[0;36mRandomizedSearchCV._run_search\u001b[1;34m(self, evaluate_candidates)\u001b[0m\n\u001b[0;32m   1807\u001b[0m \u001b[38;5;28;01mdef\u001b[39;00m \u001b[38;5;21m_run_search\u001b[39m(\u001b[38;5;28mself\u001b[39m, evaluate_candidates):\n\u001b[0;32m   1808\u001b[0m \u001b[38;5;250m    \u001b[39m\u001b[38;5;124;03m\"\"\"Search n_iter candidates from param_distributions\"\"\"\u001b[39;00m\n\u001b[1;32m-> 1809\u001b[0m     \u001b[43mevaluate_candidates\u001b[49m\u001b[43m(\u001b[49m\n\u001b[0;32m   1810\u001b[0m \u001b[43m        \u001b[49m\u001b[43mParameterSampler\u001b[49m\u001b[43m(\u001b[49m\n\u001b[0;32m   1811\u001b[0m \u001b[43m            \u001b[49m\u001b[38;5;28;43mself\u001b[39;49m\u001b[38;5;241;43m.\u001b[39;49m\u001b[43mparam_distributions\u001b[49m\u001b[43m,\u001b[49m\u001b[43m \u001b[49m\u001b[38;5;28;43mself\u001b[39;49m\u001b[38;5;241;43m.\u001b[39;49m\u001b[43mn_iter\u001b[49m\u001b[43m,\u001b[49m\u001b[43m \u001b[49m\u001b[43mrandom_state\u001b[49m\u001b[38;5;241;43m=\u001b[39;49m\u001b[38;5;28;43mself\u001b[39;49m\u001b[38;5;241;43m.\u001b[39;49m\u001b[43mrandom_state\u001b[49m\n\u001b[0;32m   1812\u001b[0m \u001b[43m        \u001b[49m\u001b[43m)\u001b[49m\n\u001b[0;32m   1813\u001b[0m \u001b[43m    \u001b[49m\u001b[43m)\u001b[49m\n",
      "File \u001b[1;32md:\\Git\\advanced_python_project\\.venv\\Lib\\site-packages\\sklearn\\model_selection\\_search.py:845\u001b[0m, in \u001b[0;36mBaseSearchCV.fit.<locals>.evaluate_candidates\u001b[1;34m(candidate_params, cv, more_results)\u001b[0m\n\u001b[0;32m    837\u001b[0m \u001b[38;5;28;01mif\u001b[39;00m \u001b[38;5;28mself\u001b[39m\u001b[38;5;241m.\u001b[39mverbose \u001b[38;5;241m>\u001b[39m \u001b[38;5;241m0\u001b[39m:\n\u001b[0;32m    838\u001b[0m     \u001b[38;5;28mprint\u001b[39m(\n\u001b[0;32m    839\u001b[0m         \u001b[38;5;124m\"\u001b[39m\u001b[38;5;124mFitting \u001b[39m\u001b[38;5;132;01m{0}\u001b[39;00m\u001b[38;5;124m folds for each of \u001b[39m\u001b[38;5;132;01m{1}\u001b[39;00m\u001b[38;5;124m candidates,\u001b[39m\u001b[38;5;124m\"\u001b[39m\n\u001b[0;32m    840\u001b[0m         \u001b[38;5;124m\"\u001b[39m\u001b[38;5;124m totalling \u001b[39m\u001b[38;5;132;01m{2}\u001b[39;00m\u001b[38;5;124m fits\u001b[39m\u001b[38;5;124m\"\u001b[39m\u001b[38;5;241m.\u001b[39mformat(\n\u001b[0;32m    841\u001b[0m             n_splits, n_candidates, n_candidates \u001b[38;5;241m*\u001b[39m n_splits\n\u001b[0;32m    842\u001b[0m         )\n\u001b[0;32m    843\u001b[0m     )\n\u001b[1;32m--> 845\u001b[0m out \u001b[38;5;241m=\u001b[39m \u001b[43mparallel\u001b[49m\u001b[43m(\u001b[49m\n\u001b[0;32m    846\u001b[0m \u001b[43m    \u001b[49m\u001b[43mdelayed\u001b[49m\u001b[43m(\u001b[49m\u001b[43m_fit_and_score\u001b[49m\u001b[43m)\u001b[49m\u001b[43m(\u001b[49m\n\u001b[0;32m    847\u001b[0m \u001b[43m        \u001b[49m\u001b[43mclone\u001b[49m\u001b[43m(\u001b[49m\u001b[43mbase_estimator\u001b[49m\u001b[43m)\u001b[49m\u001b[43m,\u001b[49m\n\u001b[0;32m    848\u001b[0m \u001b[43m        \u001b[49m\u001b[43mX\u001b[49m\u001b[43m,\u001b[49m\n\u001b[0;32m    849\u001b[0m \u001b[43m        \u001b[49m\u001b[43my\u001b[49m\u001b[43m,\u001b[49m\n\u001b[0;32m    850\u001b[0m \u001b[43m        \u001b[49m\u001b[43mtrain\u001b[49m\u001b[38;5;241;43m=\u001b[39;49m\u001b[43mtrain\u001b[49m\u001b[43m,\u001b[49m\n\u001b[0;32m    851\u001b[0m \u001b[43m        \u001b[49m\u001b[43mtest\u001b[49m\u001b[38;5;241;43m=\u001b[39;49m\u001b[43mtest\u001b[49m\u001b[43m,\u001b[49m\n\u001b[0;32m    852\u001b[0m \u001b[43m        \u001b[49m\u001b[43mparameters\u001b[49m\u001b[38;5;241;43m=\u001b[39;49m\u001b[43mparameters\u001b[49m\u001b[43m,\u001b[49m\n\u001b[0;32m    853\u001b[0m \u001b[43m        \u001b[49m\u001b[43msplit_progress\u001b[49m\u001b[38;5;241;43m=\u001b[39;49m\u001b[43m(\u001b[49m\u001b[43msplit_idx\u001b[49m\u001b[43m,\u001b[49m\u001b[43m \u001b[49m\u001b[43mn_splits\u001b[49m\u001b[43m)\u001b[49m\u001b[43m,\u001b[49m\n\u001b[0;32m    854\u001b[0m \u001b[43m        \u001b[49m\u001b[43mcandidate_progress\u001b[49m\u001b[38;5;241;43m=\u001b[39;49m\u001b[43m(\u001b[49m\u001b[43mcand_idx\u001b[49m\u001b[43m,\u001b[49m\u001b[43m \u001b[49m\u001b[43mn_candidates\u001b[49m\u001b[43m)\u001b[49m\u001b[43m,\u001b[49m\n\u001b[0;32m    855\u001b[0m \u001b[43m        \u001b[49m\u001b[38;5;241;43m*\u001b[39;49m\u001b[38;5;241;43m*\u001b[39;49m\u001b[43mfit_and_score_kwargs\u001b[49m\u001b[43m,\u001b[49m\n\u001b[0;32m    856\u001b[0m \u001b[43m    \u001b[49m\u001b[43m)\u001b[49m\n\u001b[0;32m    857\u001b[0m \u001b[43m    \u001b[49m\u001b[38;5;28;43;01mfor\u001b[39;49;00m\u001b[43m \u001b[49m\u001b[43m(\u001b[49m\u001b[43mcand_idx\u001b[49m\u001b[43m,\u001b[49m\u001b[43m \u001b[49m\u001b[43mparameters\u001b[49m\u001b[43m)\u001b[49m\u001b[43m,\u001b[49m\u001b[43m \u001b[49m\u001b[43m(\u001b[49m\u001b[43msplit_idx\u001b[49m\u001b[43m,\u001b[49m\u001b[43m \u001b[49m\u001b[43m(\u001b[49m\u001b[43mtrain\u001b[49m\u001b[43m,\u001b[49m\u001b[43m \u001b[49m\u001b[43mtest\u001b[49m\u001b[43m)\u001b[49m\u001b[43m)\u001b[49m\u001b[43m \u001b[49m\u001b[38;5;129;43;01min\u001b[39;49;00m\u001b[43m \u001b[49m\u001b[43mproduct\u001b[49m\u001b[43m(\u001b[49m\n\u001b[0;32m    858\u001b[0m \u001b[43m        \u001b[49m\u001b[38;5;28;43menumerate\u001b[39;49m\u001b[43m(\u001b[49m\u001b[43mcandidate_params\u001b[49m\u001b[43m)\u001b[49m\u001b[43m,\u001b[49m\u001b[43m \u001b[49m\u001b[38;5;28;43menumerate\u001b[39;49m\u001b[43m(\u001b[49m\u001b[43mcv\u001b[49m\u001b[38;5;241;43m.\u001b[39;49m\u001b[43msplit\u001b[49m\u001b[43m(\u001b[49m\u001b[43mX\u001b[49m\u001b[43m,\u001b[49m\u001b[43m \u001b[49m\u001b[43my\u001b[49m\u001b[43m,\u001b[49m\u001b[43m \u001b[49m\u001b[43mgroups\u001b[49m\u001b[43m)\u001b[49m\u001b[43m)\u001b[49m\n\u001b[0;32m    859\u001b[0m \u001b[43m    \u001b[49m\u001b[43m)\u001b[49m\n\u001b[0;32m    860\u001b[0m \u001b[43m\u001b[49m\u001b[43m)\u001b[49m\n\u001b[0;32m    862\u001b[0m \u001b[38;5;28;01mif\u001b[39;00m \u001b[38;5;28mlen\u001b[39m(out) \u001b[38;5;241m<\u001b[39m \u001b[38;5;241m1\u001b[39m:\n\u001b[0;32m    863\u001b[0m     \u001b[38;5;28;01mraise\u001b[39;00m \u001b[38;5;167;01mValueError\u001b[39;00m(\n\u001b[0;32m    864\u001b[0m         \u001b[38;5;124m\"\u001b[39m\u001b[38;5;124mNo fits were performed. \u001b[39m\u001b[38;5;124m\"\u001b[39m\n\u001b[0;32m    865\u001b[0m         \u001b[38;5;124m\"\u001b[39m\u001b[38;5;124mWas the CV iterator empty? \u001b[39m\u001b[38;5;124m\"\u001b[39m\n\u001b[0;32m    866\u001b[0m         \u001b[38;5;124m\"\u001b[39m\u001b[38;5;124mWere there no candidates?\u001b[39m\u001b[38;5;124m\"\u001b[39m\n\u001b[0;32m    867\u001b[0m     )\n",
      "File \u001b[1;32md:\\Git\\advanced_python_project\\.venv\\Lib\\site-packages\\sklearn\\utils\\parallel.py:65\u001b[0m, in \u001b[0;36mParallel.__call__\u001b[1;34m(self, iterable)\u001b[0m\n\u001b[0;32m     60\u001b[0m config \u001b[38;5;241m=\u001b[39m get_config()\n\u001b[0;32m     61\u001b[0m iterable_with_config \u001b[38;5;241m=\u001b[39m (\n\u001b[0;32m     62\u001b[0m     (_with_config(delayed_func, config), args, kwargs)\n\u001b[0;32m     63\u001b[0m     \u001b[38;5;28;01mfor\u001b[39;00m delayed_func, args, kwargs \u001b[38;5;129;01min\u001b[39;00m iterable\n\u001b[0;32m     64\u001b[0m )\n\u001b[1;32m---> 65\u001b[0m \u001b[38;5;28;01mreturn\u001b[39;00m \u001b[38;5;28;43msuper\u001b[39;49m\u001b[43m(\u001b[49m\u001b[43m)\u001b[49m\u001b[38;5;241;43m.\u001b[39;49m\u001b[38;5;21;43m__call__\u001b[39;49m\u001b[43m(\u001b[49m\u001b[43miterable_with_config\u001b[49m\u001b[43m)\u001b[49m\n",
      "File \u001b[1;32md:\\Git\\advanced_python_project\\.venv\\Lib\\site-packages\\joblib\\parallel.py:1863\u001b[0m, in \u001b[0;36mParallel.__call__\u001b[1;34m(self, iterable)\u001b[0m\n\u001b[0;32m   1861\u001b[0m     output \u001b[38;5;241m=\u001b[39m \u001b[38;5;28mself\u001b[39m\u001b[38;5;241m.\u001b[39m_get_sequential_output(iterable)\n\u001b[0;32m   1862\u001b[0m     \u001b[38;5;28mnext\u001b[39m(output)\n\u001b[1;32m-> 1863\u001b[0m     \u001b[38;5;28;01mreturn\u001b[39;00m output \u001b[38;5;28;01mif\u001b[39;00m \u001b[38;5;28mself\u001b[39m\u001b[38;5;241m.\u001b[39mreturn_generator \u001b[38;5;28;01melse\u001b[39;00m \u001b[38;5;28;43mlist\u001b[39;49m\u001b[43m(\u001b[49m\u001b[43moutput\u001b[49m\u001b[43m)\u001b[49m\n\u001b[0;32m   1865\u001b[0m \u001b[38;5;66;03m# Let's create an ID that uniquely identifies the current call. If the\u001b[39;00m\n\u001b[0;32m   1866\u001b[0m \u001b[38;5;66;03m# call is interrupted early and that the same instance is immediately\u001b[39;00m\n\u001b[0;32m   1867\u001b[0m \u001b[38;5;66;03m# re-used, this id will be used to prevent workers that were\u001b[39;00m\n\u001b[0;32m   1868\u001b[0m \u001b[38;5;66;03m# concurrently finalizing a task from the previous call to run the\u001b[39;00m\n\u001b[0;32m   1869\u001b[0m \u001b[38;5;66;03m# callback.\u001b[39;00m\n\u001b[0;32m   1870\u001b[0m \u001b[38;5;28;01mwith\u001b[39;00m \u001b[38;5;28mself\u001b[39m\u001b[38;5;241m.\u001b[39m_lock:\n",
      "File \u001b[1;32md:\\Git\\advanced_python_project\\.venv\\Lib\\site-packages\\joblib\\parallel.py:1792\u001b[0m, in \u001b[0;36mParallel._get_sequential_output\u001b[1;34m(self, iterable)\u001b[0m\n\u001b[0;32m   1790\u001b[0m \u001b[38;5;28mself\u001b[39m\u001b[38;5;241m.\u001b[39mn_dispatched_batches \u001b[38;5;241m+\u001b[39m\u001b[38;5;241m=\u001b[39m \u001b[38;5;241m1\u001b[39m\n\u001b[0;32m   1791\u001b[0m \u001b[38;5;28mself\u001b[39m\u001b[38;5;241m.\u001b[39mn_dispatched_tasks \u001b[38;5;241m+\u001b[39m\u001b[38;5;241m=\u001b[39m \u001b[38;5;241m1\u001b[39m\n\u001b[1;32m-> 1792\u001b[0m res \u001b[38;5;241m=\u001b[39m \u001b[43mfunc\u001b[49m\u001b[43m(\u001b[49m\u001b[38;5;241;43m*\u001b[39;49m\u001b[43margs\u001b[49m\u001b[43m,\u001b[49m\u001b[43m \u001b[49m\u001b[38;5;241;43m*\u001b[39;49m\u001b[38;5;241;43m*\u001b[39;49m\u001b[43mkwargs\u001b[49m\u001b[43m)\u001b[49m\n\u001b[0;32m   1793\u001b[0m \u001b[38;5;28mself\u001b[39m\u001b[38;5;241m.\u001b[39mn_completed_tasks \u001b[38;5;241m+\u001b[39m\u001b[38;5;241m=\u001b[39m \u001b[38;5;241m1\u001b[39m\n\u001b[0;32m   1794\u001b[0m \u001b[38;5;28mself\u001b[39m\u001b[38;5;241m.\u001b[39mprint_progress()\n",
      "File \u001b[1;32md:\\Git\\advanced_python_project\\.venv\\Lib\\site-packages\\sklearn\\utils\\parallel.py:127\u001b[0m, in \u001b[0;36m_FuncWrapper.__call__\u001b[1;34m(self, *args, **kwargs)\u001b[0m\n\u001b[0;32m    125\u001b[0m     config \u001b[38;5;241m=\u001b[39m {}\n\u001b[0;32m    126\u001b[0m \u001b[38;5;28;01mwith\u001b[39;00m config_context(\u001b[38;5;241m*\u001b[39m\u001b[38;5;241m*\u001b[39mconfig):\n\u001b[1;32m--> 127\u001b[0m     \u001b[38;5;28;01mreturn\u001b[39;00m \u001b[38;5;28;43mself\u001b[39;49m\u001b[38;5;241;43m.\u001b[39;49m\u001b[43mfunction\u001b[49m\u001b[43m(\u001b[49m\u001b[38;5;241;43m*\u001b[39;49m\u001b[43margs\u001b[49m\u001b[43m,\u001b[49m\u001b[43m \u001b[49m\u001b[38;5;241;43m*\u001b[39;49m\u001b[38;5;241;43m*\u001b[39;49m\u001b[43mkwargs\u001b[49m\u001b[43m)\u001b[49m\n",
      "File \u001b[1;32md:\\Git\\advanced_python_project\\.venv\\Lib\\site-packages\\sklearn\\model_selection\\_validation.py:729\u001b[0m, in \u001b[0;36m_fit_and_score\u001b[1;34m(estimator, X, y, scorer, train, test, verbose, parameters, fit_params, return_train_score, return_parameters, return_n_test_samples, return_times, return_estimator, split_progress, candidate_progress, error_score)\u001b[0m\n\u001b[0;32m    727\u001b[0m         estimator\u001b[38;5;241m.\u001b[39mfit(X_train, \u001b[38;5;241m*\u001b[39m\u001b[38;5;241m*\u001b[39mfit_params)\n\u001b[0;32m    728\u001b[0m     \u001b[38;5;28;01melse\u001b[39;00m:\n\u001b[1;32m--> 729\u001b[0m         \u001b[43mestimator\u001b[49m\u001b[38;5;241;43m.\u001b[39;49m\u001b[43mfit\u001b[49m\u001b[43m(\u001b[49m\u001b[43mX_train\u001b[49m\u001b[43m,\u001b[49m\u001b[43m \u001b[49m\u001b[43my_train\u001b[49m\u001b[43m,\u001b[49m\u001b[43m \u001b[49m\u001b[38;5;241;43m*\u001b[39;49m\u001b[38;5;241;43m*\u001b[39;49m\u001b[43mfit_params\u001b[49m\u001b[43m)\u001b[49m\n\u001b[0;32m    731\u001b[0m \u001b[38;5;28;01mexcept\u001b[39;00m \u001b[38;5;167;01mException\u001b[39;00m:\n\u001b[0;32m    732\u001b[0m     \u001b[38;5;66;03m# Note fit time as time until error\u001b[39;00m\n\u001b[0;32m    733\u001b[0m     fit_time \u001b[38;5;241m=\u001b[39m time\u001b[38;5;241m.\u001b[39mtime() \u001b[38;5;241m-\u001b[39m start_time\n",
      "File \u001b[1;32md:\\Git\\advanced_python_project\\.venv\\Lib\\site-packages\\sklearn\\base.py:1152\u001b[0m, in \u001b[0;36m_fit_context.<locals>.decorator.<locals>.wrapper\u001b[1;34m(estimator, *args, **kwargs)\u001b[0m\n\u001b[0;32m   1145\u001b[0m     estimator\u001b[38;5;241m.\u001b[39m_validate_params()\n\u001b[0;32m   1147\u001b[0m \u001b[38;5;28;01mwith\u001b[39;00m config_context(\n\u001b[0;32m   1148\u001b[0m     skip_parameter_validation\u001b[38;5;241m=\u001b[39m(\n\u001b[0;32m   1149\u001b[0m         prefer_skip_nested_validation \u001b[38;5;129;01mor\u001b[39;00m global_skip_validation\n\u001b[0;32m   1150\u001b[0m     )\n\u001b[0;32m   1151\u001b[0m ):\n\u001b[1;32m-> 1152\u001b[0m     \u001b[38;5;28;01mreturn\u001b[39;00m \u001b[43mfit_method\u001b[49m\u001b[43m(\u001b[49m\u001b[43mestimator\u001b[49m\u001b[43m,\u001b[49m\u001b[43m \u001b[49m\u001b[38;5;241;43m*\u001b[39;49m\u001b[43margs\u001b[49m\u001b[43m,\u001b[49m\u001b[43m \u001b[49m\u001b[38;5;241;43m*\u001b[39;49m\u001b[38;5;241;43m*\u001b[39;49m\u001b[43mkwargs\u001b[49m\u001b[43m)\u001b[49m\n",
      "File \u001b[1;32md:\\Git\\advanced_python_project\\.venv\\Lib\\site-packages\\sklearn\\ensemble\\_gb.py:532\u001b[0m, in \u001b[0;36mBaseGradientBoosting.fit\u001b[1;34m(self, X, y, sample_weight, monitor)\u001b[0m\n\u001b[0;32m    529\u001b[0m     \u001b[38;5;28mself\u001b[39m\u001b[38;5;241m.\u001b[39m_resize_state()\n\u001b[0;32m    531\u001b[0m \u001b[38;5;66;03m# fit the boosting stages\u001b[39;00m\n\u001b[1;32m--> 532\u001b[0m n_stages \u001b[38;5;241m=\u001b[39m \u001b[38;5;28;43mself\u001b[39;49m\u001b[38;5;241;43m.\u001b[39;49m\u001b[43m_fit_stages\u001b[49m\u001b[43m(\u001b[49m\n\u001b[0;32m    533\u001b[0m \u001b[43m    \u001b[49m\u001b[43mX_train\u001b[49m\u001b[43m,\u001b[49m\n\u001b[0;32m    534\u001b[0m \u001b[43m    \u001b[49m\u001b[43my_train\u001b[49m\u001b[43m,\u001b[49m\n\u001b[0;32m    535\u001b[0m \u001b[43m    \u001b[49m\u001b[43mraw_predictions\u001b[49m\u001b[43m,\u001b[49m\n\u001b[0;32m    536\u001b[0m \u001b[43m    \u001b[49m\u001b[43msample_weight_train\u001b[49m\u001b[43m,\u001b[49m\n\u001b[0;32m    537\u001b[0m \u001b[43m    \u001b[49m\u001b[38;5;28;43mself\u001b[39;49m\u001b[38;5;241;43m.\u001b[39;49m\u001b[43m_rng\u001b[49m\u001b[43m,\u001b[49m\n\u001b[0;32m    538\u001b[0m \u001b[43m    \u001b[49m\u001b[43mX_val\u001b[49m\u001b[43m,\u001b[49m\n\u001b[0;32m    539\u001b[0m \u001b[43m    \u001b[49m\u001b[43my_val\u001b[49m\u001b[43m,\u001b[49m\n\u001b[0;32m    540\u001b[0m \u001b[43m    \u001b[49m\u001b[43msample_weight_val\u001b[49m\u001b[43m,\u001b[49m\n\u001b[0;32m    541\u001b[0m \u001b[43m    \u001b[49m\u001b[43mbegin_at_stage\u001b[49m\u001b[43m,\u001b[49m\n\u001b[0;32m    542\u001b[0m \u001b[43m    \u001b[49m\u001b[43mmonitor\u001b[49m\u001b[43m,\u001b[49m\n\u001b[0;32m    543\u001b[0m \u001b[43m\u001b[49m\u001b[43m)\u001b[49m\n\u001b[0;32m    545\u001b[0m \u001b[38;5;66;03m# change shape of arrays after fit (early-stopping or additional ests)\u001b[39;00m\n\u001b[0;32m    546\u001b[0m \u001b[38;5;28;01mif\u001b[39;00m n_stages \u001b[38;5;241m!=\u001b[39m \u001b[38;5;28mself\u001b[39m\u001b[38;5;241m.\u001b[39mestimators_\u001b[38;5;241m.\u001b[39mshape[\u001b[38;5;241m0\u001b[39m]:\n",
      "File \u001b[1;32md:\\Git\\advanced_python_project\\.venv\\Lib\\site-packages\\sklearn\\ensemble\\_gb.py:610\u001b[0m, in \u001b[0;36mBaseGradientBoosting._fit_stages\u001b[1;34m(self, X, y, raw_predictions, sample_weight, random_state, X_val, y_val, sample_weight_val, begin_at_stage, monitor)\u001b[0m\n\u001b[0;32m    603\u001b[0m         initial_loss \u001b[38;5;241m=\u001b[39m loss_(\n\u001b[0;32m    604\u001b[0m             y[\u001b[38;5;241m~\u001b[39msample_mask],\n\u001b[0;32m    605\u001b[0m             raw_predictions[\u001b[38;5;241m~\u001b[39msample_mask],\n\u001b[0;32m    606\u001b[0m             sample_weight[\u001b[38;5;241m~\u001b[39msample_mask],\n\u001b[0;32m    607\u001b[0m         )\n\u001b[0;32m    609\u001b[0m \u001b[38;5;66;03m# fit next stage of trees\u001b[39;00m\n\u001b[1;32m--> 610\u001b[0m raw_predictions \u001b[38;5;241m=\u001b[39m \u001b[38;5;28;43mself\u001b[39;49m\u001b[38;5;241;43m.\u001b[39;49m\u001b[43m_fit_stage\u001b[49m\u001b[43m(\u001b[49m\n\u001b[0;32m    611\u001b[0m \u001b[43m    \u001b[49m\u001b[43mi\u001b[49m\u001b[43m,\u001b[49m\n\u001b[0;32m    612\u001b[0m \u001b[43m    \u001b[49m\u001b[43mX\u001b[49m\u001b[43m,\u001b[49m\n\u001b[0;32m    613\u001b[0m \u001b[43m    \u001b[49m\u001b[43my\u001b[49m\u001b[43m,\u001b[49m\n\u001b[0;32m    614\u001b[0m \u001b[43m    \u001b[49m\u001b[43mraw_predictions\u001b[49m\u001b[43m,\u001b[49m\n\u001b[0;32m    615\u001b[0m \u001b[43m    \u001b[49m\u001b[43msample_weight\u001b[49m\u001b[43m,\u001b[49m\n\u001b[0;32m    616\u001b[0m \u001b[43m    \u001b[49m\u001b[43msample_mask\u001b[49m\u001b[43m,\u001b[49m\n\u001b[0;32m    617\u001b[0m \u001b[43m    \u001b[49m\u001b[43mrandom_state\u001b[49m\u001b[43m,\u001b[49m\n\u001b[0;32m    618\u001b[0m \u001b[43m    \u001b[49m\u001b[43mX_csc\u001b[49m\u001b[43m,\u001b[49m\n\u001b[0;32m    619\u001b[0m \u001b[43m    \u001b[49m\u001b[43mX_csr\u001b[49m\u001b[43m,\u001b[49m\n\u001b[0;32m    620\u001b[0m \u001b[43m\u001b[49m\u001b[43m)\u001b[49m\n\u001b[0;32m    622\u001b[0m \u001b[38;5;66;03m# track loss\u001b[39;00m\n\u001b[0;32m    623\u001b[0m \u001b[38;5;28;01mif\u001b[39;00m do_oob:\n",
      "File \u001b[1;32md:\\Git\\advanced_python_project\\.venv\\Lib\\site-packages\\sklearn\\ensemble\\_gb.py:245\u001b[0m, in \u001b[0;36mBaseGradientBoosting._fit_stage\u001b[1;34m(self, i, X, y, raw_predictions, sample_weight, sample_mask, random_state, X_csc, X_csr)\u001b[0m\n\u001b[0;32m    242\u001b[0m     sample_weight \u001b[38;5;241m=\u001b[39m sample_weight \u001b[38;5;241m*\u001b[39m sample_mask\u001b[38;5;241m.\u001b[39mastype(np\u001b[38;5;241m.\u001b[39mfloat64)\n\u001b[0;32m    244\u001b[0m X \u001b[38;5;241m=\u001b[39m X_csr \u001b[38;5;28;01mif\u001b[39;00m X_csr \u001b[38;5;129;01mis\u001b[39;00m \u001b[38;5;129;01mnot\u001b[39;00m \u001b[38;5;28;01mNone\u001b[39;00m \u001b[38;5;28;01melse\u001b[39;00m X\n\u001b[1;32m--> 245\u001b[0m \u001b[43mtree\u001b[49m\u001b[38;5;241;43m.\u001b[39;49m\u001b[43mfit\u001b[49m\u001b[43m(\u001b[49m\u001b[43mX\u001b[49m\u001b[43m,\u001b[49m\u001b[43m \u001b[49m\u001b[43mresidual\u001b[49m\u001b[43m,\u001b[49m\u001b[43m \u001b[49m\u001b[43msample_weight\u001b[49m\u001b[38;5;241;43m=\u001b[39;49m\u001b[43msample_weight\u001b[49m\u001b[43m,\u001b[49m\u001b[43m \u001b[49m\u001b[43mcheck_input\u001b[49m\u001b[38;5;241;43m=\u001b[39;49m\u001b[38;5;28;43;01mFalse\u001b[39;49;00m\u001b[43m)\u001b[49m\n\u001b[0;32m    247\u001b[0m \u001b[38;5;66;03m# update tree leaves\u001b[39;00m\n\u001b[0;32m    248\u001b[0m loss\u001b[38;5;241m.\u001b[39mupdate_terminal_regions(\n\u001b[0;32m    249\u001b[0m     tree\u001b[38;5;241m.\u001b[39mtree_,\n\u001b[0;32m    250\u001b[0m     X,\n\u001b[1;32m   (...)\u001b[0m\n\u001b[0;32m    257\u001b[0m     k\u001b[38;5;241m=\u001b[39mk,\n\u001b[0;32m    258\u001b[0m )\n",
      "File \u001b[1;32md:\\Git\\advanced_python_project\\.venv\\Lib\\site-packages\\sklearn\\base.py:1152\u001b[0m, in \u001b[0;36m_fit_context.<locals>.decorator.<locals>.wrapper\u001b[1;34m(estimator, *args, **kwargs)\u001b[0m\n\u001b[0;32m   1145\u001b[0m     estimator\u001b[38;5;241m.\u001b[39m_validate_params()\n\u001b[0;32m   1147\u001b[0m \u001b[38;5;28;01mwith\u001b[39;00m config_context(\n\u001b[0;32m   1148\u001b[0m     skip_parameter_validation\u001b[38;5;241m=\u001b[39m(\n\u001b[0;32m   1149\u001b[0m         prefer_skip_nested_validation \u001b[38;5;129;01mor\u001b[39;00m global_skip_validation\n\u001b[0;32m   1150\u001b[0m     )\n\u001b[0;32m   1151\u001b[0m ):\n\u001b[1;32m-> 1152\u001b[0m     \u001b[38;5;28;01mreturn\u001b[39;00m \u001b[43mfit_method\u001b[49m\u001b[43m(\u001b[49m\u001b[43mestimator\u001b[49m\u001b[43m,\u001b[49m\u001b[43m \u001b[49m\u001b[38;5;241;43m*\u001b[39;49m\u001b[43margs\u001b[49m\u001b[43m,\u001b[49m\u001b[43m \u001b[49m\u001b[38;5;241;43m*\u001b[39;49m\u001b[38;5;241;43m*\u001b[39;49m\u001b[43mkwargs\u001b[49m\u001b[43m)\u001b[49m\n",
      "File \u001b[1;32md:\\Git\\advanced_python_project\\.venv\\Lib\\site-packages\\sklearn\\tree\\_classes.py:1320\u001b[0m, in \u001b[0;36mDecisionTreeRegressor.fit\u001b[1;34m(self, X, y, sample_weight, check_input)\u001b[0m\n\u001b[0;32m   1290\u001b[0m \u001b[38;5;129m@_fit_context\u001b[39m(prefer_skip_nested_validation\u001b[38;5;241m=\u001b[39m\u001b[38;5;28;01mTrue\u001b[39;00m)\n\u001b[0;32m   1291\u001b[0m \u001b[38;5;28;01mdef\u001b[39;00m \u001b[38;5;21mfit\u001b[39m(\u001b[38;5;28mself\u001b[39m, X, y, sample_weight\u001b[38;5;241m=\u001b[39m\u001b[38;5;28;01mNone\u001b[39;00m, check_input\u001b[38;5;241m=\u001b[39m\u001b[38;5;28;01mTrue\u001b[39;00m):\n\u001b[0;32m   1292\u001b[0m \u001b[38;5;250m    \u001b[39m\u001b[38;5;124;03m\"\"\"Build a decision tree regressor from the training set (X, y).\u001b[39;00m\n\u001b[0;32m   1293\u001b[0m \n\u001b[0;32m   1294\u001b[0m \u001b[38;5;124;03m    Parameters\u001b[39;00m\n\u001b[1;32m   (...)\u001b[0m\n\u001b[0;32m   1317\u001b[0m \u001b[38;5;124;03m        Fitted estimator.\u001b[39;00m\n\u001b[0;32m   1318\u001b[0m \u001b[38;5;124;03m    \"\"\"\u001b[39;00m\n\u001b[1;32m-> 1320\u001b[0m     \u001b[38;5;28;43msuper\u001b[39;49m\u001b[43m(\u001b[49m\u001b[43m)\u001b[49m\u001b[38;5;241;43m.\u001b[39;49m\u001b[43m_fit\u001b[49m\u001b[43m(\u001b[49m\n\u001b[0;32m   1321\u001b[0m \u001b[43m        \u001b[49m\u001b[43mX\u001b[49m\u001b[43m,\u001b[49m\n\u001b[0;32m   1322\u001b[0m \u001b[43m        \u001b[49m\u001b[43my\u001b[49m\u001b[43m,\u001b[49m\n\u001b[0;32m   1323\u001b[0m \u001b[43m        \u001b[49m\u001b[43msample_weight\u001b[49m\u001b[38;5;241;43m=\u001b[39;49m\u001b[43msample_weight\u001b[49m\u001b[43m,\u001b[49m\n\u001b[0;32m   1324\u001b[0m \u001b[43m        \u001b[49m\u001b[43mcheck_input\u001b[49m\u001b[38;5;241;43m=\u001b[39;49m\u001b[43mcheck_input\u001b[49m\u001b[43m,\u001b[49m\n\u001b[0;32m   1325\u001b[0m \u001b[43m    \u001b[49m\u001b[43m)\u001b[49m\n\u001b[0;32m   1326\u001b[0m     \u001b[38;5;28;01mreturn\u001b[39;00m \u001b[38;5;28mself\u001b[39m\n",
      "File \u001b[1;32md:\\Git\\advanced_python_project\\.venv\\Lib\\site-packages\\sklearn\\tree\\_classes.py:443\u001b[0m, in \u001b[0;36mBaseDecisionTree._fit\u001b[1;34m(self, X, y, sample_weight, check_input, missing_values_in_feature_mask)\u001b[0m\n\u001b[0;32m    432\u001b[0m \u001b[38;5;28;01melse\u001b[39;00m:\n\u001b[0;32m    433\u001b[0m     builder \u001b[38;5;241m=\u001b[39m BestFirstTreeBuilder(\n\u001b[0;32m    434\u001b[0m         splitter,\n\u001b[0;32m    435\u001b[0m         min_samples_split,\n\u001b[1;32m   (...)\u001b[0m\n\u001b[0;32m    440\u001b[0m         \u001b[38;5;28mself\u001b[39m\u001b[38;5;241m.\u001b[39mmin_impurity_decrease,\n\u001b[0;32m    441\u001b[0m     )\n\u001b[1;32m--> 443\u001b[0m \u001b[43mbuilder\u001b[49m\u001b[38;5;241;43m.\u001b[39;49m\u001b[43mbuild\u001b[49m\u001b[43m(\u001b[49m\u001b[38;5;28;43mself\u001b[39;49m\u001b[38;5;241;43m.\u001b[39;49m\u001b[43mtree_\u001b[49m\u001b[43m,\u001b[49m\u001b[43m \u001b[49m\u001b[43mX\u001b[49m\u001b[43m,\u001b[49m\u001b[43m \u001b[49m\u001b[43my\u001b[49m\u001b[43m,\u001b[49m\u001b[43m \u001b[49m\u001b[43msample_weight\u001b[49m\u001b[43m,\u001b[49m\u001b[43m \u001b[49m\u001b[43mmissing_values_in_feature_mask\u001b[49m\u001b[43m)\u001b[49m\n\u001b[0;32m    445\u001b[0m \u001b[38;5;28;01mif\u001b[39;00m \u001b[38;5;28mself\u001b[39m\u001b[38;5;241m.\u001b[39mn_outputs_ \u001b[38;5;241m==\u001b[39m \u001b[38;5;241m1\u001b[39m \u001b[38;5;129;01mand\u001b[39;00m is_classifier(\u001b[38;5;28mself\u001b[39m):\n\u001b[0;32m    446\u001b[0m     \u001b[38;5;28mself\u001b[39m\u001b[38;5;241m.\u001b[39mn_classes_ \u001b[38;5;241m=\u001b[39m \u001b[38;5;28mself\u001b[39m\u001b[38;5;241m.\u001b[39mn_classes_[\u001b[38;5;241m0\u001b[39m]\n",
      "\u001b[1;31mKeyboardInterrupt\u001b[0m: "
     ]
    }
   ],
   "source": [
    "# Randomized Search, Iteration 1\n",
    "\n",
    "param_dist = {\n",
    "        'n_estimators': [ 32, 100, 200],\n",
    "        'learning_rate': [0.01, 0.1, 0.2],\n",
    "        'max_depth': [1, 3, 5, 10],\n",
    "        'min_samples_split': [1, 2, 5],\n",
    "        'min_samples_leaf': [1, 2],\n",
    "        'subsample': [0.8, 0.9, 1.0]\n",
    "}\n",
    "if run_models:\n",
    "    gb_clf_rs = GradientBoostingClassifier()\n",
    "\n",
    "    # Create RandomizedSearchCV\n",
    "    random_search = RandomizedSearchCV(gb_clf_rs, param_distributions=param_dist, n_iter=10,\n",
    "                                       scoring='accuracy', cv=5, random_state=42)\n",
    "\n",
    "    # Fit the model\n",
    "    random_search.fit(X_final_train, y_train)\n",
    "    best_params = random_search.best_params_\n",
    "\n",
    "    # Print the best parameters\n",
    "    print(\"Best Parameters:\", best_params)\n",
    "\n",
    "    # get the best estimator\n",
    "    best_estimator = random_search.best_estimator_\n",
    "    save_model_pickle('gb_clf_rs_be', best_estimator)\n",
    "else:\n",
    "    best_estimator = retrieve_model_pickle('gb_clf_rs_be')\n"
   ]
  },
  {
   "cell_type": "code",
   "execution_count": null,
   "metadata": {},
   "outputs": [],
   "source": [
    "y_pred_test =  best_estimator.predict(X_final_test)\n",
    "y_pred_train =  best_estimator.predict(X_final_train)\n",
    "\n",
    "# metrics test set\n",
    "accuracy_te, precision_te, recall_te, f1_te = print_metrics(y_test, y_pred_test, \"Test\")\n",
    "\n",
    "print(\"---------------------------------\")\n",
    "\n",
    "# metrics train set\n",
    "accuracy_tr, precision_tr, recall_tr, f1_tr = print_metrics(y_train, y_pred_train, \"Train\")\n"
   ]
  },
  {
   "cell_type": "code",
   "execution_count": null,
   "metadata": {},
   "outputs": [
    {
     "name": "stdout",
     "output_type": "stream",
     "text": [
      "Accuracy for Test: 0.7715179968701096\n",
      "Precision for Test: 0.7741416971585128\n",
      "Recall for Test: 0.7715179968701096\n",
      "F1-score for Test: 0.7722820462510969\n",
      "---------------------------------\n",
      "Accuracy for Train: 0.923943661971831\n",
      "Precision for Train: 0.9242509891077811\n",
      "Recall for Train: 0.923943661971831\n",
      "F1-score for Train: 0.9239556471552921\n"
     ]
    }
   ],
   "source": [
    "# Iteration 2 using best parameters with early stoping\n",
    "\n",
    "gb_clf_es = GradientBoostingClassifier(\n",
    "                                        subsample=0.8,\n",
    "                                        n_estimators=200,\n",
    "                                        min_samples_split=5,\n",
    "                                        min_samples_leaf=2,\n",
    "                                        max_depth=10,\n",
    "                                        learning_rate=0.1,\n",
    "                                        n_iter_no_change=5,\n",
    "                                        validation_fraction=0.2,\n",
    "                                        tol=0.001)\n",
    "gb_clf_es.fit(X_final_train, y_train)\n",
    "y_pred_test =  gb_clf_es.predict(X_final_test)\n",
    "y_pred_train =  gb_clf_es.predict(X_final_train)\n",
    "\n",
    "# metrics test set\n",
    "accuracy_te, precision_te, recall_te, f1_te = print_metrics(y_test, y_pred_test, \"Test\")\n",
    "\n",
    "print(\"---------------------------------\")\n",
    "\n",
    "# metrics train set\n",
    "accuracy_tr, precision_tr, recall_tr, f1_tr = print_metrics(y_train, y_pred_train, \"Train\")\n",
    "\n"
   ]
  },
  {
   "cell_type": "code",
   "execution_count": null,
   "metadata": {},
   "outputs": [],
   "source": [
    "save_model_pickle('gb_clf_es', gb_clf_es)"
   ]
  },
  {
   "cell_type": "code",
   "execution_count": null,
   "metadata": {},
   "outputs": [
    {
     "name": "stdout",
     "output_type": "stream",
     "text": [
      "Best Parameters: {'subsample': 0.6, 'n_estimators': 200, 'min_samples_split': 5, 'min_samples_leaf': 5, 'max_depth': 5, 'learning_rate': 0.1}\n"
     ]
    }
   ],
   "source": [
    "# Randomized Search, Iteration 3\n",
    "\n",
    "param_dist = {\n",
    "        'n_estimators': [ 32, 100, 200],\n",
    "        'learning_rate': [0.01, 0.05, 0.1],\n",
    "        'max_depth': [3, 5], # reduce complexity\n",
    "        'min_samples_split': [5, 10], # more regularization\n",
    "        'min_samples_leaf': [2, 5], # more regularization\n",
    "        'subsample': [0.5, 0.6,0.8]\n",
    "}\n",
    "if run_models:\n",
    "    gb_clf_rs_1 = GradientBoostingClassifier()\n",
    "\n",
    "    # Create RandomizedSearchCV\n",
    "    random_search = RandomizedSearchCV(gb_clf_rs_1, param_distributions=param_dist, n_iter=10,\n",
    "                                       scoring='accuracy', cv=5, random_state=42, n_jobs=-1)\n",
    "\n",
    "    # Fit the model\n",
    "    random_search.fit(X_final_train, y_train)\n",
    "    best_params = random_search.best_params_\n",
    "\n",
    "    # Print the best parameters\n",
    "    print(\"Best Parameters:\", best_params)\n",
    "\n",
    "    # get the best estimator\n",
    "    best_estimator = random_search.best_estimator_\n",
    "    save_model_pickle('gb_clf_rs_be_1', best_estimator)\n",
    "else:\n",
    "    best_estimator = retrieve_model_pickle('gb_clf_rs_be_1')\n"
   ]
  },
  {
   "cell_type": "code",
   "execution_count": null,
   "metadata": {},
   "outputs": [
    {
     "name": "stdout",
     "output_type": "stream",
     "text": [
      "Accuracy for Test: 0.7098591549295775\n",
      "Precision for Test: 0.7140619575490754\n",
      "Recall for Test: 0.7098591549295775\n",
      "F1-score for Test: 0.7105500871635345\n",
      "---------------------------------\n",
      "Accuracy for Train: 0.8416275430359937\n",
      "Precision for Train: 0.8440321730626444\n",
      "Recall for Train: 0.8416275430359937\n",
      "F1-score for Train: 0.841798908795308\n"
     ]
    }
   ],
   "source": [
    "y_pred_test =  best_estimator.predict(X_final_test)\n",
    "y_pred_train =  best_estimator.predict(X_final_train)\n",
    "\n",
    "# metrics test set\n",
    "accuracy_te, precision_te, recall_te, f1_te = print_metrics(y_test, y_pred_test, \"Test\")\n",
    "\n",
    "print(\"---------------------------------\")\n",
    "\n",
    "# metrics train set\n",
    "accuracy_tr, precision_tr, recall_tr, f1_tr = print_metrics(y_train, y_pred_train, \"Train\")"
   ]
  },
  {
   "cell_type": "code",
   "execution_count": null,
   "metadata": {},
   "outputs": [],
   "source": [
    "from sklearn.feature_selection import RFECV\n",
    "\n",
    "class ModelMetrics():\n",
    "\n",
    "    def __init__(self, y_real, y_pred) -> None:\n",
    "        self.accuracy = accuracy_score(y_real, y_pred)\n",
    "        self.precision = precision_score(y_real, y_pred, average='weighted')\n",
    "        self.recall = recall_score(y_real, y_pred, average='weighted')\n",
    "        self.f1 = f1_score(y_real, y_pred, average='weighted')\n",
    "\n",
    "class RFECVResult():\n",
    "\n",
    "    def __init__(self, rfecv: RFECV, X_train, y_train, X_test, y_test):\n",
    "        self._rfecv = rfecv\n",
    "        self._model = rfecv.estimator_\n",
    "        self.X_train = X_train\n",
    "        self.y_train = y_train\n",
    "        self.X_test = X_test\n",
    "        self.y_test = y_test\n",
    "\n",
    "    @property\n",
    "    def rfecv(self):\n",
    "        return self._rfecv\n",
    "    \n",
    "    @property\n",
    "    def model(self):\n",
    "        return self._model\n",
    "    \n",
    "    @property\n",
    "    def train_metricts(self) -> ModelMetrics:\n",
    "        return self._train_metricts\n",
    "    \n",
    "    @property\n",
    "    def test_metricts(self) -> ModelMetrics:\n",
    "        return self._test_metricts\n",
    "    \n",
    "    def execute(self):\n",
    "        \n",
    "        # Transform train and test\n",
    "        self.X_train_transformed = self.rfecv.transform(self.X_train)\n",
    "        self.X_test_transformed = self.rfecv.transform(self.X_test)\n",
    "\n",
    "        # Predict on train and test\n",
    "        self.y_pred_train = self.model.predict(self.X_train_transformed)\n",
    "        self.y_pred_test = self.model.predict(self.X_test_transformed)\n",
    "\n",
    "        # Calculate metrics\n",
    "        self._train_metricts = ModelMetrics(y_train, y_pred_train)\n",
    "        self._test_metricts = ModelMetrics(y_test, y_pred_test)\n"
   ]
  },
  {
   "cell_type": "code",
   "execution_count": null,
   "metadata": {},
   "outputs": [],
   "source": [
    "def execute_rfe(estimator, min_features_to_select: int):\n",
    "\n",
    "    # Get the data to train the model\n",
    "    X_train  = X_final_train\n",
    "    X_test = X_final_test\n",
    "\n",
    "    # Create the RFE object and compute a cross-validated score.\n",
    "    print(f\"Running RFECV with estimator {type(estimator)}\")\n",
    "    rfecv = RFECV(estimator=estimator, min_features_to_select=min_features_to_select, step=1, n_jobs=-1, cv=5, scoring='accuracy', verbose=1)\n",
    "    rfecv.fit(X_train, y_train)\n",
    "    print(f\"Optimal number of features : {rfecv.n_features_}\")\n",
    "    \n",
    "    # Create the model data object\n",
    "    result = RFECVResult(rfecv=rfecv, X_train=X_train, y_train=y_train, X_test=X_test, y_test=y_test)\n",
    "    result.execute()\n",
    "\n",
    "    return result\n"
   ]
  },
  {
   "cell_type": "code",
   "execution_count": null,
   "metadata": {},
   "outputs": [
    {
     "name": "stdout",
     "output_type": "stream",
     "text": [
      "Running RFECV with estimator <class 'sklearn.tree._classes.DecisionTreeClassifier'>\n",
      "Fitting estimator with 1014 features.\n",
      "Fitting estimator with 1013 features.\n",
      "Fitting estimator with 1012 features.\n",
      "Fitting estimator with 1011 features.\n",
      "Fitting estimator with 1010 features.\n",
      "Fitting estimator with 1009 features.\n",
      "Fitting estimator with 1008 features.\n",
      "Fitting estimator with 1007 features.\n",
      "Fitting estimator with 1006 features.\n",
      "Fitting estimator with 1005 features.\n",
      "Fitting estimator with 1004 features.\n",
      "Fitting estimator with 1003 features.\n",
      "Fitting estimator with 1002 features.\n",
      "Fitting estimator with 1001 features.\n",
      "Fitting estimator with 1000 features.\n",
      "Fitting estimator with 999 features.\n",
      "Fitting estimator with 998 features.\n",
      "Fitting estimator with 997 features.\n",
      "Fitting estimator with 996 features.\n",
      "Fitting estimator with 995 features.\n",
      "Fitting estimator with 994 features.\n",
      "Fitting estimator with 993 features.\n",
      "Fitting estimator with 992 features.\n",
      "Fitting estimator with 991 features.\n",
      "Fitting estimator with 990 features.\n",
      "Fitting estimator with 989 features.\n",
      "Fitting estimator with 988 features.\n",
      "Fitting estimator with 987 features.\n",
      "Fitting estimator with 986 features.\n",
      "Fitting estimator with 985 features.\n",
      "Fitting estimator with 984 features.\n",
      "Fitting estimator with 983 features.\n",
      "Fitting estimator with 982 features.\n",
      "Fitting estimator with 981 features.\n",
      "Fitting estimator with 980 features.\n",
      "Fitting estimator with 979 features.\n",
      "Fitting estimator with 978 features.\n",
      "Fitting estimator with 977 features.\n",
      "Fitting estimator with 976 features.\n",
      "Fitting estimator with 975 features.\n",
      "Fitting estimator with 974 features.\n",
      "Fitting estimator with 973 features.\n",
      "Fitting estimator with 972 features.\n",
      "Fitting estimator with 971 features.\n",
      "Fitting estimator with 970 features.\n",
      "Fitting estimator with 969 features.\n",
      "Fitting estimator with 968 features.\n",
      "Fitting estimator with 967 features.\n",
      "Fitting estimator with 966 features.\n",
      "Fitting estimator with 965 features.\n",
      "Fitting estimator with 964 features.\n",
      "Fitting estimator with 963 features.\n",
      "Fitting estimator with 962 features.\n",
      "Fitting estimator with 961 features.\n",
      "Fitting estimator with 960 features.\n",
      "Fitting estimator with 959 features.\n",
      "Fitting estimator with 958 features.\n",
      "Fitting estimator with 957 features.\n",
      "Fitting estimator with 956 features.\n",
      "Fitting estimator with 955 features.\n",
      "Fitting estimator with 954 features.\n",
      "Fitting estimator with 953 features.\n",
      "Fitting estimator with 952 features.\n",
      "Fitting estimator with 951 features.\n",
      "Fitting estimator with 950 features.\n",
      "Fitting estimator with 949 features.\n",
      "Fitting estimator with 948 features.\n",
      "Fitting estimator with 947 features.\n",
      "Fitting estimator with 946 features.\n",
      "Fitting estimator with 945 features.\n",
      "Fitting estimator with 944 features.\n",
      "Fitting estimator with 943 features.\n",
      "Fitting estimator with 942 features.\n",
      "Fitting estimator with 941 features.\n",
      "Fitting estimator with 940 features.\n",
      "Fitting estimator with 939 features.\n",
      "Fitting estimator with 938 features.\n",
      "Fitting estimator with 937 features.\n",
      "Fitting estimator with 936 features.\n",
      "Fitting estimator with 935 features.\n",
      "Fitting estimator with 934 features.\n",
      "Fitting estimator with 933 features.\n",
      "Fitting estimator with 932 features.\n",
      "Fitting estimator with 931 features.\n",
      "Fitting estimator with 930 features.\n",
      "Fitting estimator with 929 features.\n",
      "Fitting estimator with 928 features.\n",
      "Fitting estimator with 927 features.\n",
      "Fitting estimator with 926 features.\n",
      "Fitting estimator with 925 features.\n",
      "Fitting estimator with 924 features.\n",
      "Fitting estimator with 923 features.\n",
      "Fitting estimator with 922 features.\n",
      "Fitting estimator with 921 features.\n",
      "Fitting estimator with 920 features.\n",
      "Fitting estimator with 919 features.\n",
      "Fitting estimator with 918 features.\n",
      "Fitting estimator with 917 features.\n",
      "Fitting estimator with 916 features.\n",
      "Fitting estimator with 915 features.\n",
      "Fitting estimator with 914 features.\n",
      "Fitting estimator with 913 features.\n",
      "Fitting estimator with 912 features.\n",
      "Fitting estimator with 911 features.\n",
      "Fitting estimator with 910 features.\n",
      "Fitting estimator with 909 features.\n",
      "Fitting estimator with 908 features.\n",
      "Fitting estimator with 907 features.\n",
      "Fitting estimator with 906 features.\n",
      "Fitting estimator with 905 features.\n",
      "Fitting estimator with 904 features.\n",
      "Fitting estimator with 903 features.\n",
      "Fitting estimator with 902 features.\n",
      "Fitting estimator with 901 features.\n",
      "Fitting estimator with 900 features.\n",
      "Fitting estimator with 899 features.\n",
      "Fitting estimator with 898 features.\n",
      "Fitting estimator with 897 features.\n",
      "Fitting estimator with 896 features.\n",
      "Fitting estimator with 895 features.\n",
      "Fitting estimator with 894 features.\n",
      "Fitting estimator with 893 features.\n",
      "Fitting estimator with 892 features.\n",
      "Fitting estimator with 891 features.\n",
      "Fitting estimator with 890 features.\n",
      "Fitting estimator with 889 features.\n",
      "Fitting estimator with 888 features.\n",
      "Fitting estimator with 887 features.\n",
      "Fitting estimator with 886 features.\n",
      "Fitting estimator with 885 features.\n",
      "Fitting estimator with 884 features.\n",
      "Fitting estimator with 883 features.\n",
      "Fitting estimator with 882 features.\n",
      "Fitting estimator with 881 features.\n",
      "Fitting estimator with 880 features.\n",
      "Fitting estimator with 879 features.\n",
      "Fitting estimator with 878 features.\n",
      "Fitting estimator with 877 features.\n",
      "Fitting estimator with 876 features.\n",
      "Fitting estimator with 875 features.\n",
      "Fitting estimator with 874 features.\n",
      "Fitting estimator with 873 features.\n",
      "Fitting estimator with 872 features.\n",
      "Fitting estimator with 871 features.\n",
      "Fitting estimator with 870 features.\n",
      "Fitting estimator with 869 features.\n",
      "Fitting estimator with 868 features.\n",
      "Fitting estimator with 867 features.\n",
      "Fitting estimator with 866 features.\n",
      "Fitting estimator with 865 features.\n",
      "Fitting estimator with 864 features.\n",
      "Fitting estimator with 863 features.\n",
      "Fitting estimator with 862 features.\n",
      "Fitting estimator with 861 features.\n",
      "Fitting estimator with 860 features.\n",
      "Fitting estimator with 859 features.\n",
      "Fitting estimator with 858 features.\n",
      "Fitting estimator with 857 features.\n",
      "Fitting estimator with 856 features.\n",
      "Fitting estimator with 855 features.\n",
      "Fitting estimator with 854 features.\n",
      "Fitting estimator with 853 features.\n",
      "Fitting estimator with 852 features.\n",
      "Fitting estimator with 851 features.\n",
      "Fitting estimator with 850 features.\n",
      "Fitting estimator with 849 features.\n",
      "Fitting estimator with 848 features.\n",
      "Fitting estimator with 847 features.\n",
      "Fitting estimator with 846 features.\n",
      "Fitting estimator with 845 features.\n",
      "Fitting estimator with 844 features.\n",
      "Fitting estimator with 843 features.\n",
      "Fitting estimator with 842 features.\n",
      "Fitting estimator with 841 features.\n",
      "Fitting estimator with 840 features.\n",
      "Fitting estimator with 839 features.\n",
      "Fitting estimator with 838 features.\n",
      "Fitting estimator with 837 features.\n",
      "Fitting estimator with 836 features.\n",
      "Fitting estimator with 835 features.\n",
      "Fitting estimator with 834 features.\n",
      "Fitting estimator with 833 features.\n",
      "Fitting estimator with 832 features.\n",
      "Fitting estimator with 831 features.\n",
      "Fitting estimator with 830 features.\n",
      "Fitting estimator with 829 features.\n",
      "Fitting estimator with 828 features.\n",
      "Fitting estimator with 827 features.\n",
      "Fitting estimator with 826 features.\n",
      "Fitting estimator with 825 features.\n",
      "Fitting estimator with 824 features.\n",
      "Fitting estimator with 823 features.\n",
      "Fitting estimator with 822 features.\n",
      "Fitting estimator with 821 features.\n",
      "Fitting estimator with 820 features.\n",
      "Fitting estimator with 819 features.\n",
      "Fitting estimator with 818 features.\n",
      "Fitting estimator with 817 features.\n",
      "Fitting estimator with 816 features.\n",
      "Fitting estimator with 815 features.\n",
      "Fitting estimator with 814 features.\n",
      "Fitting estimator with 813 features.\n",
      "Fitting estimator with 812 features.\n",
      "Fitting estimator with 811 features.\n",
      "Fitting estimator with 810 features.\n",
      "Fitting estimator with 809 features.\n",
      "Fitting estimator with 808 features.\n",
      "Fitting estimator with 807 features.\n",
      "Fitting estimator with 806 features.\n",
      "Fitting estimator with 805 features.\n",
      "Fitting estimator with 804 features.\n",
      "Fitting estimator with 803 features.\n",
      "Fitting estimator with 802 features.\n",
      "Fitting estimator with 801 features.\n",
      "Fitting estimator with 800 features.\n",
      "Fitting estimator with 799 features.\n",
      "Fitting estimator with 798 features.\n",
      "Fitting estimator with 797 features.\n",
      "Fitting estimator with 796 features.\n",
      "Fitting estimator with 795 features.\n",
      "Fitting estimator with 794 features.\n",
      "Fitting estimator with 793 features.\n",
      "Fitting estimator with 792 features.\n",
      "Fitting estimator with 791 features.\n",
      "Fitting estimator with 790 features.\n",
      "Fitting estimator with 789 features.\n",
      "Fitting estimator with 788 features.\n",
      "Fitting estimator with 787 features.\n",
      "Fitting estimator with 786 features.\n",
      "Fitting estimator with 785 features.\n",
      "Fitting estimator with 784 features.\n",
      "Fitting estimator with 783 features.\n",
      "Fitting estimator with 782 features.\n",
      "Fitting estimator with 781 features.\n",
      "Fitting estimator with 780 features.\n",
      "Fitting estimator with 779 features.\n",
      "Fitting estimator with 778 features.\n",
      "Fitting estimator with 777 features.\n",
      "Optimal number of features : 776\n"
     ]
    }
   ],
   "source": [
    "if run_models:\n",
    "    decision_tree_rfecv = execute_rfe(dt_clf, 500)"
   ]
  },
  {
   "cell_type": "code",
   "execution_count": null,
   "metadata": {},
   "outputs": [],
   "source": [
    "# Save class and model\n",
    "with open('decision_tree_rfecv.bin', 'wb') as file:\n",
    "    pickle.dump(decision_tree_rfecv, file)\n",
    "with open('decision_tree_rfecv_model.pkl', 'wb') as file:\n",
    "    pickle.dump(decision_tree_rfecv.model, file)"
   ]
  },
  {
   "cell_type": "code",
   "execution_count": null,
   "metadata": {},
   "outputs": [
    {
     "name": "stdout",
     "output_type": "stream",
     "text": [
      "TRAIN\n",
      "0.9842723004694836\n",
      "0.9843489273492083\n",
      "0.9842723004694836\n",
      "0.9842687125335944\n",
      "TEST\n",
      "0.8209702660406886\n",
      "0.8209539332972955\n",
      "0.8209702660406886\n",
      "0.8209376430597976\n"
     ]
    }
   ],
   "source": [
    "print(\"Train\")\n",
    "print(decision_tree_rfecv.train_metricts.accuracy)\n",
    "print(decision_tree_rfecv.train_metricts.precision)\n",
    "print(decision_tree_rfecv.train_metricts.recall)\n",
    "print(decision_tree_rfecv.train_metricts.f1)\n",
    "print(\"Test\")\n",
    "print(decision_tree_rfecv.test_metricts.accuracy)\n",
    "print(decision_tree_rfecv.test_metricts.precision)\n",
    "print(decision_tree_rfecv.test_metricts.recall)\n",
    "print(decision_tree_rfecv.test_metricts.f1)"
   ]
  },
  {
   "cell_type": "code",
   "execution_count": null,
   "metadata": {},
   "outputs": [],
   "source": [
    "gradient_boosting_rfecv = execute_rfe(gb_clf_es, 500)"
   ]
  },
  {
   "cell_type": "code",
   "execution_count": null,
   "metadata": {},
   "outputs": [
    {
     "name": "stdout",
     "output_type": "stream",
     "text": [
      "TRAIN\n",
      "0.9842723004694836\n",
      "0.9843489273492083\n",
      "0.9842723004694836\n",
      "0.9842687125335944\n",
      "TEST\n",
      "0.8209702660406886\n",
      "0.8209539332972955\n",
      "0.8209702660406886\n",
      "0.8209376430597976\n"
     ]
    }
   ],
   "source": []
  }
 ],
 "metadata": {
  "kernelspec": {
   "display_name": "Python 3 (ipykernel)",
   "language": "python",
   "name": "python3"
  },
  "language_info": {
   "codemirror_mode": {
    "name": "ipython",
    "version": 3
   },
   "file_extension": ".py",
   "mimetype": "text/x-python",
   "name": "python",
   "nbconvert_exporter": "python",
   "pygments_lexer": "ipython3",
   "version": "3.11.7"
  }
 },
 "nbformat": 4,
 "nbformat_minor": 2
}
